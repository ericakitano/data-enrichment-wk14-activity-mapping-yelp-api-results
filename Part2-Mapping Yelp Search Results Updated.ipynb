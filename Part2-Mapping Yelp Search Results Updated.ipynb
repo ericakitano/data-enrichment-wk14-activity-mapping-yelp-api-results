{
 "cells": [
  {
   "cell_type": "markdown",
   "id": "c6d4c9a7",
   "metadata": {
    "id": "8guYh-VR7nlX"
   },
   "source": [
    "# Part 2 - Mapping Yelp Search Results"
   ]
  },
  {
   "cell_type": "markdown",
   "id": "9be6e6c0",
   "metadata": {},
   "source": []
  },
  {
   "cell_type": "markdown",
   "id": "8f1dfbbf",
   "metadata": {},
   "source": [
    "## Obective"
   ]
  },
  {
   "cell_type": "markdown",
   "id": "37daea31",
   "metadata": {
    "id": "8guYh-VR7nlX"
   },
   "source": [
    "- For this CodeAlong, we will be working with the Yelp API results from last class. \n",
    "- You will load in the .csv.gz of your yelp results and prepare the data for visualization.\n",
    "- You will use Plotly Express to create an interactive map with all of the results."
   ]
  },
  {
   "cell_type": "markdown",
   "id": "0a02a2fd",
   "metadata": {
    "id": "8guYh-VR7nlX"
   },
   "source": [
    "## Tools You Will Use\n",
    "- Part 1:\n",
    "    - Yelp API:\n",
    "        - Getting Started: \n",
    "            - https://www.yelp.com/developers/documentation/v3/get_started\n",
    "\n",
    "    - `YelpAPI` python package\n",
    "        -  \"YelpAPI\": https://github.com/gfairchild/yelpapi\n",
    "- Part 2:\n",
    "\n",
    "    - Plotly Express: https://plotly.com/python/getting-started/\n",
    "        - With Mapbox API: https://www.mapbox.com/\n",
    "        - `px.scatter_mapbox` [Documentation](https://plotly.com/python/scattermapbox/): \n",
    "\n",
    "\n"
   ]
  },
  {
   "cell_type": "markdown",
   "id": "a3f15049",
   "metadata": {},
   "source": [
    "### Applying Code From\n",
    "- [Advanced Transformations with Pandas - Part 1](https://login.codingdojo.com/m/376/12529/88086)\n",
    "- [Advanced Transformations with Pandas - Part 2](https://login.codingdojo.com/m/376/12529/88088)"
   ]
  },
  {
   "cell_type": "markdown",
   "id": "745e757f",
   "metadata": {},
   "source": [
    "### Goal"
   ]
  },
  {
   "cell_type": "markdown",
   "id": "a27ea8f9",
   "metadata": {},
   "source": [
    "- We want to create a map with every restaurant plotted as a scatter plot with detailed information that appears when we hover over a business\n",
    "- We will use plotly express's `px.scatter_mapbox` function to accomplish this.\n",
    "    - https://plotly.com/python/scattermapbox/\n",
    "    \n",
    "    - Some of the options require a Mapbox API token:\n",
    "    - However, we will be using the options that DO NOT require a token.\n",
    "        - https://studio.mapbox.com/\n",
    "    "
   ]
  },
  {
   "cell_type": "markdown",
   "id": "8c50b2b6",
   "metadata": {},
   "source": [
    "# Loading Data from Part 1"
   ]
  },
  {
   "cell_type": "code",
   "execution_count": 1,
   "id": "ffa40ba8",
   "metadata": {},
   "outputs": [
    {
     "name": "stdout",
     "output_type": "stream",
     "text": [
      "Requirement already satisfied: plotly in /opt/homebrew/Caskroom/miniforge/base/envs/dojo-env/lib/python3.9/site-packages (5.11.0)\r\n",
      "Requirement already satisfied: tenacity>=6.2.0 in /opt/homebrew/Caskroom/miniforge/base/envs/dojo-env/lib/python3.9/site-packages (from plotly) (8.2.2)\r\n"
     ]
    }
   ],
   "source": [
    "## Plotly is not included in your dojo-env\n",
    "!pip install plotly"
   ]
  },
  {
   "cell_type": "code",
   "execution_count": 2,
   "id": "6c26b323",
   "metadata": {},
   "outputs": [],
   "source": [
    "# Standard Imports\n",
    "import numpy as np\n",
    "import pandas as pd\n",
    "import matplotlib.pyplot as plt\n",
    "import seaborn as sns\n",
    "\n",
    "import json\n",
    "\n",
    "## importing plotly \n",
    "import plotly.express as px"
   ]
  },
  {
   "cell_type": "code",
   "execution_count": 4,
   "id": "73f882e7",
   "metadata": {
    "scrolled": true
   },
   "outputs": [
    {
     "data": {
      "text/html": [
       "<div>\n",
       "<style scoped>\n",
       "    .dataframe tbody tr th:only-of-type {\n",
       "        vertical-align: middle;\n",
       "    }\n",
       "\n",
       "    .dataframe tbody tr th {\n",
       "        vertical-align: top;\n",
       "    }\n",
       "\n",
       "    .dataframe thead th {\n",
       "        text-align: right;\n",
       "    }\n",
       "</style>\n",
       "<table border=\"1\" class=\"dataframe\">\n",
       "  <thead>\n",
       "    <tr style=\"text-align: right;\">\n",
       "      <th></th>\n",
       "      <th>id</th>\n",
       "      <th>alias</th>\n",
       "      <th>name</th>\n",
       "      <th>image_url</th>\n",
       "      <th>is_closed</th>\n",
       "      <th>url</th>\n",
       "      <th>review_count</th>\n",
       "      <th>categories</th>\n",
       "      <th>rating</th>\n",
       "      <th>coordinates</th>\n",
       "      <th>transactions</th>\n",
       "      <th>price</th>\n",
       "      <th>location</th>\n",
       "      <th>phone</th>\n",
       "      <th>display_phone</th>\n",
       "      <th>distance</th>\n",
       "    </tr>\n",
       "  </thead>\n",
       "  <tbody>\n",
       "    <tr>\n",
       "      <th>0</th>\n",
       "      <td>3vsRGQGSVPec7kKBFGhowA</td>\n",
       "      <td>alo-cafe-hawaii-honolulu-2</td>\n",
       "      <td>ALO Cafe Hawaii</td>\n",
       "      <td>https://s3-media2.fl.yelpcdn.com/bphoto/_tn-bh...</td>\n",
       "      <td>False</td>\n",
       "      <td>https://www.yelp.com/biz/alo-cafe-hawaii-honol...</td>\n",
       "      <td>98</td>\n",
       "      <td>[{'alias': 'juicebars', 'title': 'Juice Bars &amp;...</td>\n",
       "      <td>4.5</td>\n",
       "      <td>{'latitude': 21.27713, 'longitude': -157.82433}</td>\n",
       "      <td>['delivery', 'pickup']</td>\n",
       "      <td>$$</td>\n",
       "      <td>{'address1': '159 Kaiulani Ave', 'address2': '...</td>\n",
       "      <td>1.808780e+10</td>\n",
       "      <td>(808) 779-7887</td>\n",
       "      <td>505.744094</td>\n",
       "    </tr>\n",
       "    <tr>\n",
       "      <th>1</th>\n",
       "      <td>QMPFWhM_kMIMSSBQf48-Gg</td>\n",
       "      <td>waffle-and-berry-honolulu</td>\n",
       "      <td>Waffle and Berry</td>\n",
       "      <td>https://s3-media4.fl.yelpcdn.com/bphoto/6VpIBT...</td>\n",
       "      <td>False</td>\n",
       "      <td>https://www.yelp.com/biz/waffle-and-berry-hono...</td>\n",
       "      <td>675</td>\n",
       "      <td>[{'alias': 'waffles', 'title': 'Waffles'}, {'a...</td>\n",
       "      <td>5.0</td>\n",
       "      <td>{'latitude': 21.28594, 'longitude': -157.83275}</td>\n",
       "      <td>['delivery', 'pickup']</td>\n",
       "      <td>$$</td>\n",
       "      <td>{'address1': '1958 Kalakaua Ave', 'address2': ...</td>\n",
       "      <td>1.808207e+10</td>\n",
       "      <td>(808) 206-8272</td>\n",
       "      <td>1256.061740</td>\n",
       "    </tr>\n",
       "    <tr>\n",
       "      <th>2</th>\n",
       "      <td>FhShWwhWNm4j6yMjyF0MCw</td>\n",
       "      <td>banán-waikiki-beach-shack-honolulu</td>\n",
       "      <td>Banán - Waikiki Beach Shack</td>\n",
       "      <td>https://s3-media3.fl.yelpcdn.com/bphoto/HBcgiP...</td>\n",
       "      <td>False</td>\n",
       "      <td>https://www.yelp.com/biz/ban%C3%A1n-waikiki-be...</td>\n",
       "      <td>518</td>\n",
       "      <td>[{'alias': 'vegan', 'title': 'Vegan'}, {'alias...</td>\n",
       "      <td>4.5</td>\n",
       "      <td>{'latitude': 21.2772821247839, 'longitude': -1...</td>\n",
       "      <td>[]</td>\n",
       "      <td>$</td>\n",
       "      <td>{'address1': '2301 Kalakaua Ave', 'address2': ...</td>\n",
       "      <td>1.808200e+10</td>\n",
       "      <td>(808) 200-1640</td>\n",
       "      <td>242.294662</td>\n",
       "    </tr>\n",
       "    <tr>\n",
       "      <th>3</th>\n",
       "      <td>vZ6iGKsU7zX8MT5rwNJeZw</td>\n",
       "      <td>tropical-tribe-honolulu</td>\n",
       "      <td>Tropical Tribe</td>\n",
       "      <td>https://s3-media3.fl.yelpcdn.com/bphoto/e7Y1Qu...</td>\n",
       "      <td>False</td>\n",
       "      <td>https://www.yelp.com/biz/tropical-tribe-honolu...</td>\n",
       "      <td>592</td>\n",
       "      <td>[{'alias': 'acaibowls', 'title': 'Acai Bowls'}...</td>\n",
       "      <td>4.5</td>\n",
       "      <td>{'latitude': 21.28557897099554, 'longitude': -...</td>\n",
       "      <td>['delivery', 'pickup']</td>\n",
       "      <td>$$</td>\n",
       "      <td>{'address1': '1778 Ala Moana Blvd', 'address2'...</td>\n",
       "      <td>1.808367e+10</td>\n",
       "      <td>(808) 366-8226</td>\n",
       "      <td>1522.472981</td>\n",
       "    </tr>\n",
       "    <tr>\n",
       "      <th>4</th>\n",
       "      <td>vFz6Nwo0LgpbJcU9St-uPA</td>\n",
       "      <td>da-cove-health-bar-and-cafe-honolulu-4</td>\n",
       "      <td>Da Cove Health Bar &amp; Cafe</td>\n",
       "      <td>https://s3-media3.fl.yelpcdn.com/bphoto/aNlP2w...</td>\n",
       "      <td>False</td>\n",
       "      <td>https://www.yelp.com/biz/da-cove-health-bar-an...</td>\n",
       "      <td>1295</td>\n",
       "      <td>[{'alias': 'juicebars', 'title': 'Juice Bars &amp;...</td>\n",
       "      <td>4.0</td>\n",
       "      <td>{'latitude': 21.26878, 'longitude': -157.8136199}</td>\n",
       "      <td>['delivery', 'pickup']</td>\n",
       "      <td>$$</td>\n",
       "      <td>{'address1': '3045 Monsarrat Ave', 'address2':...</td>\n",
       "      <td>1.808733e+10</td>\n",
       "      <td>(808) 732-8744</td>\n",
       "      <td>1718.002818</td>\n",
       "    </tr>\n",
       "  </tbody>\n",
       "</table>\n",
       "</div>"
      ],
      "text/plain": [
       "                       id                                   alias  \\\n",
       "0  3vsRGQGSVPec7kKBFGhowA              alo-cafe-hawaii-honolulu-2   \n",
       "1  QMPFWhM_kMIMSSBQf48-Gg               waffle-and-berry-honolulu   \n",
       "2  FhShWwhWNm4j6yMjyF0MCw      banán-waikiki-beach-shack-honolulu   \n",
       "3  vZ6iGKsU7zX8MT5rwNJeZw                 tropical-tribe-honolulu   \n",
       "4  vFz6Nwo0LgpbJcU9St-uPA  da-cove-health-bar-and-cafe-honolulu-4   \n",
       "\n",
       "                          name  \\\n",
       "0              ALO Cafe Hawaii   \n",
       "1             Waffle and Berry   \n",
       "2  Banán - Waikiki Beach Shack   \n",
       "3               Tropical Tribe   \n",
       "4    Da Cove Health Bar & Cafe   \n",
       "\n",
       "                                           image_url  is_closed  \\\n",
       "0  https://s3-media2.fl.yelpcdn.com/bphoto/_tn-bh...      False   \n",
       "1  https://s3-media4.fl.yelpcdn.com/bphoto/6VpIBT...      False   \n",
       "2  https://s3-media3.fl.yelpcdn.com/bphoto/HBcgiP...      False   \n",
       "3  https://s3-media3.fl.yelpcdn.com/bphoto/e7Y1Qu...      False   \n",
       "4  https://s3-media3.fl.yelpcdn.com/bphoto/aNlP2w...      False   \n",
       "\n",
       "                                                 url  review_count  \\\n",
       "0  https://www.yelp.com/biz/alo-cafe-hawaii-honol...            98   \n",
       "1  https://www.yelp.com/biz/waffle-and-berry-hono...           675   \n",
       "2  https://www.yelp.com/biz/ban%C3%A1n-waikiki-be...           518   \n",
       "3  https://www.yelp.com/biz/tropical-tribe-honolu...           592   \n",
       "4  https://www.yelp.com/biz/da-cove-health-bar-an...          1295   \n",
       "\n",
       "                                          categories  rating  \\\n",
       "0  [{'alias': 'juicebars', 'title': 'Juice Bars &...     4.5   \n",
       "1  [{'alias': 'waffles', 'title': 'Waffles'}, {'a...     5.0   \n",
       "2  [{'alias': 'vegan', 'title': 'Vegan'}, {'alias...     4.5   \n",
       "3  [{'alias': 'acaibowls', 'title': 'Acai Bowls'}...     4.5   \n",
       "4  [{'alias': 'juicebars', 'title': 'Juice Bars &...     4.0   \n",
       "\n",
       "                                         coordinates            transactions  \\\n",
       "0    {'latitude': 21.27713, 'longitude': -157.82433}  ['delivery', 'pickup']   \n",
       "1    {'latitude': 21.28594, 'longitude': -157.83275}  ['delivery', 'pickup']   \n",
       "2  {'latitude': 21.2772821247839, 'longitude': -1...                      []   \n",
       "3  {'latitude': 21.28557897099554, 'longitude': -...  ['delivery', 'pickup']   \n",
       "4  {'latitude': 21.26878, 'longitude': -157.8136199}  ['delivery', 'pickup']   \n",
       "\n",
       "  price                                           location         phone  \\\n",
       "0    $$  {'address1': '159 Kaiulani Ave', 'address2': '...  1.808780e+10   \n",
       "1    $$  {'address1': '1958 Kalakaua Ave', 'address2': ...  1.808207e+10   \n",
       "2     $  {'address1': '2301 Kalakaua Ave', 'address2': ...  1.808200e+10   \n",
       "3    $$  {'address1': '1778 Ala Moana Blvd', 'address2'...  1.808367e+10   \n",
       "4    $$  {'address1': '3045 Monsarrat Ave', 'address2':...  1.808733e+10   \n",
       "\n",
       "    display_phone     distance  \n",
       "0  (808) 779-7887   505.744094  \n",
       "1  (808) 206-8272  1256.061740  \n",
       "2  (808) 200-1640   242.294662  \n",
       "3  (808) 366-8226  1522.472981  \n",
       "4  (808) 732-8744  1718.002818  "
      ]
     },
     "execution_count": 4,
     "metadata": {},
     "output_type": "execute_result"
    }
   ],
   "source": [
    "## Load in csv.gz\n",
    "df = pd.read_csv('Data/Waikiki-acai.csv.gz')\n",
    "df.head()"
   ]
  },
  {
   "cell_type": "code",
   "execution_count": 6,
   "id": "584f5d02",
   "metadata": {},
   "outputs": [
    {
     "data": {
      "text/html": [
       "<div>\n",
       "<style scoped>\n",
       "    .dataframe tbody tr th:only-of-type {\n",
       "        vertical-align: middle;\n",
       "    }\n",
       "\n",
       "    .dataframe tbody tr th {\n",
       "        vertical-align: top;\n",
       "    }\n",
       "\n",
       "    .dataframe thead th {\n",
       "        text-align: right;\n",
       "    }\n",
       "</style>\n",
       "<table border=\"1\" class=\"dataframe\">\n",
       "  <thead>\n",
       "    <tr style=\"text-align: right;\">\n",
       "      <th></th>\n",
       "      <th>id</th>\n",
       "      <th>alias</th>\n",
       "      <th>name</th>\n",
       "      <th>image_url</th>\n",
       "      <th>is_closed</th>\n",
       "      <th>url</th>\n",
       "      <th>review_count</th>\n",
       "      <th>categories</th>\n",
       "      <th>rating</th>\n",
       "      <th>coordinates</th>\n",
       "      <th>transactions</th>\n",
       "      <th>location</th>\n",
       "      <th>phone</th>\n",
       "      <th>display_phone</th>\n",
       "      <th>distance</th>\n",
       "      <th>price</th>\n",
       "    </tr>\n",
       "  </thead>\n",
       "  <tbody>\n",
       "    <tr>\n",
       "      <th>0</th>\n",
       "      <td>mlOelmCRqLOkWlLcAIZ-BA</td>\n",
       "      <td>swamp-chicken-missouri-city</td>\n",
       "      <td>Swamp Chicken</td>\n",
       "      <td>https://s3-media2.fl.yelpcdn.com/bphoto/iV2Jhj...</td>\n",
       "      <td>False</td>\n",
       "      <td>https://www.yelp.com/biz/swamp-chicken-missour...</td>\n",
       "      <td>23</td>\n",
       "      <td>[{'alias': 'cajun', 'title': 'Cajun/Creole'}]</td>\n",
       "      <td>4.0</td>\n",
       "      <td>{'latitude': 29.545382778092428, 'longitude': ...</td>\n",
       "      <td>[]</td>\n",
       "      <td>{'address1': '8035 Hwy 6', 'address2': '', 'ad...</td>\n",
       "      <td>1.281970e+10</td>\n",
       "      <td>(281) 969-8945</td>\n",
       "      <td>7523.026816</td>\n",
       "      <td>NaN</td>\n",
       "    </tr>\n",
       "    <tr>\n",
       "      <th>1</th>\n",
       "      <td>zcc818cmdAJ6JDiS8ODXAg</td>\n",
       "      <td>big-city-wings-pearland</td>\n",
       "      <td>Big City Wings</td>\n",
       "      <td>https://s3-media2.fl.yelpcdn.com/bphoto/LN4X0h...</td>\n",
       "      <td>False</td>\n",
       "      <td>https://www.yelp.com/biz/big-city-wings-pearla...</td>\n",
       "      <td>286</td>\n",
       "      <td>[{'alias': 'chicken_wings', 'title': 'Chicken ...</td>\n",
       "      <td>3.5</td>\n",
       "      <td>{'latitude': 29.557198, 'longitude': -95.371067}</td>\n",
       "      <td>['pickup', 'delivery']</td>\n",
       "      <td>{'address1': '9721 Broadway St', 'address2': N...</td>\n",
       "      <td>1.346755e+10</td>\n",
       "      <td>(346) 754-5980</td>\n",
       "      <td>9797.744647</td>\n",
       "      <td>$$</td>\n",
       "    </tr>\n",
       "    <tr>\n",
       "      <th>2</th>\n",
       "      <td>kBPaHWjREZNgr35J5l3_jg</td>\n",
       "      <td>wingstop-arcola</td>\n",
       "      <td>Wingstop</td>\n",
       "      <td>https://s3-media1.fl.yelpcdn.com/bphoto/2X_qSY...</td>\n",
       "      <td>False</td>\n",
       "      <td>https://www.yelp.com/biz/wingstop-arcola?adjus...</td>\n",
       "      <td>38</td>\n",
       "      <td>[{'alias': 'chicken_wings', 'title': 'Chicken ...</td>\n",
       "      <td>2.0</td>\n",
       "      <td>{'latitude': 29.50753417185821, 'longitude': -...</td>\n",
       "      <td>[]</td>\n",
       "      <td>{'address1': '5243 Fm 521 Rd', 'address2': 'St...</td>\n",
       "      <td>1.281432e+10</td>\n",
       "      <td>(281) 431-9464</td>\n",
       "      <td>3479.181431</td>\n",
       "      <td>NaN</td>\n",
       "    </tr>\n",
       "    <tr>\n",
       "      <th>3</th>\n",
       "      <td>b4a8eGt5rBr8ubKGXO8wYA</td>\n",
       "      <td>take-the-wheel-mobile-fresno</td>\n",
       "      <td>Take The Wheel Mobile</td>\n",
       "      <td>https://s3-media2.fl.yelpcdn.com/bphoto/WWd4yD...</td>\n",
       "      <td>False</td>\n",
       "      <td>https://www.yelp.com/biz/take-the-wheel-mobile...</td>\n",
       "      <td>59</td>\n",
       "      <td>[{'alias': 'foodtrucks', 'title': 'Food Trucks...</td>\n",
       "      <td>4.5</td>\n",
       "      <td>{'latitude': 29.523673, 'longitude': -95.45414}</td>\n",
       "      <td>['pickup', 'delivery']</td>\n",
       "      <td>{'address1': '4233 Fm 521 Rd', 'address2': Non...</td>\n",
       "      <td>1.832334e+10</td>\n",
       "      <td>(832) 334-2181</td>\n",
       "      <td>2171.094342</td>\n",
       "      <td>$</td>\n",
       "    </tr>\n",
       "    <tr>\n",
       "      <th>4</th>\n",
       "      <td>tsLFO0SuZPjqCtGcDNnWig</td>\n",
       "      <td>bar-kada-missouri-city</td>\n",
       "      <td>Bar Kada</td>\n",
       "      <td>https://s3-media3.fl.yelpcdn.com/bphoto/WEs1ij...</td>\n",
       "      <td>False</td>\n",
       "      <td>https://www.yelp.com/biz/bar-kada-missouri-cit...</td>\n",
       "      <td>49</td>\n",
       "      <td>[{'alias': 'sportsbars', 'title': 'Sports Bars...</td>\n",
       "      <td>3.5</td>\n",
       "      <td>{'latitude': 29.537163, 'longitude': -95.533925}</td>\n",
       "      <td>[]</td>\n",
       "      <td>{'address1': '9009 Sienna Crossing Dr', 'addre...</td>\n",
       "      <td>1.713228e+10</td>\n",
       "      <td>(713) 227-5232</td>\n",
       "      <td>6197.980513</td>\n",
       "      <td>NaN</td>\n",
       "    </tr>\n",
       "  </tbody>\n",
       "</table>\n",
       "</div>"
      ],
      "text/plain": [
       "                       id                         alias  \\\n",
       "0  mlOelmCRqLOkWlLcAIZ-BA   swamp-chicken-missouri-city   \n",
       "1  zcc818cmdAJ6JDiS8ODXAg       big-city-wings-pearland   \n",
       "2  kBPaHWjREZNgr35J5l3_jg               wingstop-arcola   \n",
       "3  b4a8eGt5rBr8ubKGXO8wYA  take-the-wheel-mobile-fresno   \n",
       "4  tsLFO0SuZPjqCtGcDNnWig        bar-kada-missouri-city   \n",
       "\n",
       "                    name                                          image_url  \\\n",
       "0          Swamp Chicken  https://s3-media2.fl.yelpcdn.com/bphoto/iV2Jhj...   \n",
       "1         Big City Wings  https://s3-media2.fl.yelpcdn.com/bphoto/LN4X0h...   \n",
       "2               Wingstop  https://s3-media1.fl.yelpcdn.com/bphoto/2X_qSY...   \n",
       "3  Take The Wheel Mobile  https://s3-media2.fl.yelpcdn.com/bphoto/WWd4yD...   \n",
       "4               Bar Kada  https://s3-media3.fl.yelpcdn.com/bphoto/WEs1ij...   \n",
       "\n",
       "   is_closed                                                url  review_count  \\\n",
       "0      False  https://www.yelp.com/biz/swamp-chicken-missour...            23   \n",
       "1      False  https://www.yelp.com/biz/big-city-wings-pearla...           286   \n",
       "2      False  https://www.yelp.com/biz/wingstop-arcola?adjus...            38   \n",
       "3      False  https://www.yelp.com/biz/take-the-wheel-mobile...            59   \n",
       "4      False  https://www.yelp.com/biz/bar-kada-missouri-cit...            49   \n",
       "\n",
       "                                          categories  rating  \\\n",
       "0      [{'alias': 'cajun', 'title': 'Cajun/Creole'}]     4.0   \n",
       "1  [{'alias': 'chicken_wings', 'title': 'Chicken ...     3.5   \n",
       "2  [{'alias': 'chicken_wings', 'title': 'Chicken ...     2.0   \n",
       "3  [{'alias': 'foodtrucks', 'title': 'Food Trucks...     4.5   \n",
       "4  [{'alias': 'sportsbars', 'title': 'Sports Bars...     3.5   \n",
       "\n",
       "                                         coordinates            transactions  \\\n",
       "0  {'latitude': 29.545382778092428, 'longitude': ...                      []   \n",
       "1   {'latitude': 29.557198, 'longitude': -95.371067}  ['pickup', 'delivery']   \n",
       "2  {'latitude': 29.50753417185821, 'longitude': -...                      []   \n",
       "3    {'latitude': 29.523673, 'longitude': -95.45414}  ['pickup', 'delivery']   \n",
       "4   {'latitude': 29.537163, 'longitude': -95.533925}                      []   \n",
       "\n",
       "                                            location         phone  \\\n",
       "0  {'address1': '8035 Hwy 6', 'address2': '', 'ad...  1.281970e+10   \n",
       "1  {'address1': '9721 Broadway St', 'address2': N...  1.346755e+10   \n",
       "2  {'address1': '5243 Fm 521 Rd', 'address2': 'St...  1.281432e+10   \n",
       "3  {'address1': '4233 Fm 521 Rd', 'address2': Non...  1.832334e+10   \n",
       "4  {'address1': '9009 Sienna Crossing Dr', 'addre...  1.713228e+10   \n",
       "\n",
       "    display_phone     distance price  \n",
       "0  (281) 969-8945  7523.026816   NaN  \n",
       "1  (346) 754-5980  9797.744647    $$  \n",
       "2  (281) 431-9464  3479.181431   NaN  \n",
       "3  (832) 334-2181  2171.094342     $  \n",
       "4  (713) 227-5232  6197.980513   NaN  "
      ]
     },
     "execution_count": 6,
     "metadata": {},
     "output_type": "execute_result"
    }
   ],
   "source": [
    "df2 = pd.read_csv('Solution/Data/Fresno-wings.csv.gz')\n",
    "\n",
    "df2.head()"
   ]
  },
  {
   "cell_type": "markdown",
   "id": "182d9a50",
   "metadata": {},
   "source": [
    "## Required Preprocessing "
   ]
  },
  {
   "cell_type": "markdown",
   "id": "9db8a265",
   "metadata": {},
   "source": [
    "- 1. We need to get the latitude and longitude for each business as separate columns.\n",
    "- 2. We also want to be able to show the restaurants:\n",
    "    - name\n",
    "    - price\n",
    "    - type of transactions (pickup/delivery/restaurant reservation)\n",
    "    - address"
   ]
  },
  {
   "cell_type": "markdown",
   "id": "13d541ac",
   "metadata": {},
   "source": [
    "### Separating Latitude and Longitude"
   ]
  },
  {
   "cell_type": "code",
   "execution_count": 7,
   "id": "825c85f0",
   "metadata": {},
   "outputs": [
    {
     "data": {
      "text/html": [
       "<div>\n",
       "<style scoped>\n",
       "    .dataframe tbody tr th:only-of-type {\n",
       "        vertical-align: middle;\n",
       "    }\n",
       "\n",
       "    .dataframe tbody tr th {\n",
       "        vertical-align: top;\n",
       "    }\n",
       "\n",
       "    .dataframe thead th {\n",
       "        text-align: right;\n",
       "    }\n",
       "</style>\n",
       "<table border=\"1\" class=\"dataframe\">\n",
       "  <thead>\n",
       "    <tr style=\"text-align: right;\">\n",
       "      <th></th>\n",
       "      <th>0</th>\n",
       "    </tr>\n",
       "  </thead>\n",
       "  <tbody>\n",
       "    <tr>\n",
       "      <th>0</th>\n",
       "      <td>{'latitude': 21.27713, 'longitude': -157.82433}</td>\n",
       "    </tr>\n",
       "    <tr>\n",
       "      <th>1</th>\n",
       "      <td>{'latitude': 21.28594, 'longitude': -157.83275}</td>\n",
       "    </tr>\n",
       "    <tr>\n",
       "      <th>2</th>\n",
       "      <td>{'latitude': 21.2772821247839, 'longitude': -1...</td>\n",
       "    </tr>\n",
       "    <tr>\n",
       "      <th>3</th>\n",
       "      <td>{'latitude': 21.28557897099554, 'longitude': -...</td>\n",
       "    </tr>\n",
       "    <tr>\n",
       "      <th>4</th>\n",
       "      <td>{'latitude': 21.26878, 'longitude': -157.8136199}</td>\n",
       "    </tr>\n",
       "    <tr>\n",
       "      <th>...</th>\n",
       "      <td>...</td>\n",
       "    </tr>\n",
       "    <tr>\n",
       "      <th>86</th>\n",
       "      <td>{'latitude': 21.290581, 'longitude': -157.844906}</td>\n",
       "    </tr>\n",
       "    <tr>\n",
       "      <th>87</th>\n",
       "      <td>{'latitude': 21.28336641159739, 'longitude': -...</td>\n",
       "    </tr>\n",
       "    <tr>\n",
       "      <th>88</th>\n",
       "      <td>{'latitude': 21.298175, 'longitude': -157.818853}</td>\n",
       "    </tr>\n",
       "    <tr>\n",
       "      <th>89</th>\n",
       "      <td>{'latitude': 21.30067, 'longitude': -157.86275}</td>\n",
       "    </tr>\n",
       "    <tr>\n",
       "      <th>90</th>\n",
       "      <td>{'latitude': 21.2911581285241, 'longitude': -1...</td>\n",
       "    </tr>\n",
       "  </tbody>\n",
       "</table>\n",
       "<p>91 rows × 1 columns</p>\n",
       "</div>"
      ],
      "text/plain": [
       "                                                    0\n",
       "0     {'latitude': 21.27713, 'longitude': -157.82433}\n",
       "1     {'latitude': 21.28594, 'longitude': -157.83275}\n",
       "2   {'latitude': 21.2772821247839, 'longitude': -1...\n",
       "3   {'latitude': 21.28557897099554, 'longitude': -...\n",
       "4   {'latitude': 21.26878, 'longitude': -157.8136199}\n",
       "..                                                ...\n",
       "86  {'latitude': 21.290581, 'longitude': -157.844906}\n",
       "87  {'latitude': 21.28336641159739, 'longitude': -...\n",
       "88  {'latitude': 21.298175, 'longitude': -157.818853}\n",
       "89    {'latitude': 21.30067, 'longitude': -157.86275}\n",
       "90  {'latitude': 21.2911581285241, 'longitude': -1...\n",
       "\n",
       "[91 rows x 1 columns]"
      ]
     },
     "execution_count": 7,
     "metadata": {},
     "output_type": "execute_result"
    }
   ],
   "source": [
    "## use .apply pd.Series to convert a dict to columns\n",
    "df['coordinates'].apply(pd.Series)"
   ]
  },
  {
   "cell_type": "markdown",
   "id": "faecca22",
   "metadata": {},
   "source": [
    "- Why didn't that work???"
   ]
  },
  {
   "cell_type": "code",
   "execution_count": 8,
   "id": "4c52b779",
   "metadata": {},
   "outputs": [
    {
     "data": {
      "text/plain": [
       "\"{'latitude': 21.28594, 'longitude': -157.83275}\""
      ]
     },
     "execution_count": 8,
     "metadata": {},
     "output_type": "execute_result"
    }
   ],
   "source": [
    "## slice out a single test coordinate\n",
    "test_coord = df.loc[1, 'coordinates']\n",
    "test_coord"
   ]
  },
  {
   "cell_type": "code",
   "execution_count": 9,
   "id": "b823b8fa",
   "metadata": {},
   "outputs": [
    {
     "data": {
      "text/plain": [
       "str"
      ]
     },
     "execution_count": 9,
     "metadata": {},
     "output_type": "execute_result"
    }
   ],
   "source": [
    "type(test_coord)"
   ]
  },
  {
   "cell_type": "markdown",
   "id": "819d8252",
   "metadata": {},
   "source": [
    "- Its not a dictionary anymore!!! What??\n",
    "    - CSV files cant store iterables (lists, dictionaries) so they get converted to strings."
   ]
  },
  {
   "cell_type": "markdown",
   "id": "df7e7c71",
   "metadata": {},
   "source": [
    "### Fixing the String-Dictionaries"
   ]
  },
  {
   "cell_type": "markdown",
   "id": "76185b76",
   "metadata": {},
   "source": [
    "- The json module has another version of load and dump called `json.loads` and `json.dumps`\n",
    "    - These are designed to process STRINGS instead of files. \n",
    "    \n",
    "- If we use `json.loads` we can convert our `string dictionary` into an `actual dictionary`. "
   ]
  },
  {
   "cell_type": "code",
   "execution_count": 11,
   "id": "8e4ab9ed",
   "metadata": {},
   "outputs": [
    {
     "ename": "JSONDecodeError",
     "evalue": "Expecting property name enclosed in double quotes: line 1 column 2 (char 1)",
     "output_type": "error",
     "traceback": [
      "\u001b[0;31m---------------------------------------------------------------------------\u001b[0m",
      "\u001b[0;31mJSONDecodeError\u001b[0m                           Traceback (most recent call last)",
      "Cell \u001b[0;32mIn [11], line 2\u001b[0m\n\u001b[1;32m      1\u001b[0m \u001b[38;5;66;03m## Use json.loads on the test coordinate\u001b[39;00m\n\u001b[0;32m----> 2\u001b[0m \u001b[43mjson\u001b[49m\u001b[38;5;241;43m.\u001b[39;49m\u001b[43mloads\u001b[49m\u001b[43m(\u001b[49m\u001b[43mtest_coord\u001b[49m\u001b[43m)\u001b[49m\n",
      "File \u001b[0;32m/opt/homebrew/Caskroom/miniforge/base/envs/dojo-env/lib/python3.9/json/__init__.py:346\u001b[0m, in \u001b[0;36mloads\u001b[0;34m(s, cls, object_hook, parse_float, parse_int, parse_constant, object_pairs_hook, **kw)\u001b[0m\n\u001b[1;32m    341\u001b[0m     s \u001b[38;5;241m=\u001b[39m s\u001b[38;5;241m.\u001b[39mdecode(detect_encoding(s), \u001b[38;5;124m'\u001b[39m\u001b[38;5;124msurrogatepass\u001b[39m\u001b[38;5;124m'\u001b[39m)\n\u001b[1;32m    343\u001b[0m \u001b[38;5;28;01mif\u001b[39;00m (\u001b[38;5;28mcls\u001b[39m \u001b[38;5;129;01mis\u001b[39;00m \u001b[38;5;28;01mNone\u001b[39;00m \u001b[38;5;129;01mand\u001b[39;00m object_hook \u001b[38;5;129;01mis\u001b[39;00m \u001b[38;5;28;01mNone\u001b[39;00m \u001b[38;5;129;01mand\u001b[39;00m\n\u001b[1;32m    344\u001b[0m         parse_int \u001b[38;5;129;01mis\u001b[39;00m \u001b[38;5;28;01mNone\u001b[39;00m \u001b[38;5;129;01mand\u001b[39;00m parse_float \u001b[38;5;129;01mis\u001b[39;00m \u001b[38;5;28;01mNone\u001b[39;00m \u001b[38;5;129;01mand\u001b[39;00m\n\u001b[1;32m    345\u001b[0m         parse_constant \u001b[38;5;129;01mis\u001b[39;00m \u001b[38;5;28;01mNone\u001b[39;00m \u001b[38;5;129;01mand\u001b[39;00m object_pairs_hook \u001b[38;5;129;01mis\u001b[39;00m \u001b[38;5;28;01mNone\u001b[39;00m \u001b[38;5;129;01mand\u001b[39;00m \u001b[38;5;129;01mnot\u001b[39;00m kw):\n\u001b[0;32m--> 346\u001b[0m     \u001b[38;5;28;01mreturn\u001b[39;00m \u001b[43m_default_decoder\u001b[49m\u001b[38;5;241;43m.\u001b[39;49m\u001b[43mdecode\u001b[49m\u001b[43m(\u001b[49m\u001b[43ms\u001b[49m\u001b[43m)\u001b[49m\n\u001b[1;32m    347\u001b[0m \u001b[38;5;28;01mif\u001b[39;00m \u001b[38;5;28mcls\u001b[39m \u001b[38;5;129;01mis\u001b[39;00m \u001b[38;5;28;01mNone\u001b[39;00m:\n\u001b[1;32m    348\u001b[0m     \u001b[38;5;28mcls\u001b[39m \u001b[38;5;241m=\u001b[39m JSONDecoder\n",
      "File \u001b[0;32m/opt/homebrew/Caskroom/miniforge/base/envs/dojo-env/lib/python3.9/json/decoder.py:337\u001b[0m, in \u001b[0;36mJSONDecoder.decode\u001b[0;34m(self, s, _w)\u001b[0m\n\u001b[1;32m    332\u001b[0m \u001b[38;5;28;01mdef\u001b[39;00m \u001b[38;5;21mdecode\u001b[39m(\u001b[38;5;28mself\u001b[39m, s, _w\u001b[38;5;241m=\u001b[39mWHITESPACE\u001b[38;5;241m.\u001b[39mmatch):\n\u001b[1;32m    333\u001b[0m     \u001b[38;5;124;03m\"\"\"Return the Python representation of ``s`` (a ``str`` instance\u001b[39;00m\n\u001b[1;32m    334\u001b[0m \u001b[38;5;124;03m    containing a JSON document).\u001b[39;00m\n\u001b[1;32m    335\u001b[0m \n\u001b[1;32m    336\u001b[0m \u001b[38;5;124;03m    \"\"\"\u001b[39;00m\n\u001b[0;32m--> 337\u001b[0m     obj, end \u001b[38;5;241m=\u001b[39m \u001b[38;5;28;43mself\u001b[39;49m\u001b[38;5;241;43m.\u001b[39;49m\u001b[43mraw_decode\u001b[49m\u001b[43m(\u001b[49m\u001b[43ms\u001b[49m\u001b[43m,\u001b[49m\u001b[43m \u001b[49m\u001b[43midx\u001b[49m\u001b[38;5;241;43m=\u001b[39;49m\u001b[43m_w\u001b[49m\u001b[43m(\u001b[49m\u001b[43ms\u001b[49m\u001b[43m,\u001b[49m\u001b[43m \u001b[49m\u001b[38;5;241;43m0\u001b[39;49m\u001b[43m)\u001b[49m\u001b[38;5;241;43m.\u001b[39;49m\u001b[43mend\u001b[49m\u001b[43m(\u001b[49m\u001b[43m)\u001b[49m\u001b[43m)\u001b[49m\n\u001b[1;32m    338\u001b[0m     end \u001b[38;5;241m=\u001b[39m _w(s, end)\u001b[38;5;241m.\u001b[39mend()\n\u001b[1;32m    339\u001b[0m     \u001b[38;5;28;01mif\u001b[39;00m end \u001b[38;5;241m!=\u001b[39m \u001b[38;5;28mlen\u001b[39m(s):\n",
      "File \u001b[0;32m/opt/homebrew/Caskroom/miniforge/base/envs/dojo-env/lib/python3.9/json/decoder.py:353\u001b[0m, in \u001b[0;36mJSONDecoder.raw_decode\u001b[0;34m(self, s, idx)\u001b[0m\n\u001b[1;32m    344\u001b[0m \u001b[38;5;124;03m\"\"\"Decode a JSON document from ``s`` (a ``str`` beginning with\u001b[39;00m\n\u001b[1;32m    345\u001b[0m \u001b[38;5;124;03ma JSON document) and return a 2-tuple of the Python\u001b[39;00m\n\u001b[1;32m    346\u001b[0m \u001b[38;5;124;03mrepresentation and the index in ``s`` where the document ended.\u001b[39;00m\n\u001b[0;32m   (...)\u001b[0m\n\u001b[1;32m    350\u001b[0m \n\u001b[1;32m    351\u001b[0m \u001b[38;5;124;03m\"\"\"\u001b[39;00m\n\u001b[1;32m    352\u001b[0m \u001b[38;5;28;01mtry\u001b[39;00m:\n\u001b[0;32m--> 353\u001b[0m     obj, end \u001b[38;5;241m=\u001b[39m \u001b[38;5;28;43mself\u001b[39;49m\u001b[38;5;241;43m.\u001b[39;49m\u001b[43mscan_once\u001b[49m\u001b[43m(\u001b[49m\u001b[43ms\u001b[49m\u001b[43m,\u001b[49m\u001b[43m \u001b[49m\u001b[43midx\u001b[49m\u001b[43m)\u001b[49m\n\u001b[1;32m    354\u001b[0m \u001b[38;5;28;01mexcept\u001b[39;00m \u001b[38;5;167;01mStopIteration\u001b[39;00m \u001b[38;5;28;01mas\u001b[39;00m err:\n\u001b[1;32m    355\u001b[0m     \u001b[38;5;28;01mraise\u001b[39;00m JSONDecodeError(\u001b[38;5;124m\"\u001b[39m\u001b[38;5;124mExpecting value\u001b[39m\u001b[38;5;124m\"\u001b[39m, s, err\u001b[38;5;241m.\u001b[39mvalue) \u001b[38;5;28;01mfrom\u001b[39;00m \u001b[38;5;28mNone\u001b[39m\n",
      "\u001b[0;31mJSONDecodeError\u001b[0m: Expecting property name enclosed in double quotes: line 1 column 2 (char 1)"
     ]
    }
   ],
   "source": [
    "## Use json.loads on the test coordinate\n",
    "json.loads(test_coord)"
   ]
  },
  {
   "cell_type": "markdown",
   "id": "89771042",
   "metadata": {},
   "source": [
    "### JSON requires double quotes!\n",
    "We got a `JSON Decode Error` because JSON was `expecting double quotes` inside\n",
    "of the dictionary"
   ]
  },
  {
   "cell_type": "code",
   "execution_count": 12,
   "id": "d9ba73f6",
   "metadata": {},
   "outputs": [
    {
     "data": {
      "text/plain": [
       "\"{'latitude': 21.28594, 'longitude': -157.83275}\""
      ]
     },
     "execution_count": 12,
     "metadata": {},
     "output_type": "execute_result"
    }
   ],
   "source": [
    "test_coord"
   ]
  },
  {
   "cell_type": "markdown",
   "id": "37d0f4a0",
   "metadata": {},
   "source": [
    "### We are now going to use the .replace( ) function to replace single ' with double \""
   ]
  },
  {
   "cell_type": "code",
   "execution_count": 14,
   "id": "baf7b4ce",
   "metadata": {},
   "outputs": [
    {
     "data": {
      "text/plain": [
       "'{\"latitude\": 21.28594, \"longitude\": -157.83275}'"
      ]
     },
     "execution_count": 14,
     "metadata": {},
     "output_type": "execute_result"
    }
   ],
   "source": [
    "## replace single ' with double \" \n",
    "test_coord = test_coord.replace(\"'\", '\"')\n",
    "test_coord"
   ]
  },
  {
   "cell_type": "code",
   "execution_count": 15,
   "id": "5f87a80a",
   "metadata": {},
   "outputs": [
    {
     "data": {
      "text/plain": [
       "{'latitude': 21.28594, 'longitude': -157.83275}"
      ]
     },
     "execution_count": 15,
     "metadata": {},
     "output_type": "execute_result"
    }
   ],
   "source": [
    "## Use json.loads on the test coordinate, again\n",
    "json.loads(test_coord)"
   ]
  },
  {
   "cell_type": "code",
   "execution_count": 16,
   "id": "46d7efc7",
   "metadata": {},
   "outputs": [
    {
     "data": {
      "text/plain": [
       "dict"
      ]
     },
     "execution_count": 16,
     "metadata": {},
     "output_type": "execute_result"
    }
   ],
   "source": [
    "# viewing type after using json.loads\n",
    "type(json.loads(test_coord))"
   ]
  },
  {
   "cell_type": "markdown",
   "id": "ac9a2c61",
   "metadata": {},
   "source": [
    "### Now, how can we apply this same process to the entire column??"
   ]
  },
  {
   "cell_type": "code",
   "execution_count": 17,
   "id": "815d26be",
   "metadata": {},
   "outputs": [],
   "source": [
    "## replace ' with \" (entire column)\n",
    "df['coordinates'] = df['coordinates'].str.replace(\"'\", '\"')\n",
    "## apply json.loads\n",
    "df['coordinates'] = df['coordinates'].apply(json.loads)"
   ]
  },
  {
   "cell_type": "code",
   "execution_count": 18,
   "id": "b417c990",
   "metadata": {},
   "outputs": [
    {
     "data": {
      "text/plain": [
       "{'latitude': 21.279401, 'longitude': -157.831178}"
      ]
     },
     "execution_count": 18,
     "metadata": {},
     "output_type": "execute_result"
    }
   ],
   "source": [
    "## slice out a single test coordinate\n",
    "test_coord = df.loc[5, 'coordinates']\n",
    "test_coord"
   ]
  },
  {
   "cell_type": "code",
   "execution_count": 19,
   "id": "c8ffae8a",
   "metadata": {},
   "outputs": [
    {
     "data": {
      "text/plain": [
       "dict"
      ]
     },
     "execution_count": 19,
     "metadata": {},
     "output_type": "execute_result"
    }
   ],
   "source": [
    "type(test_coord)"
   ]
  },
  {
   "cell_type": "markdown",
   "id": "a825c2f4",
   "metadata": {},
   "source": [
    "### Using .apply with pd.Series to convert a dictionary column into multiple columns\n",
    "This is the process of unpacking the dictionary to columns"
   ]
  },
  {
   "cell_type": "code",
   "execution_count": 20,
   "id": "9b06ad2c",
   "metadata": {},
   "outputs": [
    {
     "data": {
      "text/html": [
       "<div>\n",
       "<style scoped>\n",
       "    .dataframe tbody tr th:only-of-type {\n",
       "        vertical-align: middle;\n",
       "    }\n",
       "\n",
       "    .dataframe tbody tr th {\n",
       "        vertical-align: top;\n",
       "    }\n",
       "\n",
       "    .dataframe thead th {\n",
       "        text-align: right;\n",
       "    }\n",
       "</style>\n",
       "<table border=\"1\" class=\"dataframe\">\n",
       "  <thead>\n",
       "    <tr style=\"text-align: right;\">\n",
       "      <th></th>\n",
       "      <th>latitude</th>\n",
       "      <th>longitude</th>\n",
       "    </tr>\n",
       "  </thead>\n",
       "  <tbody>\n",
       "    <tr>\n",
       "      <th>0</th>\n",
       "      <td>21.277130</td>\n",
       "      <td>-157.824330</td>\n",
       "    </tr>\n",
       "    <tr>\n",
       "      <th>1</th>\n",
       "      <td>21.285940</td>\n",
       "      <td>-157.832750</td>\n",
       "    </tr>\n",
       "    <tr>\n",
       "      <th>2</th>\n",
       "      <td>21.277282</td>\n",
       "      <td>-157.827769</td>\n",
       "    </tr>\n",
       "    <tr>\n",
       "      <th>3</th>\n",
       "      <td>21.285579</td>\n",
       "      <td>-157.838434</td>\n",
       "    </tr>\n",
       "    <tr>\n",
       "      <th>4</th>\n",
       "      <td>21.268780</td>\n",
       "      <td>-157.813620</td>\n",
       "    </tr>\n",
       "    <tr>\n",
       "      <th>...</th>\n",
       "      <td>...</td>\n",
       "      <td>...</td>\n",
       "    </tr>\n",
       "    <tr>\n",
       "      <th>86</th>\n",
       "      <td>21.290581</td>\n",
       "      <td>-157.844906</td>\n",
       "    </tr>\n",
       "    <tr>\n",
       "      <th>87</th>\n",
       "      <td>21.283366</td>\n",
       "      <td>-157.799591</td>\n",
       "    </tr>\n",
       "    <tr>\n",
       "      <th>88</th>\n",
       "      <td>21.298175</td>\n",
       "      <td>-157.818853</td>\n",
       "    </tr>\n",
       "    <tr>\n",
       "      <th>89</th>\n",
       "      <td>21.300670</td>\n",
       "      <td>-157.862750</td>\n",
       "    </tr>\n",
       "    <tr>\n",
       "      <th>90</th>\n",
       "      <td>21.291158</td>\n",
       "      <td>-157.844039</td>\n",
       "    </tr>\n",
       "  </tbody>\n",
       "</table>\n",
       "<p>91 rows × 2 columns</p>\n",
       "</div>"
      ],
      "text/plain": [
       "     latitude   longitude\n",
       "0   21.277130 -157.824330\n",
       "1   21.285940 -157.832750\n",
       "2   21.277282 -157.827769\n",
       "3   21.285579 -157.838434\n",
       "4   21.268780 -157.813620\n",
       "..        ...         ...\n",
       "86  21.290581 -157.844906\n",
       "87  21.283366 -157.799591\n",
       "88  21.298175 -157.818853\n",
       "89  21.300670 -157.862750\n",
       "90  21.291158 -157.844039\n",
       "\n",
       "[91 rows x 2 columns]"
      ]
     },
     "execution_count": 20,
     "metadata": {},
     "output_type": "execute_result"
    }
   ],
   "source": [
    "## use .apply pd.Series to convert a dict to columns\n",
    "df['coordinates'].apply(pd.Series)"
   ]
  },
  {
   "cell_type": "code",
   "execution_count": 23,
   "id": "a09d00b1",
   "metadata": {},
   "outputs": [],
   "source": [
    "## Concatenate the 2 new columns and drop the original.\n",
    "df = pd.concat([df,df['coordinates'].apply(pd.Series)], axis=1)"
   ]
  },
  {
   "cell_type": "code",
   "execution_count": 25,
   "id": "c66aeebf",
   "metadata": {},
   "outputs": [
    {
     "data": {
      "text/html": [
       "<div>\n",
       "<style scoped>\n",
       "    .dataframe tbody tr th:only-of-type {\n",
       "        vertical-align: middle;\n",
       "    }\n",
       "\n",
       "    .dataframe tbody tr th {\n",
       "        vertical-align: top;\n",
       "    }\n",
       "\n",
       "    .dataframe thead th {\n",
       "        text-align: right;\n",
       "    }\n",
       "</style>\n",
       "<table border=\"1\" class=\"dataframe\">\n",
       "  <thead>\n",
       "    <tr style=\"text-align: right;\">\n",
       "      <th></th>\n",
       "      <th>id</th>\n",
       "      <th>alias</th>\n",
       "      <th>name</th>\n",
       "      <th>image_url</th>\n",
       "      <th>is_closed</th>\n",
       "      <th>url</th>\n",
       "      <th>review_count</th>\n",
       "      <th>categories</th>\n",
       "      <th>rating</th>\n",
       "      <th>coordinates</th>\n",
       "      <th>transactions</th>\n",
       "      <th>price</th>\n",
       "      <th>location</th>\n",
       "      <th>phone</th>\n",
       "      <th>display_phone</th>\n",
       "      <th>distance</th>\n",
       "      <th>latitude</th>\n",
       "      <th>longitude</th>\n",
       "    </tr>\n",
       "  </thead>\n",
       "  <tbody>\n",
       "    <tr>\n",
       "      <th>0</th>\n",
       "      <td>3vsRGQGSVPec7kKBFGhowA</td>\n",
       "      <td>alo-cafe-hawaii-honolulu-2</td>\n",
       "      <td>ALO Cafe Hawaii</td>\n",
       "      <td>https://s3-media2.fl.yelpcdn.com/bphoto/_tn-bh...</td>\n",
       "      <td>False</td>\n",
       "      <td>https://www.yelp.com/biz/alo-cafe-hawaii-honol...</td>\n",
       "      <td>98</td>\n",
       "      <td>[{'alias': 'juicebars', 'title': 'Juice Bars &amp;...</td>\n",
       "      <td>4.5</td>\n",
       "      <td>{'latitude': 21.27713, 'longitude': -157.82433}</td>\n",
       "      <td>['delivery', 'pickup']</td>\n",
       "      <td>$$</td>\n",
       "      <td>{'address1': '159 Kaiulani Ave', 'address2': '...</td>\n",
       "      <td>1.808780e+10</td>\n",
       "      <td>(808) 779-7887</td>\n",
       "      <td>505.744094</td>\n",
       "      <td>21.277130</td>\n",
       "      <td>-157.824330</td>\n",
       "    </tr>\n",
       "    <tr>\n",
       "      <th>1</th>\n",
       "      <td>QMPFWhM_kMIMSSBQf48-Gg</td>\n",
       "      <td>waffle-and-berry-honolulu</td>\n",
       "      <td>Waffle and Berry</td>\n",
       "      <td>https://s3-media4.fl.yelpcdn.com/bphoto/6VpIBT...</td>\n",
       "      <td>False</td>\n",
       "      <td>https://www.yelp.com/biz/waffle-and-berry-hono...</td>\n",
       "      <td>675</td>\n",
       "      <td>[{'alias': 'waffles', 'title': 'Waffles'}, {'a...</td>\n",
       "      <td>5.0</td>\n",
       "      <td>{'latitude': 21.28594, 'longitude': -157.83275}</td>\n",
       "      <td>['delivery', 'pickup']</td>\n",
       "      <td>$$</td>\n",
       "      <td>{'address1': '1958 Kalakaua Ave', 'address2': ...</td>\n",
       "      <td>1.808207e+10</td>\n",
       "      <td>(808) 206-8272</td>\n",
       "      <td>1256.061740</td>\n",
       "      <td>21.285940</td>\n",
       "      <td>-157.832750</td>\n",
       "    </tr>\n",
       "    <tr>\n",
       "      <th>2</th>\n",
       "      <td>FhShWwhWNm4j6yMjyF0MCw</td>\n",
       "      <td>banán-waikiki-beach-shack-honolulu</td>\n",
       "      <td>Banán - Waikiki Beach Shack</td>\n",
       "      <td>https://s3-media3.fl.yelpcdn.com/bphoto/HBcgiP...</td>\n",
       "      <td>False</td>\n",
       "      <td>https://www.yelp.com/biz/ban%C3%A1n-waikiki-be...</td>\n",
       "      <td>518</td>\n",
       "      <td>[{'alias': 'vegan', 'title': 'Vegan'}, {'alias...</td>\n",
       "      <td>4.5</td>\n",
       "      <td>{'latitude': 21.2772821247839, 'longitude': -1...</td>\n",
       "      <td>[]</td>\n",
       "      <td>$</td>\n",
       "      <td>{'address1': '2301 Kalakaua Ave', 'address2': ...</td>\n",
       "      <td>1.808200e+10</td>\n",
       "      <td>(808) 200-1640</td>\n",
       "      <td>242.294662</td>\n",
       "      <td>21.277282</td>\n",
       "      <td>-157.827769</td>\n",
       "    </tr>\n",
       "    <tr>\n",
       "      <th>3</th>\n",
       "      <td>vZ6iGKsU7zX8MT5rwNJeZw</td>\n",
       "      <td>tropical-tribe-honolulu</td>\n",
       "      <td>Tropical Tribe</td>\n",
       "      <td>https://s3-media3.fl.yelpcdn.com/bphoto/e7Y1Qu...</td>\n",
       "      <td>False</td>\n",
       "      <td>https://www.yelp.com/biz/tropical-tribe-honolu...</td>\n",
       "      <td>592</td>\n",
       "      <td>[{'alias': 'acaibowls', 'title': 'Acai Bowls'}...</td>\n",
       "      <td>4.5</td>\n",
       "      <td>{'latitude': 21.28557897099554, 'longitude': -...</td>\n",
       "      <td>['delivery', 'pickup']</td>\n",
       "      <td>$$</td>\n",
       "      <td>{'address1': '1778 Ala Moana Blvd', 'address2'...</td>\n",
       "      <td>1.808367e+10</td>\n",
       "      <td>(808) 366-8226</td>\n",
       "      <td>1522.472981</td>\n",
       "      <td>21.285579</td>\n",
       "      <td>-157.838434</td>\n",
       "    </tr>\n",
       "    <tr>\n",
       "      <th>4</th>\n",
       "      <td>vFz6Nwo0LgpbJcU9St-uPA</td>\n",
       "      <td>da-cove-health-bar-and-cafe-honolulu-4</td>\n",
       "      <td>Da Cove Health Bar &amp; Cafe</td>\n",
       "      <td>https://s3-media3.fl.yelpcdn.com/bphoto/aNlP2w...</td>\n",
       "      <td>False</td>\n",
       "      <td>https://www.yelp.com/biz/da-cove-health-bar-an...</td>\n",
       "      <td>1295</td>\n",
       "      <td>[{'alias': 'juicebars', 'title': 'Juice Bars &amp;...</td>\n",
       "      <td>4.0</td>\n",
       "      <td>{'latitude': 21.26878, 'longitude': -157.8136199}</td>\n",
       "      <td>['delivery', 'pickup']</td>\n",
       "      <td>$$</td>\n",
       "      <td>{'address1': '3045 Monsarrat Ave', 'address2':...</td>\n",
       "      <td>1.808733e+10</td>\n",
       "      <td>(808) 732-8744</td>\n",
       "      <td>1718.002818</td>\n",
       "      <td>21.268780</td>\n",
       "      <td>-157.813620</td>\n",
       "    </tr>\n",
       "    <tr>\n",
       "      <th>...</th>\n",
       "      <td>...</td>\n",
       "      <td>...</td>\n",
       "      <td>...</td>\n",
       "      <td>...</td>\n",
       "      <td>...</td>\n",
       "      <td>...</td>\n",
       "      <td>...</td>\n",
       "      <td>...</td>\n",
       "      <td>...</td>\n",
       "      <td>...</td>\n",
       "      <td>...</td>\n",
       "      <td>...</td>\n",
       "      <td>...</td>\n",
       "      <td>...</td>\n",
       "      <td>...</td>\n",
       "      <td>...</td>\n",
       "      <td>...</td>\n",
       "      <td>...</td>\n",
       "    </tr>\n",
       "    <tr>\n",
       "      <th>86</th>\n",
       "      <td>WB7dWO8Ew5xqNE8luLsvZA</td>\n",
       "      <td>honolulu-coffee-kiosk-ala-moana-cafe-honolulu</td>\n",
       "      <td>Honolulu Coffee Kiosk - Ala Moana Cafe</td>\n",
       "      <td>https://s3-media1.fl.yelpcdn.com/bphoto/s8KFJC...</td>\n",
       "      <td>False</td>\n",
       "      <td>https://www.yelp.com/biz/honolulu-coffee-kiosk...</td>\n",
       "      <td>36</td>\n",
       "      <td>[{'alias': 'coffee', 'title': 'Coffee &amp; Tea'},...</td>\n",
       "      <td>3.0</td>\n",
       "      <td>{'latitude': 21.290581, 'longitude': -157.844906}</td>\n",
       "      <td>['delivery']</td>\n",
       "      <td>$$</td>\n",
       "      <td>{'address1': '1450 Ala Moana Blvd', 'address2'...</td>\n",
       "      <td>1.808949e+10</td>\n",
       "      <td>(808) 949-1500</td>\n",
       "      <td>2386.844866</td>\n",
       "      <td>21.290581</td>\n",
       "      <td>-157.844906</td>\n",
       "    </tr>\n",
       "    <tr>\n",
       "      <th>87</th>\n",
       "      <td>i8Riqu7_fN9Lyw0yuM-wsw</td>\n",
       "      <td>yoga-under-the-palms-kaimukī-honolulu</td>\n",
       "      <td>Yoga Under the Palms Kaimukī</td>\n",
       "      <td>https://s3-media1.fl.yelpcdn.com/bphoto/SPdNvw...</td>\n",
       "      <td>False</td>\n",
       "      <td>https://www.yelp.com/biz/yoga-under-the-palms-...</td>\n",
       "      <td>13</td>\n",
       "      <td>[{'alias': 'vegan', 'title': 'Vegan'}, {'alias...</td>\n",
       "      <td>4.5</td>\n",
       "      <td>{'latitude': 21.28336641159739, 'longitude': -...</td>\n",
       "      <td>[]</td>\n",
       "      <td>NaN</td>\n",
       "      <td>{'address1': '3574 Waialae Ave', 'address2': '...</td>\n",
       "      <td>1.808646e+10</td>\n",
       "      <td>(808) 646-3660</td>\n",
       "      <td>3149.865288</td>\n",
       "      <td>21.283366</td>\n",
       "      <td>-157.799591</td>\n",
       "    </tr>\n",
       "    <tr>\n",
       "      <th>88</th>\n",
       "      <td>pF2obrjI6Dfamf0Wa7_J4Q</td>\n",
       "      <td>jamba-juice-honolulu-42</td>\n",
       "      <td>Jamba Juice</td>\n",
       "      <td>https://s3-media4.fl.yelpcdn.com/bphoto/QQpS9W...</td>\n",
       "      <td>False</td>\n",
       "      <td>https://www.yelp.com/biz/jamba-juice-honolulu-...</td>\n",
       "      <td>18</td>\n",
       "      <td>[{'alias': 'juicebars', 'title': 'Juice Bars &amp;...</td>\n",
       "      <td>3.0</td>\n",
       "      <td>{'latitude': 21.298175, 'longitude': -157.818853}</td>\n",
       "      <td>[]</td>\n",
       "      <td>$</td>\n",
       "      <td>{'address1': '2465 Campus Rd', 'address2': 'Rm...</td>\n",
       "      <td>1.808956e+10</td>\n",
       "      <td>(808) 956-2188</td>\n",
       "      <td>2742.152380</td>\n",
       "      <td>21.298175</td>\n",
       "      <td>-157.818853</td>\n",
       "    </tr>\n",
       "    <tr>\n",
       "      <th>89</th>\n",
       "      <td>3TLwn1lcLeikRooG2UuYcQ</td>\n",
       "      <td>808-juice-bar-and-grill-honolulu-2</td>\n",
       "      <td>808 Juice Bar &amp; Grill</td>\n",
       "      <td>https://s3-media1.fl.yelpcdn.com/bphoto/hp40F6...</td>\n",
       "      <td>False</td>\n",
       "      <td>https://www.yelp.com/biz/808-juice-bar-and-gri...</td>\n",
       "      <td>15</td>\n",
       "      <td>[{'alias': 'juicebars', 'title': 'Juice Bars &amp;...</td>\n",
       "      <td>2.5</td>\n",
       "      <td>{'latitude': 21.30067, 'longitude': -157.86275}</td>\n",
       "      <td>[]</td>\n",
       "      <td>NaN</td>\n",
       "      <td>{'address1': '500 Ala Moana Blvd', 'address2':...</td>\n",
       "      <td>1.808295e+10</td>\n",
       "      <td>(808) 294-7216</td>\n",
       "      <td>4547.759760</td>\n",
       "      <td>21.300670</td>\n",
       "      <td>-157.862750</td>\n",
       "    </tr>\n",
       "    <tr>\n",
       "      <th>90</th>\n",
       "      <td>tlRpImbLayI-y-25SL7yMw</td>\n",
       "      <td>island-crepes-and-lemonade-honolulu-2</td>\n",
       "      <td>Island Crepes and Lemonade</td>\n",
       "      <td>https://s3-media2.fl.yelpcdn.com/bphoto/BzDq6D...</td>\n",
       "      <td>False</td>\n",
       "      <td>https://www.yelp.com/biz/island-crepes-and-lem...</td>\n",
       "      <td>40</td>\n",
       "      <td>[{'alias': 'creperies', 'title': 'Creperies'},...</td>\n",
       "      <td>4.0</td>\n",
       "      <td>{'latitude': 21.2911581285241, 'longitude': -1...</td>\n",
       "      <td>[]</td>\n",
       "      <td>$</td>\n",
       "      <td>{'address1': '1450 Ala Moana Blvd', 'address2'...</td>\n",
       "      <td>NaN</td>\n",
       "      <td>NaN</td>\n",
       "      <td>2371.965947</td>\n",
       "      <td>21.291158</td>\n",
       "      <td>-157.844039</td>\n",
       "    </tr>\n",
       "  </tbody>\n",
       "</table>\n",
       "<p>91 rows × 18 columns</p>\n",
       "</div>"
      ],
      "text/plain": [
       "                        id                                          alias  \\\n",
       "0   3vsRGQGSVPec7kKBFGhowA                     alo-cafe-hawaii-honolulu-2   \n",
       "1   QMPFWhM_kMIMSSBQf48-Gg                      waffle-and-berry-honolulu   \n",
       "2   FhShWwhWNm4j6yMjyF0MCw             banán-waikiki-beach-shack-honolulu   \n",
       "3   vZ6iGKsU7zX8MT5rwNJeZw                        tropical-tribe-honolulu   \n",
       "4   vFz6Nwo0LgpbJcU9St-uPA         da-cove-health-bar-and-cafe-honolulu-4   \n",
       "..                     ...                                            ...   \n",
       "86  WB7dWO8Ew5xqNE8luLsvZA  honolulu-coffee-kiosk-ala-moana-cafe-honolulu   \n",
       "87  i8Riqu7_fN9Lyw0yuM-wsw          yoga-under-the-palms-kaimukī-honolulu   \n",
       "88  pF2obrjI6Dfamf0Wa7_J4Q                        jamba-juice-honolulu-42   \n",
       "89  3TLwn1lcLeikRooG2UuYcQ             808-juice-bar-and-grill-honolulu-2   \n",
       "90  tlRpImbLayI-y-25SL7yMw          island-crepes-and-lemonade-honolulu-2   \n",
       "\n",
       "                                      name  \\\n",
       "0                          ALO Cafe Hawaii   \n",
       "1                         Waffle and Berry   \n",
       "2              Banán - Waikiki Beach Shack   \n",
       "3                           Tropical Tribe   \n",
       "4                Da Cove Health Bar & Cafe   \n",
       "..                                     ...   \n",
       "86  Honolulu Coffee Kiosk - Ala Moana Cafe   \n",
       "87            Yoga Under the Palms Kaimukī   \n",
       "88                             Jamba Juice   \n",
       "89                   808 Juice Bar & Grill   \n",
       "90              Island Crepes and Lemonade   \n",
       "\n",
       "                                            image_url  is_closed  \\\n",
       "0   https://s3-media2.fl.yelpcdn.com/bphoto/_tn-bh...      False   \n",
       "1   https://s3-media4.fl.yelpcdn.com/bphoto/6VpIBT...      False   \n",
       "2   https://s3-media3.fl.yelpcdn.com/bphoto/HBcgiP...      False   \n",
       "3   https://s3-media3.fl.yelpcdn.com/bphoto/e7Y1Qu...      False   \n",
       "4   https://s3-media3.fl.yelpcdn.com/bphoto/aNlP2w...      False   \n",
       "..                                                ...        ...   \n",
       "86  https://s3-media1.fl.yelpcdn.com/bphoto/s8KFJC...      False   \n",
       "87  https://s3-media1.fl.yelpcdn.com/bphoto/SPdNvw...      False   \n",
       "88  https://s3-media4.fl.yelpcdn.com/bphoto/QQpS9W...      False   \n",
       "89  https://s3-media1.fl.yelpcdn.com/bphoto/hp40F6...      False   \n",
       "90  https://s3-media2.fl.yelpcdn.com/bphoto/BzDq6D...      False   \n",
       "\n",
       "                                                  url  review_count  \\\n",
       "0   https://www.yelp.com/biz/alo-cafe-hawaii-honol...            98   \n",
       "1   https://www.yelp.com/biz/waffle-and-berry-hono...           675   \n",
       "2   https://www.yelp.com/biz/ban%C3%A1n-waikiki-be...           518   \n",
       "3   https://www.yelp.com/biz/tropical-tribe-honolu...           592   \n",
       "4   https://www.yelp.com/biz/da-cove-health-bar-an...          1295   \n",
       "..                                                ...           ...   \n",
       "86  https://www.yelp.com/biz/honolulu-coffee-kiosk...            36   \n",
       "87  https://www.yelp.com/biz/yoga-under-the-palms-...            13   \n",
       "88  https://www.yelp.com/biz/jamba-juice-honolulu-...            18   \n",
       "89  https://www.yelp.com/biz/808-juice-bar-and-gri...            15   \n",
       "90  https://www.yelp.com/biz/island-crepes-and-lem...            40   \n",
       "\n",
       "                                           categories  rating  \\\n",
       "0   [{'alias': 'juicebars', 'title': 'Juice Bars &...     4.5   \n",
       "1   [{'alias': 'waffles', 'title': 'Waffles'}, {'a...     5.0   \n",
       "2   [{'alias': 'vegan', 'title': 'Vegan'}, {'alias...     4.5   \n",
       "3   [{'alias': 'acaibowls', 'title': 'Acai Bowls'}...     4.5   \n",
       "4   [{'alias': 'juicebars', 'title': 'Juice Bars &...     4.0   \n",
       "..                                                ...     ...   \n",
       "86  [{'alias': 'coffee', 'title': 'Coffee & Tea'},...     3.0   \n",
       "87  [{'alias': 'vegan', 'title': 'Vegan'}, {'alias...     4.5   \n",
       "88  [{'alias': 'juicebars', 'title': 'Juice Bars &...     3.0   \n",
       "89  [{'alias': 'juicebars', 'title': 'Juice Bars &...     2.5   \n",
       "90  [{'alias': 'creperies', 'title': 'Creperies'},...     4.0   \n",
       "\n",
       "                                          coordinates            transactions  \\\n",
       "0     {'latitude': 21.27713, 'longitude': -157.82433}  ['delivery', 'pickup']   \n",
       "1     {'latitude': 21.28594, 'longitude': -157.83275}  ['delivery', 'pickup']   \n",
       "2   {'latitude': 21.2772821247839, 'longitude': -1...                      []   \n",
       "3   {'latitude': 21.28557897099554, 'longitude': -...  ['delivery', 'pickup']   \n",
       "4   {'latitude': 21.26878, 'longitude': -157.8136199}  ['delivery', 'pickup']   \n",
       "..                                                ...                     ...   \n",
       "86  {'latitude': 21.290581, 'longitude': -157.844906}            ['delivery']   \n",
       "87  {'latitude': 21.28336641159739, 'longitude': -...                      []   \n",
       "88  {'latitude': 21.298175, 'longitude': -157.818853}                      []   \n",
       "89    {'latitude': 21.30067, 'longitude': -157.86275}                      []   \n",
       "90  {'latitude': 21.2911581285241, 'longitude': -1...                      []   \n",
       "\n",
       "   price                                           location         phone  \\\n",
       "0     $$  {'address1': '159 Kaiulani Ave', 'address2': '...  1.808780e+10   \n",
       "1     $$  {'address1': '1958 Kalakaua Ave', 'address2': ...  1.808207e+10   \n",
       "2      $  {'address1': '2301 Kalakaua Ave', 'address2': ...  1.808200e+10   \n",
       "3     $$  {'address1': '1778 Ala Moana Blvd', 'address2'...  1.808367e+10   \n",
       "4     $$  {'address1': '3045 Monsarrat Ave', 'address2':...  1.808733e+10   \n",
       "..   ...                                                ...           ...   \n",
       "86    $$  {'address1': '1450 Ala Moana Blvd', 'address2'...  1.808949e+10   \n",
       "87   NaN  {'address1': '3574 Waialae Ave', 'address2': '...  1.808646e+10   \n",
       "88     $  {'address1': '2465 Campus Rd', 'address2': 'Rm...  1.808956e+10   \n",
       "89   NaN  {'address1': '500 Ala Moana Blvd', 'address2':...  1.808295e+10   \n",
       "90     $  {'address1': '1450 Ala Moana Blvd', 'address2'...           NaN   \n",
       "\n",
       "     display_phone     distance   latitude   longitude  \n",
       "0   (808) 779-7887   505.744094  21.277130 -157.824330  \n",
       "1   (808) 206-8272  1256.061740  21.285940 -157.832750  \n",
       "2   (808) 200-1640   242.294662  21.277282 -157.827769  \n",
       "3   (808) 366-8226  1522.472981  21.285579 -157.838434  \n",
       "4   (808) 732-8744  1718.002818  21.268780 -157.813620  \n",
       "..             ...          ...        ...         ...  \n",
       "86  (808) 949-1500  2386.844866  21.290581 -157.844906  \n",
       "87  (808) 646-3660  3149.865288  21.283366 -157.799591  \n",
       "88  (808) 956-2188  2742.152380  21.298175 -157.818853  \n",
       "89  (808) 294-7216  4547.759760  21.300670 -157.862750  \n",
       "90             NaN  2371.965947  21.291158 -157.844039  \n",
       "\n",
       "[91 rows x 18 columns]"
      ]
     },
     "execution_count": 25,
     "metadata": {},
     "output_type": "execute_result"
    }
   ],
   "source": [
    "df"
   ]
  },
  {
   "cell_type": "code",
   "execution_count": 26,
   "id": "aaa92313",
   "metadata": {},
   "outputs": [
    {
     "data": {
      "text/html": [
       "<div>\n",
       "<style scoped>\n",
       "    .dataframe tbody tr th:only-of-type {\n",
       "        vertical-align: middle;\n",
       "    }\n",
       "\n",
       "    .dataframe tbody tr th {\n",
       "        vertical-align: top;\n",
       "    }\n",
       "\n",
       "    .dataframe thead th {\n",
       "        text-align: right;\n",
       "    }\n",
       "</style>\n",
       "<table border=\"1\" class=\"dataframe\">\n",
       "  <thead>\n",
       "    <tr style=\"text-align: right;\">\n",
       "      <th></th>\n",
       "      <th>id</th>\n",
       "      <th>alias</th>\n",
       "      <th>name</th>\n",
       "      <th>image_url</th>\n",
       "      <th>is_closed</th>\n",
       "      <th>url</th>\n",
       "      <th>review_count</th>\n",
       "      <th>categories</th>\n",
       "      <th>rating</th>\n",
       "      <th>transactions</th>\n",
       "      <th>price</th>\n",
       "      <th>location</th>\n",
       "      <th>phone</th>\n",
       "      <th>display_phone</th>\n",
       "      <th>distance</th>\n",
       "      <th>latitude</th>\n",
       "      <th>longitude</th>\n",
       "    </tr>\n",
       "  </thead>\n",
       "  <tbody>\n",
       "    <tr>\n",
       "      <th>0</th>\n",
       "      <td>3vsRGQGSVPec7kKBFGhowA</td>\n",
       "      <td>alo-cafe-hawaii-honolulu-2</td>\n",
       "      <td>ALO Cafe Hawaii</td>\n",
       "      <td>https://s3-media2.fl.yelpcdn.com/bphoto/_tn-bh...</td>\n",
       "      <td>False</td>\n",
       "      <td>https://www.yelp.com/biz/alo-cafe-hawaii-honol...</td>\n",
       "      <td>98</td>\n",
       "      <td>[{'alias': 'juicebars', 'title': 'Juice Bars &amp;...</td>\n",
       "      <td>4.5</td>\n",
       "      <td>['delivery', 'pickup']</td>\n",
       "      <td>$$</td>\n",
       "      <td>{'address1': '159 Kaiulani Ave', 'address2': '...</td>\n",
       "      <td>1.808780e+10</td>\n",
       "      <td>(808) 779-7887</td>\n",
       "      <td>505.744094</td>\n",
       "      <td>21.27713</td>\n",
       "      <td>-157.82433</td>\n",
       "    </tr>\n",
       "    <tr>\n",
       "      <th>1</th>\n",
       "      <td>QMPFWhM_kMIMSSBQf48-Gg</td>\n",
       "      <td>waffle-and-berry-honolulu</td>\n",
       "      <td>Waffle and Berry</td>\n",
       "      <td>https://s3-media4.fl.yelpcdn.com/bphoto/6VpIBT...</td>\n",
       "      <td>False</td>\n",
       "      <td>https://www.yelp.com/biz/waffle-and-berry-hono...</td>\n",
       "      <td>675</td>\n",
       "      <td>[{'alias': 'waffles', 'title': 'Waffles'}, {'a...</td>\n",
       "      <td>5.0</td>\n",
       "      <td>['delivery', 'pickup']</td>\n",
       "      <td>$$</td>\n",
       "      <td>{'address1': '1958 Kalakaua Ave', 'address2': ...</td>\n",
       "      <td>1.808207e+10</td>\n",
       "      <td>(808) 206-8272</td>\n",
       "      <td>1256.061740</td>\n",
       "      <td>21.28594</td>\n",
       "      <td>-157.83275</td>\n",
       "    </tr>\n",
       "  </tbody>\n",
       "</table>\n",
       "</div>"
      ],
      "text/plain": [
       "                       id                       alias              name  \\\n",
       "0  3vsRGQGSVPec7kKBFGhowA  alo-cafe-hawaii-honolulu-2   ALO Cafe Hawaii   \n",
       "1  QMPFWhM_kMIMSSBQf48-Gg   waffle-and-berry-honolulu  Waffle and Berry   \n",
       "\n",
       "                                           image_url  is_closed  \\\n",
       "0  https://s3-media2.fl.yelpcdn.com/bphoto/_tn-bh...      False   \n",
       "1  https://s3-media4.fl.yelpcdn.com/bphoto/6VpIBT...      False   \n",
       "\n",
       "                                                 url  review_count  \\\n",
       "0  https://www.yelp.com/biz/alo-cafe-hawaii-honol...            98   \n",
       "1  https://www.yelp.com/biz/waffle-and-berry-hono...           675   \n",
       "\n",
       "                                          categories  rating  \\\n",
       "0  [{'alias': 'juicebars', 'title': 'Juice Bars &...     4.5   \n",
       "1  [{'alias': 'waffles', 'title': 'Waffles'}, {'a...     5.0   \n",
       "\n",
       "             transactions price  \\\n",
       "0  ['delivery', 'pickup']    $$   \n",
       "1  ['delivery', 'pickup']    $$   \n",
       "\n",
       "                                            location         phone  \\\n",
       "0  {'address1': '159 Kaiulani Ave', 'address2': '...  1.808780e+10   \n",
       "1  {'address1': '1958 Kalakaua Ave', 'address2': ...  1.808207e+10   \n",
       "\n",
       "    display_phone     distance  latitude  longitude  \n",
       "0  (808) 779-7887   505.744094  21.27713 -157.82433  \n",
       "1  (808) 206-8272  1256.061740  21.28594 -157.83275  "
      ]
     },
     "execution_count": 26,
     "metadata": {},
     "output_type": "execute_result"
    }
   ],
   "source": [
    "df = df.drop(columns = 'coordinates')\n",
    "df.head(2)"
   ]
  },
  {
   "cell_type": "markdown",
   "id": "e1b039ee",
   "metadata": {},
   "source": [
    "### Activity -Padlet : Unpacking dictionary"
   ]
  },
  {
   "cell_type": "markdown",
   "id": "dd91c3f7",
   "metadata": {},
   "source": [
    "- https://padlet.com/swhaley9/unpacking-dictionaries-n19x0tiyn980jr0o"
   ]
  },
  {
   "cell_type": "markdown",
   "id": "56b25f7a",
   "metadata": {},
   "source": [
    "## Creating a Simple Map"
   ]
  },
  {
   "cell_type": "markdown",
   "id": "73c91d8f",
   "metadata": {},
   "source": [
    "- Mapbox API: https://www.mapbox.com/\n",
    "- Mapbox API Documentation: https://docs.mapbox.com/api/overview/"
   ]
  },
  {
   "cell_type": "markdown",
   "id": "cdb5689c",
   "metadata": {},
   "source": [
    "- Use the plotly express `scatter_mapbox` function"
   ]
  },
  {
   "cell_type": "code",
   "execution_count": 28,
   "id": "2214befe",
   "metadata": {},
   "outputs": [
    {
     "data": {
      "application/vnd.plotly.v1+json": {
       "config": {
        "plotlyServerURL": "https://plot.ly"
       },
       "data": [
        {
         "hovertemplate": "latitude=%{lat}<br>longitude=%{lon}<extra></extra>",
         "lat": [
          21.27713,
          21.28594,
          21.2772821247839,
          21.28557897099554,
          21.26878,
          21.279401,
          21.280353794831946,
          21.272783224863293,
          21.28298862765927,
          21.27771853881159,
          21.278066211341383,
          21.27176916049238,
          21.2793199,
          21.278767,
          21.27743,
          21.29053,
          21.2761299,
          21.28601,
          21.284284973453296,
          21.27992,
          21.2946063518124,
          21.278614,
          21.284,
          21.27849,
          21.2782105366627,
          21.27903,
          21.29331,
          21.2978277788212,
          21.2782504,
          21.275592906487645,
          21.29854,
          21.2825673,
          21.27992,
          21.29196,
          21.27615,
          21.2901022243024,
          21.285963616124704,
          21.2913545,
          21.293939768036832,
          21.2830138,
          21.30792,
          21.309936,
          21.29244,
          21.286873,
          21.296635,
          21.29932428339775,
          21.291777,
          21.292186,
          21.27067,
          21.294411,
          21.29137,
          21.29356,
          21.300492,
          21.322154288145956,
          21.29401620600618,
          21.279396,
          21.30086,
          21.28534,
          21.305558579020783,
          21.27067,
          21.29366,
          21.30991,
          21.292843177881167,
          21.298249,
          21.29419,
          21.31877598386973,
          21.29944,
          21.3213500016418,
          21.314806879538153,
          21.297905799025077,
          21.2781668,
          21.31209,
          21.3088966425369,
          21.29818,
          21.2907035965638,
          21.30776,
          21.27762880898066,
          21.278924,
          21.294663,
          21.31859,
          21.2796754,
          21.28716975788957,
          21.2989612,
          21.307549,
          21.27699,
          21.290836856803516,
          21.290581,
          21.28336641159739,
          21.298175,
          21.30067,
          21.2911581285241
         ],
         "legendgroup": "",
         "lon": [
          -157.82433,
          -157.83275,
          -157.827768717774,
          -157.838434,
          -157.8136199,
          -157.831178,
          -157.8266827,
          -157.82298618834332,
          -157.83612623949188,
          -157.82478980861706,
          -157.8334924846517,
          -157.8223953024108,
          -157.82505,
          -157.831514,
          -157.82579,
          -157.84358,
          -157.82543,
          -157.83429,
          -157.8387676731373,
          -157.82838,
          -157.84157767382,
          -157.829055,
          -157.80226,
          -157.83307,
          -157.828626155706,
          -157.787112,
          -157.85067,
          -157.861530796999,
          -157.829898,
          -157.82267544877502,
          -157.85642,
          -157.7989902,
          -157.82838,
          -157.845623,
          -157.82418,
          -157.835115187732,
          -157.83277,
          -157.839093,
          -157.8258444,
          -157.8138363,
          -157.81035,
          -157.810301,
          -157.82422,
          -157.807672,
          -157.851389,
          -157.8402464009662,
          -157.845918,
          -157.823307,
          -157.80006,
          -157.8522843,
          -157.84596,
          -157.8272299,
          -157.859898,
          -157.87539474184052,
          -157.85236803036292,
          -157.827461,
          -157.85512,
          -157.80353,
          -157.85161066319955,
          -157.80006,
          -157.82631,
          -157.86086,
          -157.84683497373638,
          -157.86094497500915,
          -157.84677,
          -157.8747341220131,
          -157.861217,
          -157.87328671668,
          -157.86083384368902,
          -157.8615899705428,
          -157.8276833,
          -157.8635899,
          -157.859993212164,
          -157.85257000000001,
          -157.842018529773,
          -157.86351,
          -157.7864042329229,
          -157.813762,
          -157.852284,
          -157.86535,
          -157.8269923,
          -157.83574383705854,
          -157.851327,
          -157.852096,
          -157.78641,
          -157.84381784361452,
          -157.844906,
          -157.7995911887889,
          -157.818853,
          -157.86275,
          -157.844038903713
         ],
         "marker": {
          "color": "#636efa"
         },
         "mode": "markers",
         "name": "",
         "showlegend": false,
         "subplot": "mapbox",
         "type": "scattermapbox"
        }
       ],
       "layout": {
        "legend": {
         "tracegroupgap": 0
        },
        "mapbox": {
         "center": {
          "lat": 21.29009980671322,
          "lon": -157.83522566003884
         },
         "domain": {
          "x": [
           0,
           1
          ],
          "y": [
           0,
           1
          ]
         },
         "style": "open-street-map",
         "zoom": 8
        },
        "margin": {
         "t": 60
        },
        "template": {
         "data": {
          "bar": [
           {
            "error_x": {
             "color": "#2a3f5f"
            },
            "error_y": {
             "color": "#2a3f5f"
            },
            "marker": {
             "line": {
              "color": "#E5ECF6",
              "width": 0.5
             },
             "pattern": {
              "fillmode": "overlay",
              "size": 10,
              "solidity": 0.2
             }
            },
            "type": "bar"
           }
          ],
          "barpolar": [
           {
            "marker": {
             "line": {
              "color": "#E5ECF6",
              "width": 0.5
             },
             "pattern": {
              "fillmode": "overlay",
              "size": 10,
              "solidity": 0.2
             }
            },
            "type": "barpolar"
           }
          ],
          "carpet": [
           {
            "aaxis": {
             "endlinecolor": "#2a3f5f",
             "gridcolor": "white",
             "linecolor": "white",
             "minorgridcolor": "white",
             "startlinecolor": "#2a3f5f"
            },
            "baxis": {
             "endlinecolor": "#2a3f5f",
             "gridcolor": "white",
             "linecolor": "white",
             "minorgridcolor": "white",
             "startlinecolor": "#2a3f5f"
            },
            "type": "carpet"
           }
          ],
          "choropleth": [
           {
            "colorbar": {
             "outlinewidth": 0,
             "ticks": ""
            },
            "type": "choropleth"
           }
          ],
          "contour": [
           {
            "colorbar": {
             "outlinewidth": 0,
             "ticks": ""
            },
            "colorscale": [
             [
              0,
              "#0d0887"
             ],
             [
              0.1111111111111111,
              "#46039f"
             ],
             [
              0.2222222222222222,
              "#7201a8"
             ],
             [
              0.3333333333333333,
              "#9c179e"
             ],
             [
              0.4444444444444444,
              "#bd3786"
             ],
             [
              0.5555555555555556,
              "#d8576b"
             ],
             [
              0.6666666666666666,
              "#ed7953"
             ],
             [
              0.7777777777777778,
              "#fb9f3a"
             ],
             [
              0.8888888888888888,
              "#fdca26"
             ],
             [
              1,
              "#f0f921"
             ]
            ],
            "type": "contour"
           }
          ],
          "contourcarpet": [
           {
            "colorbar": {
             "outlinewidth": 0,
             "ticks": ""
            },
            "type": "contourcarpet"
           }
          ],
          "heatmap": [
           {
            "colorbar": {
             "outlinewidth": 0,
             "ticks": ""
            },
            "colorscale": [
             [
              0,
              "#0d0887"
             ],
             [
              0.1111111111111111,
              "#46039f"
             ],
             [
              0.2222222222222222,
              "#7201a8"
             ],
             [
              0.3333333333333333,
              "#9c179e"
             ],
             [
              0.4444444444444444,
              "#bd3786"
             ],
             [
              0.5555555555555556,
              "#d8576b"
             ],
             [
              0.6666666666666666,
              "#ed7953"
             ],
             [
              0.7777777777777778,
              "#fb9f3a"
             ],
             [
              0.8888888888888888,
              "#fdca26"
             ],
             [
              1,
              "#f0f921"
             ]
            ],
            "type": "heatmap"
           }
          ],
          "heatmapgl": [
           {
            "colorbar": {
             "outlinewidth": 0,
             "ticks": ""
            },
            "colorscale": [
             [
              0,
              "#0d0887"
             ],
             [
              0.1111111111111111,
              "#46039f"
             ],
             [
              0.2222222222222222,
              "#7201a8"
             ],
             [
              0.3333333333333333,
              "#9c179e"
             ],
             [
              0.4444444444444444,
              "#bd3786"
             ],
             [
              0.5555555555555556,
              "#d8576b"
             ],
             [
              0.6666666666666666,
              "#ed7953"
             ],
             [
              0.7777777777777778,
              "#fb9f3a"
             ],
             [
              0.8888888888888888,
              "#fdca26"
             ],
             [
              1,
              "#f0f921"
             ]
            ],
            "type": "heatmapgl"
           }
          ],
          "histogram": [
           {
            "marker": {
             "pattern": {
              "fillmode": "overlay",
              "size": 10,
              "solidity": 0.2
             }
            },
            "type": "histogram"
           }
          ],
          "histogram2d": [
           {
            "colorbar": {
             "outlinewidth": 0,
             "ticks": ""
            },
            "colorscale": [
             [
              0,
              "#0d0887"
             ],
             [
              0.1111111111111111,
              "#46039f"
             ],
             [
              0.2222222222222222,
              "#7201a8"
             ],
             [
              0.3333333333333333,
              "#9c179e"
             ],
             [
              0.4444444444444444,
              "#bd3786"
             ],
             [
              0.5555555555555556,
              "#d8576b"
             ],
             [
              0.6666666666666666,
              "#ed7953"
             ],
             [
              0.7777777777777778,
              "#fb9f3a"
             ],
             [
              0.8888888888888888,
              "#fdca26"
             ],
             [
              1,
              "#f0f921"
             ]
            ],
            "type": "histogram2d"
           }
          ],
          "histogram2dcontour": [
           {
            "colorbar": {
             "outlinewidth": 0,
             "ticks": ""
            },
            "colorscale": [
             [
              0,
              "#0d0887"
             ],
             [
              0.1111111111111111,
              "#46039f"
             ],
             [
              0.2222222222222222,
              "#7201a8"
             ],
             [
              0.3333333333333333,
              "#9c179e"
             ],
             [
              0.4444444444444444,
              "#bd3786"
             ],
             [
              0.5555555555555556,
              "#d8576b"
             ],
             [
              0.6666666666666666,
              "#ed7953"
             ],
             [
              0.7777777777777778,
              "#fb9f3a"
             ],
             [
              0.8888888888888888,
              "#fdca26"
             ],
             [
              1,
              "#f0f921"
             ]
            ],
            "type": "histogram2dcontour"
           }
          ],
          "mesh3d": [
           {
            "colorbar": {
             "outlinewidth": 0,
             "ticks": ""
            },
            "type": "mesh3d"
           }
          ],
          "parcoords": [
           {
            "line": {
             "colorbar": {
              "outlinewidth": 0,
              "ticks": ""
             }
            },
            "type": "parcoords"
           }
          ],
          "pie": [
           {
            "automargin": true,
            "type": "pie"
           }
          ],
          "scatter": [
           {
            "fillpattern": {
             "fillmode": "overlay",
             "size": 10,
             "solidity": 0.2
            },
            "type": "scatter"
           }
          ],
          "scatter3d": [
           {
            "line": {
             "colorbar": {
              "outlinewidth": 0,
              "ticks": ""
             }
            },
            "marker": {
             "colorbar": {
              "outlinewidth": 0,
              "ticks": ""
             }
            },
            "type": "scatter3d"
           }
          ],
          "scattercarpet": [
           {
            "marker": {
             "colorbar": {
              "outlinewidth": 0,
              "ticks": ""
             }
            },
            "type": "scattercarpet"
           }
          ],
          "scattergeo": [
           {
            "marker": {
             "colorbar": {
              "outlinewidth": 0,
              "ticks": ""
             }
            },
            "type": "scattergeo"
           }
          ],
          "scattergl": [
           {
            "marker": {
             "colorbar": {
              "outlinewidth": 0,
              "ticks": ""
             }
            },
            "type": "scattergl"
           }
          ],
          "scattermapbox": [
           {
            "marker": {
             "colorbar": {
              "outlinewidth": 0,
              "ticks": ""
             }
            },
            "type": "scattermapbox"
           }
          ],
          "scatterpolar": [
           {
            "marker": {
             "colorbar": {
              "outlinewidth": 0,
              "ticks": ""
             }
            },
            "type": "scatterpolar"
           }
          ],
          "scatterpolargl": [
           {
            "marker": {
             "colorbar": {
              "outlinewidth": 0,
              "ticks": ""
             }
            },
            "type": "scatterpolargl"
           }
          ],
          "scatterternary": [
           {
            "marker": {
             "colorbar": {
              "outlinewidth": 0,
              "ticks": ""
             }
            },
            "type": "scatterternary"
           }
          ],
          "surface": [
           {
            "colorbar": {
             "outlinewidth": 0,
             "ticks": ""
            },
            "colorscale": [
             [
              0,
              "#0d0887"
             ],
             [
              0.1111111111111111,
              "#46039f"
             ],
             [
              0.2222222222222222,
              "#7201a8"
             ],
             [
              0.3333333333333333,
              "#9c179e"
             ],
             [
              0.4444444444444444,
              "#bd3786"
             ],
             [
              0.5555555555555556,
              "#d8576b"
             ],
             [
              0.6666666666666666,
              "#ed7953"
             ],
             [
              0.7777777777777778,
              "#fb9f3a"
             ],
             [
              0.8888888888888888,
              "#fdca26"
             ],
             [
              1,
              "#f0f921"
             ]
            ],
            "type": "surface"
           }
          ],
          "table": [
           {
            "cells": {
             "fill": {
              "color": "#EBF0F8"
             },
             "line": {
              "color": "white"
             }
            },
            "header": {
             "fill": {
              "color": "#C8D4E3"
             },
             "line": {
              "color": "white"
             }
            },
            "type": "table"
           }
          ]
         },
         "layout": {
          "annotationdefaults": {
           "arrowcolor": "#2a3f5f",
           "arrowhead": 0,
           "arrowwidth": 1
          },
          "autotypenumbers": "strict",
          "coloraxis": {
           "colorbar": {
            "outlinewidth": 0,
            "ticks": ""
           }
          },
          "colorscale": {
           "diverging": [
            [
             0,
             "#8e0152"
            ],
            [
             0.1,
             "#c51b7d"
            ],
            [
             0.2,
             "#de77ae"
            ],
            [
             0.3,
             "#f1b6da"
            ],
            [
             0.4,
             "#fde0ef"
            ],
            [
             0.5,
             "#f7f7f7"
            ],
            [
             0.6,
             "#e6f5d0"
            ],
            [
             0.7,
             "#b8e186"
            ],
            [
             0.8,
             "#7fbc41"
            ],
            [
             0.9,
             "#4d9221"
            ],
            [
             1,
             "#276419"
            ]
           ],
           "sequential": [
            [
             0,
             "#0d0887"
            ],
            [
             0.1111111111111111,
             "#46039f"
            ],
            [
             0.2222222222222222,
             "#7201a8"
            ],
            [
             0.3333333333333333,
             "#9c179e"
            ],
            [
             0.4444444444444444,
             "#bd3786"
            ],
            [
             0.5555555555555556,
             "#d8576b"
            ],
            [
             0.6666666666666666,
             "#ed7953"
            ],
            [
             0.7777777777777778,
             "#fb9f3a"
            ],
            [
             0.8888888888888888,
             "#fdca26"
            ],
            [
             1,
             "#f0f921"
            ]
           ],
           "sequentialminus": [
            [
             0,
             "#0d0887"
            ],
            [
             0.1111111111111111,
             "#46039f"
            ],
            [
             0.2222222222222222,
             "#7201a8"
            ],
            [
             0.3333333333333333,
             "#9c179e"
            ],
            [
             0.4444444444444444,
             "#bd3786"
            ],
            [
             0.5555555555555556,
             "#d8576b"
            ],
            [
             0.6666666666666666,
             "#ed7953"
            ],
            [
             0.7777777777777778,
             "#fb9f3a"
            ],
            [
             0.8888888888888888,
             "#fdca26"
            ],
            [
             1,
             "#f0f921"
            ]
           ]
          },
          "colorway": [
           "#636efa",
           "#EF553B",
           "#00cc96",
           "#ab63fa",
           "#FFA15A",
           "#19d3f3",
           "#FF6692",
           "#B6E880",
           "#FF97FF",
           "#FECB52"
          ],
          "font": {
           "color": "#2a3f5f"
          },
          "geo": {
           "bgcolor": "white",
           "lakecolor": "white",
           "landcolor": "#E5ECF6",
           "showlakes": true,
           "showland": true,
           "subunitcolor": "white"
          },
          "hoverlabel": {
           "align": "left"
          },
          "hovermode": "closest",
          "mapbox": {
           "style": "light"
          },
          "paper_bgcolor": "white",
          "plot_bgcolor": "#E5ECF6",
          "polar": {
           "angularaxis": {
            "gridcolor": "white",
            "linecolor": "white",
            "ticks": ""
           },
           "bgcolor": "#E5ECF6",
           "radialaxis": {
            "gridcolor": "white",
            "linecolor": "white",
            "ticks": ""
           }
          },
          "scene": {
           "xaxis": {
            "backgroundcolor": "#E5ECF6",
            "gridcolor": "white",
            "gridwidth": 2,
            "linecolor": "white",
            "showbackground": true,
            "ticks": "",
            "zerolinecolor": "white"
           },
           "yaxis": {
            "backgroundcolor": "#E5ECF6",
            "gridcolor": "white",
            "gridwidth": 2,
            "linecolor": "white",
            "showbackground": true,
            "ticks": "",
            "zerolinecolor": "white"
           },
           "zaxis": {
            "backgroundcolor": "#E5ECF6",
            "gridcolor": "white",
            "gridwidth": 2,
            "linecolor": "white",
            "showbackground": true,
            "ticks": "",
            "zerolinecolor": "white"
           }
          },
          "shapedefaults": {
           "line": {
            "color": "#2a3f5f"
           }
          },
          "ternary": {
           "aaxis": {
            "gridcolor": "white",
            "linecolor": "white",
            "ticks": ""
           },
           "baxis": {
            "gridcolor": "white",
            "linecolor": "white",
            "ticks": ""
           },
           "bgcolor": "#E5ECF6",
           "caxis": {
            "gridcolor": "white",
            "linecolor": "white",
            "ticks": ""
           }
          },
          "title": {
           "x": 0.05
          },
          "xaxis": {
           "automargin": true,
           "gridcolor": "white",
           "linecolor": "white",
           "ticks": "",
           "title": {
            "standoff": 15
           },
           "zerolinecolor": "white",
           "zerolinewidth": 2
          },
          "yaxis": {
           "automargin": true,
           "gridcolor": "white",
           "linecolor": "white",
           "ticks": "",
           "title": {
            "standoff": 15
           },
           "zerolinecolor": "white",
           "zerolinewidth": 2
          }
         }
        }
       }
      },
      "text/html": [
       "<div>                            <div id=\"99583fa9-52a3-4ebc-b2ec-9179e9fc4c40\" class=\"plotly-graph-div\" style=\"height:525px; width:100%;\"></div>            <script type=\"text/javascript\">                require([\"plotly\"], function(Plotly) {                    window.PLOTLYENV=window.PLOTLYENV || {};                                    if (document.getElementById(\"99583fa9-52a3-4ebc-b2ec-9179e9fc4c40\")) {                    Plotly.newPlot(                        \"99583fa9-52a3-4ebc-b2ec-9179e9fc4c40\",                        [{\"hovertemplate\":\"latitude=%{lat}<br>longitude=%{lon}<extra></extra>\",\"lat\":[21.27713,21.28594,21.2772821247839,21.28557897099554,21.26878,21.279401,21.280353794831946,21.272783224863293,21.28298862765927,21.27771853881159,21.278066211341383,21.27176916049238,21.2793199,21.278767,21.27743,21.29053,21.2761299,21.28601,21.284284973453296,21.27992,21.2946063518124,21.278614,21.284,21.27849,21.2782105366627,21.27903,21.29331,21.2978277788212,21.2782504,21.275592906487645,21.29854,21.2825673,21.27992,21.29196,21.27615,21.2901022243024,21.285963616124704,21.2913545,21.293939768036832,21.2830138,21.30792,21.309936,21.29244,21.286873,21.296635,21.29932428339775,21.291777,21.292186,21.27067,21.294411,21.29137,21.29356,21.300492,21.322154288145956,21.29401620600618,21.279396,21.30086,21.28534,21.305558579020783,21.27067,21.29366,21.30991,21.292843177881167,21.298249,21.29419,21.31877598386973,21.29944,21.3213500016418,21.314806879538153,21.297905799025077,21.2781668,21.31209,21.3088966425369,21.29818,21.2907035965638,21.30776,21.27762880898066,21.278924,21.294663,21.31859,21.2796754,21.28716975788957,21.2989612,21.307549,21.27699,21.290836856803516,21.290581,21.28336641159739,21.298175,21.30067,21.2911581285241],\"legendgroup\":\"\",\"lon\":[-157.82433,-157.83275,-157.827768717774,-157.838434,-157.8136199,-157.831178,-157.8266827,-157.82298618834332,-157.83612623949188,-157.82478980861706,-157.8334924846517,-157.8223953024108,-157.82505,-157.831514,-157.82579,-157.84358,-157.82543,-157.83429,-157.8387676731373,-157.82838,-157.84157767382,-157.829055,-157.80226,-157.83307,-157.828626155706,-157.787112,-157.85067,-157.861530796999,-157.829898,-157.82267544877502,-157.85642,-157.7989902,-157.82838,-157.845623,-157.82418,-157.835115187732,-157.83277,-157.839093,-157.8258444,-157.8138363,-157.81035,-157.810301,-157.82422,-157.807672,-157.851389,-157.8402464009662,-157.845918,-157.823307,-157.80006,-157.8522843,-157.84596,-157.8272299,-157.859898,-157.87539474184052,-157.85236803036292,-157.827461,-157.85512,-157.80353,-157.85161066319955,-157.80006,-157.82631,-157.86086,-157.84683497373638,-157.86094497500915,-157.84677,-157.8747341220131,-157.861217,-157.87328671668,-157.86083384368902,-157.8615899705428,-157.8276833,-157.8635899,-157.859993212164,-157.85257000000001,-157.842018529773,-157.86351,-157.7864042329229,-157.813762,-157.852284,-157.86535,-157.8269923,-157.83574383705854,-157.851327,-157.852096,-157.78641,-157.84381784361452,-157.844906,-157.7995911887889,-157.818853,-157.86275,-157.844038903713],\"marker\":{\"color\":\"#636efa\"},\"mode\":\"markers\",\"name\":\"\",\"showlegend\":false,\"subplot\":\"mapbox\",\"type\":\"scattermapbox\"}],                        {\"template\":{\"data\":{\"histogram2dcontour\":[{\"type\":\"histogram2dcontour\",\"colorbar\":{\"outlinewidth\":0,\"ticks\":\"\"},\"colorscale\":[[0.0,\"#0d0887\"],[0.1111111111111111,\"#46039f\"],[0.2222222222222222,\"#7201a8\"],[0.3333333333333333,\"#9c179e\"],[0.4444444444444444,\"#bd3786\"],[0.5555555555555556,\"#d8576b\"],[0.6666666666666666,\"#ed7953\"],[0.7777777777777778,\"#fb9f3a\"],[0.8888888888888888,\"#fdca26\"],[1.0,\"#f0f921\"]]}],\"choropleth\":[{\"type\":\"choropleth\",\"colorbar\":{\"outlinewidth\":0,\"ticks\":\"\"}}],\"histogram2d\":[{\"type\":\"histogram2d\",\"colorbar\":{\"outlinewidth\":0,\"ticks\":\"\"},\"colorscale\":[[0.0,\"#0d0887\"],[0.1111111111111111,\"#46039f\"],[0.2222222222222222,\"#7201a8\"],[0.3333333333333333,\"#9c179e\"],[0.4444444444444444,\"#bd3786\"],[0.5555555555555556,\"#d8576b\"],[0.6666666666666666,\"#ed7953\"],[0.7777777777777778,\"#fb9f3a\"],[0.8888888888888888,\"#fdca26\"],[1.0,\"#f0f921\"]]}],\"heatmap\":[{\"type\":\"heatmap\",\"colorbar\":{\"outlinewidth\":0,\"ticks\":\"\"},\"colorscale\":[[0.0,\"#0d0887\"],[0.1111111111111111,\"#46039f\"],[0.2222222222222222,\"#7201a8\"],[0.3333333333333333,\"#9c179e\"],[0.4444444444444444,\"#bd3786\"],[0.5555555555555556,\"#d8576b\"],[0.6666666666666666,\"#ed7953\"],[0.7777777777777778,\"#fb9f3a\"],[0.8888888888888888,\"#fdca26\"],[1.0,\"#f0f921\"]]}],\"heatmapgl\":[{\"type\":\"heatmapgl\",\"colorbar\":{\"outlinewidth\":0,\"ticks\":\"\"},\"colorscale\":[[0.0,\"#0d0887\"],[0.1111111111111111,\"#46039f\"],[0.2222222222222222,\"#7201a8\"],[0.3333333333333333,\"#9c179e\"],[0.4444444444444444,\"#bd3786\"],[0.5555555555555556,\"#d8576b\"],[0.6666666666666666,\"#ed7953\"],[0.7777777777777778,\"#fb9f3a\"],[0.8888888888888888,\"#fdca26\"],[1.0,\"#f0f921\"]]}],\"contourcarpet\":[{\"type\":\"contourcarpet\",\"colorbar\":{\"outlinewidth\":0,\"ticks\":\"\"}}],\"contour\":[{\"type\":\"contour\",\"colorbar\":{\"outlinewidth\":0,\"ticks\":\"\"},\"colorscale\":[[0.0,\"#0d0887\"],[0.1111111111111111,\"#46039f\"],[0.2222222222222222,\"#7201a8\"],[0.3333333333333333,\"#9c179e\"],[0.4444444444444444,\"#bd3786\"],[0.5555555555555556,\"#d8576b\"],[0.6666666666666666,\"#ed7953\"],[0.7777777777777778,\"#fb9f3a\"],[0.8888888888888888,\"#fdca26\"],[1.0,\"#f0f921\"]]}],\"surface\":[{\"type\":\"surface\",\"colorbar\":{\"outlinewidth\":0,\"ticks\":\"\"},\"colorscale\":[[0.0,\"#0d0887\"],[0.1111111111111111,\"#46039f\"],[0.2222222222222222,\"#7201a8\"],[0.3333333333333333,\"#9c179e\"],[0.4444444444444444,\"#bd3786\"],[0.5555555555555556,\"#d8576b\"],[0.6666666666666666,\"#ed7953\"],[0.7777777777777778,\"#fb9f3a\"],[0.8888888888888888,\"#fdca26\"],[1.0,\"#f0f921\"]]}],\"mesh3d\":[{\"type\":\"mesh3d\",\"colorbar\":{\"outlinewidth\":0,\"ticks\":\"\"}}],\"scatter\":[{\"fillpattern\":{\"fillmode\":\"overlay\",\"size\":10,\"solidity\":0.2},\"type\":\"scatter\"}],\"parcoords\":[{\"type\":\"parcoords\",\"line\":{\"colorbar\":{\"outlinewidth\":0,\"ticks\":\"\"}}}],\"scatterpolargl\":[{\"type\":\"scatterpolargl\",\"marker\":{\"colorbar\":{\"outlinewidth\":0,\"ticks\":\"\"}}}],\"bar\":[{\"error_x\":{\"color\":\"#2a3f5f\"},\"error_y\":{\"color\":\"#2a3f5f\"},\"marker\":{\"line\":{\"color\":\"#E5ECF6\",\"width\":0.5},\"pattern\":{\"fillmode\":\"overlay\",\"size\":10,\"solidity\":0.2}},\"type\":\"bar\"}],\"scattergeo\":[{\"type\":\"scattergeo\",\"marker\":{\"colorbar\":{\"outlinewidth\":0,\"ticks\":\"\"}}}],\"scatterpolar\":[{\"type\":\"scatterpolar\",\"marker\":{\"colorbar\":{\"outlinewidth\":0,\"ticks\":\"\"}}}],\"histogram\":[{\"marker\":{\"pattern\":{\"fillmode\":\"overlay\",\"size\":10,\"solidity\":0.2}},\"type\":\"histogram\"}],\"scattergl\":[{\"type\":\"scattergl\",\"marker\":{\"colorbar\":{\"outlinewidth\":0,\"ticks\":\"\"}}}],\"scatter3d\":[{\"type\":\"scatter3d\",\"line\":{\"colorbar\":{\"outlinewidth\":0,\"ticks\":\"\"}},\"marker\":{\"colorbar\":{\"outlinewidth\":0,\"ticks\":\"\"}}}],\"scattermapbox\":[{\"type\":\"scattermapbox\",\"marker\":{\"colorbar\":{\"outlinewidth\":0,\"ticks\":\"\"}}}],\"scatterternary\":[{\"type\":\"scatterternary\",\"marker\":{\"colorbar\":{\"outlinewidth\":0,\"ticks\":\"\"}}}],\"scattercarpet\":[{\"type\":\"scattercarpet\",\"marker\":{\"colorbar\":{\"outlinewidth\":0,\"ticks\":\"\"}}}],\"carpet\":[{\"aaxis\":{\"endlinecolor\":\"#2a3f5f\",\"gridcolor\":\"white\",\"linecolor\":\"white\",\"minorgridcolor\":\"white\",\"startlinecolor\":\"#2a3f5f\"},\"baxis\":{\"endlinecolor\":\"#2a3f5f\",\"gridcolor\":\"white\",\"linecolor\":\"white\",\"minorgridcolor\":\"white\",\"startlinecolor\":\"#2a3f5f\"},\"type\":\"carpet\"}],\"table\":[{\"cells\":{\"fill\":{\"color\":\"#EBF0F8\"},\"line\":{\"color\":\"white\"}},\"header\":{\"fill\":{\"color\":\"#C8D4E3\"},\"line\":{\"color\":\"white\"}},\"type\":\"table\"}],\"barpolar\":[{\"marker\":{\"line\":{\"color\":\"#E5ECF6\",\"width\":0.5},\"pattern\":{\"fillmode\":\"overlay\",\"size\":10,\"solidity\":0.2}},\"type\":\"barpolar\"}],\"pie\":[{\"automargin\":true,\"type\":\"pie\"}]},\"layout\":{\"autotypenumbers\":\"strict\",\"colorway\":[\"#636efa\",\"#EF553B\",\"#00cc96\",\"#ab63fa\",\"#FFA15A\",\"#19d3f3\",\"#FF6692\",\"#B6E880\",\"#FF97FF\",\"#FECB52\"],\"font\":{\"color\":\"#2a3f5f\"},\"hovermode\":\"closest\",\"hoverlabel\":{\"align\":\"left\"},\"paper_bgcolor\":\"white\",\"plot_bgcolor\":\"#E5ECF6\",\"polar\":{\"bgcolor\":\"#E5ECF6\",\"angularaxis\":{\"gridcolor\":\"white\",\"linecolor\":\"white\",\"ticks\":\"\"},\"radialaxis\":{\"gridcolor\":\"white\",\"linecolor\":\"white\",\"ticks\":\"\"}},\"ternary\":{\"bgcolor\":\"#E5ECF6\",\"aaxis\":{\"gridcolor\":\"white\",\"linecolor\":\"white\",\"ticks\":\"\"},\"baxis\":{\"gridcolor\":\"white\",\"linecolor\":\"white\",\"ticks\":\"\"},\"caxis\":{\"gridcolor\":\"white\",\"linecolor\":\"white\",\"ticks\":\"\"}},\"coloraxis\":{\"colorbar\":{\"outlinewidth\":0,\"ticks\":\"\"}},\"colorscale\":{\"sequential\":[[0.0,\"#0d0887\"],[0.1111111111111111,\"#46039f\"],[0.2222222222222222,\"#7201a8\"],[0.3333333333333333,\"#9c179e\"],[0.4444444444444444,\"#bd3786\"],[0.5555555555555556,\"#d8576b\"],[0.6666666666666666,\"#ed7953\"],[0.7777777777777778,\"#fb9f3a\"],[0.8888888888888888,\"#fdca26\"],[1.0,\"#f0f921\"]],\"sequentialminus\":[[0.0,\"#0d0887\"],[0.1111111111111111,\"#46039f\"],[0.2222222222222222,\"#7201a8\"],[0.3333333333333333,\"#9c179e\"],[0.4444444444444444,\"#bd3786\"],[0.5555555555555556,\"#d8576b\"],[0.6666666666666666,\"#ed7953\"],[0.7777777777777778,\"#fb9f3a\"],[0.8888888888888888,\"#fdca26\"],[1.0,\"#f0f921\"]],\"diverging\":[[0,\"#8e0152\"],[0.1,\"#c51b7d\"],[0.2,\"#de77ae\"],[0.3,\"#f1b6da\"],[0.4,\"#fde0ef\"],[0.5,\"#f7f7f7\"],[0.6,\"#e6f5d0\"],[0.7,\"#b8e186\"],[0.8,\"#7fbc41\"],[0.9,\"#4d9221\"],[1,\"#276419\"]]},\"xaxis\":{\"gridcolor\":\"white\",\"linecolor\":\"white\",\"ticks\":\"\",\"title\":{\"standoff\":15},\"zerolinecolor\":\"white\",\"automargin\":true,\"zerolinewidth\":2},\"yaxis\":{\"gridcolor\":\"white\",\"linecolor\":\"white\",\"ticks\":\"\",\"title\":{\"standoff\":15},\"zerolinecolor\":\"white\",\"automargin\":true,\"zerolinewidth\":2},\"scene\":{\"xaxis\":{\"backgroundcolor\":\"#E5ECF6\",\"gridcolor\":\"white\",\"linecolor\":\"white\",\"showbackground\":true,\"ticks\":\"\",\"zerolinecolor\":\"white\",\"gridwidth\":2},\"yaxis\":{\"backgroundcolor\":\"#E5ECF6\",\"gridcolor\":\"white\",\"linecolor\":\"white\",\"showbackground\":true,\"ticks\":\"\",\"zerolinecolor\":\"white\",\"gridwidth\":2},\"zaxis\":{\"backgroundcolor\":\"#E5ECF6\",\"gridcolor\":\"white\",\"linecolor\":\"white\",\"showbackground\":true,\"ticks\":\"\",\"zerolinecolor\":\"white\",\"gridwidth\":2}},\"shapedefaults\":{\"line\":{\"color\":\"#2a3f5f\"}},\"annotationdefaults\":{\"arrowcolor\":\"#2a3f5f\",\"arrowhead\":0,\"arrowwidth\":1},\"geo\":{\"bgcolor\":\"white\",\"landcolor\":\"#E5ECF6\",\"subunitcolor\":\"white\",\"showland\":true,\"showlakes\":true,\"lakecolor\":\"white\"},\"title\":{\"x\":0.05},\"mapbox\":{\"style\":\"light\"}}},\"mapbox\":{\"domain\":{\"x\":[0.0,1.0],\"y\":[0.0,1.0]},\"center\":{\"lat\":21.29009980671322,\"lon\":-157.83522566003884},\"zoom\":8,\"style\":\"open-street-map\"},\"legend\":{\"tracegroupgap\":0},\"margin\":{\"t\":60}},                        {\"responsive\": true}                    ).then(function(){\n",
       "                            \n",
       "var gd = document.getElementById('99583fa9-52a3-4ebc-b2ec-9179e9fc4c40');\n",
       "var x = new MutationObserver(function (mutations, observer) {{\n",
       "        var display = window.getComputedStyle(gd).display;\n",
       "        if (!display || display === 'none') {{\n",
       "            console.log([gd, 'removed!']);\n",
       "            Plotly.purge(gd);\n",
       "            observer.disconnect();\n",
       "        }}\n",
       "}});\n",
       "\n",
       "// Listen for the removal of the full notebook cells\n",
       "var notebookContainer = gd.closest('#notebook-container');\n",
       "if (notebookContainer) {{\n",
       "    x.observe(notebookContainer, {childList: true});\n",
       "}}\n",
       "\n",
       "// Listen for the clearing of the current output cell\n",
       "var outputEl = gd.closest('.output');\n",
       "if (outputEl) {{\n",
       "    x.observe(outputEl, {childList: true});\n",
       "}}\n",
       "\n",
       "                        })                };                });            </script>        </div>"
      ]
     },
     "metadata": {},
     "output_type": "display_data"
    }
   ],
   "source": [
    "## use scatter_mapbox for map\n",
    "px.scatter_mapbox(df, lat='latitude', lon='longitude', mapbox_style = 'open-street-map')"
   ]
  },
  {
   "cell_type": "markdown",
   "id": "d5b72ef0",
   "metadata": {},
   "source": [
    "### Adding Hover Data"
   ]
  },
  {
   "cell_type": "markdown",
   "id": "300eddca",
   "metadata": {},
   "source": [
    "- We want to show the restaurants:\n",
    "    - name\n",
    "    - price range\n",
    "    - rating\n",
    "    - transaction type (delivery/takeout)\n",
    "    - address\n",
    "    \n",
    "    \n",
    "- We can use the `hover_name` and `hover_data` arguments for `px.scatter_mapbox` to add this info!"
   ]
  },
  {
   "cell_type": "code",
   "execution_count": 31,
   "id": "e05e4e1b",
   "metadata": {
    "scrolled": true
   },
   "outputs": [
    {
     "data": {
      "application/vnd.plotly.v1+json": {
       "config": {
        "plotlyServerURL": "https://plot.ly"
       },
       "data": [
        {
         "customdata": [
          [
           "$$",
           4.5,
           "['delivery', 'pickup']",
           "{'address1': '159 Kaiulani Ave', 'address2': 'Ste 105', 'address3': '', 'city': 'Honolulu', 'zip_code': '96815', 'country': 'US', 'state': 'HI', 'display_address': ['159 Kaiulani Ave', 'Ste 105', 'Honolulu, HI 96815']}"
          ],
          [
           "$$",
           5,
           "['delivery', 'pickup']",
           "{'address1': '1958 Kalakaua Ave', 'address2': 'Fl 2', 'address3': '', 'city': 'Honolulu', 'zip_code': '96815', 'country': 'US', 'state': 'HI', 'display_address': ['1958 Kalakaua Ave', 'Fl 2', 'Honolulu, HI 96815']}"
          ],
          [
           "$",
           4.5,
           "[]",
           "{'address1': '2301 Kalakaua Ave', 'address2': '', 'address3': None, 'city': 'Honolulu', 'zip_code': '96815', 'country': 'US', 'state': 'HI', 'display_address': ['2301 Kalakaua Ave', 'Honolulu, HI 96815']}"
          ],
          [
           "$$",
           4.5,
           "['delivery', 'pickup']",
           "{'address1': '1778 Ala Moana Blvd', 'address2': 'Ste 101', 'address3': '', 'city': 'Honolulu', 'zip_code': '96815', 'country': 'US', 'state': 'HI', 'display_address': ['1778 Ala Moana Blvd', 'Ste 101', 'Honolulu, HI 96815']}"
          ],
          [
           "$$",
           4,
           "['delivery', 'pickup']",
           "{'address1': '3045 Monsarrat Ave', 'address2': 'Ste 5', 'address3': '', 'city': 'Honolulu', 'zip_code': '96815', 'country': 'US', 'state': 'HI', 'display_address': ['3045 Monsarrat Ave', 'Ste 5', 'Honolulu, HI 96815']}"
          ],
          [
           null,
           4.5,
           "[]",
           "{'address1': '226 Lewers St', 'address2': None, 'address3': '', 'city': 'Urban Honolulu', 'zip_code': '96815', 'country': 'US', 'state': 'HI', 'display_address': ['226 Lewers St', 'Urban Honolulu, HI 96815']}"
          ],
          [
           "$$",
           4.5,
           "['delivery', 'pickup']",
           "{'address1': '407 Seaside Ave', 'address2': None, 'address3': '', 'city': 'Honolulu', 'zip_code': '96815', 'country': 'US', 'state': 'HI', 'display_address': ['407 Seaside Ave', 'Honolulu, HI 96815']}"
          ],
          [
           "$$",
           4,
           "[]",
           "{'address1': '2552 Kalakaua Ave', 'address2': 'Unit K100D & K100E', 'address3': None, 'city': 'Honolulu', 'zip_code': '96815', 'country': 'US', 'state': 'HI', 'display_address': ['2552 Kalakaua Ave', 'Unit K100D & K100E', 'Honolulu, HI 96815']}"
          ],
          [
           "$$",
           4.5,
           "[]",
           "{'address1': '2005 Kalia Rd', 'address2': '', 'address3': 'Hilton Hawaiian Village', 'city': 'Honolulu', 'zip_code': '96815', 'country': 'US', 'state': 'HI', 'display_address': ['2005 Kalia Rd', 'Hilton Hawaiian Village', 'Honolulu, HI 96815']}"
          ],
          [
           "$$",
           4.5,
           "['delivery']",
           "{'address1': '150 Kaiulani Ave', 'address2': None, 'address3': None, 'city': 'Honolulu', 'zip_code': '96815', 'country': 'US', 'state': 'HI', 'display_address': ['150 Kaiulani Ave', 'Honolulu, HI 96815']}"
          ],
          [
           null,
           5,
           "[]",
           "{'address1': '2161 Kalia rd.', 'address2': 'Ste 110', 'address3': '', 'city': 'Honolulu', 'zip_code': '96815', 'country': 'US', 'state': 'HI', 'display_address': ['2161 Kalia rd.', 'Ste 110', 'Honolulu, HI 96815']}"
          ],
          [
           "$$",
           4,
           "['delivery']",
           "{'address1': '2586 Kalakaua Ave', 'address2': '', 'address3': '', 'city': 'Honolulu', 'zip_code': '96815', 'country': 'US', 'state': 'HI', 'display_address': ['2586 Kalakaua Ave', 'Honolulu, HI 96815']}"
          ],
          [
           "$$",
           4.5,
           "['delivery']",
           "{'address1': '411 Nahua St', 'address2': '', 'address3': '', 'city': 'Honolulu', 'zip_code': '96815', 'country': 'US', 'state': 'HI', 'display_address': ['411 Nahua St', 'Honolulu, HI 96815']}"
          ],
          [
           null,
           4.5,
           "['delivery']",
           "{'address1': '226 Lewers St', 'address2': 'Ste 154', 'address3': '', 'city': 'Honolulu', 'zip_code': '96815', 'country': 'US', 'state': 'HI', 'display_address': ['226 Lewers St', 'Ste 154', 'Honolulu, HI 96815']}"
          ],
          [
           "$$",
           4.5,
           "[]",
           "{'address1': '120 Kaiulani Ave', 'address2': None, 'address3': '', 'city': 'Urban Honolulu', 'zip_code': '96815', 'country': 'US', 'state': 'HI', 'display_address': ['120 Kaiulani Ave', 'Urban Honolulu, HI 96815']}"
          ],
          [
           null,
           4.5,
           "[]",
           "{'address1': '1450 Ala Moana Blvd', 'address2': '', 'address3': None, 'city': 'Honolulu', 'zip_code': '96814', 'country': 'US', 'state': 'HI', 'display_address': ['1450 Ala Moana Blvd', 'Honolulu, HI 96814']}"
          ],
          [
           null,
           4,
           "['delivery']",
           "{'address1': '2424 Kalakaua Ave', 'address2': '', 'address3': '', 'city': 'Honolulu', 'zip_code': '96815', 'country': 'US', 'state': 'HI', 'display_address': ['2424 Kalakaua Ave', 'Honolulu, HI 96815']}"
          ],
          [
           "$$",
           4.5,
           "['delivery', 'pickup']",
           "{'address1': '1956 Ala Moana Blvd', 'address2': '', 'address3': '', 'city': 'Honolulu', 'zip_code': '96815', 'country': 'US', 'state': 'HI', 'display_address': ['1956 Ala Moana Blvd', 'Honolulu, HI 96815']}"
          ],
          [
           "$$",
           4,
           "['delivery', 'pickup']",
           "{'address1': '1777 Ala Moana Blvd', 'address2': '', 'address3': '', 'city': 'Honolulu', 'zip_code': '96815', 'country': 'US', 'state': 'HI', 'display_address': ['1777 Ala Moana Blvd', 'Honolulu, HI 96815']}"
          ],
          [
           null,
           5,
           "[]",
           "{'address1': '333 Royal Hawaiian Ave', 'address2': '', 'address3': None, 'city': 'Honolulu', 'zip_code': '96815', 'country': 'US', 'state': 'HI', 'display_address': ['333 Royal Hawaiian Ave', 'Honolulu, HI 96815']}"
          ],
          [
           "$$",
           4.5,
           "['delivery', 'pickup']",
           "{'address1': '661 Keeaumoku St', 'address2': 'Ste 105A', 'address3': '', 'city': 'Honolulu', 'zip_code': '96814', 'country': 'US', 'state': 'HI', 'display_address': ['661 Keeaumoku St', 'Ste 105A', 'Honolulu, HI 96814']}"
          ],
          [
           "$$",
           4,
           "[]",
           "{'address1': '2301 Kalakaua Ave', 'address2': '', 'address3': None, 'city': 'Honolulu', 'zip_code': '96815', 'country': 'US', 'state': 'HI', 'display_address': ['2301 Kalakaua Ave', 'Honolulu, HI 96815']}"
          ],
          [
           "$",
           4.5,
           "['delivery']",
           "{'address1': '3441 Waialae Ave', 'address2': '', 'address3': '', 'city': 'Honolulu', 'zip_code': '96816', 'country': 'US', 'state': 'HI', 'display_address': ['3441 Waialae Ave', 'Honolulu, HI 96816']}"
          ],
          [
           null,
           4.5,
           "[]",
           "{'address1': '2161 Kalia Ave', 'address2': '', 'address3': None, 'city': 'Honolulu', 'zip_code': '96815', 'country': 'US', 'state': 'HI', 'display_address': ['2161 Kalia Ave', 'Honolulu, HI 96815']}"
          ],
          [
           "$$",
           4,
           "[]",
           "{'address1': '2201 Kalakaua Ave', 'address2': '', 'address3': 'Bldg C, Level 2, C-212', 'city': 'Honolulu', 'zip_code': '96815', 'country': 'US', 'state': 'HI', 'display_address': ['2201 Kalakaua Ave', 'Bldg C, Level 2, C-212', 'Honolulu, HI 96815']}"
          ],
          [
           "$$",
           4,
           "['delivery']",
           "{'address1': '4210 Waialae Ave', 'address2': '', 'address3': '', 'city': 'Honolulu', 'zip_code': '96816', 'country': 'US', 'state': 'HI', 'display_address': ['4210 Waialae Ave', 'Honolulu, HI 96816']}"
          ],
          [
           "$$",
           4,
           "['delivery']",
           "{'address1': '1170 Auahi St', 'address2': 'Ste 145', 'address3': '', 'city': 'Honolulu', 'zip_code': '96814', 'country': 'US', 'state': 'HI', 'display_address': ['1170 Auahi St', 'Ste 145', 'Honolulu, HI 96814']}"
          ],
          [
           "$$",
           4,
           "[]",
           "{'address1': '680 Ala Moana Blvd', 'address2': '', 'address3': '', 'city': 'Honolulu', 'zip_code': '96813', 'country': 'US', 'state': 'HI', 'display_address': ['680 Ala Moana Blvd', 'Honolulu, HI 96813']}"
          ],
          [
           null,
           5,
           "[]",
           "{'address1': '2255 Kalakaua Ave', 'address2': '', 'address3': 'Sheraton Kiosk Waikiki', 'city': 'Honolulu', 'zip_code': '96815', 'country': 'US', 'state': 'HI', 'display_address': ['2255 Kalakaua Ave', 'Sheraton Kiosk Waikiki', 'Honolulu, HI 96815']}"
          ],
          [
           null,
           5,
           "[]",
           "{'address1': None, 'address2': None, 'address3': None, 'city': 'Honolulu', 'zip_code': '96815', 'country': 'US', 'state': 'HI', 'display_address': ['Honolulu, HI 96815']}"
          ],
          [
           "$$",
           4.5,
           "['delivery']",
           "{'address1': '825 Ilaniwai St', 'address2': '', 'address3': None, 'city': 'Honolulu', 'zip_code': '96813', 'country': 'US', 'state': 'HI', 'display_address': ['825 Ilaniwai St', 'Honolulu, HI 96813']}"
          ],
          [
           "$",
           4.5,
           "['delivery', 'pickup']",
           "{'address1': '3619 Waialae Ave', 'address2': '', 'address3': '', 'city': 'Honolulu', 'zip_code': '96816', 'country': 'US', 'state': 'HI', 'display_address': ['3619 Waialae Ave', 'Honolulu, HI 96816']}"
          ],
          [
           "$$",
           4.5,
           "['delivery']",
           "{'address1': '333 Royal Hawaiian Ave', 'address2': None, 'address3': '', 'city': 'Honolulu', 'zip_code': '96815', 'country': 'US', 'state': 'HI', 'display_address': ['333 Royal Hawaiian Ave', 'Honolulu, HI 96815']}"
          ],
          [
           "$$",
           4,
           "['delivery', 'pickup']",
           "{'address1': '1450 Ala Moana Blvd', 'address2': 'Level 2, Space 2312', 'address3': '', 'city': 'Honolulu', 'zip_code': '96814', 'country': 'US', 'state': 'HI', 'display_address': ['1450 Ala Moana Blvd', 'Level 2, Space 2312', 'Honolulu, HI 96814']}"
          ],
          [
           null,
           3.5,
           "[]",
           "{'address1': '138 Uluniu Ave', 'address2': None, 'address3': '', 'city': 'Urban Honolulu', 'zip_code': '96815', 'country': 'US', 'state': 'HI', 'display_address': ['138 Uluniu Ave', 'Urban Honolulu, HI 96815']}"
          ],
          [
           "$$",
           4,
           "['delivery']",
           "{'address1': '1800 Kalakaua Ave', 'address2': None, 'address3': '', 'city': 'Honolulu', 'zip_code': '96815', 'country': 'US', 'state': 'HI', 'display_address': ['1800 Kalakaua Ave', 'Honolulu, HI 96815']}"
          ],
          [
           null,
           5,
           "[]",
           "{'address1': '1958 Kalākaua Ave', 'address2': 'Fl 2', 'address3': None, 'city': 'Honolulu', 'zip_code': '96815', 'country': 'US', 'state': 'HI', 'display_address': ['1958 Kalākaua Ave', 'Fl 2', 'Honolulu, HI 96815']}"
          ],
          [
           "$$",
           4,
           "['delivery']",
           "{'address1': '1631 Kapiolani Blvd', 'address2': 'Ste 2', 'address3': '', 'city': 'Honolulu', 'zip_code': '96814', 'country': 'US', 'state': 'HI', 'display_address': ['1631 Kapiolani Blvd', 'Ste 2', 'Honolulu, HI 96814']}"
          ],
          [
           "$$",
           4.5,
           "['delivery', 'pickup']",
           "{'address1': '2334 S King St', 'address2': 'Ste 103', 'address3': '', 'city': 'Honolulu', 'zip_code': '96826', 'country': 'US', 'state': 'HI', 'display_address': ['2334 S King St', 'Ste 103', 'Honolulu, HI 96826']}"
          ],
          [
           "$$",
           4,
           "['delivery']",
           "{'address1': '845 Kapahulu Ave', 'address2': '', 'address3': '', 'city': 'Honolulu', 'zip_code': '96816', 'country': 'US', 'state': 'HI', 'display_address': ['845 Kapahulu Ave', 'Honolulu, HI 96816']}"
          ],
          [
           "$$",
           4,
           "[]",
           "{'address1': '2752 Woodlawn Dr', 'address2': '', 'address3': None, 'city': 'Honolulu', 'zip_code': '96822', 'country': 'US', 'state': 'HI', 'display_address': ['2752 Woodlawn Dr', 'Honolulu, HI 96822']}"
          ],
          [
           "$",
           4.5,
           "['delivery']",
           "{'address1': '2904 E Manoa Rd', 'address2': '', 'address3': '', 'city': 'Honolulu', 'zip_code': '96822', 'country': 'US', 'state': 'HI', 'display_address': ['2904 E Manoa Rd', 'Honolulu, HI 96822']}"
          ],
          [
           "$$",
           4,
           "['delivery', 'pickup']",
           "{'address1': '2469 S King St', 'address2': '', 'address3': None, 'city': 'Honolulu', 'zip_code': '96826', 'country': 'US', 'state': 'HI', 'display_address': ['2469 S King St', 'Honolulu, HI 96826']}"
          ],
          [
           "$$",
           4.5,
           "['delivery', 'pickup']",
           "{'address1': '3221 Waialae Ave', 'address2': 'Ste A-3', 'address3': None, 'city': 'Honolulu', 'zip_code': '96816', 'country': 'US', 'state': 'HI', 'display_address': ['3221 Waialae Ave', 'Ste A-3', 'Honolulu, HI 96816']}"
          ],
          [
           "$$",
           4,
           "['delivery', 'pickup']",
           "{'address1': '1009 Kapiolani Blvd', 'address2': '', 'address3': '', 'city': 'Honolulu', 'zip_code': '96814', 'country': 'US', 'state': 'HI', 'display_address': ['1009 Kapiolani Blvd', 'Honolulu, HI 96814']}"
          ],
          [
           null,
           5,
           "[]",
           "{'address1': '1020 Keeaumoku St', 'address2': '', 'address3': None, 'city': 'Honolulu', 'zip_code': '96814', 'country': 'US', 'state': 'HI', 'display_address': ['1020 Keeaumoku St', 'Honolulu, HI 96814']}"
          ],
          [
           "$$",
           3.5,
           "['delivery', 'pickup']",
           "{'address1': '1450 Ala Moana Blvd', 'address2': 'Level 3', 'address3': '', 'city': 'Honolulu', 'zip_code': '96814', 'country': 'US', 'state': 'HI', 'display_address': ['1450 Ala Moana Blvd', 'Level 3', 'Honolulu, HI 96814']}"
          ],
          [
           "$$",
           4,
           "['delivery', 'pickup']",
           "{'address1': '2525 South King St', 'address2': '', 'address3': '', 'city': 'Honolulu', 'zip_code': '96826', 'country': 'US', 'state': 'HI', 'display_address': ['2525 South King St', 'Honolulu, HI 96826']}"
          ],
          [
           "$$",
           4.5,
           "[]",
           "{'address1': '4303 Diamond Head Rd', 'address2': None, 'address3': None, 'city': 'Honolulu', 'zip_code': '96816', 'country': 'US', 'state': 'HI', 'display_address': ['4303 Diamond Head Rd', 'Honolulu, HI 96816']}"
          ],
          [
           "$$",
           3.5,
           "[]",
           "{'address1': '388 Kamakee St', 'address2': '', 'address3': None, 'city': 'Honolulu', 'zip_code': '96814', 'country': 'US', 'state': 'HI', 'display_address': ['388 Kamakee St', 'Honolulu, HI 96814']}"
          ],
          [
           "$",
           4,
           "['delivery', 'pickup']",
           "{'address1': '1450 Ala Moana Blvd', 'address2': 'Ste 1375', 'address3': '', 'city': 'Honolulu', 'zip_code': '96814', 'country': 'US', 'state': 'HI', 'display_address': ['1450 Ala Moana Blvd', 'Ste 1375', 'Honolulu, HI 96814']}"
          ],
          [
           "$$",
           4.5,
           "['delivery', 'pickup']",
           "{'address1': '2239 S King St', 'address2': '', 'address3': '', 'city': 'Honolulu', 'zip_code': '96826', 'country': 'US', 'state': 'HI', 'display_address': ['2239 S King St', 'Honolulu, HI 96826']}"
          ],
          [
           "$$",
           4,
           "['delivery', 'pickup']",
           "{'address1': '500 Keawe St', 'address2': '', 'address3': None, 'city': 'Honolulu', 'zip_code': '96818', 'country': 'US', 'state': 'HI', 'display_address': ['500 Keawe St', 'Honolulu, HI 96818']}"
          ],
          [
           "$",
           4,
           "['delivery', 'pickup']",
           "{'address1': '1199 Dillingham Blvd', 'address2': 'Ste C-104', 'address3': '', 'city': 'Honolulu', 'zip_code': '96817', 'country': 'US', 'state': 'HI', 'display_address': ['1199 Dillingham Blvd', 'Ste C-104', 'Honolulu, HI 96817']}"
          ],
          [
           "$$",
           3,
           "['delivery', 'pickup']",
           "{'address1': '1108 Auahi St', 'address2': None, 'address3': '', 'city': 'Honolulu', 'zip_code': '96814', 'country': 'US', 'state': 'HI', 'display_address': ['1108 Auahi St', 'Honolulu, HI 96814']}"
          ],
          [
           null,
           5,
           "[]",
           "{'address1': '333 Seaside Ave', 'address2': None, 'address3': '', 'city': 'Urban Honolulu', 'zip_code': '96815', 'country': 'US', 'state': 'HI', 'display_address': ['333 Seaside Ave', 'Urban Honolulu, HI 96815']}"
          ],
          [
           "$$",
           4.5,
           "['delivery']",
           "{'address1': '725 Kapiolani Blvd', 'address2': 'Ste C122', 'address3': '', 'city': 'Honolulu', 'zip_code': '96813', 'country': 'US', 'state': 'HI', 'display_address': ['725 Kapiolani Blvd', 'Ste C122', 'Honolulu, HI 96813']}"
          ],
          [
           "$$",
           4.5,
           "[]",
           "{'address1': '3392 Waialae Ave', 'address2': '', 'address3': '', 'city': 'Honolulu', 'zip_code': '96816', 'country': 'US', 'state': 'HI', 'display_address': ['3392 Waialae Ave', 'Honolulu, HI 96816']}"
          ],
          [
           "$$",
           4.5,
           "['delivery', 'pickup']",
           "{'address1': '725 Kinau St', 'address2': '', 'address3': None, 'city': 'Honolulu', 'zip_code': '96813', 'country': 'US', 'state': 'HI', 'display_address': ['725 Kinau St', 'Honolulu, HI 96813']}"
          ],
          [
           null,
           5,
           "[]",
           "{'address1': '4303 Diamond Head Rd', 'address2': '', 'address3': 'KCC Farmers Market', 'city': 'Honolulu', 'zip_code': '96816', 'country': 'US', 'state': 'HI', 'display_address': ['4303 Diamond Head Rd', 'KCC Farmers Market', 'Honolulu, HI 96816']}"
          ],
          [
           "$$",
           4.5,
           "[]",
           "{'address1': '2320 S King St', 'address2': 'Unit B-4', 'address3': None, 'city': 'Honolulu', 'zip_code': '96826', 'country': 'US', 'state': 'HI', 'display_address': ['2320 S King St', 'Unit B-4', 'Honolulu, HI 96826']}"
          ],
          [
           "$",
           4.5,
           "[]",
           "{'address1': '1111-C Fort St Mall', 'address2': '', 'address3': '', 'city': 'Honolulu', 'zip_code': '96813', 'country': 'US', 'state': 'HI', 'display_address': ['1111-C Fort St Mall', 'Honolulu, HI 96813']}"
          ],
          [
           "$",
           4.5,
           "[]",
           "{'address1': '395-429 Piikoi St', 'address2': '', 'address3': '', 'city': 'Honolulu', 'zip_code': '96814', 'country': 'US', 'state': 'HI', 'display_address': ['395-429 Piikoi St', 'Honolulu, HI 96814']}"
          ],
          [
           "$$",
           4,
           "['pickup', 'delivery']",
           "{'address1': '685 Auahi St', 'address2': None, 'address3': '', 'city': 'Honolulu', 'zip_code': '96813', 'country': 'US', 'state': 'HI', 'display_address': ['685 Auahi St', 'Honolulu, HI 96813']}"
          ],
          [
           "$$",
           4,
           "['pickup', 'delivery']",
           "{'address1': '510 Piikoi St', 'address2': 'Ste 100', 'address3': '', 'city': 'Honolulu', 'zip_code': '96814', 'country': 'US', 'state': 'HI', 'display_address': ['510 Piikoi St', 'Ste 100', 'Honolulu, HI 96814']}"
          ],
          [
           null,
           4,
           "[]",
           "{'address1': '1130 N Nimitz Hwy', 'address2': 'Ste C110', 'address3': '', 'city': 'Honolulu', 'zip_code': '96817', 'country': 'US', 'state': 'HI', 'display_address': ['1130 N Nimitz Hwy', 'Ste C110', 'Honolulu, HI 96817']}"
          ],
          [
           "$$",
           4.5,
           "['pickup', 'delivery']",
           "{'address1': '400 Keawe St', 'address2': 'Ste 107', 'address3': None, 'city': 'Honolulu', 'zip_code': '96813', 'country': 'US', 'state': 'HI', 'display_address': ['400 Keawe St', 'Ste 107', 'Honolulu, HI 96813']}"
          ],
          [
           "$",
           4.5,
           "['delivery']",
           "{'address1': '1111 Dillingham Blvd', 'address2': 'Unit E-2', 'address3': '', 'city': 'Honolulu', 'zip_code': '96817', 'country': 'US', 'state': 'HI', 'display_address': ['1111 Dillingham Blvd', 'Unit E-2', 'Honolulu, HI 96817']}"
          ],
          [
           null,
           5,
           "['pickup', 'delivery']",
           "{'address1': '100 N Beretania St', 'address2': 'Ste 169', 'address3': None, 'city': 'Honolulu', 'zip_code': '96817', 'country': 'US', 'state': 'HI', 'display_address': ['100 N Beretania St', 'Ste 169', 'Honolulu, HI 96817']}"
          ],
          [
           "$$",
           4,
           "['delivery']",
           "{'address1': '680 Ala Moana Blvd', 'address2': 'Ste 105', 'address3': '', 'city': 'Honolulu', 'zip_code': '96813', 'country': 'US', 'state': 'HI', 'display_address': ['680 Ala Moana Blvd', 'Ste 105', 'Honolulu, HI 96813']}"
          ],
          [
           null,
           5,
           "[]",
           "{'address1': '2290 Kalakaua Ave', 'address2': '', 'address3': '', 'city': 'Honolulu', 'zip_code': '96815', 'country': 'US', 'state': 'HI', 'display_address': ['2290 Kalakaua Ave', 'Honolulu, HI 96815']}"
          ],
          [
           "$$",
           4.5,
           "['pickup', 'delivery']",
           "{'address1': '1016 Maunakea St', 'address2': '', 'address3': '', 'city': 'Honolulu', 'zip_code': '96817', 'country': 'US', 'state': 'HI', 'display_address': ['1016 Maunakea St', 'Honolulu, HI 96817']}"
          ],
          [
           "$$",
           4,
           "['delivery']",
           "{'address1': '1001 Bishop St', 'address2': 'Ste 110', 'address3': '', 'city': 'Honolulu', 'zip_code': '96813', 'country': 'US', 'state': 'HI', 'display_address': ['1001 Bishop St', 'Ste 110', 'Honolulu, HI 96813']}"
          ],
          [
           "$$",
           4.5,
           "['delivery']",
           "{'address1': '909 Kapiolani Blvd', 'address2': 'Ste B', 'address3': '', 'city': 'Honolulu', 'zip_code': '96814', 'country': 'US', 'state': 'HI', 'display_address': ['909 Kapiolani Blvd', 'Ste B', 'Honolulu, HI 96814']}"
          ],
          [
           "$$",
           4,
           "['delivery']",
           "{'address1': '1450 Ala Moana Blvd', 'address2': 'Ste 2271', 'address3': None, 'city': 'Honolulu', 'zip_code': '96814', 'country': 'US', 'state': 'HI', 'display_address': ['1450 Ala Moana Blvd', 'Ste 2271', 'Honolulu, HI 96814']}"
          ],
          [
           null,
           5,
           "[]",
           "{'address1': '700 Bishop St', 'address2': '', 'address3': None, 'city': 'Honolulu', 'zip_code': '96813', 'country': 'US', 'state': 'HI', 'display_address': ['700 Bishop St', 'Honolulu, HI 96813']}"
          ],
          [
           "$$",
           3.5,
           "[]",
           "{'address1': \"4211 Wai'alae Ave\", 'address2': 'Ste 2000', 'address3': '', 'city': 'Honolulu', 'zip_code': '96816', 'country': 'US', 'state': 'HI', 'display_address': [\"4211 Wai'alae Ave\", 'Ste 2000', 'Honolulu, HI 96816']}"
          ],
          [
           "$$",
           3.5,
           "['pickup', 'delivery']",
           "{'address1': '625 Kapahulu Ave', 'address2': '', 'address3': '', 'city': 'Honolulu', 'zip_code': '96816', 'country': 'US', 'state': 'HI', 'display_address': ['625 Kapahulu Ave', 'Honolulu, HI 96816']}"
          ],
          [
           "$$",
           3.5,
           "[]",
           "{'address1': '388 Kamakee St', 'address2': 'Ste 100', 'address3': None, 'city': 'Honolulu', 'zip_code': '96814', 'country': 'US', 'state': 'HI', 'display_address': ['388 Kamakee St', 'Ste 100', 'Honolulu, HI 96814']}"
          ],
          [
           "$$",
           4,
           "['pickup', 'delivery']",
           "{'address1': '555 N King St', 'address2': 'Ste 113', 'address3': '', 'city': 'Honolulu', 'zip_code': '96817', 'country': 'US', 'state': 'HI', 'display_address': ['555 N King St', 'Ste 113', 'Honolulu, HI 96817']}"
          ],
          [
           "$",
           2.5,
           "['delivery', 'pickup']",
           "{'address1': '2255 Kuhio Ave', 'address2': 'Space 6', 'address3': None, 'city': 'Honolulu (Oahu)', 'zip_code': '96815', 'country': 'US', 'state': 'HI', 'display_address': ['2255 Kuhio Ave', 'Space 6', 'Honolulu (Oahu), HI 96815']}"
          ],
          [
           null,
           5,
           "[]",
           "{'address1': '438 Hobron Ln', 'address2': 'Ste 216', 'address3': None, 'city': 'Honolulu', 'zip_code': '96815', 'country': 'US', 'state': 'HI', 'display_address': ['438 Hobron Ln', 'Ste 216', 'Honolulu, HI 96815']}"
          ],
          [
           null,
           5,
           "[]",
           "{'address1': '777 Ward Ave', 'address2': '', 'address3': 'Honolulu Farmers Market', 'city': 'Honolulu', 'zip_code': '96814', 'country': 'US', 'state': 'HI', 'display_address': ['777 Ward Ave', 'Honolulu Farmers Market', 'Honolulu, HI 96814']}"
          ],
          [
           null,
           3.5,
           "[]",
           "{'address1': '1329 Lusitana St', 'address2': '', 'address3': None, 'city': 'Honolulu', 'zip_code': '96813', 'country': 'US', 'state': 'HI', 'display_address': ['1329 Lusitana St', 'Honolulu, HI 96813']}"
          ],
          [
           "$$",
           3,
           "['delivery', 'pickup']",
           "{'address1': '4211 Waialae Ave', 'address2': '', 'address3': '', 'city': 'Honolulu', 'zip_code': '96816', 'country': 'US', 'state': 'HI', 'display_address': ['4211 Waialae Ave', 'Honolulu, HI 96816']}"
          ],
          [
           "$$",
           3,
           "['delivery', 'pickup']",
           "{'address1': '1450 Ala Moana Blvd', 'address2': '', 'address3': '', 'city': 'Honolulu', 'zip_code': '96814', 'country': 'US', 'state': 'HI', 'display_address': ['1450 Ala Moana Blvd', 'Honolulu, HI 96814']}"
          ],
          [
           "$$",
           3,
           "['delivery']",
           "{'address1': '1450 Ala Moana Blvd', 'address2': 'Fl 3', 'address3': '', 'city': 'Honolulu', 'zip_code': '96814', 'country': 'US', 'state': 'HI', 'display_address': ['1450 Ala Moana Blvd', 'Fl 3', 'Honolulu, HI 96814']}"
          ],
          [
           null,
           4.5,
           "[]",
           "{'address1': '3574 Waialae Ave', 'address2': '', 'address3': None, 'city': 'Honolulu', 'zip_code': '96816', 'country': 'US', 'state': 'HI', 'display_address': ['3574 Waialae Ave', 'Honolulu, HI 96816']}"
          ],
          [
           "$",
           3,
           "[]",
           "{'address1': '2465 Campus Rd', 'address2': 'Rm  220-A', 'address3': 'Sodexho Campus Svcs', 'city': 'Honolulu', 'zip_code': '96822', 'country': 'US', 'state': 'HI', 'display_address': ['2465 Campus Rd', 'Rm  220-A', 'Sodexho Campus Svcs', 'Honolulu, HI 96822']}"
          ],
          [
           null,
           2.5,
           "[]",
           "{'address1': '500 Ala Moana Blvd', 'address2': None, 'address3': '', 'city': 'Honolulu', 'zip_code': '96813', 'country': 'US', 'state': 'HI', 'display_address': ['500 Ala Moana Blvd', 'Honolulu, HI 96813']}"
          ],
          [
           "$",
           4,
           "[]",
           "{'address1': '1450 Ala Moana Blvd', 'address2': None, 'address3': 'Makai Food Court', 'city': 'Honolulu', 'zip_code': '96814', 'country': 'US', 'state': 'HI', 'display_address': ['1450 Ala Moana Blvd', 'Makai Food Court', 'Honolulu, HI 96814']}"
          ]
         ],
         "hovertemplate": "<b>%{hovertext}</b><br><br>latitude=%{lat}<br>longitude=%{lon}<br>price=%{customdata[0]}<br>rating=%{customdata[1]}<br>transactions=%{customdata[2]}<br>location=%{customdata[3]}<extra></extra>",
         "hovertext": [
          "ALO Cafe Hawaii",
          "Waffle and Berry",
          "Banán - Waikiki Beach Shack",
          "Tropical Tribe",
          "Da Cove Health Bar & Cafe",
          "Nalu Health Bar & Cafe",
          "Aloh Health Bar & Cafe",
          "Island Vintage Shave Ice",
          "Aloha Bowls and Tea",
          "Hawaiian Aroma Caffe - Ohana East",
          "Tropical Tribe",
          "Tucker & Bevvy",
          "Coffee Shop 831",
          "Big Wave Dave Surf & Coffee",
          "Kai Fresh",
          "The Sunrise Shack",
          "Tucker & Bevvy",
          "Hiking Hawaii Cafe",
          "Hawaiian Aroma Caffe - The Ilikai",
          "Pineapple House",
          "HiBlend Health Bar & Cafe",
          "Island Vintage Wine Bar",
          "Leahi Health Kaimuki",
          "Banan - Waikiki Shore",
          "Island Vintage Organic & Natural",
          "Lanikai Juice",
          "Nalu Health Bar & Cafe",
          "Lanikai Juice",
          "Honolulu Coffee Kiosk - Sheraton Waikiki",
          "Honolulu Pineapple",
          "Cafe Villamor",
          "Jewel or Juice",
          "Topped Waikiki",
          "Blue Hawaii Lifestyle",
          "Lei's Cafe Melia",
          "Honolulu Coffee Experience Center",
          "Ohana Hale Waikiki",
          "Olena Cafe",
          "Fresh Bites",
          "Kaimana Farm Cafe",
          "Leahi Health - Manoa",
          "Andy's Sandwiches & Smoothies",
          "Da Spot",
          "Coco Bloom Kitchen",
          "Bluetree Cafe - Honolulu",
          "Aunty Gigi’s Cafe",
          "Island Brew Coffeehouse",
          "Down to Earth Organic & Natural - Honolulu",
          "Honolulu Pineapple",
          "Lanikai Juice",
          "Pressed",
          "Peace Café",
          "Down to Earth Organic & Natural - Kakaako",
          "Jay's Cafe",
          "Island Brew Coffeehouse",
          "Kai Poke Waikiki",
          "Cooke Street Market",
          "Juicy Brew",
          "The Valley Health Bar",
          "Hua_Mochialoha",
          "Niu Soft Serve",
          "Vita Juice Hawaii",
          "Ebar",
          "Redfish Poke Bar",
          "Teapresso Bar",
          "Hideaway Cafe",
          "Sun Tea Mix",
          "Hana Tea",
          "Revive Cafe",
          "Highway Inn Kaka'ako",
          "Crown International Trade",
          "Domo Cafe",
          "Umeke Market",
          "Keiki and the Pineapple",
          "HiTEA Cafe",
          "Cafe Daisy",
          "Whole Foods Market",
          "Jamba - Kapahulu",
          "Whole Foods Market",
          "S7-Icy Bubble",
          "Jamba - Honolulu",
          "Refreshment Corner",
          "Hawaiian Crown Juice",
          "CQ2 Bistro",
          "Jamba",
          "Jamba",
          "Honolulu Coffee Kiosk - Ala Moana Cafe",
          "Yoga Under the Palms Kaimukī",
          "Jamba Juice",
          "808 Juice Bar & Grill",
          "Island Crepes and Lemonade"
         ],
         "lat": [
          21.27713,
          21.28594,
          21.2772821247839,
          21.28557897099554,
          21.26878,
          21.279401,
          21.280353794831946,
          21.272783224863293,
          21.28298862765927,
          21.27771853881159,
          21.278066211341383,
          21.27176916049238,
          21.2793199,
          21.278767,
          21.27743,
          21.29053,
          21.2761299,
          21.28601,
          21.284284973453296,
          21.27992,
          21.2946063518124,
          21.278614,
          21.284,
          21.27849,
          21.2782105366627,
          21.27903,
          21.29331,
          21.2978277788212,
          21.2782504,
          21.275592906487645,
          21.29854,
          21.2825673,
          21.27992,
          21.29196,
          21.27615,
          21.2901022243024,
          21.285963616124704,
          21.2913545,
          21.293939768036832,
          21.2830138,
          21.30792,
          21.309936,
          21.29244,
          21.286873,
          21.296635,
          21.29932428339775,
          21.291777,
          21.292186,
          21.27067,
          21.294411,
          21.29137,
          21.29356,
          21.300492,
          21.322154288145956,
          21.29401620600618,
          21.279396,
          21.30086,
          21.28534,
          21.305558579020783,
          21.27067,
          21.29366,
          21.30991,
          21.292843177881167,
          21.298249,
          21.29419,
          21.31877598386973,
          21.29944,
          21.3213500016418,
          21.314806879538153,
          21.297905799025077,
          21.2781668,
          21.31209,
          21.3088966425369,
          21.29818,
          21.2907035965638,
          21.30776,
          21.27762880898066,
          21.278924,
          21.294663,
          21.31859,
          21.2796754,
          21.28716975788957,
          21.2989612,
          21.307549,
          21.27699,
          21.290836856803516,
          21.290581,
          21.28336641159739,
          21.298175,
          21.30067,
          21.2911581285241
         ],
         "legendgroup": "",
         "lon": [
          -157.82433,
          -157.83275,
          -157.827768717774,
          -157.838434,
          -157.8136199,
          -157.831178,
          -157.8266827,
          -157.82298618834332,
          -157.83612623949188,
          -157.82478980861706,
          -157.8334924846517,
          -157.8223953024108,
          -157.82505,
          -157.831514,
          -157.82579,
          -157.84358,
          -157.82543,
          -157.83429,
          -157.8387676731373,
          -157.82838,
          -157.84157767382,
          -157.829055,
          -157.80226,
          -157.83307,
          -157.828626155706,
          -157.787112,
          -157.85067,
          -157.861530796999,
          -157.829898,
          -157.82267544877502,
          -157.85642,
          -157.7989902,
          -157.82838,
          -157.845623,
          -157.82418,
          -157.835115187732,
          -157.83277,
          -157.839093,
          -157.8258444,
          -157.8138363,
          -157.81035,
          -157.810301,
          -157.82422,
          -157.807672,
          -157.851389,
          -157.8402464009662,
          -157.845918,
          -157.823307,
          -157.80006,
          -157.8522843,
          -157.84596,
          -157.8272299,
          -157.859898,
          -157.87539474184052,
          -157.85236803036292,
          -157.827461,
          -157.85512,
          -157.80353,
          -157.85161066319955,
          -157.80006,
          -157.82631,
          -157.86086,
          -157.84683497373638,
          -157.86094497500915,
          -157.84677,
          -157.8747341220131,
          -157.861217,
          -157.87328671668,
          -157.86083384368902,
          -157.8615899705428,
          -157.8276833,
          -157.8635899,
          -157.859993212164,
          -157.85257000000001,
          -157.842018529773,
          -157.86351,
          -157.7864042329229,
          -157.813762,
          -157.852284,
          -157.86535,
          -157.8269923,
          -157.83574383705854,
          -157.851327,
          -157.852096,
          -157.78641,
          -157.84381784361452,
          -157.844906,
          -157.7995911887889,
          -157.818853,
          -157.86275,
          -157.844038903713
         ],
         "marker": {
          "color": "#636efa"
         },
         "mode": "markers",
         "name": "",
         "showlegend": false,
         "subplot": "mapbox",
         "type": "scattermapbox"
        }
       ],
       "layout": {
        "legend": {
         "tracegroupgap": 0
        },
        "mapbox": {
         "center": {
          "lat": 21.29009980671322,
          "lon": -157.83522566003884
         },
         "domain": {
          "x": [
           0,
           1
          ],
          "y": [
           0,
           1
          ]
         },
         "style": "open-street-map",
         "zoom": 8
        },
        "margin": {
         "t": 60
        },
        "template": {
         "data": {
          "bar": [
           {
            "error_x": {
             "color": "#2a3f5f"
            },
            "error_y": {
             "color": "#2a3f5f"
            },
            "marker": {
             "line": {
              "color": "#E5ECF6",
              "width": 0.5
             },
             "pattern": {
              "fillmode": "overlay",
              "size": 10,
              "solidity": 0.2
             }
            },
            "type": "bar"
           }
          ],
          "barpolar": [
           {
            "marker": {
             "line": {
              "color": "#E5ECF6",
              "width": 0.5
             },
             "pattern": {
              "fillmode": "overlay",
              "size": 10,
              "solidity": 0.2
             }
            },
            "type": "barpolar"
           }
          ],
          "carpet": [
           {
            "aaxis": {
             "endlinecolor": "#2a3f5f",
             "gridcolor": "white",
             "linecolor": "white",
             "minorgridcolor": "white",
             "startlinecolor": "#2a3f5f"
            },
            "baxis": {
             "endlinecolor": "#2a3f5f",
             "gridcolor": "white",
             "linecolor": "white",
             "minorgridcolor": "white",
             "startlinecolor": "#2a3f5f"
            },
            "type": "carpet"
           }
          ],
          "choropleth": [
           {
            "colorbar": {
             "outlinewidth": 0,
             "ticks": ""
            },
            "type": "choropleth"
           }
          ],
          "contour": [
           {
            "colorbar": {
             "outlinewidth": 0,
             "ticks": ""
            },
            "colorscale": [
             [
              0,
              "#0d0887"
             ],
             [
              0.1111111111111111,
              "#46039f"
             ],
             [
              0.2222222222222222,
              "#7201a8"
             ],
             [
              0.3333333333333333,
              "#9c179e"
             ],
             [
              0.4444444444444444,
              "#bd3786"
             ],
             [
              0.5555555555555556,
              "#d8576b"
             ],
             [
              0.6666666666666666,
              "#ed7953"
             ],
             [
              0.7777777777777778,
              "#fb9f3a"
             ],
             [
              0.8888888888888888,
              "#fdca26"
             ],
             [
              1,
              "#f0f921"
             ]
            ],
            "type": "contour"
           }
          ],
          "contourcarpet": [
           {
            "colorbar": {
             "outlinewidth": 0,
             "ticks": ""
            },
            "type": "contourcarpet"
           }
          ],
          "heatmap": [
           {
            "colorbar": {
             "outlinewidth": 0,
             "ticks": ""
            },
            "colorscale": [
             [
              0,
              "#0d0887"
             ],
             [
              0.1111111111111111,
              "#46039f"
             ],
             [
              0.2222222222222222,
              "#7201a8"
             ],
             [
              0.3333333333333333,
              "#9c179e"
             ],
             [
              0.4444444444444444,
              "#bd3786"
             ],
             [
              0.5555555555555556,
              "#d8576b"
             ],
             [
              0.6666666666666666,
              "#ed7953"
             ],
             [
              0.7777777777777778,
              "#fb9f3a"
             ],
             [
              0.8888888888888888,
              "#fdca26"
             ],
             [
              1,
              "#f0f921"
             ]
            ],
            "type": "heatmap"
           }
          ],
          "heatmapgl": [
           {
            "colorbar": {
             "outlinewidth": 0,
             "ticks": ""
            },
            "colorscale": [
             [
              0,
              "#0d0887"
             ],
             [
              0.1111111111111111,
              "#46039f"
             ],
             [
              0.2222222222222222,
              "#7201a8"
             ],
             [
              0.3333333333333333,
              "#9c179e"
             ],
             [
              0.4444444444444444,
              "#bd3786"
             ],
             [
              0.5555555555555556,
              "#d8576b"
             ],
             [
              0.6666666666666666,
              "#ed7953"
             ],
             [
              0.7777777777777778,
              "#fb9f3a"
             ],
             [
              0.8888888888888888,
              "#fdca26"
             ],
             [
              1,
              "#f0f921"
             ]
            ],
            "type": "heatmapgl"
           }
          ],
          "histogram": [
           {
            "marker": {
             "pattern": {
              "fillmode": "overlay",
              "size": 10,
              "solidity": 0.2
             }
            },
            "type": "histogram"
           }
          ],
          "histogram2d": [
           {
            "colorbar": {
             "outlinewidth": 0,
             "ticks": ""
            },
            "colorscale": [
             [
              0,
              "#0d0887"
             ],
             [
              0.1111111111111111,
              "#46039f"
             ],
             [
              0.2222222222222222,
              "#7201a8"
             ],
             [
              0.3333333333333333,
              "#9c179e"
             ],
             [
              0.4444444444444444,
              "#bd3786"
             ],
             [
              0.5555555555555556,
              "#d8576b"
             ],
             [
              0.6666666666666666,
              "#ed7953"
             ],
             [
              0.7777777777777778,
              "#fb9f3a"
             ],
             [
              0.8888888888888888,
              "#fdca26"
             ],
             [
              1,
              "#f0f921"
             ]
            ],
            "type": "histogram2d"
           }
          ],
          "histogram2dcontour": [
           {
            "colorbar": {
             "outlinewidth": 0,
             "ticks": ""
            },
            "colorscale": [
             [
              0,
              "#0d0887"
             ],
             [
              0.1111111111111111,
              "#46039f"
             ],
             [
              0.2222222222222222,
              "#7201a8"
             ],
             [
              0.3333333333333333,
              "#9c179e"
             ],
             [
              0.4444444444444444,
              "#bd3786"
             ],
             [
              0.5555555555555556,
              "#d8576b"
             ],
             [
              0.6666666666666666,
              "#ed7953"
             ],
             [
              0.7777777777777778,
              "#fb9f3a"
             ],
             [
              0.8888888888888888,
              "#fdca26"
             ],
             [
              1,
              "#f0f921"
             ]
            ],
            "type": "histogram2dcontour"
           }
          ],
          "mesh3d": [
           {
            "colorbar": {
             "outlinewidth": 0,
             "ticks": ""
            },
            "type": "mesh3d"
           }
          ],
          "parcoords": [
           {
            "line": {
             "colorbar": {
              "outlinewidth": 0,
              "ticks": ""
             }
            },
            "type": "parcoords"
           }
          ],
          "pie": [
           {
            "automargin": true,
            "type": "pie"
           }
          ],
          "scatter": [
           {
            "fillpattern": {
             "fillmode": "overlay",
             "size": 10,
             "solidity": 0.2
            },
            "type": "scatter"
           }
          ],
          "scatter3d": [
           {
            "line": {
             "colorbar": {
              "outlinewidth": 0,
              "ticks": ""
             }
            },
            "marker": {
             "colorbar": {
              "outlinewidth": 0,
              "ticks": ""
             }
            },
            "type": "scatter3d"
           }
          ],
          "scattercarpet": [
           {
            "marker": {
             "colorbar": {
              "outlinewidth": 0,
              "ticks": ""
             }
            },
            "type": "scattercarpet"
           }
          ],
          "scattergeo": [
           {
            "marker": {
             "colorbar": {
              "outlinewidth": 0,
              "ticks": ""
             }
            },
            "type": "scattergeo"
           }
          ],
          "scattergl": [
           {
            "marker": {
             "colorbar": {
              "outlinewidth": 0,
              "ticks": ""
             }
            },
            "type": "scattergl"
           }
          ],
          "scattermapbox": [
           {
            "marker": {
             "colorbar": {
              "outlinewidth": 0,
              "ticks": ""
             }
            },
            "type": "scattermapbox"
           }
          ],
          "scatterpolar": [
           {
            "marker": {
             "colorbar": {
              "outlinewidth": 0,
              "ticks": ""
             }
            },
            "type": "scatterpolar"
           }
          ],
          "scatterpolargl": [
           {
            "marker": {
             "colorbar": {
              "outlinewidth": 0,
              "ticks": ""
             }
            },
            "type": "scatterpolargl"
           }
          ],
          "scatterternary": [
           {
            "marker": {
             "colorbar": {
              "outlinewidth": 0,
              "ticks": ""
             }
            },
            "type": "scatterternary"
           }
          ],
          "surface": [
           {
            "colorbar": {
             "outlinewidth": 0,
             "ticks": ""
            },
            "colorscale": [
             [
              0,
              "#0d0887"
             ],
             [
              0.1111111111111111,
              "#46039f"
             ],
             [
              0.2222222222222222,
              "#7201a8"
             ],
             [
              0.3333333333333333,
              "#9c179e"
             ],
             [
              0.4444444444444444,
              "#bd3786"
             ],
             [
              0.5555555555555556,
              "#d8576b"
             ],
             [
              0.6666666666666666,
              "#ed7953"
             ],
             [
              0.7777777777777778,
              "#fb9f3a"
             ],
             [
              0.8888888888888888,
              "#fdca26"
             ],
             [
              1,
              "#f0f921"
             ]
            ],
            "type": "surface"
           }
          ],
          "table": [
           {
            "cells": {
             "fill": {
              "color": "#EBF0F8"
             },
             "line": {
              "color": "white"
             }
            },
            "header": {
             "fill": {
              "color": "#C8D4E3"
             },
             "line": {
              "color": "white"
             }
            },
            "type": "table"
           }
          ]
         },
         "layout": {
          "annotationdefaults": {
           "arrowcolor": "#2a3f5f",
           "arrowhead": 0,
           "arrowwidth": 1
          },
          "autotypenumbers": "strict",
          "coloraxis": {
           "colorbar": {
            "outlinewidth": 0,
            "ticks": ""
           }
          },
          "colorscale": {
           "diverging": [
            [
             0,
             "#8e0152"
            ],
            [
             0.1,
             "#c51b7d"
            ],
            [
             0.2,
             "#de77ae"
            ],
            [
             0.3,
             "#f1b6da"
            ],
            [
             0.4,
             "#fde0ef"
            ],
            [
             0.5,
             "#f7f7f7"
            ],
            [
             0.6,
             "#e6f5d0"
            ],
            [
             0.7,
             "#b8e186"
            ],
            [
             0.8,
             "#7fbc41"
            ],
            [
             0.9,
             "#4d9221"
            ],
            [
             1,
             "#276419"
            ]
           ],
           "sequential": [
            [
             0,
             "#0d0887"
            ],
            [
             0.1111111111111111,
             "#46039f"
            ],
            [
             0.2222222222222222,
             "#7201a8"
            ],
            [
             0.3333333333333333,
             "#9c179e"
            ],
            [
             0.4444444444444444,
             "#bd3786"
            ],
            [
             0.5555555555555556,
             "#d8576b"
            ],
            [
             0.6666666666666666,
             "#ed7953"
            ],
            [
             0.7777777777777778,
             "#fb9f3a"
            ],
            [
             0.8888888888888888,
             "#fdca26"
            ],
            [
             1,
             "#f0f921"
            ]
           ],
           "sequentialminus": [
            [
             0,
             "#0d0887"
            ],
            [
             0.1111111111111111,
             "#46039f"
            ],
            [
             0.2222222222222222,
             "#7201a8"
            ],
            [
             0.3333333333333333,
             "#9c179e"
            ],
            [
             0.4444444444444444,
             "#bd3786"
            ],
            [
             0.5555555555555556,
             "#d8576b"
            ],
            [
             0.6666666666666666,
             "#ed7953"
            ],
            [
             0.7777777777777778,
             "#fb9f3a"
            ],
            [
             0.8888888888888888,
             "#fdca26"
            ],
            [
             1,
             "#f0f921"
            ]
           ]
          },
          "colorway": [
           "#636efa",
           "#EF553B",
           "#00cc96",
           "#ab63fa",
           "#FFA15A",
           "#19d3f3",
           "#FF6692",
           "#B6E880",
           "#FF97FF",
           "#FECB52"
          ],
          "font": {
           "color": "#2a3f5f"
          },
          "geo": {
           "bgcolor": "white",
           "lakecolor": "white",
           "landcolor": "#E5ECF6",
           "showlakes": true,
           "showland": true,
           "subunitcolor": "white"
          },
          "hoverlabel": {
           "align": "left"
          },
          "hovermode": "closest",
          "mapbox": {
           "style": "light"
          },
          "paper_bgcolor": "white",
          "plot_bgcolor": "#E5ECF6",
          "polar": {
           "angularaxis": {
            "gridcolor": "white",
            "linecolor": "white",
            "ticks": ""
           },
           "bgcolor": "#E5ECF6",
           "radialaxis": {
            "gridcolor": "white",
            "linecolor": "white",
            "ticks": ""
           }
          },
          "scene": {
           "xaxis": {
            "backgroundcolor": "#E5ECF6",
            "gridcolor": "white",
            "gridwidth": 2,
            "linecolor": "white",
            "showbackground": true,
            "ticks": "",
            "zerolinecolor": "white"
           },
           "yaxis": {
            "backgroundcolor": "#E5ECF6",
            "gridcolor": "white",
            "gridwidth": 2,
            "linecolor": "white",
            "showbackground": true,
            "ticks": "",
            "zerolinecolor": "white"
           },
           "zaxis": {
            "backgroundcolor": "#E5ECF6",
            "gridcolor": "white",
            "gridwidth": 2,
            "linecolor": "white",
            "showbackground": true,
            "ticks": "",
            "zerolinecolor": "white"
           }
          },
          "shapedefaults": {
           "line": {
            "color": "#2a3f5f"
           }
          },
          "ternary": {
           "aaxis": {
            "gridcolor": "white",
            "linecolor": "white",
            "ticks": ""
           },
           "baxis": {
            "gridcolor": "white",
            "linecolor": "white",
            "ticks": ""
           },
           "bgcolor": "#E5ECF6",
           "caxis": {
            "gridcolor": "white",
            "linecolor": "white",
            "ticks": ""
           }
          },
          "title": {
           "x": 0.05
          },
          "xaxis": {
           "automargin": true,
           "gridcolor": "white",
           "linecolor": "white",
           "ticks": "",
           "title": {
            "standoff": 15
           },
           "zerolinecolor": "white",
           "zerolinewidth": 2
          },
          "yaxis": {
           "automargin": true,
           "gridcolor": "white",
           "linecolor": "white",
           "ticks": "",
           "title": {
            "standoff": 15
           },
           "zerolinecolor": "white",
           "zerolinewidth": 2
          }
         }
        }
       }
      },
      "text/html": [
       "<div>                            <div id=\"8f5c5c04-2c32-472e-8265-3f717fdb639d\" class=\"plotly-graph-div\" style=\"height:525px; width:100%;\"></div>            <script type=\"text/javascript\">                require([\"plotly\"], function(Plotly) {                    window.PLOTLYENV=window.PLOTLYENV || {};                                    if (document.getElementById(\"8f5c5c04-2c32-472e-8265-3f717fdb639d\")) {                    Plotly.newPlot(                        \"8f5c5c04-2c32-472e-8265-3f717fdb639d\",                        [{\"customdata\":[[\"$$\",4.5,\"['delivery', 'pickup']\",\"{'address1': '159 Kaiulani Ave', 'address2': 'Ste 105', 'address3': '', 'city': 'Honolulu', 'zip_code': '96815', 'country': 'US', 'state': 'HI', 'display_address': ['159 Kaiulani Ave', 'Ste 105', 'Honolulu, HI 96815']}\"],[\"$$\",5.0,\"['delivery', 'pickup']\",\"{'address1': '1958 Kalakaua Ave', 'address2': 'Fl 2', 'address3': '', 'city': 'Honolulu', 'zip_code': '96815', 'country': 'US', 'state': 'HI', 'display_address': ['1958 Kalakaua Ave', 'Fl 2', 'Honolulu, HI 96815']}\"],[\"$\",4.5,\"[]\",\"{'address1': '2301 Kalakaua Ave', 'address2': '', 'address3': None, 'city': 'Honolulu', 'zip_code': '96815', 'country': 'US', 'state': 'HI', 'display_address': ['2301 Kalakaua Ave', 'Honolulu, HI 96815']}\"],[\"$$\",4.5,\"['delivery', 'pickup']\",\"{'address1': '1778 Ala Moana Blvd', 'address2': 'Ste 101', 'address3': '', 'city': 'Honolulu', 'zip_code': '96815', 'country': 'US', 'state': 'HI', 'display_address': ['1778 Ala Moana Blvd', 'Ste 101', 'Honolulu, HI 96815']}\"],[\"$$\",4.0,\"['delivery', 'pickup']\",\"{'address1': '3045 Monsarrat Ave', 'address2': 'Ste 5', 'address3': '', 'city': 'Honolulu', 'zip_code': '96815', 'country': 'US', 'state': 'HI', 'display_address': ['3045 Monsarrat Ave', 'Ste 5', 'Honolulu, HI 96815']}\"],[null,4.5,\"[]\",\"{'address1': '226 Lewers St', 'address2': None, 'address3': '', 'city': 'Urban Honolulu', 'zip_code': '96815', 'country': 'US', 'state': 'HI', 'display_address': ['226 Lewers St', 'Urban Honolulu, HI 96815']}\"],[\"$$\",4.5,\"['delivery', 'pickup']\",\"{'address1': '407 Seaside Ave', 'address2': None, 'address3': '', 'city': 'Honolulu', 'zip_code': '96815', 'country': 'US', 'state': 'HI', 'display_address': ['407 Seaside Ave', 'Honolulu, HI 96815']}\"],[\"$$\",4.0,\"[]\",\"{'address1': '2552 Kalakaua Ave', 'address2': 'Unit K100D & K100E', 'address3': None, 'city': 'Honolulu', 'zip_code': '96815', 'country': 'US', 'state': 'HI', 'display_address': ['2552 Kalakaua Ave', 'Unit K100D & K100E', 'Honolulu, HI 96815']}\"],[\"$$\",4.5,\"[]\",\"{'address1': '2005 Kalia Rd', 'address2': '', 'address3': 'Hilton Hawaiian Village', 'city': 'Honolulu', 'zip_code': '96815', 'country': 'US', 'state': 'HI', 'display_address': ['2005 Kalia Rd', 'Hilton Hawaiian Village', 'Honolulu, HI 96815']}\"],[\"$$\",4.5,\"['delivery']\",\"{'address1': '150 Kaiulani Ave', 'address2': None, 'address3': None, 'city': 'Honolulu', 'zip_code': '96815', 'country': 'US', 'state': 'HI', 'display_address': ['150 Kaiulani Ave', 'Honolulu, HI 96815']}\"],[null,5.0,\"[]\",\"{'address1': '2161 Kalia rd.', 'address2': 'Ste 110', 'address3': '', 'city': 'Honolulu', 'zip_code': '96815', 'country': 'US', 'state': 'HI', 'display_address': ['2161 Kalia rd.', 'Ste 110', 'Honolulu, HI 96815']}\"],[\"$$\",4.0,\"['delivery']\",\"{'address1': '2586 Kalakaua Ave', 'address2': '', 'address3': '', 'city': 'Honolulu', 'zip_code': '96815', 'country': 'US', 'state': 'HI', 'display_address': ['2586 Kalakaua Ave', 'Honolulu, HI 96815']}\"],[\"$$\",4.5,\"['delivery']\",\"{'address1': '411 Nahua St', 'address2': '', 'address3': '', 'city': 'Honolulu', 'zip_code': '96815', 'country': 'US', 'state': 'HI', 'display_address': ['411 Nahua St', 'Honolulu, HI 96815']}\"],[null,4.5,\"['delivery']\",\"{'address1': '226 Lewers St', 'address2': 'Ste 154', 'address3': '', 'city': 'Honolulu', 'zip_code': '96815', 'country': 'US', 'state': 'HI', 'display_address': ['226 Lewers St', 'Ste 154', 'Honolulu, HI 96815']}\"],[\"$$\",4.5,\"[]\",\"{'address1': '120 Kaiulani Ave', 'address2': None, 'address3': '', 'city': 'Urban Honolulu', 'zip_code': '96815', 'country': 'US', 'state': 'HI', 'display_address': ['120 Kaiulani Ave', 'Urban Honolulu, HI 96815']}\"],[null,4.5,\"[]\",\"{'address1': '1450 Ala Moana Blvd', 'address2': '', 'address3': None, 'city': 'Honolulu', 'zip_code': '96814', 'country': 'US', 'state': 'HI', 'display_address': ['1450 Ala Moana Blvd', 'Honolulu, HI 96814']}\"],[null,4.0,\"['delivery']\",\"{'address1': '2424 Kalakaua Ave', 'address2': '', 'address3': '', 'city': 'Honolulu', 'zip_code': '96815', 'country': 'US', 'state': 'HI', 'display_address': ['2424 Kalakaua Ave', 'Honolulu, HI 96815']}\"],[\"$$\",4.5,\"['delivery', 'pickup']\",\"{'address1': '1956 Ala Moana Blvd', 'address2': '', 'address3': '', 'city': 'Honolulu', 'zip_code': '96815', 'country': 'US', 'state': 'HI', 'display_address': ['1956 Ala Moana Blvd', 'Honolulu, HI 96815']}\"],[\"$$\",4.0,\"['delivery', 'pickup']\",\"{'address1': '1777 Ala Moana Blvd', 'address2': '', 'address3': '', 'city': 'Honolulu', 'zip_code': '96815', 'country': 'US', 'state': 'HI', 'display_address': ['1777 Ala Moana Blvd', 'Honolulu, HI 96815']}\"],[null,5.0,\"[]\",\"{'address1': '333 Royal Hawaiian Ave', 'address2': '', 'address3': None, 'city': 'Honolulu', 'zip_code': '96815', 'country': 'US', 'state': 'HI', 'display_address': ['333 Royal Hawaiian Ave', 'Honolulu, HI 96815']}\"],[\"$$\",4.5,\"['delivery', 'pickup']\",\"{'address1': '661 Keeaumoku St', 'address2': 'Ste 105A', 'address3': '', 'city': 'Honolulu', 'zip_code': '96814', 'country': 'US', 'state': 'HI', 'display_address': ['661 Keeaumoku St', 'Ste 105A', 'Honolulu, HI 96814']}\"],[\"$$\",4.0,\"[]\",\"{'address1': '2301 Kalakaua Ave', 'address2': '', 'address3': None, 'city': 'Honolulu', 'zip_code': '96815', 'country': 'US', 'state': 'HI', 'display_address': ['2301 Kalakaua Ave', 'Honolulu, HI 96815']}\"],[\"$\",4.5,\"['delivery']\",\"{'address1': '3441 Waialae Ave', 'address2': '', 'address3': '', 'city': 'Honolulu', 'zip_code': '96816', 'country': 'US', 'state': 'HI', 'display_address': ['3441 Waialae Ave', 'Honolulu, HI 96816']}\"],[null,4.5,\"[]\",\"{'address1': '2161 Kalia Ave', 'address2': '', 'address3': None, 'city': 'Honolulu', 'zip_code': '96815', 'country': 'US', 'state': 'HI', 'display_address': ['2161 Kalia Ave', 'Honolulu, HI 96815']}\"],[\"$$\",4.0,\"[]\",\"{'address1': '2201 Kalakaua Ave', 'address2': '', 'address3': 'Bldg C, Level 2, C-212', 'city': 'Honolulu', 'zip_code': '96815', 'country': 'US', 'state': 'HI', 'display_address': ['2201 Kalakaua Ave', 'Bldg C, Level 2, C-212', 'Honolulu, HI 96815']}\"],[\"$$\",4.0,\"['delivery']\",\"{'address1': '4210 Waialae Ave', 'address2': '', 'address3': '', 'city': 'Honolulu', 'zip_code': '96816', 'country': 'US', 'state': 'HI', 'display_address': ['4210 Waialae Ave', 'Honolulu, HI 96816']}\"],[\"$$\",4.0,\"['delivery']\",\"{'address1': '1170 Auahi St', 'address2': 'Ste 145', 'address3': '', 'city': 'Honolulu', 'zip_code': '96814', 'country': 'US', 'state': 'HI', 'display_address': ['1170 Auahi St', 'Ste 145', 'Honolulu, HI 96814']}\"],[\"$$\",4.0,\"[]\",\"{'address1': '680 Ala Moana Blvd', 'address2': '', 'address3': '', 'city': 'Honolulu', 'zip_code': '96813', 'country': 'US', 'state': 'HI', 'display_address': ['680 Ala Moana Blvd', 'Honolulu, HI 96813']}\"],[null,5.0,\"[]\",\"{'address1': '2255 Kalakaua Ave', 'address2': '', 'address3': 'Sheraton Kiosk Waikiki', 'city': 'Honolulu', 'zip_code': '96815', 'country': 'US', 'state': 'HI', 'display_address': ['2255 Kalakaua Ave', 'Sheraton Kiosk Waikiki', 'Honolulu, HI 96815']}\"],[null,5.0,\"[]\",\"{'address1': None, 'address2': None, 'address3': None, 'city': 'Honolulu', 'zip_code': '96815', 'country': 'US', 'state': 'HI', 'display_address': ['Honolulu, HI 96815']}\"],[\"$$\",4.5,\"['delivery']\",\"{'address1': '825 Ilaniwai St', 'address2': '', 'address3': None, 'city': 'Honolulu', 'zip_code': '96813', 'country': 'US', 'state': 'HI', 'display_address': ['825 Ilaniwai St', 'Honolulu, HI 96813']}\"],[\"$\",4.5,\"['delivery', 'pickup']\",\"{'address1': '3619 Waialae Ave', 'address2': '', 'address3': '', 'city': 'Honolulu', 'zip_code': '96816', 'country': 'US', 'state': 'HI', 'display_address': ['3619 Waialae Ave', 'Honolulu, HI 96816']}\"],[\"$$\",4.5,\"['delivery']\",\"{'address1': '333 Royal Hawaiian Ave', 'address2': None, 'address3': '', 'city': 'Honolulu', 'zip_code': '96815', 'country': 'US', 'state': 'HI', 'display_address': ['333 Royal Hawaiian Ave', 'Honolulu, HI 96815']}\"],[\"$$\",4.0,\"['delivery', 'pickup']\",\"{'address1': '1450 Ala Moana Blvd', 'address2': 'Level 2, Space 2312', 'address3': '', 'city': 'Honolulu', 'zip_code': '96814', 'country': 'US', 'state': 'HI', 'display_address': ['1450 Ala Moana Blvd', 'Level 2, Space 2312', 'Honolulu, HI 96814']}\"],[null,3.5,\"[]\",\"{'address1': '138 Uluniu Ave', 'address2': None, 'address3': '', 'city': 'Urban Honolulu', 'zip_code': '96815', 'country': 'US', 'state': 'HI', 'display_address': ['138 Uluniu Ave', 'Urban Honolulu, HI 96815']}\"],[\"$$\",4.0,\"['delivery']\",\"{'address1': '1800 Kalakaua Ave', 'address2': None, 'address3': '', 'city': 'Honolulu', 'zip_code': '96815', 'country': 'US', 'state': 'HI', 'display_address': ['1800 Kalakaua Ave', 'Honolulu, HI 96815']}\"],[null,5.0,\"[]\",\"{'address1': '1958 Kal\\u0101kaua Ave', 'address2': 'Fl 2', 'address3': None, 'city': 'Honolulu', 'zip_code': '96815', 'country': 'US', 'state': 'HI', 'display_address': ['1958 Kal\\u0101kaua Ave', 'Fl 2', 'Honolulu, HI 96815']}\"],[\"$$\",4.0,\"['delivery']\",\"{'address1': '1631 Kapiolani Blvd', 'address2': 'Ste 2', 'address3': '', 'city': 'Honolulu', 'zip_code': '96814', 'country': 'US', 'state': 'HI', 'display_address': ['1631 Kapiolani Blvd', 'Ste 2', 'Honolulu, HI 96814']}\"],[\"$$\",4.5,\"['delivery', 'pickup']\",\"{'address1': '2334 S King St', 'address2': 'Ste 103', 'address3': '', 'city': 'Honolulu', 'zip_code': '96826', 'country': 'US', 'state': 'HI', 'display_address': ['2334 S King St', 'Ste 103', 'Honolulu, HI 96826']}\"],[\"$$\",4.0,\"['delivery']\",\"{'address1': '845 Kapahulu Ave', 'address2': '', 'address3': '', 'city': 'Honolulu', 'zip_code': '96816', 'country': 'US', 'state': 'HI', 'display_address': ['845 Kapahulu Ave', 'Honolulu, HI 96816']}\"],[\"$$\",4.0,\"[]\",\"{'address1': '2752 Woodlawn Dr', 'address2': '', 'address3': None, 'city': 'Honolulu', 'zip_code': '96822', 'country': 'US', 'state': 'HI', 'display_address': ['2752 Woodlawn Dr', 'Honolulu, HI 96822']}\"],[\"$\",4.5,\"['delivery']\",\"{'address1': '2904 E Manoa Rd', 'address2': '', 'address3': '', 'city': 'Honolulu', 'zip_code': '96822', 'country': 'US', 'state': 'HI', 'display_address': ['2904 E Manoa Rd', 'Honolulu, HI 96822']}\"],[\"$$\",4.0,\"['delivery', 'pickup']\",\"{'address1': '2469 S King St', 'address2': '', 'address3': None, 'city': 'Honolulu', 'zip_code': '96826', 'country': 'US', 'state': 'HI', 'display_address': ['2469 S King St', 'Honolulu, HI 96826']}\"],[\"$$\",4.5,\"['delivery', 'pickup']\",\"{'address1': '3221 Waialae Ave', 'address2': 'Ste A-3', 'address3': None, 'city': 'Honolulu', 'zip_code': '96816', 'country': 'US', 'state': 'HI', 'display_address': ['3221 Waialae Ave', 'Ste A-3', 'Honolulu, HI 96816']}\"],[\"$$\",4.0,\"['delivery', 'pickup']\",\"{'address1': '1009 Kapiolani Blvd', 'address2': '', 'address3': '', 'city': 'Honolulu', 'zip_code': '96814', 'country': 'US', 'state': 'HI', 'display_address': ['1009 Kapiolani Blvd', 'Honolulu, HI 96814']}\"],[null,5.0,\"[]\",\"{'address1': '1020 Keeaumoku St', 'address2': '', 'address3': None, 'city': 'Honolulu', 'zip_code': '96814', 'country': 'US', 'state': 'HI', 'display_address': ['1020 Keeaumoku St', 'Honolulu, HI 96814']}\"],[\"$$\",3.5,\"['delivery', 'pickup']\",\"{'address1': '1450 Ala Moana Blvd', 'address2': 'Level 3', 'address3': '', 'city': 'Honolulu', 'zip_code': '96814', 'country': 'US', 'state': 'HI', 'display_address': ['1450 Ala Moana Blvd', 'Level 3', 'Honolulu, HI 96814']}\"],[\"$$\",4.0,\"['delivery', 'pickup']\",\"{'address1': '2525 South King St', 'address2': '', 'address3': '', 'city': 'Honolulu', 'zip_code': '96826', 'country': 'US', 'state': 'HI', 'display_address': ['2525 South King St', 'Honolulu, HI 96826']}\"],[\"$$\",4.5,\"[]\",\"{'address1': '4303 Diamond Head Rd', 'address2': None, 'address3': None, 'city': 'Honolulu', 'zip_code': '96816', 'country': 'US', 'state': 'HI', 'display_address': ['4303 Diamond Head Rd', 'Honolulu, HI 96816']}\"],[\"$$\",3.5,\"[]\",\"{'address1': '388 Kamakee St', 'address2': '', 'address3': None, 'city': 'Honolulu', 'zip_code': '96814', 'country': 'US', 'state': 'HI', 'display_address': ['388 Kamakee St', 'Honolulu, HI 96814']}\"],[\"$\",4.0,\"['delivery', 'pickup']\",\"{'address1': '1450 Ala Moana Blvd', 'address2': 'Ste 1375', 'address3': '', 'city': 'Honolulu', 'zip_code': '96814', 'country': 'US', 'state': 'HI', 'display_address': ['1450 Ala Moana Blvd', 'Ste 1375', 'Honolulu, HI 96814']}\"],[\"$$\",4.5,\"['delivery', 'pickup']\",\"{'address1': '2239 S King St', 'address2': '', 'address3': '', 'city': 'Honolulu', 'zip_code': '96826', 'country': 'US', 'state': 'HI', 'display_address': ['2239 S King St', 'Honolulu, HI 96826']}\"],[\"$$\",4.0,\"['delivery', 'pickup']\",\"{'address1': '500 Keawe St', 'address2': '', 'address3': None, 'city': 'Honolulu', 'zip_code': '96818', 'country': 'US', 'state': 'HI', 'display_address': ['500 Keawe St', 'Honolulu, HI 96818']}\"],[\"$\",4.0,\"['delivery', 'pickup']\",\"{'address1': '1199 Dillingham Blvd', 'address2': 'Ste C-104', 'address3': '', 'city': 'Honolulu', 'zip_code': '96817', 'country': 'US', 'state': 'HI', 'display_address': ['1199 Dillingham Blvd', 'Ste C-104', 'Honolulu, HI 96817']}\"],[\"$$\",3.0,\"['delivery', 'pickup']\",\"{'address1': '1108 Auahi St', 'address2': None, 'address3': '', 'city': 'Honolulu', 'zip_code': '96814', 'country': 'US', 'state': 'HI', 'display_address': ['1108 Auahi St', 'Honolulu, HI 96814']}\"],[null,5.0,\"[]\",\"{'address1': '333 Seaside Ave', 'address2': None, 'address3': '', 'city': 'Urban Honolulu', 'zip_code': '96815', 'country': 'US', 'state': 'HI', 'display_address': ['333 Seaside Ave', 'Urban Honolulu, HI 96815']}\"],[\"$$\",4.5,\"['delivery']\",\"{'address1': '725 Kapiolani Blvd', 'address2': 'Ste C122', 'address3': '', 'city': 'Honolulu', 'zip_code': '96813', 'country': 'US', 'state': 'HI', 'display_address': ['725 Kapiolani Blvd', 'Ste C122', 'Honolulu, HI 96813']}\"],[\"$$\",4.5,\"[]\",\"{'address1': '3392 Waialae Ave', 'address2': '', 'address3': '', 'city': 'Honolulu', 'zip_code': '96816', 'country': 'US', 'state': 'HI', 'display_address': ['3392 Waialae Ave', 'Honolulu, HI 96816']}\"],[\"$$\",4.5,\"['delivery', 'pickup']\",\"{'address1': '725 Kinau St', 'address2': '', 'address3': None, 'city': 'Honolulu', 'zip_code': '96813', 'country': 'US', 'state': 'HI', 'display_address': ['725 Kinau St', 'Honolulu, HI 96813']}\"],[null,5.0,\"[]\",\"{'address1': '4303 Diamond Head Rd', 'address2': '', 'address3': 'KCC Farmers Market', 'city': 'Honolulu', 'zip_code': '96816', 'country': 'US', 'state': 'HI', 'display_address': ['4303 Diamond Head Rd', 'KCC Farmers Market', 'Honolulu, HI 96816']}\"],[\"$$\",4.5,\"[]\",\"{'address1': '2320 S King St', 'address2': 'Unit B-4', 'address3': None, 'city': 'Honolulu', 'zip_code': '96826', 'country': 'US', 'state': 'HI', 'display_address': ['2320 S King St', 'Unit B-4', 'Honolulu, HI 96826']}\"],[\"$\",4.5,\"[]\",\"{'address1': '1111-C Fort St Mall', 'address2': '', 'address3': '', 'city': 'Honolulu', 'zip_code': '96813', 'country': 'US', 'state': 'HI', 'display_address': ['1111-C Fort St Mall', 'Honolulu, HI 96813']}\"],[\"$\",4.5,\"[]\",\"{'address1': '395-429 Piikoi St', 'address2': '', 'address3': '', 'city': 'Honolulu', 'zip_code': '96814', 'country': 'US', 'state': 'HI', 'display_address': ['395-429 Piikoi St', 'Honolulu, HI 96814']}\"],[\"$$\",4.0,\"['pickup', 'delivery']\",\"{'address1': '685 Auahi St', 'address2': None, 'address3': '', 'city': 'Honolulu', 'zip_code': '96813', 'country': 'US', 'state': 'HI', 'display_address': ['685 Auahi St', 'Honolulu, HI 96813']}\"],[\"$$\",4.0,\"['pickup', 'delivery']\",\"{'address1': '510 Piikoi St', 'address2': 'Ste 100', 'address3': '', 'city': 'Honolulu', 'zip_code': '96814', 'country': 'US', 'state': 'HI', 'display_address': ['510 Piikoi St', 'Ste 100', 'Honolulu, HI 96814']}\"],[null,4.0,\"[]\",\"{'address1': '1130 N Nimitz Hwy', 'address2': 'Ste C110', 'address3': '', 'city': 'Honolulu', 'zip_code': '96817', 'country': 'US', 'state': 'HI', 'display_address': ['1130 N Nimitz Hwy', 'Ste C110', 'Honolulu, HI 96817']}\"],[\"$$\",4.5,\"['pickup', 'delivery']\",\"{'address1': '400 Keawe St', 'address2': 'Ste 107', 'address3': None, 'city': 'Honolulu', 'zip_code': '96813', 'country': 'US', 'state': 'HI', 'display_address': ['400 Keawe St', 'Ste 107', 'Honolulu, HI 96813']}\"],[\"$\",4.5,\"['delivery']\",\"{'address1': '1111 Dillingham Blvd', 'address2': 'Unit E-2', 'address3': '', 'city': 'Honolulu', 'zip_code': '96817', 'country': 'US', 'state': 'HI', 'display_address': ['1111 Dillingham Blvd', 'Unit E-2', 'Honolulu, HI 96817']}\"],[null,5.0,\"['pickup', 'delivery']\",\"{'address1': '100 N Beretania St', 'address2': 'Ste 169', 'address3': None, 'city': 'Honolulu', 'zip_code': '96817', 'country': 'US', 'state': 'HI', 'display_address': ['100 N Beretania St', 'Ste 169', 'Honolulu, HI 96817']}\"],[\"$$\",4.0,\"['delivery']\",\"{'address1': '680 Ala Moana Blvd', 'address2': 'Ste 105', 'address3': '', 'city': 'Honolulu', 'zip_code': '96813', 'country': 'US', 'state': 'HI', 'display_address': ['680 Ala Moana Blvd', 'Ste 105', 'Honolulu, HI 96813']}\"],[null,5.0,\"[]\",\"{'address1': '2290 Kalakaua Ave', 'address2': '', 'address3': '', 'city': 'Honolulu', 'zip_code': '96815', 'country': 'US', 'state': 'HI', 'display_address': ['2290 Kalakaua Ave', 'Honolulu, HI 96815']}\"],[\"$$\",4.5,\"['pickup', 'delivery']\",\"{'address1': '1016 Maunakea St', 'address2': '', 'address3': '', 'city': 'Honolulu', 'zip_code': '96817', 'country': 'US', 'state': 'HI', 'display_address': ['1016 Maunakea St', 'Honolulu, HI 96817']}\"],[\"$$\",4.0,\"['delivery']\",\"{'address1': '1001 Bishop St', 'address2': 'Ste 110', 'address3': '', 'city': 'Honolulu', 'zip_code': '96813', 'country': 'US', 'state': 'HI', 'display_address': ['1001 Bishop St', 'Ste 110', 'Honolulu, HI 96813']}\"],[\"$$\",4.5,\"['delivery']\",\"{'address1': '909 Kapiolani Blvd', 'address2': 'Ste B', 'address3': '', 'city': 'Honolulu', 'zip_code': '96814', 'country': 'US', 'state': 'HI', 'display_address': ['909 Kapiolani Blvd', 'Ste B', 'Honolulu, HI 96814']}\"],[\"$$\",4.0,\"['delivery']\",\"{'address1': '1450 Ala Moana Blvd', 'address2': 'Ste 2271', 'address3': None, 'city': 'Honolulu', 'zip_code': '96814', 'country': 'US', 'state': 'HI', 'display_address': ['1450 Ala Moana Blvd', 'Ste 2271', 'Honolulu, HI 96814']}\"],[null,5.0,\"[]\",\"{'address1': '700 Bishop St', 'address2': '', 'address3': None, 'city': 'Honolulu', 'zip_code': '96813', 'country': 'US', 'state': 'HI', 'display_address': ['700 Bishop St', 'Honolulu, HI 96813']}\"],[\"$$\",3.5,\"[]\",\"{'address1': \\\"4211 Wai'alae Ave\\\", 'address2': 'Ste 2000', 'address3': '', 'city': 'Honolulu', 'zip_code': '96816', 'country': 'US', 'state': 'HI', 'display_address': [\\\"4211 Wai'alae Ave\\\", 'Ste 2000', 'Honolulu, HI 96816']}\"],[\"$$\",3.5,\"['pickup', 'delivery']\",\"{'address1': '625 Kapahulu Ave', 'address2': '', 'address3': '', 'city': 'Honolulu', 'zip_code': '96816', 'country': 'US', 'state': 'HI', 'display_address': ['625 Kapahulu Ave', 'Honolulu, HI 96816']}\"],[\"$$\",3.5,\"[]\",\"{'address1': '388 Kamakee St', 'address2': 'Ste 100', 'address3': None, 'city': 'Honolulu', 'zip_code': '96814', 'country': 'US', 'state': 'HI', 'display_address': ['388 Kamakee St', 'Ste 100', 'Honolulu, HI 96814']}\"],[\"$$\",4.0,\"['pickup', 'delivery']\",\"{'address1': '555 N King St', 'address2': 'Ste 113', 'address3': '', 'city': 'Honolulu', 'zip_code': '96817', 'country': 'US', 'state': 'HI', 'display_address': ['555 N King St', 'Ste 113', 'Honolulu, HI 96817']}\"],[\"$\",2.5,\"['delivery', 'pickup']\",\"{'address1': '2255 Kuhio Ave', 'address2': 'Space 6', 'address3': None, 'city': 'Honolulu (Oahu)', 'zip_code': '96815', 'country': 'US', 'state': 'HI', 'display_address': ['2255 Kuhio Ave', 'Space 6', 'Honolulu (Oahu), HI 96815']}\"],[null,5.0,\"[]\",\"{'address1': '438 Hobron Ln', 'address2': 'Ste 216', 'address3': None, 'city': 'Honolulu', 'zip_code': '96815', 'country': 'US', 'state': 'HI', 'display_address': ['438 Hobron Ln', 'Ste 216', 'Honolulu, HI 96815']}\"],[null,5.0,\"[]\",\"{'address1': '777 Ward Ave', 'address2': '', 'address3': 'Honolulu Farmers Market', 'city': 'Honolulu', 'zip_code': '96814', 'country': 'US', 'state': 'HI', 'display_address': ['777 Ward Ave', 'Honolulu Farmers Market', 'Honolulu, HI 96814']}\"],[null,3.5,\"[]\",\"{'address1': '1329 Lusitana St', 'address2': '', 'address3': None, 'city': 'Honolulu', 'zip_code': '96813', 'country': 'US', 'state': 'HI', 'display_address': ['1329 Lusitana St', 'Honolulu, HI 96813']}\"],[\"$$\",3.0,\"['delivery', 'pickup']\",\"{'address1': '4211 Waialae Ave', 'address2': '', 'address3': '', 'city': 'Honolulu', 'zip_code': '96816', 'country': 'US', 'state': 'HI', 'display_address': ['4211 Waialae Ave', 'Honolulu, HI 96816']}\"],[\"$$\",3.0,\"['delivery', 'pickup']\",\"{'address1': '1450 Ala Moana Blvd', 'address2': '', 'address3': '', 'city': 'Honolulu', 'zip_code': '96814', 'country': 'US', 'state': 'HI', 'display_address': ['1450 Ala Moana Blvd', 'Honolulu, HI 96814']}\"],[\"$$\",3.0,\"['delivery']\",\"{'address1': '1450 Ala Moana Blvd', 'address2': 'Fl 3', 'address3': '', 'city': 'Honolulu', 'zip_code': '96814', 'country': 'US', 'state': 'HI', 'display_address': ['1450 Ala Moana Blvd', 'Fl 3', 'Honolulu, HI 96814']}\"],[null,4.5,\"[]\",\"{'address1': '3574 Waialae Ave', 'address2': '', 'address3': None, 'city': 'Honolulu', 'zip_code': '96816', 'country': 'US', 'state': 'HI', 'display_address': ['3574 Waialae Ave', 'Honolulu, HI 96816']}\"],[\"$\",3.0,\"[]\",\"{'address1': '2465 Campus Rd', 'address2': 'Rm  220-A', 'address3': 'Sodexho Campus Svcs', 'city': 'Honolulu', 'zip_code': '96822', 'country': 'US', 'state': 'HI', 'display_address': ['2465 Campus Rd', 'Rm  220-A', 'Sodexho Campus Svcs', 'Honolulu, HI 96822']}\"],[null,2.5,\"[]\",\"{'address1': '500 Ala Moana Blvd', 'address2': None, 'address3': '', 'city': 'Honolulu', 'zip_code': '96813', 'country': 'US', 'state': 'HI', 'display_address': ['500 Ala Moana Blvd', 'Honolulu, HI 96813']}\"],[\"$\",4.0,\"[]\",\"{'address1': '1450 Ala Moana Blvd', 'address2': None, 'address3': 'Makai Food Court', 'city': 'Honolulu', 'zip_code': '96814', 'country': 'US', 'state': 'HI', 'display_address': ['1450 Ala Moana Blvd', 'Makai Food Court', 'Honolulu, HI 96814']}\"]],\"hovertemplate\":\"<b>%{hovertext}</b><br><br>latitude=%{lat}<br>longitude=%{lon}<br>price=%{customdata[0]}<br>rating=%{customdata[1]}<br>transactions=%{customdata[2]}<br>location=%{customdata[3]}<extra></extra>\",\"hovertext\":[\"ALO Cafe Hawaii\",\"Waffle and Berry\",\"Ban\\u00e1n - Waikiki Beach Shack\",\"Tropical Tribe\",\"Da Cove Health Bar & Cafe\",\"Nalu Health Bar & Cafe\",\"Aloh Health Bar & Cafe\",\"Island Vintage Shave Ice\",\"Aloha Bowls and Tea\",\"Hawaiian Aroma Caffe - Ohana East\",\"Tropical Tribe\",\"Tucker & Bevvy\",\"Coffee Shop 831\",\"Big Wave Dave Surf & Coffee\",\"Kai Fresh\",\"The Sunrise Shack\",\"Tucker & Bevvy\",\"Hiking Hawaii Cafe\",\"Hawaiian Aroma Caffe - The Ilikai\",\"Pineapple House\",\"HiBlend Health Bar & Cafe\",\"Island Vintage Wine Bar\",\"Leahi Health Kaimuki\",\"Banan - Waikiki Shore\",\"Island Vintage Organic & Natural\",\"Lanikai Juice\",\"Nalu Health Bar & Cafe\",\"Lanikai Juice\",\"Honolulu Coffee Kiosk - Sheraton Waikiki\",\"Honolulu Pineapple\",\"Cafe Villamor\",\"Jewel or Juice\",\"Topped Waikiki\",\"Blue Hawaii Lifestyle\",\"Lei's Cafe Melia\",\"Honolulu Coffee Experience Center\",\"Ohana Hale Waikiki\",\"Olena Cafe\",\"Fresh Bites\",\"Kaimana Farm Cafe\",\"Leahi Health - Manoa\",\"Andy's Sandwiches & Smoothies\",\"Da Spot\",\"Coco Bloom Kitchen\",\"Bluetree Cafe - Honolulu\",\"Aunty Gigi\\u2019s Cafe\",\"Island Brew Coffeehouse\",\"Down to Earth Organic & Natural - Honolulu\",\"Honolulu Pineapple\",\"Lanikai Juice\",\"Pressed\",\"Peace Caf\\u00e9\",\"Down to Earth Organic & Natural - Kakaako\",\"Jay's Cafe\",\"Island Brew Coffeehouse\",\"Kai Poke Waikiki\",\"Cooke Street Market\",\"Juicy Brew\",\"The Valley Health Bar\",\"Hua_Mochialoha\",\"Niu Soft Serve\",\"Vita Juice Hawaii\",\"Ebar\",\"Redfish Poke Bar\",\"Teapresso Bar\",\"Hideaway Cafe\",\"Sun Tea Mix\",\"Hana Tea\",\"Revive Cafe\",\"Highway Inn Kaka'ako\",\"Crown International Trade\",\"Domo Cafe\",\"Umeke Market\",\"Keiki and the Pineapple\",\"HiTEA Cafe\",\"Cafe Daisy\",\"Whole Foods Market\",\"Jamba - Kapahulu\",\"Whole Foods Market\",\"S7-Icy Bubble\",\"Jamba - Honolulu\",\"Refreshment Corner\",\"Hawaiian Crown Juice\",\"CQ2 Bistro\",\"Jamba\",\"Jamba\",\"Honolulu Coffee Kiosk - Ala Moana Cafe\",\"Yoga Under the Palms Kaimuk\\u012b\",\"Jamba Juice\",\"808 Juice Bar & Grill\",\"Island Crepes and Lemonade\"],\"lat\":[21.27713,21.28594,21.2772821247839,21.28557897099554,21.26878,21.279401,21.280353794831946,21.272783224863293,21.28298862765927,21.27771853881159,21.278066211341383,21.27176916049238,21.2793199,21.278767,21.27743,21.29053,21.2761299,21.28601,21.284284973453296,21.27992,21.2946063518124,21.278614,21.284,21.27849,21.2782105366627,21.27903,21.29331,21.2978277788212,21.2782504,21.275592906487645,21.29854,21.2825673,21.27992,21.29196,21.27615,21.2901022243024,21.285963616124704,21.2913545,21.293939768036832,21.2830138,21.30792,21.309936,21.29244,21.286873,21.296635,21.29932428339775,21.291777,21.292186,21.27067,21.294411,21.29137,21.29356,21.300492,21.322154288145956,21.29401620600618,21.279396,21.30086,21.28534,21.305558579020783,21.27067,21.29366,21.30991,21.292843177881167,21.298249,21.29419,21.31877598386973,21.29944,21.3213500016418,21.314806879538153,21.297905799025077,21.2781668,21.31209,21.3088966425369,21.29818,21.2907035965638,21.30776,21.27762880898066,21.278924,21.294663,21.31859,21.2796754,21.28716975788957,21.2989612,21.307549,21.27699,21.290836856803516,21.290581,21.28336641159739,21.298175,21.30067,21.2911581285241],\"legendgroup\":\"\",\"lon\":[-157.82433,-157.83275,-157.827768717774,-157.838434,-157.8136199,-157.831178,-157.8266827,-157.82298618834332,-157.83612623949188,-157.82478980861706,-157.8334924846517,-157.8223953024108,-157.82505,-157.831514,-157.82579,-157.84358,-157.82543,-157.83429,-157.8387676731373,-157.82838,-157.84157767382,-157.829055,-157.80226,-157.83307,-157.828626155706,-157.787112,-157.85067,-157.861530796999,-157.829898,-157.82267544877502,-157.85642,-157.7989902,-157.82838,-157.845623,-157.82418,-157.835115187732,-157.83277,-157.839093,-157.8258444,-157.8138363,-157.81035,-157.810301,-157.82422,-157.807672,-157.851389,-157.8402464009662,-157.845918,-157.823307,-157.80006,-157.8522843,-157.84596,-157.8272299,-157.859898,-157.87539474184052,-157.85236803036292,-157.827461,-157.85512,-157.80353,-157.85161066319955,-157.80006,-157.82631,-157.86086,-157.84683497373638,-157.86094497500915,-157.84677,-157.8747341220131,-157.861217,-157.87328671668,-157.86083384368902,-157.8615899705428,-157.8276833,-157.8635899,-157.859993212164,-157.85257000000001,-157.842018529773,-157.86351,-157.7864042329229,-157.813762,-157.852284,-157.86535,-157.8269923,-157.83574383705854,-157.851327,-157.852096,-157.78641,-157.84381784361452,-157.844906,-157.7995911887889,-157.818853,-157.86275,-157.844038903713],\"marker\":{\"color\":\"#636efa\"},\"mode\":\"markers\",\"name\":\"\",\"showlegend\":false,\"subplot\":\"mapbox\",\"type\":\"scattermapbox\"}],                        {\"template\":{\"data\":{\"histogram2dcontour\":[{\"type\":\"histogram2dcontour\",\"colorbar\":{\"outlinewidth\":0,\"ticks\":\"\"},\"colorscale\":[[0.0,\"#0d0887\"],[0.1111111111111111,\"#46039f\"],[0.2222222222222222,\"#7201a8\"],[0.3333333333333333,\"#9c179e\"],[0.4444444444444444,\"#bd3786\"],[0.5555555555555556,\"#d8576b\"],[0.6666666666666666,\"#ed7953\"],[0.7777777777777778,\"#fb9f3a\"],[0.8888888888888888,\"#fdca26\"],[1.0,\"#f0f921\"]]}],\"choropleth\":[{\"type\":\"choropleth\",\"colorbar\":{\"outlinewidth\":0,\"ticks\":\"\"}}],\"histogram2d\":[{\"type\":\"histogram2d\",\"colorbar\":{\"outlinewidth\":0,\"ticks\":\"\"},\"colorscale\":[[0.0,\"#0d0887\"],[0.1111111111111111,\"#46039f\"],[0.2222222222222222,\"#7201a8\"],[0.3333333333333333,\"#9c179e\"],[0.4444444444444444,\"#bd3786\"],[0.5555555555555556,\"#d8576b\"],[0.6666666666666666,\"#ed7953\"],[0.7777777777777778,\"#fb9f3a\"],[0.8888888888888888,\"#fdca26\"],[1.0,\"#f0f921\"]]}],\"heatmap\":[{\"type\":\"heatmap\",\"colorbar\":{\"outlinewidth\":0,\"ticks\":\"\"},\"colorscale\":[[0.0,\"#0d0887\"],[0.1111111111111111,\"#46039f\"],[0.2222222222222222,\"#7201a8\"],[0.3333333333333333,\"#9c179e\"],[0.4444444444444444,\"#bd3786\"],[0.5555555555555556,\"#d8576b\"],[0.6666666666666666,\"#ed7953\"],[0.7777777777777778,\"#fb9f3a\"],[0.8888888888888888,\"#fdca26\"],[1.0,\"#f0f921\"]]}],\"heatmapgl\":[{\"type\":\"heatmapgl\",\"colorbar\":{\"outlinewidth\":0,\"ticks\":\"\"},\"colorscale\":[[0.0,\"#0d0887\"],[0.1111111111111111,\"#46039f\"],[0.2222222222222222,\"#7201a8\"],[0.3333333333333333,\"#9c179e\"],[0.4444444444444444,\"#bd3786\"],[0.5555555555555556,\"#d8576b\"],[0.6666666666666666,\"#ed7953\"],[0.7777777777777778,\"#fb9f3a\"],[0.8888888888888888,\"#fdca26\"],[1.0,\"#f0f921\"]]}],\"contourcarpet\":[{\"type\":\"contourcarpet\",\"colorbar\":{\"outlinewidth\":0,\"ticks\":\"\"}}],\"contour\":[{\"type\":\"contour\",\"colorbar\":{\"outlinewidth\":0,\"ticks\":\"\"},\"colorscale\":[[0.0,\"#0d0887\"],[0.1111111111111111,\"#46039f\"],[0.2222222222222222,\"#7201a8\"],[0.3333333333333333,\"#9c179e\"],[0.4444444444444444,\"#bd3786\"],[0.5555555555555556,\"#d8576b\"],[0.6666666666666666,\"#ed7953\"],[0.7777777777777778,\"#fb9f3a\"],[0.8888888888888888,\"#fdca26\"],[1.0,\"#f0f921\"]]}],\"surface\":[{\"type\":\"surface\",\"colorbar\":{\"outlinewidth\":0,\"ticks\":\"\"},\"colorscale\":[[0.0,\"#0d0887\"],[0.1111111111111111,\"#46039f\"],[0.2222222222222222,\"#7201a8\"],[0.3333333333333333,\"#9c179e\"],[0.4444444444444444,\"#bd3786\"],[0.5555555555555556,\"#d8576b\"],[0.6666666666666666,\"#ed7953\"],[0.7777777777777778,\"#fb9f3a\"],[0.8888888888888888,\"#fdca26\"],[1.0,\"#f0f921\"]]}],\"mesh3d\":[{\"type\":\"mesh3d\",\"colorbar\":{\"outlinewidth\":0,\"ticks\":\"\"}}],\"scatter\":[{\"fillpattern\":{\"fillmode\":\"overlay\",\"size\":10,\"solidity\":0.2},\"type\":\"scatter\"}],\"parcoords\":[{\"type\":\"parcoords\",\"line\":{\"colorbar\":{\"outlinewidth\":0,\"ticks\":\"\"}}}],\"scatterpolargl\":[{\"type\":\"scatterpolargl\",\"marker\":{\"colorbar\":{\"outlinewidth\":0,\"ticks\":\"\"}}}],\"bar\":[{\"error_x\":{\"color\":\"#2a3f5f\"},\"error_y\":{\"color\":\"#2a3f5f\"},\"marker\":{\"line\":{\"color\":\"#E5ECF6\",\"width\":0.5},\"pattern\":{\"fillmode\":\"overlay\",\"size\":10,\"solidity\":0.2}},\"type\":\"bar\"}],\"scattergeo\":[{\"type\":\"scattergeo\",\"marker\":{\"colorbar\":{\"outlinewidth\":0,\"ticks\":\"\"}}}],\"scatterpolar\":[{\"type\":\"scatterpolar\",\"marker\":{\"colorbar\":{\"outlinewidth\":0,\"ticks\":\"\"}}}],\"histogram\":[{\"marker\":{\"pattern\":{\"fillmode\":\"overlay\",\"size\":10,\"solidity\":0.2}},\"type\":\"histogram\"}],\"scattergl\":[{\"type\":\"scattergl\",\"marker\":{\"colorbar\":{\"outlinewidth\":0,\"ticks\":\"\"}}}],\"scatter3d\":[{\"type\":\"scatter3d\",\"line\":{\"colorbar\":{\"outlinewidth\":0,\"ticks\":\"\"}},\"marker\":{\"colorbar\":{\"outlinewidth\":0,\"ticks\":\"\"}}}],\"scattermapbox\":[{\"type\":\"scattermapbox\",\"marker\":{\"colorbar\":{\"outlinewidth\":0,\"ticks\":\"\"}}}],\"scatterternary\":[{\"type\":\"scatterternary\",\"marker\":{\"colorbar\":{\"outlinewidth\":0,\"ticks\":\"\"}}}],\"scattercarpet\":[{\"type\":\"scattercarpet\",\"marker\":{\"colorbar\":{\"outlinewidth\":0,\"ticks\":\"\"}}}],\"carpet\":[{\"aaxis\":{\"endlinecolor\":\"#2a3f5f\",\"gridcolor\":\"white\",\"linecolor\":\"white\",\"minorgridcolor\":\"white\",\"startlinecolor\":\"#2a3f5f\"},\"baxis\":{\"endlinecolor\":\"#2a3f5f\",\"gridcolor\":\"white\",\"linecolor\":\"white\",\"minorgridcolor\":\"white\",\"startlinecolor\":\"#2a3f5f\"},\"type\":\"carpet\"}],\"table\":[{\"cells\":{\"fill\":{\"color\":\"#EBF0F8\"},\"line\":{\"color\":\"white\"}},\"header\":{\"fill\":{\"color\":\"#C8D4E3\"},\"line\":{\"color\":\"white\"}},\"type\":\"table\"}],\"barpolar\":[{\"marker\":{\"line\":{\"color\":\"#E5ECF6\",\"width\":0.5},\"pattern\":{\"fillmode\":\"overlay\",\"size\":10,\"solidity\":0.2}},\"type\":\"barpolar\"}],\"pie\":[{\"automargin\":true,\"type\":\"pie\"}]},\"layout\":{\"autotypenumbers\":\"strict\",\"colorway\":[\"#636efa\",\"#EF553B\",\"#00cc96\",\"#ab63fa\",\"#FFA15A\",\"#19d3f3\",\"#FF6692\",\"#B6E880\",\"#FF97FF\",\"#FECB52\"],\"font\":{\"color\":\"#2a3f5f\"},\"hovermode\":\"closest\",\"hoverlabel\":{\"align\":\"left\"},\"paper_bgcolor\":\"white\",\"plot_bgcolor\":\"#E5ECF6\",\"polar\":{\"bgcolor\":\"#E5ECF6\",\"angularaxis\":{\"gridcolor\":\"white\",\"linecolor\":\"white\",\"ticks\":\"\"},\"radialaxis\":{\"gridcolor\":\"white\",\"linecolor\":\"white\",\"ticks\":\"\"}},\"ternary\":{\"bgcolor\":\"#E5ECF6\",\"aaxis\":{\"gridcolor\":\"white\",\"linecolor\":\"white\",\"ticks\":\"\"},\"baxis\":{\"gridcolor\":\"white\",\"linecolor\":\"white\",\"ticks\":\"\"},\"caxis\":{\"gridcolor\":\"white\",\"linecolor\":\"white\",\"ticks\":\"\"}},\"coloraxis\":{\"colorbar\":{\"outlinewidth\":0,\"ticks\":\"\"}},\"colorscale\":{\"sequential\":[[0.0,\"#0d0887\"],[0.1111111111111111,\"#46039f\"],[0.2222222222222222,\"#7201a8\"],[0.3333333333333333,\"#9c179e\"],[0.4444444444444444,\"#bd3786\"],[0.5555555555555556,\"#d8576b\"],[0.6666666666666666,\"#ed7953\"],[0.7777777777777778,\"#fb9f3a\"],[0.8888888888888888,\"#fdca26\"],[1.0,\"#f0f921\"]],\"sequentialminus\":[[0.0,\"#0d0887\"],[0.1111111111111111,\"#46039f\"],[0.2222222222222222,\"#7201a8\"],[0.3333333333333333,\"#9c179e\"],[0.4444444444444444,\"#bd3786\"],[0.5555555555555556,\"#d8576b\"],[0.6666666666666666,\"#ed7953\"],[0.7777777777777778,\"#fb9f3a\"],[0.8888888888888888,\"#fdca26\"],[1.0,\"#f0f921\"]],\"diverging\":[[0,\"#8e0152\"],[0.1,\"#c51b7d\"],[0.2,\"#de77ae\"],[0.3,\"#f1b6da\"],[0.4,\"#fde0ef\"],[0.5,\"#f7f7f7\"],[0.6,\"#e6f5d0\"],[0.7,\"#b8e186\"],[0.8,\"#7fbc41\"],[0.9,\"#4d9221\"],[1,\"#276419\"]]},\"xaxis\":{\"gridcolor\":\"white\",\"linecolor\":\"white\",\"ticks\":\"\",\"title\":{\"standoff\":15},\"zerolinecolor\":\"white\",\"automargin\":true,\"zerolinewidth\":2},\"yaxis\":{\"gridcolor\":\"white\",\"linecolor\":\"white\",\"ticks\":\"\",\"title\":{\"standoff\":15},\"zerolinecolor\":\"white\",\"automargin\":true,\"zerolinewidth\":2},\"scene\":{\"xaxis\":{\"backgroundcolor\":\"#E5ECF6\",\"gridcolor\":\"white\",\"linecolor\":\"white\",\"showbackground\":true,\"ticks\":\"\",\"zerolinecolor\":\"white\",\"gridwidth\":2},\"yaxis\":{\"backgroundcolor\":\"#E5ECF6\",\"gridcolor\":\"white\",\"linecolor\":\"white\",\"showbackground\":true,\"ticks\":\"\",\"zerolinecolor\":\"white\",\"gridwidth\":2},\"zaxis\":{\"backgroundcolor\":\"#E5ECF6\",\"gridcolor\":\"white\",\"linecolor\":\"white\",\"showbackground\":true,\"ticks\":\"\",\"zerolinecolor\":\"white\",\"gridwidth\":2}},\"shapedefaults\":{\"line\":{\"color\":\"#2a3f5f\"}},\"annotationdefaults\":{\"arrowcolor\":\"#2a3f5f\",\"arrowhead\":0,\"arrowwidth\":1},\"geo\":{\"bgcolor\":\"white\",\"landcolor\":\"#E5ECF6\",\"subunitcolor\":\"white\",\"showland\":true,\"showlakes\":true,\"lakecolor\":\"white\"},\"title\":{\"x\":0.05},\"mapbox\":{\"style\":\"light\"}}},\"mapbox\":{\"domain\":{\"x\":[0.0,1.0],\"y\":[0.0,1.0]},\"center\":{\"lat\":21.29009980671322,\"lon\":-157.83522566003884},\"zoom\":8,\"style\":\"open-street-map\"},\"legend\":{\"tracegroupgap\":0},\"margin\":{\"t\":60}},                        {\"responsive\": true}                    ).then(function(){\n",
       "                            \n",
       "var gd = document.getElementById('8f5c5c04-2c32-472e-8265-3f717fdb639d');\n",
       "var x = new MutationObserver(function (mutations, observer) {{\n",
       "        var display = window.getComputedStyle(gd).display;\n",
       "        if (!display || display === 'none') {{\n",
       "            console.log([gd, 'removed!']);\n",
       "            Plotly.purge(gd);\n",
       "            observer.disconnect();\n",
       "        }}\n",
       "}});\n",
       "\n",
       "// Listen for the removal of the full notebook cells\n",
       "var notebookContainer = gd.closest('#notebook-container');\n",
       "if (notebookContainer) {{\n",
       "    x.observe(notebookContainer, {childList: true});\n",
       "}}\n",
       "\n",
       "// Listen for the clearing of the current output cell\n",
       "var outputEl = gd.closest('.output');\n",
       "if (outputEl) {{\n",
       "    x.observe(outputEl, {childList: true});\n",
       "}}\n",
       "\n",
       "                        })                };                });            </script>        </div>"
      ]
     },
     "metadata": {},
     "output_type": "display_data"
    }
   ],
   "source": [
    "## add hover_name (name) and hover_data for price,rating,location\n",
    "px.scatter_mapbox(df, lat='latitude', lon='longitude', mapbox_style = 'open-street-map', \n",
    "                  hover_name = 'name', hover_data = ['price', 'rating', 'transactions', 'location'])"
   ]
  },
  {
   "cell_type": "markdown",
   "id": "09d744ca",
   "metadata": {},
   "source": [
    "### Fixing the Location Column"
   ]
  },
  {
   "cell_type": "code",
   "execution_count": 32,
   "id": "15e6afdc",
   "metadata": {},
   "outputs": [
    {
     "data": {
      "text/plain": [
       "\"{'address1': '159 Kaiulani Ave', 'address2': 'Ste 105', 'address3': '', 'city': 'Honolulu', 'zip_code': '96815', 'country': 'US', 'state': 'HI', 'display_address': ['159 Kaiulani Ave', 'Ste 105', 'Honolulu, HI 96815']}\""
      ]
     },
     "execution_count": 32,
     "metadata": {},
     "output_type": "execute_result"
    }
   ],
   "source": [
    "## slice out a test address\n",
    "test_address = df.loc[0, 'location']\n",
    "test_address"
   ]
  },
  {
   "cell_type": "markdown",
   "id": "b573de0f",
   "metadata": {},
   "source": [
    "> Also a string-dictionary..."
   ]
  },
  {
   "cell_type": "code",
   "execution_count": 33,
   "id": "e5862a23",
   "metadata": {},
   "outputs": [
    {
     "data": {
      "text/html": [
       "<div>\n",
       "<style scoped>\n",
       "    .dataframe tbody tr th:only-of-type {\n",
       "        vertical-align: middle;\n",
       "    }\n",
       "\n",
       "    .dataframe tbody tr th {\n",
       "        vertical-align: top;\n",
       "    }\n",
       "\n",
       "    .dataframe thead th {\n",
       "        text-align: right;\n",
       "    }\n",
       "</style>\n",
       "<table border=\"1\" class=\"dataframe\">\n",
       "  <thead>\n",
       "    <tr style=\"text-align: right;\">\n",
       "      <th></th>\n",
       "      <th>id</th>\n",
       "      <th>alias</th>\n",
       "      <th>name</th>\n",
       "      <th>image_url</th>\n",
       "      <th>is_closed</th>\n",
       "      <th>url</th>\n",
       "      <th>review_count</th>\n",
       "      <th>categories</th>\n",
       "      <th>rating</th>\n",
       "      <th>transactions</th>\n",
       "      <th>price</th>\n",
       "      <th>location</th>\n",
       "      <th>phone</th>\n",
       "      <th>display_phone</th>\n",
       "      <th>distance</th>\n",
       "      <th>latitude</th>\n",
       "      <th>longitude</th>\n",
       "    </tr>\n",
       "  </thead>\n",
       "  <tbody>\n",
       "    <tr>\n",
       "      <th>0</th>\n",
       "      <td>3vsRGQGSVPec7kKBFGhowA</td>\n",
       "      <td>alo-cafe-hawaii-honolulu-2</td>\n",
       "      <td>ALO Cafe Hawaii</td>\n",
       "      <td>https://s3-media2.fl.yelpcdn.com/bphoto/_tn-bh...</td>\n",
       "      <td>False</td>\n",
       "      <td>https://www.yelp.com/biz/alo-cafe-hawaii-honol...</td>\n",
       "      <td>98</td>\n",
       "      <td>[{'alias': 'juicebars', 'title': 'Juice Bars &amp;...</td>\n",
       "      <td>4.5</td>\n",
       "      <td>['delivery', 'pickup']</td>\n",
       "      <td>$$</td>\n",
       "      <td>{\"address1\": \"159 Kaiulani Ave\", \"address2\": \"...</td>\n",
       "      <td>1.808780e+10</td>\n",
       "      <td>(808) 779-7887</td>\n",
       "      <td>505.744094</td>\n",
       "      <td>21.277130</td>\n",
       "      <td>-157.824330</td>\n",
       "    </tr>\n",
       "    <tr>\n",
       "      <th>1</th>\n",
       "      <td>QMPFWhM_kMIMSSBQf48-Gg</td>\n",
       "      <td>waffle-and-berry-honolulu</td>\n",
       "      <td>Waffle and Berry</td>\n",
       "      <td>https://s3-media4.fl.yelpcdn.com/bphoto/6VpIBT...</td>\n",
       "      <td>False</td>\n",
       "      <td>https://www.yelp.com/biz/waffle-and-berry-hono...</td>\n",
       "      <td>675</td>\n",
       "      <td>[{'alias': 'waffles', 'title': 'Waffles'}, {'a...</td>\n",
       "      <td>5.0</td>\n",
       "      <td>['delivery', 'pickup']</td>\n",
       "      <td>$$</td>\n",
       "      <td>{\"address1\": \"1958 Kalakaua Ave\", \"address2\": ...</td>\n",
       "      <td>1.808207e+10</td>\n",
       "      <td>(808) 206-8272</td>\n",
       "      <td>1256.061740</td>\n",
       "      <td>21.285940</td>\n",
       "      <td>-157.832750</td>\n",
       "    </tr>\n",
       "    <tr>\n",
       "      <th>2</th>\n",
       "      <td>FhShWwhWNm4j6yMjyF0MCw</td>\n",
       "      <td>banán-waikiki-beach-shack-honolulu</td>\n",
       "      <td>Banán - Waikiki Beach Shack</td>\n",
       "      <td>https://s3-media3.fl.yelpcdn.com/bphoto/HBcgiP...</td>\n",
       "      <td>False</td>\n",
       "      <td>https://www.yelp.com/biz/ban%C3%A1n-waikiki-be...</td>\n",
       "      <td>518</td>\n",
       "      <td>[{'alias': 'vegan', 'title': 'Vegan'}, {'alias...</td>\n",
       "      <td>4.5</td>\n",
       "      <td>[]</td>\n",
       "      <td>$</td>\n",
       "      <td>{\"address1\": \"2301 Kalakaua Ave\", \"address2\": ...</td>\n",
       "      <td>1.808200e+10</td>\n",
       "      <td>(808) 200-1640</td>\n",
       "      <td>242.294662</td>\n",
       "      <td>21.277282</td>\n",
       "      <td>-157.827769</td>\n",
       "    </tr>\n",
       "    <tr>\n",
       "      <th>3</th>\n",
       "      <td>vZ6iGKsU7zX8MT5rwNJeZw</td>\n",
       "      <td>tropical-tribe-honolulu</td>\n",
       "      <td>Tropical Tribe</td>\n",
       "      <td>https://s3-media3.fl.yelpcdn.com/bphoto/e7Y1Qu...</td>\n",
       "      <td>False</td>\n",
       "      <td>https://www.yelp.com/biz/tropical-tribe-honolu...</td>\n",
       "      <td>592</td>\n",
       "      <td>[{'alias': 'acaibowls', 'title': 'Acai Bowls'}...</td>\n",
       "      <td>4.5</td>\n",
       "      <td>['delivery', 'pickup']</td>\n",
       "      <td>$$</td>\n",
       "      <td>{\"address1\": \"1778 Ala Moana Blvd\", \"address2\"...</td>\n",
       "      <td>1.808367e+10</td>\n",
       "      <td>(808) 366-8226</td>\n",
       "      <td>1522.472981</td>\n",
       "      <td>21.285579</td>\n",
       "      <td>-157.838434</td>\n",
       "    </tr>\n",
       "    <tr>\n",
       "      <th>4</th>\n",
       "      <td>vFz6Nwo0LgpbJcU9St-uPA</td>\n",
       "      <td>da-cove-health-bar-and-cafe-honolulu-4</td>\n",
       "      <td>Da Cove Health Bar &amp; Cafe</td>\n",
       "      <td>https://s3-media3.fl.yelpcdn.com/bphoto/aNlP2w...</td>\n",
       "      <td>False</td>\n",
       "      <td>https://www.yelp.com/biz/da-cove-health-bar-an...</td>\n",
       "      <td>1295</td>\n",
       "      <td>[{'alias': 'juicebars', 'title': 'Juice Bars &amp;...</td>\n",
       "      <td>4.0</td>\n",
       "      <td>['delivery', 'pickup']</td>\n",
       "      <td>$$</td>\n",
       "      <td>{\"address1\": \"3045 Monsarrat Ave\", \"address2\":...</td>\n",
       "      <td>1.808733e+10</td>\n",
       "      <td>(808) 732-8744</td>\n",
       "      <td>1718.002818</td>\n",
       "      <td>21.268780</td>\n",
       "      <td>-157.813620</td>\n",
       "    </tr>\n",
       "    <tr>\n",
       "      <th>...</th>\n",
       "      <td>...</td>\n",
       "      <td>...</td>\n",
       "      <td>...</td>\n",
       "      <td>...</td>\n",
       "      <td>...</td>\n",
       "      <td>...</td>\n",
       "      <td>...</td>\n",
       "      <td>...</td>\n",
       "      <td>...</td>\n",
       "      <td>...</td>\n",
       "      <td>...</td>\n",
       "      <td>...</td>\n",
       "      <td>...</td>\n",
       "      <td>...</td>\n",
       "      <td>...</td>\n",
       "      <td>...</td>\n",
       "      <td>...</td>\n",
       "    </tr>\n",
       "    <tr>\n",
       "      <th>86</th>\n",
       "      <td>WB7dWO8Ew5xqNE8luLsvZA</td>\n",
       "      <td>honolulu-coffee-kiosk-ala-moana-cafe-honolulu</td>\n",
       "      <td>Honolulu Coffee Kiosk - Ala Moana Cafe</td>\n",
       "      <td>https://s3-media1.fl.yelpcdn.com/bphoto/s8KFJC...</td>\n",
       "      <td>False</td>\n",
       "      <td>https://www.yelp.com/biz/honolulu-coffee-kiosk...</td>\n",
       "      <td>36</td>\n",
       "      <td>[{'alias': 'coffee', 'title': 'Coffee &amp; Tea'},...</td>\n",
       "      <td>3.0</td>\n",
       "      <td>['delivery']</td>\n",
       "      <td>$$</td>\n",
       "      <td>{\"address1\": \"1450 Ala Moana Blvd\", \"address2\"...</td>\n",
       "      <td>1.808949e+10</td>\n",
       "      <td>(808) 949-1500</td>\n",
       "      <td>2386.844866</td>\n",
       "      <td>21.290581</td>\n",
       "      <td>-157.844906</td>\n",
       "    </tr>\n",
       "    <tr>\n",
       "      <th>87</th>\n",
       "      <td>i8Riqu7_fN9Lyw0yuM-wsw</td>\n",
       "      <td>yoga-under-the-palms-kaimukī-honolulu</td>\n",
       "      <td>Yoga Under the Palms Kaimukī</td>\n",
       "      <td>https://s3-media1.fl.yelpcdn.com/bphoto/SPdNvw...</td>\n",
       "      <td>False</td>\n",
       "      <td>https://www.yelp.com/biz/yoga-under-the-palms-...</td>\n",
       "      <td>13</td>\n",
       "      <td>[{'alias': 'vegan', 'title': 'Vegan'}, {'alias...</td>\n",
       "      <td>4.5</td>\n",
       "      <td>[]</td>\n",
       "      <td>NaN</td>\n",
       "      <td>{\"address1\": \"3574 Waialae Ave\", \"address2\": \"...</td>\n",
       "      <td>1.808646e+10</td>\n",
       "      <td>(808) 646-3660</td>\n",
       "      <td>3149.865288</td>\n",
       "      <td>21.283366</td>\n",
       "      <td>-157.799591</td>\n",
       "    </tr>\n",
       "    <tr>\n",
       "      <th>88</th>\n",
       "      <td>pF2obrjI6Dfamf0Wa7_J4Q</td>\n",
       "      <td>jamba-juice-honolulu-42</td>\n",
       "      <td>Jamba Juice</td>\n",
       "      <td>https://s3-media4.fl.yelpcdn.com/bphoto/QQpS9W...</td>\n",
       "      <td>False</td>\n",
       "      <td>https://www.yelp.com/biz/jamba-juice-honolulu-...</td>\n",
       "      <td>18</td>\n",
       "      <td>[{'alias': 'juicebars', 'title': 'Juice Bars &amp;...</td>\n",
       "      <td>3.0</td>\n",
       "      <td>[]</td>\n",
       "      <td>$</td>\n",
       "      <td>{\"address1\": \"2465 Campus Rd\", \"address2\": \"Rm...</td>\n",
       "      <td>1.808956e+10</td>\n",
       "      <td>(808) 956-2188</td>\n",
       "      <td>2742.152380</td>\n",
       "      <td>21.298175</td>\n",
       "      <td>-157.818853</td>\n",
       "    </tr>\n",
       "    <tr>\n",
       "      <th>89</th>\n",
       "      <td>3TLwn1lcLeikRooG2UuYcQ</td>\n",
       "      <td>808-juice-bar-and-grill-honolulu-2</td>\n",
       "      <td>808 Juice Bar &amp; Grill</td>\n",
       "      <td>https://s3-media1.fl.yelpcdn.com/bphoto/hp40F6...</td>\n",
       "      <td>False</td>\n",
       "      <td>https://www.yelp.com/biz/808-juice-bar-and-gri...</td>\n",
       "      <td>15</td>\n",
       "      <td>[{'alias': 'juicebars', 'title': 'Juice Bars &amp;...</td>\n",
       "      <td>2.5</td>\n",
       "      <td>[]</td>\n",
       "      <td>NaN</td>\n",
       "      <td>{\"address1\": \"500 Ala Moana Blvd\", \"address2\":...</td>\n",
       "      <td>1.808295e+10</td>\n",
       "      <td>(808) 294-7216</td>\n",
       "      <td>4547.759760</td>\n",
       "      <td>21.300670</td>\n",
       "      <td>-157.862750</td>\n",
       "    </tr>\n",
       "    <tr>\n",
       "      <th>90</th>\n",
       "      <td>tlRpImbLayI-y-25SL7yMw</td>\n",
       "      <td>island-crepes-and-lemonade-honolulu-2</td>\n",
       "      <td>Island Crepes and Lemonade</td>\n",
       "      <td>https://s3-media2.fl.yelpcdn.com/bphoto/BzDq6D...</td>\n",
       "      <td>False</td>\n",
       "      <td>https://www.yelp.com/biz/island-crepes-and-lem...</td>\n",
       "      <td>40</td>\n",
       "      <td>[{'alias': 'creperies', 'title': 'Creperies'},...</td>\n",
       "      <td>4.0</td>\n",
       "      <td>[]</td>\n",
       "      <td>$</td>\n",
       "      <td>{\"address1\": \"1450 Ala Moana Blvd\", \"address2\"...</td>\n",
       "      <td>NaN</td>\n",
       "      <td>NaN</td>\n",
       "      <td>2371.965947</td>\n",
       "      <td>21.291158</td>\n",
       "      <td>-157.844039</td>\n",
       "    </tr>\n",
       "  </tbody>\n",
       "</table>\n",
       "<p>91 rows × 17 columns</p>\n",
       "</div>"
      ],
      "text/plain": [
       "                        id                                          alias  \\\n",
       "0   3vsRGQGSVPec7kKBFGhowA                     alo-cafe-hawaii-honolulu-2   \n",
       "1   QMPFWhM_kMIMSSBQf48-Gg                      waffle-and-berry-honolulu   \n",
       "2   FhShWwhWNm4j6yMjyF0MCw             banán-waikiki-beach-shack-honolulu   \n",
       "3   vZ6iGKsU7zX8MT5rwNJeZw                        tropical-tribe-honolulu   \n",
       "4   vFz6Nwo0LgpbJcU9St-uPA         da-cove-health-bar-and-cafe-honolulu-4   \n",
       "..                     ...                                            ...   \n",
       "86  WB7dWO8Ew5xqNE8luLsvZA  honolulu-coffee-kiosk-ala-moana-cafe-honolulu   \n",
       "87  i8Riqu7_fN9Lyw0yuM-wsw          yoga-under-the-palms-kaimukī-honolulu   \n",
       "88  pF2obrjI6Dfamf0Wa7_J4Q                        jamba-juice-honolulu-42   \n",
       "89  3TLwn1lcLeikRooG2UuYcQ             808-juice-bar-and-grill-honolulu-2   \n",
       "90  tlRpImbLayI-y-25SL7yMw          island-crepes-and-lemonade-honolulu-2   \n",
       "\n",
       "                                      name  \\\n",
       "0                          ALO Cafe Hawaii   \n",
       "1                         Waffle and Berry   \n",
       "2              Banán - Waikiki Beach Shack   \n",
       "3                           Tropical Tribe   \n",
       "4                Da Cove Health Bar & Cafe   \n",
       "..                                     ...   \n",
       "86  Honolulu Coffee Kiosk - Ala Moana Cafe   \n",
       "87            Yoga Under the Palms Kaimukī   \n",
       "88                             Jamba Juice   \n",
       "89                   808 Juice Bar & Grill   \n",
       "90              Island Crepes and Lemonade   \n",
       "\n",
       "                                            image_url  is_closed  \\\n",
       "0   https://s3-media2.fl.yelpcdn.com/bphoto/_tn-bh...      False   \n",
       "1   https://s3-media4.fl.yelpcdn.com/bphoto/6VpIBT...      False   \n",
       "2   https://s3-media3.fl.yelpcdn.com/bphoto/HBcgiP...      False   \n",
       "3   https://s3-media3.fl.yelpcdn.com/bphoto/e7Y1Qu...      False   \n",
       "4   https://s3-media3.fl.yelpcdn.com/bphoto/aNlP2w...      False   \n",
       "..                                                ...        ...   \n",
       "86  https://s3-media1.fl.yelpcdn.com/bphoto/s8KFJC...      False   \n",
       "87  https://s3-media1.fl.yelpcdn.com/bphoto/SPdNvw...      False   \n",
       "88  https://s3-media4.fl.yelpcdn.com/bphoto/QQpS9W...      False   \n",
       "89  https://s3-media1.fl.yelpcdn.com/bphoto/hp40F6...      False   \n",
       "90  https://s3-media2.fl.yelpcdn.com/bphoto/BzDq6D...      False   \n",
       "\n",
       "                                                  url  review_count  \\\n",
       "0   https://www.yelp.com/biz/alo-cafe-hawaii-honol...            98   \n",
       "1   https://www.yelp.com/biz/waffle-and-berry-hono...           675   \n",
       "2   https://www.yelp.com/biz/ban%C3%A1n-waikiki-be...           518   \n",
       "3   https://www.yelp.com/biz/tropical-tribe-honolu...           592   \n",
       "4   https://www.yelp.com/biz/da-cove-health-bar-an...          1295   \n",
       "..                                                ...           ...   \n",
       "86  https://www.yelp.com/biz/honolulu-coffee-kiosk...            36   \n",
       "87  https://www.yelp.com/biz/yoga-under-the-palms-...            13   \n",
       "88  https://www.yelp.com/biz/jamba-juice-honolulu-...            18   \n",
       "89  https://www.yelp.com/biz/808-juice-bar-and-gri...            15   \n",
       "90  https://www.yelp.com/biz/island-crepes-and-lem...            40   \n",
       "\n",
       "                                           categories  rating  \\\n",
       "0   [{'alias': 'juicebars', 'title': 'Juice Bars &...     4.5   \n",
       "1   [{'alias': 'waffles', 'title': 'Waffles'}, {'a...     5.0   \n",
       "2   [{'alias': 'vegan', 'title': 'Vegan'}, {'alias...     4.5   \n",
       "3   [{'alias': 'acaibowls', 'title': 'Acai Bowls'}...     4.5   \n",
       "4   [{'alias': 'juicebars', 'title': 'Juice Bars &...     4.0   \n",
       "..                                                ...     ...   \n",
       "86  [{'alias': 'coffee', 'title': 'Coffee & Tea'},...     3.0   \n",
       "87  [{'alias': 'vegan', 'title': 'Vegan'}, {'alias...     4.5   \n",
       "88  [{'alias': 'juicebars', 'title': 'Juice Bars &...     3.0   \n",
       "89  [{'alias': 'juicebars', 'title': 'Juice Bars &...     2.5   \n",
       "90  [{'alias': 'creperies', 'title': 'Creperies'},...     4.0   \n",
       "\n",
       "              transactions price  \\\n",
       "0   ['delivery', 'pickup']    $$   \n",
       "1   ['delivery', 'pickup']    $$   \n",
       "2                       []     $   \n",
       "3   ['delivery', 'pickup']    $$   \n",
       "4   ['delivery', 'pickup']    $$   \n",
       "..                     ...   ...   \n",
       "86            ['delivery']    $$   \n",
       "87                      []   NaN   \n",
       "88                      []     $   \n",
       "89                      []   NaN   \n",
       "90                      []     $   \n",
       "\n",
       "                                             location         phone  \\\n",
       "0   {\"address1\": \"159 Kaiulani Ave\", \"address2\": \"...  1.808780e+10   \n",
       "1   {\"address1\": \"1958 Kalakaua Ave\", \"address2\": ...  1.808207e+10   \n",
       "2   {\"address1\": \"2301 Kalakaua Ave\", \"address2\": ...  1.808200e+10   \n",
       "3   {\"address1\": \"1778 Ala Moana Blvd\", \"address2\"...  1.808367e+10   \n",
       "4   {\"address1\": \"3045 Monsarrat Ave\", \"address2\":...  1.808733e+10   \n",
       "..                                                ...           ...   \n",
       "86  {\"address1\": \"1450 Ala Moana Blvd\", \"address2\"...  1.808949e+10   \n",
       "87  {\"address1\": \"3574 Waialae Ave\", \"address2\": \"...  1.808646e+10   \n",
       "88  {\"address1\": \"2465 Campus Rd\", \"address2\": \"Rm...  1.808956e+10   \n",
       "89  {\"address1\": \"500 Ala Moana Blvd\", \"address2\":...  1.808295e+10   \n",
       "90  {\"address1\": \"1450 Ala Moana Blvd\", \"address2\"...           NaN   \n",
       "\n",
       "     display_phone     distance   latitude   longitude  \n",
       "0   (808) 779-7887   505.744094  21.277130 -157.824330  \n",
       "1   (808) 206-8272  1256.061740  21.285940 -157.832750  \n",
       "2   (808) 200-1640   242.294662  21.277282 -157.827769  \n",
       "3   (808) 366-8226  1522.472981  21.285579 -157.838434  \n",
       "4   (808) 732-8744  1718.002818  21.268780 -157.813620  \n",
       "..             ...          ...        ...         ...  \n",
       "86  (808) 949-1500  2386.844866  21.290581 -157.844906  \n",
       "87  (808) 646-3660  3149.865288  21.283366 -157.799591  \n",
       "88  (808) 956-2188  2742.152380  21.298175 -157.818853  \n",
       "89  (808) 294-7216  4547.759760  21.300670 -157.862750  \n",
       "90             NaN  2371.965947  21.291158 -157.844039  \n",
       "\n",
       "[91 rows x 17 columns]"
      ]
     },
     "execution_count": 33,
     "metadata": {},
     "output_type": "execute_result"
    }
   ],
   "source": [
    "## replace ' with \"\n",
    "df['location'] = df['location'].str.replace(\"'\", '\"')\n",
    "df"
   ]
  },
  {
   "cell_type": "code",
   "execution_count": 34,
   "id": "1606ed4a",
   "metadata": {},
   "outputs": [
    {
     "ename": "JSONDecodeError",
     "evalue": "Expecting value: line 1 column 63 (char 62)",
     "output_type": "error",
     "traceback": [
      "\u001b[0;31m---------------------------------------------------------------------------\u001b[0m",
      "\u001b[0;31mJSONDecodeError\u001b[0m                           Traceback (most recent call last)",
      "Cell \u001b[0;32mIn [34], line 2\u001b[0m\n\u001b[1;32m      1\u001b[0m \u001b[38;5;66;03m## apply json.loads\u001b[39;00m\n\u001b[0;32m----> 2\u001b[0m df[\u001b[38;5;124m'\u001b[39m\u001b[38;5;124mlocation\u001b[39m\u001b[38;5;124m'\u001b[39m] \u001b[38;5;241m=\u001b[39m \u001b[43mdf\u001b[49m\u001b[43m[\u001b[49m\u001b[38;5;124;43m'\u001b[39;49m\u001b[38;5;124;43mlocation\u001b[39;49m\u001b[38;5;124;43m'\u001b[39;49m\u001b[43m]\u001b[49m\u001b[38;5;241;43m.\u001b[39;49m\u001b[43mapply\u001b[49m\u001b[43m(\u001b[49m\u001b[43mjson\u001b[49m\u001b[38;5;241;43m.\u001b[39;49m\u001b[43mloads\u001b[49m\u001b[43m)\u001b[49m\n",
      "File \u001b[0;32m/opt/homebrew/Caskroom/miniforge/base/envs/dojo-env/lib/python3.9/site-packages/pandas/core/series.py:4771\u001b[0m, in \u001b[0;36mSeries.apply\u001b[0;34m(self, func, convert_dtype, args, **kwargs)\u001b[0m\n\u001b[1;32m   4661\u001b[0m \u001b[38;5;28;01mdef\u001b[39;00m \u001b[38;5;21mapply\u001b[39m(\n\u001b[1;32m   4662\u001b[0m     \u001b[38;5;28mself\u001b[39m,\n\u001b[1;32m   4663\u001b[0m     func: AggFuncType,\n\u001b[0;32m   (...)\u001b[0m\n\u001b[1;32m   4666\u001b[0m     \u001b[38;5;241m*\u001b[39m\u001b[38;5;241m*\u001b[39mkwargs,\n\u001b[1;32m   4667\u001b[0m ) \u001b[38;5;241m-\u001b[39m\u001b[38;5;241m>\u001b[39m DataFrame \u001b[38;5;241m|\u001b[39m Series:\n\u001b[1;32m   4668\u001b[0m     \u001b[38;5;124;03m\"\"\"\u001b[39;00m\n\u001b[1;32m   4669\u001b[0m \u001b[38;5;124;03m    Invoke function on values of Series.\u001b[39;00m\n\u001b[1;32m   4670\u001b[0m \n\u001b[0;32m   (...)\u001b[0m\n\u001b[1;32m   4769\u001b[0m \u001b[38;5;124;03m    dtype: float64\u001b[39;00m\n\u001b[1;32m   4770\u001b[0m \u001b[38;5;124;03m    \"\"\"\u001b[39;00m\n\u001b[0;32m-> 4771\u001b[0m     \u001b[38;5;28;01mreturn\u001b[39;00m \u001b[43mSeriesApply\u001b[49m\u001b[43m(\u001b[49m\u001b[38;5;28;43mself\u001b[39;49m\u001b[43m,\u001b[49m\u001b[43m \u001b[49m\u001b[43mfunc\u001b[49m\u001b[43m,\u001b[49m\u001b[43m \u001b[49m\u001b[43mconvert_dtype\u001b[49m\u001b[43m,\u001b[49m\u001b[43m \u001b[49m\u001b[43margs\u001b[49m\u001b[43m,\u001b[49m\u001b[43m \u001b[49m\u001b[43mkwargs\u001b[49m\u001b[43m)\u001b[49m\u001b[38;5;241;43m.\u001b[39;49m\u001b[43mapply\u001b[49m\u001b[43m(\u001b[49m\u001b[43m)\u001b[49m\n",
      "File \u001b[0;32m/opt/homebrew/Caskroom/miniforge/base/envs/dojo-env/lib/python3.9/site-packages/pandas/core/apply.py:1105\u001b[0m, in \u001b[0;36mSeriesApply.apply\u001b[0;34m(self)\u001b[0m\n\u001b[1;32m   1102\u001b[0m     \u001b[38;5;28;01mreturn\u001b[39;00m \u001b[38;5;28mself\u001b[39m\u001b[38;5;241m.\u001b[39mapply_str()\n\u001b[1;32m   1104\u001b[0m \u001b[38;5;66;03m# self.f is Callable\u001b[39;00m\n\u001b[0;32m-> 1105\u001b[0m \u001b[38;5;28;01mreturn\u001b[39;00m \u001b[38;5;28;43mself\u001b[39;49m\u001b[38;5;241;43m.\u001b[39;49m\u001b[43mapply_standard\u001b[49m\u001b[43m(\u001b[49m\u001b[43m)\u001b[49m\n",
      "File \u001b[0;32m/opt/homebrew/Caskroom/miniforge/base/envs/dojo-env/lib/python3.9/site-packages/pandas/core/apply.py:1156\u001b[0m, in \u001b[0;36mSeriesApply.apply_standard\u001b[0;34m(self)\u001b[0m\n\u001b[1;32m   1154\u001b[0m     \u001b[38;5;28;01melse\u001b[39;00m:\n\u001b[1;32m   1155\u001b[0m         values \u001b[38;5;241m=\u001b[39m obj\u001b[38;5;241m.\u001b[39mastype(\u001b[38;5;28mobject\u001b[39m)\u001b[38;5;241m.\u001b[39m_values\n\u001b[0;32m-> 1156\u001b[0m         mapped \u001b[38;5;241m=\u001b[39m \u001b[43mlib\u001b[49m\u001b[38;5;241;43m.\u001b[39;49m\u001b[43mmap_infer\u001b[49m\u001b[43m(\u001b[49m\n\u001b[1;32m   1157\u001b[0m \u001b[43m            \u001b[49m\u001b[43mvalues\u001b[49m\u001b[43m,\u001b[49m\n\u001b[1;32m   1158\u001b[0m \u001b[43m            \u001b[49m\u001b[43mf\u001b[49m\u001b[43m,\u001b[49m\n\u001b[1;32m   1159\u001b[0m \u001b[43m            \u001b[49m\u001b[43mconvert\u001b[49m\u001b[38;5;241;43m=\u001b[39;49m\u001b[38;5;28;43mself\u001b[39;49m\u001b[38;5;241;43m.\u001b[39;49m\u001b[43mconvert_dtype\u001b[49m\u001b[43m,\u001b[49m\n\u001b[1;32m   1160\u001b[0m \u001b[43m        \u001b[49m\u001b[43m)\u001b[49m\n\u001b[1;32m   1162\u001b[0m \u001b[38;5;28;01mif\u001b[39;00m \u001b[38;5;28mlen\u001b[39m(mapped) \u001b[38;5;129;01mand\u001b[39;00m \u001b[38;5;28misinstance\u001b[39m(mapped[\u001b[38;5;241m0\u001b[39m], ABCSeries):\n\u001b[1;32m   1163\u001b[0m     \u001b[38;5;66;03m# GH#43986 Need to do list(mapped) in order to get treated as nested\u001b[39;00m\n\u001b[1;32m   1164\u001b[0m     \u001b[38;5;66;03m#  See also GH#25959 regarding EA support\u001b[39;00m\n\u001b[1;32m   1165\u001b[0m     \u001b[38;5;28;01mreturn\u001b[39;00m obj\u001b[38;5;241m.\u001b[39m_constructor_expanddim(\u001b[38;5;28mlist\u001b[39m(mapped), index\u001b[38;5;241m=\u001b[39mobj\u001b[38;5;241m.\u001b[39mindex)\n",
      "File \u001b[0;32m/opt/homebrew/Caskroom/miniforge/base/envs/dojo-env/lib/python3.9/site-packages/pandas/_libs/lib.pyx:2918\u001b[0m, in \u001b[0;36mpandas._libs.lib.map_infer\u001b[0;34m()\u001b[0m\n",
      "File \u001b[0;32m/opt/homebrew/Caskroom/miniforge/base/envs/dojo-env/lib/python3.9/json/__init__.py:346\u001b[0m, in \u001b[0;36mloads\u001b[0;34m(s, cls, object_hook, parse_float, parse_int, parse_constant, object_pairs_hook, **kw)\u001b[0m\n\u001b[1;32m    341\u001b[0m     s \u001b[38;5;241m=\u001b[39m s\u001b[38;5;241m.\u001b[39mdecode(detect_encoding(s), \u001b[38;5;124m'\u001b[39m\u001b[38;5;124msurrogatepass\u001b[39m\u001b[38;5;124m'\u001b[39m)\n\u001b[1;32m    343\u001b[0m \u001b[38;5;28;01mif\u001b[39;00m (\u001b[38;5;28mcls\u001b[39m \u001b[38;5;129;01mis\u001b[39;00m \u001b[38;5;28;01mNone\u001b[39;00m \u001b[38;5;129;01mand\u001b[39;00m object_hook \u001b[38;5;129;01mis\u001b[39;00m \u001b[38;5;28;01mNone\u001b[39;00m \u001b[38;5;129;01mand\u001b[39;00m\n\u001b[1;32m    344\u001b[0m         parse_int \u001b[38;5;129;01mis\u001b[39;00m \u001b[38;5;28;01mNone\u001b[39;00m \u001b[38;5;129;01mand\u001b[39;00m parse_float \u001b[38;5;129;01mis\u001b[39;00m \u001b[38;5;28;01mNone\u001b[39;00m \u001b[38;5;129;01mand\u001b[39;00m\n\u001b[1;32m    345\u001b[0m         parse_constant \u001b[38;5;129;01mis\u001b[39;00m \u001b[38;5;28;01mNone\u001b[39;00m \u001b[38;5;129;01mand\u001b[39;00m object_pairs_hook \u001b[38;5;129;01mis\u001b[39;00m \u001b[38;5;28;01mNone\u001b[39;00m \u001b[38;5;129;01mand\u001b[39;00m \u001b[38;5;129;01mnot\u001b[39;00m kw):\n\u001b[0;32m--> 346\u001b[0m     \u001b[38;5;28;01mreturn\u001b[39;00m \u001b[43m_default_decoder\u001b[49m\u001b[38;5;241;43m.\u001b[39;49m\u001b[43mdecode\u001b[49m\u001b[43m(\u001b[49m\u001b[43ms\u001b[49m\u001b[43m)\u001b[49m\n\u001b[1;32m    347\u001b[0m \u001b[38;5;28;01mif\u001b[39;00m \u001b[38;5;28mcls\u001b[39m \u001b[38;5;129;01mis\u001b[39;00m \u001b[38;5;28;01mNone\u001b[39;00m:\n\u001b[1;32m    348\u001b[0m     \u001b[38;5;28mcls\u001b[39m \u001b[38;5;241m=\u001b[39m JSONDecoder\n",
      "File \u001b[0;32m/opt/homebrew/Caskroom/miniforge/base/envs/dojo-env/lib/python3.9/json/decoder.py:337\u001b[0m, in \u001b[0;36mJSONDecoder.decode\u001b[0;34m(self, s, _w)\u001b[0m\n\u001b[1;32m    332\u001b[0m \u001b[38;5;28;01mdef\u001b[39;00m \u001b[38;5;21mdecode\u001b[39m(\u001b[38;5;28mself\u001b[39m, s, _w\u001b[38;5;241m=\u001b[39mWHITESPACE\u001b[38;5;241m.\u001b[39mmatch):\n\u001b[1;32m    333\u001b[0m     \u001b[38;5;124;03m\"\"\"Return the Python representation of ``s`` (a ``str`` instance\u001b[39;00m\n\u001b[1;32m    334\u001b[0m \u001b[38;5;124;03m    containing a JSON document).\u001b[39;00m\n\u001b[1;32m    335\u001b[0m \n\u001b[1;32m    336\u001b[0m \u001b[38;5;124;03m    \"\"\"\u001b[39;00m\n\u001b[0;32m--> 337\u001b[0m     obj, end \u001b[38;5;241m=\u001b[39m \u001b[38;5;28;43mself\u001b[39;49m\u001b[38;5;241;43m.\u001b[39;49m\u001b[43mraw_decode\u001b[49m\u001b[43m(\u001b[49m\u001b[43ms\u001b[49m\u001b[43m,\u001b[49m\u001b[43m \u001b[49m\u001b[43midx\u001b[49m\u001b[38;5;241;43m=\u001b[39;49m\u001b[43m_w\u001b[49m\u001b[43m(\u001b[49m\u001b[43ms\u001b[49m\u001b[43m,\u001b[49m\u001b[43m \u001b[49m\u001b[38;5;241;43m0\u001b[39;49m\u001b[43m)\u001b[49m\u001b[38;5;241;43m.\u001b[39;49m\u001b[43mend\u001b[49m\u001b[43m(\u001b[49m\u001b[43m)\u001b[49m\u001b[43m)\u001b[49m\n\u001b[1;32m    338\u001b[0m     end \u001b[38;5;241m=\u001b[39m _w(s, end)\u001b[38;5;241m.\u001b[39mend()\n\u001b[1;32m    339\u001b[0m     \u001b[38;5;28;01mif\u001b[39;00m end \u001b[38;5;241m!=\u001b[39m \u001b[38;5;28mlen\u001b[39m(s):\n",
      "File \u001b[0;32m/opt/homebrew/Caskroom/miniforge/base/envs/dojo-env/lib/python3.9/json/decoder.py:355\u001b[0m, in \u001b[0;36mJSONDecoder.raw_decode\u001b[0;34m(self, s, idx)\u001b[0m\n\u001b[1;32m    353\u001b[0m     obj, end \u001b[38;5;241m=\u001b[39m \u001b[38;5;28mself\u001b[39m\u001b[38;5;241m.\u001b[39mscan_once(s, idx)\n\u001b[1;32m    354\u001b[0m \u001b[38;5;28;01mexcept\u001b[39;00m \u001b[38;5;167;01mStopIteration\u001b[39;00m \u001b[38;5;28;01mas\u001b[39;00m err:\n\u001b[0;32m--> 355\u001b[0m     \u001b[38;5;28;01mraise\u001b[39;00m JSONDecodeError(\u001b[38;5;124m\"\u001b[39m\u001b[38;5;124mExpecting value\u001b[39m\u001b[38;5;124m\"\u001b[39m, s, err\u001b[38;5;241m.\u001b[39mvalue) \u001b[38;5;28;01mfrom\u001b[39;00m \u001b[38;5;28mNone\u001b[39m\n\u001b[1;32m    356\u001b[0m \u001b[38;5;28;01mreturn\u001b[39;00m obj, end\n",
      "\u001b[0;31mJSONDecodeError\u001b[0m: Expecting value: line 1 column 63 (char 62)"
     ]
    }
   ],
   "source": [
    "## apply json.loads\n",
    "df['location'] = df['location'].apply(json.loads)"
   ]
  },
  {
   "cell_type": "markdown",
   "id": "6e3fc5c2",
   "metadata": {},
   "source": [
    "> Ruh roh....\n",
    "\n",
    "- Hmm, let's slice out a test_address again and let's write a function to accomplish this instead.\n",
    "    - We can use try and except in our function to get around the errors."
   ]
  },
  {
   "cell_type": "markdown",
   "id": "b0fe3a7a",
   "metadata": {},
   "source": [
    "### Fixing Addresses - with a custom function\n"
   ]
  },
  {
   "cell_type": "code",
   "execution_count": 35,
   "id": "b1964520",
   "metadata": {},
   "outputs": [
    {
     "data": {
      "text/plain": [
       "'{\"address1\": \"159 Kaiulani Ave\", \"address2\": \"Ste 105\", \"address3\": \"\", \"city\": \"Honolulu\", \"zip_code\": \"96815\", \"country\": \"US\", \"state\": \"HI\", \"display_address\": [\"159 Kaiulani Ave\", \"Ste 105\", \"Honolulu, HI 96815\"]}'"
      ]
     },
     "execution_count": 35,
     "metadata": {},
     "output_type": "execute_result"
    }
   ],
   "source": [
    "## slice out test address \n",
    "test_addr = df.loc[0, 'location']\n",
    "test_addr"
   ]
  },
  {
   "cell_type": "code",
   "execution_count": 36,
   "id": "89ee686e",
   "metadata": {},
   "outputs": [],
   "source": [
    "## write a function to just run json.loads on the address\n",
    "def fix_address(test_addr):\n",
    "    try:\n",
    "        return json.loads(test_addr)\n",
    "    except:\n",
    "        return 'Error'"
   ]
  },
  {
   "cell_type": "code",
   "execution_count": 37,
   "id": "0d25f01b",
   "metadata": {},
   "outputs": [
    {
     "data": {
      "text/plain": [
       "0     {'address1': '159 Kaiulani Ave', 'address2': '...\n",
       "1     {'address1': '1958 Kalakaua Ave', 'address2': ...\n",
       "2                                                 Error\n",
       "3     {'address1': '1778 Ala Moana Blvd', 'address2'...\n",
       "4     {'address1': '3045 Monsarrat Ave', 'address2':...\n",
       "                            ...                        \n",
       "86    {'address1': '1450 Ala Moana Blvd', 'address2'...\n",
       "87                                                Error\n",
       "88    {'address1': '2465 Campus Rd', 'address2': 'Rm...\n",
       "89                                                Error\n",
       "90                                                Error\n",
       "Name: location, Length: 91, dtype: object"
      ]
     },
     "execution_count": 37,
     "metadata": {},
     "output_type": "execute_result"
    }
   ],
   "source": [
    "## test applying our function\n",
    "df['location'].apply(fix_address)"
   ]
  },
  {
   "cell_type": "markdown",
   "id": "c8cbc436",
   "metadata": {},
   "source": [
    "- It worked! Now let's save this as a new column (display_location),\n",
    "and then let's investigate the businesses that had an \"ERROR\"."
   ]
  },
  {
   "cell_type": "code",
   "execution_count": 38,
   "id": "49a511e8",
   "metadata": {},
   "outputs": [],
   "source": [
    "### save a new display_location column using our function\n",
    "df['display_location'] = df['location'].apply(fix_address)"
   ]
  },
  {
   "cell_type": "code",
   "execution_count": 39,
   "id": "346a2869",
   "metadata": {},
   "outputs": [
    {
     "data": {
      "text/html": [
       "<div>\n",
       "<style scoped>\n",
       "    .dataframe tbody tr th:only-of-type {\n",
       "        vertical-align: middle;\n",
       "    }\n",
       "\n",
       "    .dataframe tbody tr th {\n",
       "        vertical-align: top;\n",
       "    }\n",
       "\n",
       "    .dataframe thead th {\n",
       "        text-align: right;\n",
       "    }\n",
       "</style>\n",
       "<table border=\"1\" class=\"dataframe\">\n",
       "  <thead>\n",
       "    <tr style=\"text-align: right;\">\n",
       "      <th></th>\n",
       "      <th>id</th>\n",
       "      <th>alias</th>\n",
       "      <th>name</th>\n",
       "      <th>image_url</th>\n",
       "      <th>is_closed</th>\n",
       "      <th>url</th>\n",
       "      <th>review_count</th>\n",
       "      <th>categories</th>\n",
       "      <th>rating</th>\n",
       "      <th>transactions</th>\n",
       "      <th>price</th>\n",
       "      <th>location</th>\n",
       "      <th>phone</th>\n",
       "      <th>display_phone</th>\n",
       "      <th>distance</th>\n",
       "      <th>latitude</th>\n",
       "      <th>longitude</th>\n",
       "      <th>display_location</th>\n",
       "    </tr>\n",
       "  </thead>\n",
       "  <tbody>\n",
       "    <tr>\n",
       "      <th>2</th>\n",
       "      <td>FhShWwhWNm4j6yMjyF0MCw</td>\n",
       "      <td>banán-waikiki-beach-shack-honolulu</td>\n",
       "      <td>Banán - Waikiki Beach Shack</td>\n",
       "      <td>https://s3-media3.fl.yelpcdn.com/bphoto/HBcgiP...</td>\n",
       "      <td>False</td>\n",
       "      <td>https://www.yelp.com/biz/ban%C3%A1n-waikiki-be...</td>\n",
       "      <td>518</td>\n",
       "      <td>[{'alias': 'vegan', 'title': 'Vegan'}, {'alias...</td>\n",
       "      <td>4.5</td>\n",
       "      <td>[]</td>\n",
       "      <td>$</td>\n",
       "      <td>{\"address1\": \"2301 Kalakaua Ave\", \"address2\": ...</td>\n",
       "      <td>1.808200e+10</td>\n",
       "      <td>(808) 200-1640</td>\n",
       "      <td>242.294662</td>\n",
       "      <td>21.277282</td>\n",
       "      <td>-157.827769</td>\n",
       "      <td>Error</td>\n",
       "    </tr>\n",
       "    <tr>\n",
       "      <th>5</th>\n",
       "      <td>kg9DW8QwQ6NEorFdUSUhgA</td>\n",
       "      <td>nalu-health-bar-and-cafe-urban-honolulu</td>\n",
       "      <td>Nalu Health Bar &amp; Cafe</td>\n",
       "      <td>https://s3-media2.fl.yelpcdn.com/bphoto/tn-UW0...</td>\n",
       "      <td>False</td>\n",
       "      <td>https://www.yelp.com/biz/nalu-health-bar-and-c...</td>\n",
       "      <td>10</td>\n",
       "      <td>[{'alias': 'juicebars', 'title': 'Juice Bars &amp;...</td>\n",
       "      <td>4.5</td>\n",
       "      <td>[]</td>\n",
       "      <td>NaN</td>\n",
       "      <td>{\"address1\": \"226 Lewers St\", \"address2\": None...</td>\n",
       "      <td>1.808425e+10</td>\n",
       "      <td>(808) 425-4710</td>\n",
       "      <td>530.177160</td>\n",
       "      <td>21.279401</td>\n",
       "      <td>-157.831178</td>\n",
       "      <td>Error</td>\n",
       "    </tr>\n",
       "    <tr>\n",
       "      <th>6</th>\n",
       "      <td>iGIjmLHJAiwUP-oHpWP-Sw</td>\n",
       "      <td>aloh-health-bar-and-cafe-honolulu-2</td>\n",
       "      <td>Aloh Health Bar &amp; Cafe</td>\n",
       "      <td>https://s3-media2.fl.yelpcdn.com/bphoto/KuUnIW...</td>\n",
       "      <td>False</td>\n",
       "      <td>https://www.yelp.com/biz/aloh-health-bar-and-c...</td>\n",
       "      <td>82</td>\n",
       "      <td>[{'alias': 'coffee', 'title': 'Coffee &amp; Tea'},...</td>\n",
       "      <td>4.5</td>\n",
       "      <td>['delivery', 'pickup']</td>\n",
       "      <td>$$</td>\n",
       "      <td>{\"address1\": \"407 Seaside Ave\", \"address2\": No...</td>\n",
       "      <td>1.808549e+10</td>\n",
       "      <td>(808) 548-8116</td>\n",
       "      <td>601.092447</td>\n",
       "      <td>21.280354</td>\n",
       "      <td>-157.826683</td>\n",
       "      <td>Error</td>\n",
       "    </tr>\n",
       "    <tr>\n",
       "      <th>7</th>\n",
       "      <td>oqnyvvSvWSNICv4QhzHyQg</td>\n",
       "      <td>island-vintage-shave-ice-honolulu-7</td>\n",
       "      <td>Island Vintage Shave Ice</td>\n",
       "      <td>https://s3-media3.fl.yelpcdn.com/bphoto/3frxsX...</td>\n",
       "      <td>False</td>\n",
       "      <td>https://www.yelp.com/biz/island-vintage-shave-...</td>\n",
       "      <td>99</td>\n",
       "      <td>[{'alias': 'shavedice', 'title': 'Shaved Ice'}...</td>\n",
       "      <td>4.0</td>\n",
       "      <td>[]</td>\n",
       "      <td>$$</td>\n",
       "      <td>{\"address1\": \"2552 Kalakaua Ave\", \"address2\": ...</td>\n",
       "      <td>NaN</td>\n",
       "      <td>NaN</td>\n",
       "      <td>657.645350</td>\n",
       "      <td>21.272783</td>\n",
       "      <td>-157.822986</td>\n",
       "      <td>Error</td>\n",
       "    </tr>\n",
       "    <tr>\n",
       "      <th>9</th>\n",
       "      <td>n5oK86I5tdZCBSR5vxw38A</td>\n",
       "      <td>hawaiian-aroma-caffe-ohana-east-honolulu</td>\n",
       "      <td>Hawaiian Aroma Caffe - Ohana East</td>\n",
       "      <td>https://s3-media4.fl.yelpcdn.com/bphoto/V4cb0r...</td>\n",
       "      <td>False</td>\n",
       "      <td>https://www.yelp.com/biz/hawaiian-aroma-caffe-...</td>\n",
       "      <td>281</td>\n",
       "      <td>[{'alias': 'breakfast_brunch', 'title': 'Break...</td>\n",
       "      <td>4.5</td>\n",
       "      <td>['delivery']</td>\n",
       "      <td>$$</td>\n",
       "      <td>{\"address1\": \"150 Kaiulani Ave\", \"address2\": N...</td>\n",
       "      <td>1.808256e+10</td>\n",
       "      <td>(808) 256-2602</td>\n",
       "      <td>489.233897</td>\n",
       "      <td>21.277719</td>\n",
       "      <td>-157.824790</td>\n",
       "      <td>Error</td>\n",
       "    </tr>\n",
       "    <tr>\n",
       "      <th>14</th>\n",
       "      <td>lSuf6g0V6MmFe69ZxRRTrA</td>\n",
       "      <td>kai-fresh-urban-honolulu</td>\n",
       "      <td>Kai Fresh</td>\n",
       "      <td>https://s3-media3.fl.yelpcdn.com/bphoto/7ToiVa...</td>\n",
       "      <td>False</td>\n",
       "      <td>https://www.yelp.com/biz/kai-fresh-urban-honol...</td>\n",
       "      <td>41</td>\n",
       "      <td>[{'alias': 'coffee', 'title': 'Coffee &amp; Tea'},...</td>\n",
       "      <td>4.5</td>\n",
       "      <td>[]</td>\n",
       "      <td>$$</td>\n",
       "      <td>{\"address1\": \"120 Kaiulani Ave\", \"address2\": N...</td>\n",
       "      <td>NaN</td>\n",
       "      <td>NaN</td>\n",
       "      <td>418.425883</td>\n",
       "      <td>21.277430</td>\n",
       "      <td>-157.825790</td>\n",
       "      <td>Error</td>\n",
       "    </tr>\n",
       "    <tr>\n",
       "      <th>15</th>\n",
       "      <td>3ZK5K9oMS5CTHBni0G9ieA</td>\n",
       "      <td>the-sunrise-shack-honolulu-2</td>\n",
       "      <td>The Sunrise Shack</td>\n",
       "      <td>https://s3-media2.fl.yelpcdn.com/bphoto/BEG9Ty...</td>\n",
       "      <td>False</td>\n",
       "      <td>https://www.yelp.com/biz/the-sunrise-shack-hon...</td>\n",
       "      <td>75</td>\n",
       "      <td>[{'alias': 'juicebars', 'title': 'Juice Bars &amp;...</td>\n",
       "      <td>4.5</td>\n",
       "      <td>[]</td>\n",
       "      <td>NaN</td>\n",
       "      <td>{\"address1\": \"1450 Ala Moana Blvd\", \"address2\"...</td>\n",
       "      <td>1.808207e+10</td>\n",
       "      <td>(808) 207-2604</td>\n",
       "      <td>2288.268759</td>\n",
       "      <td>21.290530</td>\n",
       "      <td>-157.843580</td>\n",
       "      <td>Error</td>\n",
       "    </tr>\n",
       "    <tr>\n",
       "      <th>19</th>\n",
       "      <td>FM95pVoLjcWRVlUzwdbGBA</td>\n",
       "      <td>pineapple-house-honolulu</td>\n",
       "      <td>Pineapple House</td>\n",
       "      <td>https://s3-media2.fl.yelpcdn.com/bphoto/eZfjgq...</td>\n",
       "      <td>False</td>\n",
       "      <td>https://www.yelp.com/biz/pineapple-house-honol...</td>\n",
       "      <td>6</td>\n",
       "      <td>[{'alias': 'juicebars', 'title': 'Juice Bars &amp;...</td>\n",
       "      <td>5.0</td>\n",
       "      <td>[]</td>\n",
       "      <td>NaN</td>\n",
       "      <td>{\"address1\": \"333 Royal Hawaiian Ave\", \"addres...</td>\n",
       "      <td>NaN</td>\n",
       "      <td>NaN</td>\n",
       "      <td>521.396828</td>\n",
       "      <td>21.279920</td>\n",
       "      <td>-157.828380</td>\n",
       "      <td>Error</td>\n",
       "    </tr>\n",
       "    <tr>\n",
       "      <th>21</th>\n",
       "      <td>sn6JMdaipR7xWb_xa9vqJQ</td>\n",
       "      <td>island-vintage-wine-bar-honolulu</td>\n",
       "      <td>Island Vintage Wine Bar</td>\n",
       "      <td>https://s3-media1.fl.yelpcdn.com/bphoto/tO5hZN...</td>\n",
       "      <td>False</td>\n",
       "      <td>https://www.yelp.com/biz/island-vintage-wine-b...</td>\n",
       "      <td>340</td>\n",
       "      <td>[{'alias': 'wine_bars', 'title': 'Wine Bars'},...</td>\n",
       "      <td>4.0</td>\n",
       "      <td>[]</td>\n",
       "      <td>$$</td>\n",
       "      <td>{\"address1\": \"2301 Kalakaua Ave\", \"address2\": ...</td>\n",
       "      <td>1.808800e+10</td>\n",
       "      <td>(808) 799-9463</td>\n",
       "      <td>321.938190</td>\n",
       "      <td>21.278614</td>\n",
       "      <td>-157.829055</td>\n",
       "      <td>Error</td>\n",
       "    </tr>\n",
       "    <tr>\n",
       "      <th>23</th>\n",
       "      <td>xrkWtuj5P05SHTE_iCvwZw</td>\n",
       "      <td>banan-waikiki-shore-honolulu</td>\n",
       "      <td>Banan - Waikiki Shore</td>\n",
       "      <td>https://s3-media1.fl.yelpcdn.com/bphoto/HoNTP8...</td>\n",
       "      <td>False</td>\n",
       "      <td>https://www.yelp.com/biz/banan-waikiki-shore-h...</td>\n",
       "      <td>20</td>\n",
       "      <td>[{'alias': 'shavedice', 'title': 'Shaved Ice'}...</td>\n",
       "      <td>4.5</td>\n",
       "      <td>[]</td>\n",
       "      <td>NaN</td>\n",
       "      <td>{\"address1\": \"2161 Kalia Ave\", \"address2\": \"\",...</td>\n",
       "      <td>1.808774e+10</td>\n",
       "      <td>(808) 773-7231</td>\n",
       "      <td>566.781588</td>\n",
       "      <td>21.278490</td>\n",
       "      <td>-157.833070</td>\n",
       "      <td>Error</td>\n",
       "    </tr>\n",
       "    <tr>\n",
       "      <th>29</th>\n",
       "      <td>JFE8n_OLmgv7fA1F2R0SCQ</td>\n",
       "      <td>honolulu-pineapple-honolulu-4</td>\n",
       "      <td>Honolulu Pineapple</td>\n",
       "      <td>https://s3-media4.fl.yelpcdn.com/bphoto/sJjDcN...</td>\n",
       "      <td>False</td>\n",
       "      <td>https://www.yelp.com/biz/honolulu-pineapple-ho...</td>\n",
       "      <td>2</td>\n",
       "      <td>[{'alias': 'foodtrucks', 'title': 'Food Trucks...</td>\n",
       "      <td>5.0</td>\n",
       "      <td>[]</td>\n",
       "      <td>NaN</td>\n",
       "      <td>{\"address1\": None, \"address2\": None, \"address3...</td>\n",
       "      <td>1.808732e+10</td>\n",
       "      <td>(808) 732-1100</td>\n",
       "      <td>628.376375</td>\n",
       "      <td>21.275593</td>\n",
       "      <td>-157.822675</td>\n",
       "      <td>Error</td>\n",
       "    </tr>\n",
       "    <tr>\n",
       "      <th>30</th>\n",
       "      <td>ZovaisctMbmG0aLIkc3DyA</td>\n",
       "      <td>cafe-villamor-honolulu</td>\n",
       "      <td>Cafe Villamor</td>\n",
       "      <td>https://s3-media3.fl.yelpcdn.com/bphoto/2x9MWH...</td>\n",
       "      <td>False</td>\n",
       "      <td>https://www.yelp.com/biz/cafe-villamor-honolul...</td>\n",
       "      <td>43</td>\n",
       "      <td>[{'alias': 'coffee', 'title': 'Coffee &amp; Tea'},...</td>\n",
       "      <td>4.5</td>\n",
       "      <td>['delivery']</td>\n",
       "      <td>$$</td>\n",
       "      <td>{\"address1\": \"825 Ilaniwai St\", \"address2\": \"\"...</td>\n",
       "      <td>1.808633e+10</td>\n",
       "      <td>(808) 633-1423</td>\n",
       "      <td>3861.792873</td>\n",
       "      <td>21.298540</td>\n",
       "      <td>-157.856420</td>\n",
       "      <td>Error</td>\n",
       "    </tr>\n",
       "    <tr>\n",
       "      <th>32</th>\n",
       "      <td>NqcYp9htLYi7uEzVmHBcGw</td>\n",
       "      <td>topped-waikiki-honolulu-2</td>\n",
       "      <td>Topped Waikiki</td>\n",
       "      <td>https://s3-media1.fl.yelpcdn.com/bphoto/uZYpwU...</td>\n",
       "      <td>False</td>\n",
       "      <td>https://www.yelp.com/biz/topped-waikiki-honolu...</td>\n",
       "      <td>389</td>\n",
       "      <td>[{'alias': 'korean', 'title': 'Korean'}, {'ali...</td>\n",
       "      <td>4.5</td>\n",
       "      <td>['delivery']</td>\n",
       "      <td>$$</td>\n",
       "      <td>{\"address1\": \"333 Royal Hawaiian Ave\", \"addres...</td>\n",
       "      <td>1.808601e+10</td>\n",
       "      <td>(808) 600-9911</td>\n",
       "      <td>521.396828</td>\n",
       "      <td>21.279920</td>\n",
       "      <td>-157.828380</td>\n",
       "      <td>Error</td>\n",
       "    </tr>\n",
       "    <tr>\n",
       "      <th>34</th>\n",
       "      <td>33AYpiFK_CwYfFSopJvNVw</td>\n",
       "      <td>leis-cafe-melia-urban-honolulu</td>\n",
       "      <td>Lei's Cafe Melia</td>\n",
       "      <td>https://s3-media1.fl.yelpcdn.com/bphoto/k47xr1...</td>\n",
       "      <td>False</td>\n",
       "      <td>https://www.yelp.com/biz/leis-cafe-melia-urban...</td>\n",
       "      <td>11</td>\n",
       "      <td>[{'alias': 'foodtrucks', 'title': 'Food Trucks...</td>\n",
       "      <td>3.5</td>\n",
       "      <td>[]</td>\n",
       "      <td>NaN</td>\n",
       "      <td>{\"address1\": \"138 Uluniu Ave\", \"address2\": Non...</td>\n",
       "      <td>1.808801e+10</td>\n",
       "      <td>(808) 800-6939</td>\n",
       "      <td>485.359034</td>\n",
       "      <td>21.276150</td>\n",
       "      <td>-157.824180</td>\n",
       "      <td>Error</td>\n",
       "    </tr>\n",
       "    <tr>\n",
       "      <th>35</th>\n",
       "      <td>nQ7b52FN3B4PrxRI0ukmzQ</td>\n",
       "      <td>honolulu-coffee-experience-center-honolulu-3</td>\n",
       "      <td>Honolulu Coffee Experience Center</td>\n",
       "      <td>https://s3-media2.fl.yelpcdn.com/bphoto/dGBMUj...</td>\n",
       "      <td>False</td>\n",
       "      <td>https://www.yelp.com/biz/honolulu-coffee-exper...</td>\n",
       "      <td>372</td>\n",
       "      <td>[{'alias': 'coffee', 'title': 'Coffee &amp; Tea'},...</td>\n",
       "      <td>4.0</td>\n",
       "      <td>['delivery']</td>\n",
       "      <td>$$</td>\n",
       "      <td>{\"address1\": \"1800 Kalakaua Ave\", \"address2\": ...</td>\n",
       "      <td>1.808202e+10</td>\n",
       "      <td>(808) 202-2562</td>\n",
       "      <td>1774.227288</td>\n",
       "      <td>21.290102</td>\n",
       "      <td>-157.835115</td>\n",
       "      <td>Error</td>\n",
       "    </tr>\n",
       "    <tr>\n",
       "      <th>36</th>\n",
       "      <td>X28omQcs6SUBPUz0l-ueAQ</td>\n",
       "      <td>ohana-hale-waikiki-honolulu</td>\n",
       "      <td>Ohana Hale Waikiki</td>\n",
       "      <td>https://s3-media1.fl.yelpcdn.com/bphoto/J1cQVp...</td>\n",
       "      <td>False</td>\n",
       "      <td>https://www.yelp.com/biz/ohana-hale-waikiki-ho...</td>\n",
       "      <td>6</td>\n",
       "      <td>[{'alias': 'waffles', 'title': 'Waffles'}, {'a...</td>\n",
       "      <td>5.0</td>\n",
       "      <td>[]</td>\n",
       "      <td>NaN</td>\n",
       "      <td>{\"address1\": \"1958 Kalākaua Ave\", \"address2\": ...</td>\n",
       "      <td>NaN</td>\n",
       "      <td>NaN</td>\n",
       "      <td>1257.782487</td>\n",
       "      <td>21.285964</td>\n",
       "      <td>-157.832770</td>\n",
       "      <td>Error</td>\n",
       "    </tr>\n",
       "    <tr>\n",
       "      <th>40</th>\n",
       "      <td>Rrc877IfRBHa7LrwykXfrQ</td>\n",
       "      <td>leahi-health-manoa-honolulu</td>\n",
       "      <td>Leahi Health - Manoa</td>\n",
       "      <td>https://s3-media1.fl.yelpcdn.com/bphoto/SRmVMM...</td>\n",
       "      <td>False</td>\n",
       "      <td>https://www.yelp.com/biz/leahi-health-manoa-ho...</td>\n",
       "      <td>51</td>\n",
       "      <td>[{'alias': 'juicebars', 'title': 'Juice Bars &amp;...</td>\n",
       "      <td>4.0</td>\n",
       "      <td>[]</td>\n",
       "      <td>$$</td>\n",
       "      <td>{\"address1\": \"2752 Woodlawn Dr\", \"address2\": \"...</td>\n",
       "      <td>NaN</td>\n",
       "      <td>NaN</td>\n",
       "      <td>4079.961779</td>\n",
       "      <td>21.307920</td>\n",
       "      <td>-157.810350</td>\n",
       "      <td>Error</td>\n",
       "    </tr>\n",
       "    <tr>\n",
       "      <th>42</th>\n",
       "      <td>Fwy4UivCYMad14BaltRmMw</td>\n",
       "      <td>da-spot-honolulu-3</td>\n",
       "      <td>Da Spot</td>\n",
       "      <td>https://s3-media2.fl.yelpcdn.com/bphoto/P7-Kh5...</td>\n",
       "      <td>False</td>\n",
       "      <td>https://www.yelp.com/biz/da-spot-honolulu-3?ad...</td>\n",
       "      <td>1040</td>\n",
       "      <td>[{'alias': 'mediterranean', 'title': 'Mediterr...</td>\n",
       "      <td>4.0</td>\n",
       "      <td>['delivery', 'pickup']</td>\n",
       "      <td>$$</td>\n",
       "      <td>{\"address1\": \"2469 S King St\", \"address2\": \"\",...</td>\n",
       "      <td>1.808941e+10</td>\n",
       "      <td>(808) 941-1313</td>\n",
       "      <td>1971.011688</td>\n",
       "      <td>21.292440</td>\n",
       "      <td>-157.824220</td>\n",
       "      <td>Error</td>\n",
       "    </tr>\n",
       "    <tr>\n",
       "      <th>43</th>\n",
       "      <td>h3Ixf136jDsl7Zs-tGG5YQ</td>\n",
       "      <td>coco-bloom-kitchen-honolulu</td>\n",
       "      <td>Coco Bloom Kitchen</td>\n",
       "      <td>https://s3-media1.fl.yelpcdn.com/bphoto/u0DF9e...</td>\n",
       "      <td>False</td>\n",
       "      <td>https://www.yelp.com/biz/coco-bloom-kitchen-ho...</td>\n",
       "      <td>115</td>\n",
       "      <td>[{'alias': 'sandwiches', 'title': 'Sandwiches'...</td>\n",
       "      <td>4.5</td>\n",
       "      <td>['delivery', 'pickup']</td>\n",
       "      <td>$$</td>\n",
       "      <td>{\"address1\": \"3221 Waialae Ave\", \"address2\": \"...</td>\n",
       "      <td>1.808784e+10</td>\n",
       "      <td>(808) 784-0206</td>\n",
       "      <td>2533.847322</td>\n",
       "      <td>21.286873</td>\n",
       "      <td>-157.807672</td>\n",
       "      <td>Error</td>\n",
       "    </tr>\n",
       "    <tr>\n",
       "      <th>45</th>\n",
       "      <td>5LkBe0tGQ3sfnz-k_3BwjA</td>\n",
       "      <td>aunty-gigi-s-cafe-honolulu</td>\n",
       "      <td>Aunty Gigi’s Cafe</td>\n",
       "      <td>https://s3-media3.fl.yelpcdn.com/bphoto/3hModz...</td>\n",
       "      <td>False</td>\n",
       "      <td>https://www.yelp.com/biz/aunty-gigi-s-cafe-hon...</td>\n",
       "      <td>10</td>\n",
       "      <td>[{'alias': 'acaibowls', 'title': 'Acai Bowls'}...</td>\n",
       "      <td>5.0</td>\n",
       "      <td>[]</td>\n",
       "      <td>NaN</td>\n",
       "      <td>{\"address1\": \"1020 Keeaumoku St\", \"address2\": ...</td>\n",
       "      <td>1.808292e+10</td>\n",
       "      <td>(808) 292-3438</td>\n",
       "      <td>2926.041634</td>\n",
       "      <td>21.299324</td>\n",
       "      <td>-157.840246</td>\n",
       "      <td>Error</td>\n",
       "    </tr>\n",
       "    <tr>\n",
       "      <th>48</th>\n",
       "      <td>ABd4clagOr_9Ha8ZTkVV2w</td>\n",
       "      <td>honolulu-pineapple-honolulu</td>\n",
       "      <td>Honolulu Pineapple</td>\n",
       "      <td>https://s3-media1.fl.yelpcdn.com/bphoto/vhYoao...</td>\n",
       "      <td>False</td>\n",
       "      <td>https://www.yelp.com/biz/honolulu-pineapple-ho...</td>\n",
       "      <td>71</td>\n",
       "      <td>[{'alias': 'juicebars', 'title': 'Juice Bars &amp;...</td>\n",
       "      <td>4.5</td>\n",
       "      <td>[]</td>\n",
       "      <td>$$</td>\n",
       "      <td>{\"address1\": \"4303 Diamond Head Rd\", \"address2...</td>\n",
       "      <td>1.808366e+10</td>\n",
       "      <td>(808) 365-8044</td>\n",
       "      <td>3167.995230</td>\n",
       "      <td>21.270670</td>\n",
       "      <td>-157.800060</td>\n",
       "      <td>Error</td>\n",
       "    </tr>\n",
       "    <tr>\n",
       "      <th>49</th>\n",
       "      <td>7aesrW1DYxTepOgK6gh2yg</td>\n",
       "      <td>lanikai-juice-honolulu-11</td>\n",
       "      <td>Lanikai Juice</td>\n",
       "      <td>https://s3-media1.fl.yelpcdn.com/bphoto/CgadBt...</td>\n",
       "      <td>False</td>\n",
       "      <td>https://www.yelp.com/biz/lanikai-juice-honolul...</td>\n",
       "      <td>58</td>\n",
       "      <td>[{'alias': 'juicebars', 'title': 'Juice Bars &amp;...</td>\n",
       "      <td>3.5</td>\n",
       "      <td>[]</td>\n",
       "      <td>$$</td>\n",
       "      <td>{\"address1\": \"388 Kamakee St\", \"address2\": \"\",...</td>\n",
       "      <td>1.808379e+10</td>\n",
       "      <td>(808) 379-1777</td>\n",
       "      <td>3236.136117</td>\n",
       "      <td>21.294411</td>\n",
       "      <td>-157.852284</td>\n",
       "      <td>Error</td>\n",
       "    </tr>\n",
       "    <tr>\n",
       "      <th>52</th>\n",
       "      <td>8dPuflz0QZqZkPDm3fy06A</td>\n",
       "      <td>down-to-earth-organic-and-natural-kakaako-hono...</td>\n",
       "      <td>Down to Earth Organic &amp; Natural - Kakaako</td>\n",
       "      <td>https://s3-media3.fl.yelpcdn.com/bphoto/NoALsj...</td>\n",
       "      <td>False</td>\n",
       "      <td>https://www.yelp.com/biz/down-to-earth-organic...</td>\n",
       "      <td>172</td>\n",
       "      <td>[{'alias': 'vegetarian', 'title': 'Vegetarian'...</td>\n",
       "      <td>4.0</td>\n",
       "      <td>['delivery', 'pickup']</td>\n",
       "      <td>$$</td>\n",
       "      <td>{\"address1\": \"500 Keawe St\", \"address2\": \"\", \"...</td>\n",
       "      <td>1.808465e+10</td>\n",
       "      <td>(808) 465-2512</td>\n",
       "      <td>4249.984931</td>\n",
       "      <td>21.300492</td>\n",
       "      <td>-157.859898</td>\n",
       "      <td>Error</td>\n",
       "    </tr>\n",
       "    <tr>\n",
       "      <th>54</th>\n",
       "      <td>uM0CAs6-BkBLE4gI5vtWEg</td>\n",
       "      <td>island-brew-coffeehouse-honolulu-10</td>\n",
       "      <td>Island Brew Coffeehouse</td>\n",
       "      <td>https://s3-media1.fl.yelpcdn.com/bphoto/W6ofKP...</td>\n",
       "      <td>False</td>\n",
       "      <td>https://www.yelp.com/biz/island-brew-coffeehou...</td>\n",
       "      <td>90</td>\n",
       "      <td>[{'alias': 'coffee', 'title': 'Coffee &amp; Tea'},...</td>\n",
       "      <td>3.0</td>\n",
       "      <td>['delivery', 'pickup']</td>\n",
       "      <td>$$</td>\n",
       "      <td>{\"address1\": \"1108 Auahi St\", \"address2\": None...</td>\n",
       "      <td>NaN</td>\n",
       "      <td>NaN</td>\n",
       "      <td>3214.082467</td>\n",
       "      <td>21.294016</td>\n",
       "      <td>-157.852368</td>\n",
       "      <td>Error</td>\n",
       "    </tr>\n",
       "    <tr>\n",
       "      <th>55</th>\n",
       "      <td>2pd8XEARSLupOoZtwW2bbw</td>\n",
       "      <td>kai-poke-waikiki-urban-honolulu</td>\n",
       "      <td>Kai Poke Waikiki</td>\n",
       "      <td>https://s3-media1.fl.yelpcdn.com/bphoto/BVfqA1...</td>\n",
       "      <td>False</td>\n",
       "      <td>https://www.yelp.com/biz/kai-poke-waikiki-urba...</td>\n",
       "      <td>6</td>\n",
       "      <td>[{'alias': 'poke', 'title': 'Poke'}]</td>\n",
       "      <td>5.0</td>\n",
       "      <td>[]</td>\n",
       "      <td>NaN</td>\n",
       "      <td>{\"address1\": \"333 Seaside Ave\", \"address2\": No...</td>\n",
       "      <td>1.808200e+10</td>\n",
       "      <td>(808) 200-2060</td>\n",
       "      <td>461.609168</td>\n",
       "      <td>21.279396</td>\n",
       "      <td>-157.827461</td>\n",
       "      <td>Error</td>\n",
       "    </tr>\n",
       "    <tr>\n",
       "      <th>58</th>\n",
       "      <td>rFPCRFRyjCHgPO_cd8jttA</td>\n",
       "      <td>the-valley-health-bar-honolulu</td>\n",
       "      <td>The Valley Health Bar</td>\n",
       "      <td>https://s3-media3.fl.yelpcdn.com/bphoto/NkBXLj...</td>\n",
       "      <td>False</td>\n",
       "      <td>https://www.yelp.com/biz/the-valley-health-bar...</td>\n",
       "      <td>75</td>\n",
       "      <td>[{'alias': 'acaibowls', 'title': 'Acai Bowls'}...</td>\n",
       "      <td>4.5</td>\n",
       "      <td>['delivery', 'pickup']</td>\n",
       "      <td>$$</td>\n",
       "      <td>{\"address1\": \"725 Kinau St\", \"address2\": \"\", \"...</td>\n",
       "      <td>1.808523e+10</td>\n",
       "      <td>(808) 523-3838</td>\n",
       "      <td>4116.074913</td>\n",
       "      <td>21.305559</td>\n",
       "      <td>-157.851611</td>\n",
       "      <td>Error</td>\n",
       "    </tr>\n",
       "    <tr>\n",
       "      <th>60</th>\n",
       "      <td>esWf5X7QvgrS5200w_yFFw</td>\n",
       "      <td>niu-soft-serve-honolulu</td>\n",
       "      <td>Niu Soft Serve</td>\n",
       "      <td>https://s3-media3.fl.yelpcdn.com/bphoto/xX4SMN...</td>\n",
       "      <td>False</td>\n",
       "      <td>https://www.yelp.com/biz/niu-soft-serve-honolu...</td>\n",
       "      <td>129</td>\n",
       "      <td>[{'alias': 'desserts', 'title': 'Desserts'}, {...</td>\n",
       "      <td>4.5</td>\n",
       "      <td>[]</td>\n",
       "      <td>$$</td>\n",
       "      <td>{\"address1\": \"2320 S King St\", \"address2\": \"Un...</td>\n",
       "      <td>1.808436e+10</td>\n",
       "      <td>(808) 436-3739</td>\n",
       "      <td>2057.293845</td>\n",
       "      <td>21.293660</td>\n",
       "      <td>-157.826310</td>\n",
       "      <td>Error</td>\n",
       "    </tr>\n",
       "    <tr>\n",
       "      <th>63</th>\n",
       "      <td>QY7AT0UdTE6-Gj5G5s2GNQ</td>\n",
       "      <td>redfish-poke-bar-honolulu-2</td>\n",
       "      <td>Redfish Poke Bar</td>\n",
       "      <td>https://s3-media1.fl.yelpcdn.com/bphoto/Y8GcyQ...</td>\n",
       "      <td>False</td>\n",
       "      <td>https://www.yelp.com/biz/redfish-poke-bar-hono...</td>\n",
       "      <td>422</td>\n",
       "      <td>[{'alias': 'poke', 'title': 'Poke'}, {'alias':...</td>\n",
       "      <td>4.0</td>\n",
       "      <td>['pickup', 'delivery']</td>\n",
       "      <td>$$</td>\n",
       "      <td>{\"address1\": \"685 Auahi St\", \"address2\": None,...</td>\n",
       "      <td>1.808533e+10</td>\n",
       "      <td>(808) 532-6420</td>\n",
       "      <td>4201.579292</td>\n",
       "      <td>21.298249</td>\n",
       "      <td>-157.860945</td>\n",
       "      <td>Error</td>\n",
       "    </tr>\n",
       "    <tr>\n",
       "      <th>66</th>\n",
       "      <td>l_eYXZPF5Q9dBPJ8tNxtBg</td>\n",
       "      <td>sun-tea-mix-honolulu</td>\n",
       "      <td>Sun Tea Mix</td>\n",
       "      <td>https://s3-media2.fl.yelpcdn.com/bphoto/aJp-LV...</td>\n",
       "      <td>False</td>\n",
       "      <td>https://www.yelp.com/biz/sun-tea-mix-honolulu?...</td>\n",
       "      <td>212</td>\n",
       "      <td>[{'alias': 'bubbletea', 'title': 'Bubble Tea'}...</td>\n",
       "      <td>4.5</td>\n",
       "      <td>['pickup', 'delivery']</td>\n",
       "      <td>$$</td>\n",
       "      <td>{\"address1\": \"400 Keawe St\", \"address2\": \"Ste ...</td>\n",
       "      <td>1.808220e+10</td>\n",
       "      <td>(808) 219-5749</td>\n",
       "      <td>4305.303400</td>\n",
       "      <td>21.299440</td>\n",
       "      <td>-157.861217</td>\n",
       "      <td>Error</td>\n",
       "    </tr>\n",
       "    <tr>\n",
       "      <th>68</th>\n",
       "      <td>av3ctxhklyJVzUgPelUl8A</td>\n",
       "      <td>revive-cafe-honolulu-2</td>\n",
       "      <td>Revive Cafe</td>\n",
       "      <td>https://s3-media4.fl.yelpcdn.com/bphoto/R-SZwb...</td>\n",
       "      <td>False</td>\n",
       "      <td>https://www.yelp.com/biz/revive-cafe-honolulu-...</td>\n",
       "      <td>9</td>\n",
       "      <td>[{'alias': 'coffee', 'title': 'Coffee &amp; Tea'},...</td>\n",
       "      <td>5.0</td>\n",
       "      <td>['pickup', 'delivery']</td>\n",
       "      <td>NaN</td>\n",
       "      <td>{\"address1\": \"100 N Beretania St\", \"address2\":...</td>\n",
       "      <td>1.808321e+10</td>\n",
       "      <td>(808) 321-3888</td>\n",
       "      <td>5510.275457</td>\n",
       "      <td>21.314807</td>\n",
       "      <td>-157.860834</td>\n",
       "      <td>Error</td>\n",
       "    </tr>\n",
       "    <tr>\n",
       "      <th>74</th>\n",
       "      <td>O5MIZt3dPerfldsK7rfI0A</td>\n",
       "      <td>hitea-cafe-honolulu</td>\n",
       "      <td>HiTEA Cafe</td>\n",
       "      <td>https://s3-media4.fl.yelpcdn.com/bphoto/QrhMLM...</td>\n",
       "      <td>False</td>\n",
       "      <td>https://www.yelp.com/biz/hitea-cafe-honolulu?a...</td>\n",
       "      <td>182</td>\n",
       "      <td>[{'alias': 'bubbletea', 'title': 'Bubble Tea'}...</td>\n",
       "      <td>4.0</td>\n",
       "      <td>['delivery']</td>\n",
       "      <td>$$</td>\n",
       "      <td>{\"address1\": \"1450 Ala Moana Blvd\", \"address2\"...</td>\n",
       "      <td>1.808206e+10</td>\n",
       "      <td>(808) 205-8222</td>\n",
       "      <td>2197.796357</td>\n",
       "      <td>21.290704</td>\n",
       "      <td>-157.842019</td>\n",
       "      <td>Error</td>\n",
       "    </tr>\n",
       "    <tr>\n",
       "      <th>75</th>\n",
       "      <td>WS_cElal5PJkVLgjcQo-Qw</td>\n",
       "      <td>cafe-daisy-honolulu-3</td>\n",
       "      <td>Cafe Daisy</td>\n",
       "      <td>https://s3-media3.fl.yelpcdn.com/bphoto/ByLDBU...</td>\n",
       "      <td>False</td>\n",
       "      <td>https://www.yelp.com/biz/cafe-daisy-honolulu-3...</td>\n",
       "      <td>8</td>\n",
       "      <td>[{'alias': 'coffee', 'title': 'Coffee &amp; Tea'},...</td>\n",
       "      <td>5.0</td>\n",
       "      <td>[]</td>\n",
       "      <td>NaN</td>\n",
       "      <td>{\"address1\": \"700 Bishop St\", \"address2\": \"\", ...</td>\n",
       "      <td>1.808367e+10</td>\n",
       "      <td>(808) 367-0202</td>\n",
       "      <td>5089.136574</td>\n",
       "      <td>21.307760</td>\n",
       "      <td>-157.863510</td>\n",
       "      <td>Error</td>\n",
       "    </tr>\n",
       "    <tr>\n",
       "      <th>76</th>\n",
       "      <td>gXeNpiwWOOjQpYqa55htPg</td>\n",
       "      <td>whole-foods-market-honolulu-4</td>\n",
       "      <td>Whole Foods Market</td>\n",
       "      <td>https://s3-media3.fl.yelpcdn.com/bphoto/T2rtaC...</td>\n",
       "      <td>False</td>\n",
       "      <td>https://www.yelp.com/biz/whole-foods-market-ho...</td>\n",
       "      <td>921</td>\n",
       "      <td>[{'alias': 'grocery', 'title': 'Grocery'}, {'a...</td>\n",
       "      <td>3.5</td>\n",
       "      <td>[]</td>\n",
       "      <td>$$</td>\n",
       "      <td>{\"address1\": \"4211 Wai\"alae Ave\", \"address2\": ...</td>\n",
       "      <td>1.808738e+10</td>\n",
       "      <td>(808) 738-0820</td>\n",
       "      <td>4393.439448</td>\n",
       "      <td>21.277629</td>\n",
       "      <td>-157.786404</td>\n",
       "      <td>Error</td>\n",
       "    </tr>\n",
       "    <tr>\n",
       "      <th>78</th>\n",
       "      <td>4U0SHn_WBfqopNEynne6DA</td>\n",
       "      <td>whole-foods-market-honolulu-8</td>\n",
       "      <td>Whole Foods Market</td>\n",
       "      <td>https://s3-media3.fl.yelpcdn.com/bphoto/u6Tw8z...</td>\n",
       "      <td>False</td>\n",
       "      <td>https://www.yelp.com/biz/whole-foods-market-ho...</td>\n",
       "      <td>647</td>\n",
       "      <td>[{'alias': 'grocery', 'title': 'Grocery'}, {'a...</td>\n",
       "      <td>3.5</td>\n",
       "      <td>[]</td>\n",
       "      <td>$$</td>\n",
       "      <td>{\"address1\": \"388 Kamakee St\", \"address2\": \"St...</td>\n",
       "      <td>1.808379e+10</td>\n",
       "      <td>(808) 379-1800</td>\n",
       "      <td>3254.583662</td>\n",
       "      <td>21.294663</td>\n",
       "      <td>-157.852284</td>\n",
       "      <td>Error</td>\n",
       "    </tr>\n",
       "    <tr>\n",
       "      <th>80</th>\n",
       "      <td>yPcI0PpESo-Xuj6QLr_8Bg</td>\n",
       "      <td>jamba-honolulu-honolulu-oahu</td>\n",
       "      <td>Jamba - Honolulu</td>\n",
       "      <td>https://s3-media1.fl.yelpcdn.com/bphoto/JDCPlj...</td>\n",
       "      <td>False</td>\n",
       "      <td>https://www.yelp.com/biz/jamba-honolulu-honolu...</td>\n",
       "      <td>76</td>\n",
       "      <td>[{'alias': 'juicebars', 'title': 'Juice Bars &amp;...</td>\n",
       "      <td>2.5</td>\n",
       "      <td>['delivery', 'pickup']</td>\n",
       "      <td>$</td>\n",
       "      <td>{\"address1\": \"2255 Kuhio Ave\", \"address2\": \"Sp...</td>\n",
       "      <td>1.808927e+10</td>\n",
       "      <td>(808) 926-6260</td>\n",
       "      <td>519.201172</td>\n",
       "      <td>21.279675</td>\n",
       "      <td>-157.826992</td>\n",
       "      <td>Error</td>\n",
       "    </tr>\n",
       "    <tr>\n",
       "      <th>81</th>\n",
       "      <td>QYCOatxxYdmixIAwvqbWIA</td>\n",
       "      <td>refreshment-corner-honolulu</td>\n",
       "      <td>Refreshment Corner</td>\n",
       "      <td>https://s3-media4.fl.yelpcdn.com/bphoto/dJobg0...</td>\n",
       "      <td>False</td>\n",
       "      <td>https://www.yelp.com/biz/refreshment-corner-ho...</td>\n",
       "      <td>4</td>\n",
       "      <td>[{'alias': 'bubbletea', 'title': 'Bubble Tea'}...</td>\n",
       "      <td>5.0</td>\n",
       "      <td>[]</td>\n",
       "      <td>NaN</td>\n",
       "      <td>{\"address1\": \"438 Hobron Ln\", \"address2\": \"Ste...</td>\n",
       "      <td>1.808430e+10</td>\n",
       "      <td>(808) 429-8899</td>\n",
       "      <td>1506.973379</td>\n",
       "      <td>21.287170</td>\n",
       "      <td>-157.835744</td>\n",
       "      <td>Error</td>\n",
       "    </tr>\n",
       "    <tr>\n",
       "      <th>83</th>\n",
       "      <td>V78b0bsSQzZk0ti7asPm1w</td>\n",
       "      <td>cq2-bistro-honolulu-2</td>\n",
       "      <td>CQ2 Bistro</td>\n",
       "      <td>https://s3-media2.fl.yelpcdn.com/bphoto/Arhsba...</td>\n",
       "      <td>False</td>\n",
       "      <td>https://www.yelp.com/biz/cq2-bistro-honolulu-2...</td>\n",
       "      <td>2</td>\n",
       "      <td>[{'alias': 'coffee', 'title': 'Coffee &amp; Tea'},...</td>\n",
       "      <td>3.5</td>\n",
       "      <td>[]</td>\n",
       "      <td>NaN</td>\n",
       "      <td>{\"address1\": \"1329 Lusitana St\", \"address2\": \"...</td>\n",
       "      <td>NaN</td>\n",
       "      <td>NaN</td>\n",
       "      <td>4329.366529</td>\n",
       "      <td>21.307549</td>\n",
       "      <td>-157.852096</td>\n",
       "      <td>Error</td>\n",
       "    </tr>\n",
       "    <tr>\n",
       "      <th>87</th>\n",
       "      <td>i8Riqu7_fN9Lyw0yuM-wsw</td>\n",
       "      <td>yoga-under-the-palms-kaimukī-honolulu</td>\n",
       "      <td>Yoga Under the Palms Kaimukī</td>\n",
       "      <td>https://s3-media1.fl.yelpcdn.com/bphoto/SPdNvw...</td>\n",
       "      <td>False</td>\n",
       "      <td>https://www.yelp.com/biz/yoga-under-the-palms-...</td>\n",
       "      <td>13</td>\n",
       "      <td>[{'alias': 'vegan', 'title': 'Vegan'}, {'alias...</td>\n",
       "      <td>4.5</td>\n",
       "      <td>[]</td>\n",
       "      <td>NaN</td>\n",
       "      <td>{\"address1\": \"3574 Waialae Ave\", \"address2\": \"...</td>\n",
       "      <td>1.808646e+10</td>\n",
       "      <td>(808) 646-3660</td>\n",
       "      <td>3149.865288</td>\n",
       "      <td>21.283366</td>\n",
       "      <td>-157.799591</td>\n",
       "      <td>Error</td>\n",
       "    </tr>\n",
       "    <tr>\n",
       "      <th>89</th>\n",
       "      <td>3TLwn1lcLeikRooG2UuYcQ</td>\n",
       "      <td>808-juice-bar-and-grill-honolulu-2</td>\n",
       "      <td>808 Juice Bar &amp; Grill</td>\n",
       "      <td>https://s3-media1.fl.yelpcdn.com/bphoto/hp40F6...</td>\n",
       "      <td>False</td>\n",
       "      <td>https://www.yelp.com/biz/808-juice-bar-and-gri...</td>\n",
       "      <td>15</td>\n",
       "      <td>[{'alias': 'juicebars', 'title': 'Juice Bars &amp;...</td>\n",
       "      <td>2.5</td>\n",
       "      <td>[]</td>\n",
       "      <td>NaN</td>\n",
       "      <td>{\"address1\": \"500 Ala Moana Blvd\", \"address2\":...</td>\n",
       "      <td>1.808295e+10</td>\n",
       "      <td>(808) 294-7216</td>\n",
       "      <td>4547.759760</td>\n",
       "      <td>21.300670</td>\n",
       "      <td>-157.862750</td>\n",
       "      <td>Error</td>\n",
       "    </tr>\n",
       "    <tr>\n",
       "      <th>90</th>\n",
       "      <td>tlRpImbLayI-y-25SL7yMw</td>\n",
       "      <td>island-crepes-and-lemonade-honolulu-2</td>\n",
       "      <td>Island Crepes and Lemonade</td>\n",
       "      <td>https://s3-media2.fl.yelpcdn.com/bphoto/BzDq6D...</td>\n",
       "      <td>False</td>\n",
       "      <td>https://www.yelp.com/biz/island-crepes-and-lem...</td>\n",
       "      <td>40</td>\n",
       "      <td>[{'alias': 'creperies', 'title': 'Creperies'},...</td>\n",
       "      <td>4.0</td>\n",
       "      <td>[]</td>\n",
       "      <td>$</td>\n",
       "      <td>{\"address1\": \"1450 Ala Moana Blvd\", \"address2\"...</td>\n",
       "      <td>NaN</td>\n",
       "      <td>NaN</td>\n",
       "      <td>2371.965947</td>\n",
       "      <td>21.291158</td>\n",
       "      <td>-157.844039</td>\n",
       "      <td>Error</td>\n",
       "    </tr>\n",
       "  </tbody>\n",
       "</table>\n",
       "</div>"
      ],
      "text/plain": [
       "                        id                                              alias  \\\n",
       "2   FhShWwhWNm4j6yMjyF0MCw                 banán-waikiki-beach-shack-honolulu   \n",
       "5   kg9DW8QwQ6NEorFdUSUhgA            nalu-health-bar-and-cafe-urban-honolulu   \n",
       "6   iGIjmLHJAiwUP-oHpWP-Sw                aloh-health-bar-and-cafe-honolulu-2   \n",
       "7   oqnyvvSvWSNICv4QhzHyQg                island-vintage-shave-ice-honolulu-7   \n",
       "9   n5oK86I5tdZCBSR5vxw38A           hawaiian-aroma-caffe-ohana-east-honolulu   \n",
       "14  lSuf6g0V6MmFe69ZxRRTrA                           kai-fresh-urban-honolulu   \n",
       "15  3ZK5K9oMS5CTHBni0G9ieA                       the-sunrise-shack-honolulu-2   \n",
       "19  FM95pVoLjcWRVlUzwdbGBA                           pineapple-house-honolulu   \n",
       "21  sn6JMdaipR7xWb_xa9vqJQ                   island-vintage-wine-bar-honolulu   \n",
       "23  xrkWtuj5P05SHTE_iCvwZw                       banan-waikiki-shore-honolulu   \n",
       "29  JFE8n_OLmgv7fA1F2R0SCQ                      honolulu-pineapple-honolulu-4   \n",
       "30  ZovaisctMbmG0aLIkc3DyA                             cafe-villamor-honolulu   \n",
       "32  NqcYp9htLYi7uEzVmHBcGw                          topped-waikiki-honolulu-2   \n",
       "34  33AYpiFK_CwYfFSopJvNVw                     leis-cafe-melia-urban-honolulu   \n",
       "35  nQ7b52FN3B4PrxRI0ukmzQ       honolulu-coffee-experience-center-honolulu-3   \n",
       "36  X28omQcs6SUBPUz0l-ueAQ                        ohana-hale-waikiki-honolulu   \n",
       "40  Rrc877IfRBHa7LrwykXfrQ                        leahi-health-manoa-honolulu   \n",
       "42  Fwy4UivCYMad14BaltRmMw                                 da-spot-honolulu-3   \n",
       "43  h3Ixf136jDsl7Zs-tGG5YQ                        coco-bloom-kitchen-honolulu   \n",
       "45  5LkBe0tGQ3sfnz-k_3BwjA                         aunty-gigi-s-cafe-honolulu   \n",
       "48  ABd4clagOr_9Ha8ZTkVV2w                        honolulu-pineapple-honolulu   \n",
       "49  7aesrW1DYxTepOgK6gh2yg                          lanikai-juice-honolulu-11   \n",
       "52  8dPuflz0QZqZkPDm3fy06A  down-to-earth-organic-and-natural-kakaako-hono...   \n",
       "54  uM0CAs6-BkBLE4gI5vtWEg                island-brew-coffeehouse-honolulu-10   \n",
       "55  2pd8XEARSLupOoZtwW2bbw                    kai-poke-waikiki-urban-honolulu   \n",
       "58  rFPCRFRyjCHgPO_cd8jttA                     the-valley-health-bar-honolulu   \n",
       "60  esWf5X7QvgrS5200w_yFFw                            niu-soft-serve-honolulu   \n",
       "63  QY7AT0UdTE6-Gj5G5s2GNQ                        redfish-poke-bar-honolulu-2   \n",
       "66  l_eYXZPF5Q9dBPJ8tNxtBg                               sun-tea-mix-honolulu   \n",
       "68  av3ctxhklyJVzUgPelUl8A                             revive-cafe-honolulu-2   \n",
       "74  O5MIZt3dPerfldsK7rfI0A                                hitea-cafe-honolulu   \n",
       "75  WS_cElal5PJkVLgjcQo-Qw                              cafe-daisy-honolulu-3   \n",
       "76  gXeNpiwWOOjQpYqa55htPg                      whole-foods-market-honolulu-4   \n",
       "78  4U0SHn_WBfqopNEynne6DA                      whole-foods-market-honolulu-8   \n",
       "80  yPcI0PpESo-Xuj6QLr_8Bg                       jamba-honolulu-honolulu-oahu   \n",
       "81  QYCOatxxYdmixIAwvqbWIA                        refreshment-corner-honolulu   \n",
       "83  V78b0bsSQzZk0ti7asPm1w                              cq2-bistro-honolulu-2   \n",
       "87  i8Riqu7_fN9Lyw0yuM-wsw              yoga-under-the-palms-kaimukī-honolulu   \n",
       "89  3TLwn1lcLeikRooG2UuYcQ                 808-juice-bar-and-grill-honolulu-2   \n",
       "90  tlRpImbLayI-y-25SL7yMw              island-crepes-and-lemonade-honolulu-2   \n",
       "\n",
       "                                         name  \\\n",
       "2                 Banán - Waikiki Beach Shack   \n",
       "5                      Nalu Health Bar & Cafe   \n",
       "6                      Aloh Health Bar & Cafe   \n",
       "7                    Island Vintage Shave Ice   \n",
       "9           Hawaiian Aroma Caffe - Ohana East   \n",
       "14                                  Kai Fresh   \n",
       "15                          The Sunrise Shack   \n",
       "19                            Pineapple House   \n",
       "21                    Island Vintage Wine Bar   \n",
       "23                      Banan - Waikiki Shore   \n",
       "29                         Honolulu Pineapple   \n",
       "30                              Cafe Villamor   \n",
       "32                             Topped Waikiki   \n",
       "34                           Lei's Cafe Melia   \n",
       "35          Honolulu Coffee Experience Center   \n",
       "36                         Ohana Hale Waikiki   \n",
       "40                       Leahi Health - Manoa   \n",
       "42                                    Da Spot   \n",
       "43                         Coco Bloom Kitchen   \n",
       "45                          Aunty Gigi’s Cafe   \n",
       "48                         Honolulu Pineapple   \n",
       "49                              Lanikai Juice   \n",
       "52  Down to Earth Organic & Natural - Kakaako   \n",
       "54                    Island Brew Coffeehouse   \n",
       "55                           Kai Poke Waikiki   \n",
       "58                      The Valley Health Bar   \n",
       "60                             Niu Soft Serve   \n",
       "63                           Redfish Poke Bar   \n",
       "66                                Sun Tea Mix   \n",
       "68                                Revive Cafe   \n",
       "74                                 HiTEA Cafe   \n",
       "75                                 Cafe Daisy   \n",
       "76                         Whole Foods Market   \n",
       "78                         Whole Foods Market   \n",
       "80                           Jamba - Honolulu   \n",
       "81                         Refreshment Corner   \n",
       "83                                 CQ2 Bistro   \n",
       "87               Yoga Under the Palms Kaimukī   \n",
       "89                      808 Juice Bar & Grill   \n",
       "90                 Island Crepes and Lemonade   \n",
       "\n",
       "                                            image_url  is_closed  \\\n",
       "2   https://s3-media3.fl.yelpcdn.com/bphoto/HBcgiP...      False   \n",
       "5   https://s3-media2.fl.yelpcdn.com/bphoto/tn-UW0...      False   \n",
       "6   https://s3-media2.fl.yelpcdn.com/bphoto/KuUnIW...      False   \n",
       "7   https://s3-media3.fl.yelpcdn.com/bphoto/3frxsX...      False   \n",
       "9   https://s3-media4.fl.yelpcdn.com/bphoto/V4cb0r...      False   \n",
       "14  https://s3-media3.fl.yelpcdn.com/bphoto/7ToiVa...      False   \n",
       "15  https://s3-media2.fl.yelpcdn.com/bphoto/BEG9Ty...      False   \n",
       "19  https://s3-media2.fl.yelpcdn.com/bphoto/eZfjgq...      False   \n",
       "21  https://s3-media1.fl.yelpcdn.com/bphoto/tO5hZN...      False   \n",
       "23  https://s3-media1.fl.yelpcdn.com/bphoto/HoNTP8...      False   \n",
       "29  https://s3-media4.fl.yelpcdn.com/bphoto/sJjDcN...      False   \n",
       "30  https://s3-media3.fl.yelpcdn.com/bphoto/2x9MWH...      False   \n",
       "32  https://s3-media1.fl.yelpcdn.com/bphoto/uZYpwU...      False   \n",
       "34  https://s3-media1.fl.yelpcdn.com/bphoto/k47xr1...      False   \n",
       "35  https://s3-media2.fl.yelpcdn.com/bphoto/dGBMUj...      False   \n",
       "36  https://s3-media1.fl.yelpcdn.com/bphoto/J1cQVp...      False   \n",
       "40  https://s3-media1.fl.yelpcdn.com/bphoto/SRmVMM...      False   \n",
       "42  https://s3-media2.fl.yelpcdn.com/bphoto/P7-Kh5...      False   \n",
       "43  https://s3-media1.fl.yelpcdn.com/bphoto/u0DF9e...      False   \n",
       "45  https://s3-media3.fl.yelpcdn.com/bphoto/3hModz...      False   \n",
       "48  https://s3-media1.fl.yelpcdn.com/bphoto/vhYoao...      False   \n",
       "49  https://s3-media1.fl.yelpcdn.com/bphoto/CgadBt...      False   \n",
       "52  https://s3-media3.fl.yelpcdn.com/bphoto/NoALsj...      False   \n",
       "54  https://s3-media1.fl.yelpcdn.com/bphoto/W6ofKP...      False   \n",
       "55  https://s3-media1.fl.yelpcdn.com/bphoto/BVfqA1...      False   \n",
       "58  https://s3-media3.fl.yelpcdn.com/bphoto/NkBXLj...      False   \n",
       "60  https://s3-media3.fl.yelpcdn.com/bphoto/xX4SMN...      False   \n",
       "63  https://s3-media1.fl.yelpcdn.com/bphoto/Y8GcyQ...      False   \n",
       "66  https://s3-media2.fl.yelpcdn.com/bphoto/aJp-LV...      False   \n",
       "68  https://s3-media4.fl.yelpcdn.com/bphoto/R-SZwb...      False   \n",
       "74  https://s3-media4.fl.yelpcdn.com/bphoto/QrhMLM...      False   \n",
       "75  https://s3-media3.fl.yelpcdn.com/bphoto/ByLDBU...      False   \n",
       "76  https://s3-media3.fl.yelpcdn.com/bphoto/T2rtaC...      False   \n",
       "78  https://s3-media3.fl.yelpcdn.com/bphoto/u6Tw8z...      False   \n",
       "80  https://s3-media1.fl.yelpcdn.com/bphoto/JDCPlj...      False   \n",
       "81  https://s3-media4.fl.yelpcdn.com/bphoto/dJobg0...      False   \n",
       "83  https://s3-media2.fl.yelpcdn.com/bphoto/Arhsba...      False   \n",
       "87  https://s3-media1.fl.yelpcdn.com/bphoto/SPdNvw...      False   \n",
       "89  https://s3-media1.fl.yelpcdn.com/bphoto/hp40F6...      False   \n",
       "90  https://s3-media2.fl.yelpcdn.com/bphoto/BzDq6D...      False   \n",
       "\n",
       "                                                  url  review_count  \\\n",
       "2   https://www.yelp.com/biz/ban%C3%A1n-waikiki-be...           518   \n",
       "5   https://www.yelp.com/biz/nalu-health-bar-and-c...            10   \n",
       "6   https://www.yelp.com/biz/aloh-health-bar-and-c...            82   \n",
       "7   https://www.yelp.com/biz/island-vintage-shave-...            99   \n",
       "9   https://www.yelp.com/biz/hawaiian-aroma-caffe-...           281   \n",
       "14  https://www.yelp.com/biz/kai-fresh-urban-honol...            41   \n",
       "15  https://www.yelp.com/biz/the-sunrise-shack-hon...            75   \n",
       "19  https://www.yelp.com/biz/pineapple-house-honol...             6   \n",
       "21  https://www.yelp.com/biz/island-vintage-wine-b...           340   \n",
       "23  https://www.yelp.com/biz/banan-waikiki-shore-h...            20   \n",
       "29  https://www.yelp.com/biz/honolulu-pineapple-ho...             2   \n",
       "30  https://www.yelp.com/biz/cafe-villamor-honolul...            43   \n",
       "32  https://www.yelp.com/biz/topped-waikiki-honolu...           389   \n",
       "34  https://www.yelp.com/biz/leis-cafe-melia-urban...            11   \n",
       "35  https://www.yelp.com/biz/honolulu-coffee-exper...           372   \n",
       "36  https://www.yelp.com/biz/ohana-hale-waikiki-ho...             6   \n",
       "40  https://www.yelp.com/biz/leahi-health-manoa-ho...            51   \n",
       "42  https://www.yelp.com/biz/da-spot-honolulu-3?ad...          1040   \n",
       "43  https://www.yelp.com/biz/coco-bloom-kitchen-ho...           115   \n",
       "45  https://www.yelp.com/biz/aunty-gigi-s-cafe-hon...            10   \n",
       "48  https://www.yelp.com/biz/honolulu-pineapple-ho...            71   \n",
       "49  https://www.yelp.com/biz/lanikai-juice-honolul...            58   \n",
       "52  https://www.yelp.com/biz/down-to-earth-organic...           172   \n",
       "54  https://www.yelp.com/biz/island-brew-coffeehou...            90   \n",
       "55  https://www.yelp.com/biz/kai-poke-waikiki-urba...             6   \n",
       "58  https://www.yelp.com/biz/the-valley-health-bar...            75   \n",
       "60  https://www.yelp.com/biz/niu-soft-serve-honolu...           129   \n",
       "63  https://www.yelp.com/biz/redfish-poke-bar-hono...           422   \n",
       "66  https://www.yelp.com/biz/sun-tea-mix-honolulu?...           212   \n",
       "68  https://www.yelp.com/biz/revive-cafe-honolulu-...             9   \n",
       "74  https://www.yelp.com/biz/hitea-cafe-honolulu?a...           182   \n",
       "75  https://www.yelp.com/biz/cafe-daisy-honolulu-3...             8   \n",
       "76  https://www.yelp.com/biz/whole-foods-market-ho...           921   \n",
       "78  https://www.yelp.com/biz/whole-foods-market-ho...           647   \n",
       "80  https://www.yelp.com/biz/jamba-honolulu-honolu...            76   \n",
       "81  https://www.yelp.com/biz/refreshment-corner-ho...             4   \n",
       "83  https://www.yelp.com/biz/cq2-bistro-honolulu-2...             2   \n",
       "87  https://www.yelp.com/biz/yoga-under-the-palms-...            13   \n",
       "89  https://www.yelp.com/biz/808-juice-bar-and-gri...            15   \n",
       "90  https://www.yelp.com/biz/island-crepes-and-lem...            40   \n",
       "\n",
       "                                           categories  rating  \\\n",
       "2   [{'alias': 'vegan', 'title': 'Vegan'}, {'alias...     4.5   \n",
       "5   [{'alias': 'juicebars', 'title': 'Juice Bars &...     4.5   \n",
       "6   [{'alias': 'coffee', 'title': 'Coffee & Tea'},...     4.5   \n",
       "7   [{'alias': 'shavedice', 'title': 'Shaved Ice'}...     4.0   \n",
       "9   [{'alias': 'breakfast_brunch', 'title': 'Break...     4.5   \n",
       "14  [{'alias': 'coffee', 'title': 'Coffee & Tea'},...     4.5   \n",
       "15  [{'alias': 'juicebars', 'title': 'Juice Bars &...     4.5   \n",
       "19  [{'alias': 'juicebars', 'title': 'Juice Bars &...     5.0   \n",
       "21  [{'alias': 'wine_bars', 'title': 'Wine Bars'},...     4.0   \n",
       "23  [{'alias': 'shavedice', 'title': 'Shaved Ice'}...     4.5   \n",
       "29  [{'alias': 'foodtrucks', 'title': 'Food Trucks...     5.0   \n",
       "30  [{'alias': 'coffee', 'title': 'Coffee & Tea'},...     4.5   \n",
       "32  [{'alias': 'korean', 'title': 'Korean'}, {'ali...     4.5   \n",
       "34  [{'alias': 'foodtrucks', 'title': 'Food Trucks...     3.5   \n",
       "35  [{'alias': 'coffee', 'title': 'Coffee & Tea'},...     4.0   \n",
       "36  [{'alias': 'waffles', 'title': 'Waffles'}, {'a...     5.0   \n",
       "40  [{'alias': 'juicebars', 'title': 'Juice Bars &...     4.0   \n",
       "42  [{'alias': 'mediterranean', 'title': 'Mediterr...     4.0   \n",
       "43  [{'alias': 'sandwiches', 'title': 'Sandwiches'...     4.5   \n",
       "45  [{'alias': 'acaibowls', 'title': 'Acai Bowls'}...     5.0   \n",
       "48  [{'alias': 'juicebars', 'title': 'Juice Bars &...     4.5   \n",
       "49  [{'alias': 'juicebars', 'title': 'Juice Bars &...     3.5   \n",
       "52  [{'alias': 'vegetarian', 'title': 'Vegetarian'...     4.0   \n",
       "54  [{'alias': 'coffee', 'title': 'Coffee & Tea'},...     3.0   \n",
       "55               [{'alias': 'poke', 'title': 'Poke'}]     5.0   \n",
       "58  [{'alias': 'acaibowls', 'title': 'Acai Bowls'}...     4.5   \n",
       "60  [{'alias': 'desserts', 'title': 'Desserts'}, {...     4.5   \n",
       "63  [{'alias': 'poke', 'title': 'Poke'}, {'alias':...     4.0   \n",
       "66  [{'alias': 'bubbletea', 'title': 'Bubble Tea'}...     4.5   \n",
       "68  [{'alias': 'coffee', 'title': 'Coffee & Tea'},...     5.0   \n",
       "74  [{'alias': 'bubbletea', 'title': 'Bubble Tea'}...     4.0   \n",
       "75  [{'alias': 'coffee', 'title': 'Coffee & Tea'},...     5.0   \n",
       "76  [{'alias': 'grocery', 'title': 'Grocery'}, {'a...     3.5   \n",
       "78  [{'alias': 'grocery', 'title': 'Grocery'}, {'a...     3.5   \n",
       "80  [{'alias': 'juicebars', 'title': 'Juice Bars &...     2.5   \n",
       "81  [{'alias': 'bubbletea', 'title': 'Bubble Tea'}...     5.0   \n",
       "83  [{'alias': 'coffee', 'title': 'Coffee & Tea'},...     3.5   \n",
       "87  [{'alias': 'vegan', 'title': 'Vegan'}, {'alias...     4.5   \n",
       "89  [{'alias': 'juicebars', 'title': 'Juice Bars &...     2.5   \n",
       "90  [{'alias': 'creperies', 'title': 'Creperies'},...     4.0   \n",
       "\n",
       "              transactions price  \\\n",
       "2                       []     $   \n",
       "5                       []   NaN   \n",
       "6   ['delivery', 'pickup']    $$   \n",
       "7                       []    $$   \n",
       "9             ['delivery']    $$   \n",
       "14                      []    $$   \n",
       "15                      []   NaN   \n",
       "19                      []   NaN   \n",
       "21                      []    $$   \n",
       "23                      []   NaN   \n",
       "29                      []   NaN   \n",
       "30            ['delivery']    $$   \n",
       "32            ['delivery']    $$   \n",
       "34                      []   NaN   \n",
       "35            ['delivery']    $$   \n",
       "36                      []   NaN   \n",
       "40                      []    $$   \n",
       "42  ['delivery', 'pickup']    $$   \n",
       "43  ['delivery', 'pickup']    $$   \n",
       "45                      []   NaN   \n",
       "48                      []    $$   \n",
       "49                      []    $$   \n",
       "52  ['delivery', 'pickup']    $$   \n",
       "54  ['delivery', 'pickup']    $$   \n",
       "55                      []   NaN   \n",
       "58  ['delivery', 'pickup']    $$   \n",
       "60                      []    $$   \n",
       "63  ['pickup', 'delivery']    $$   \n",
       "66  ['pickup', 'delivery']    $$   \n",
       "68  ['pickup', 'delivery']   NaN   \n",
       "74            ['delivery']    $$   \n",
       "75                      []   NaN   \n",
       "76                      []    $$   \n",
       "78                      []    $$   \n",
       "80  ['delivery', 'pickup']     $   \n",
       "81                      []   NaN   \n",
       "83                      []   NaN   \n",
       "87                      []   NaN   \n",
       "89                      []   NaN   \n",
       "90                      []     $   \n",
       "\n",
       "                                             location         phone  \\\n",
       "2   {\"address1\": \"2301 Kalakaua Ave\", \"address2\": ...  1.808200e+10   \n",
       "5   {\"address1\": \"226 Lewers St\", \"address2\": None...  1.808425e+10   \n",
       "6   {\"address1\": \"407 Seaside Ave\", \"address2\": No...  1.808549e+10   \n",
       "7   {\"address1\": \"2552 Kalakaua Ave\", \"address2\": ...           NaN   \n",
       "9   {\"address1\": \"150 Kaiulani Ave\", \"address2\": N...  1.808256e+10   \n",
       "14  {\"address1\": \"120 Kaiulani Ave\", \"address2\": N...           NaN   \n",
       "15  {\"address1\": \"1450 Ala Moana Blvd\", \"address2\"...  1.808207e+10   \n",
       "19  {\"address1\": \"333 Royal Hawaiian Ave\", \"addres...           NaN   \n",
       "21  {\"address1\": \"2301 Kalakaua Ave\", \"address2\": ...  1.808800e+10   \n",
       "23  {\"address1\": \"2161 Kalia Ave\", \"address2\": \"\",...  1.808774e+10   \n",
       "29  {\"address1\": None, \"address2\": None, \"address3...  1.808732e+10   \n",
       "30  {\"address1\": \"825 Ilaniwai St\", \"address2\": \"\"...  1.808633e+10   \n",
       "32  {\"address1\": \"333 Royal Hawaiian Ave\", \"addres...  1.808601e+10   \n",
       "34  {\"address1\": \"138 Uluniu Ave\", \"address2\": Non...  1.808801e+10   \n",
       "35  {\"address1\": \"1800 Kalakaua Ave\", \"address2\": ...  1.808202e+10   \n",
       "36  {\"address1\": \"1958 Kalākaua Ave\", \"address2\": ...           NaN   \n",
       "40  {\"address1\": \"2752 Woodlawn Dr\", \"address2\": \"...           NaN   \n",
       "42  {\"address1\": \"2469 S King St\", \"address2\": \"\",...  1.808941e+10   \n",
       "43  {\"address1\": \"3221 Waialae Ave\", \"address2\": \"...  1.808784e+10   \n",
       "45  {\"address1\": \"1020 Keeaumoku St\", \"address2\": ...  1.808292e+10   \n",
       "48  {\"address1\": \"4303 Diamond Head Rd\", \"address2...  1.808366e+10   \n",
       "49  {\"address1\": \"388 Kamakee St\", \"address2\": \"\",...  1.808379e+10   \n",
       "52  {\"address1\": \"500 Keawe St\", \"address2\": \"\", \"...  1.808465e+10   \n",
       "54  {\"address1\": \"1108 Auahi St\", \"address2\": None...           NaN   \n",
       "55  {\"address1\": \"333 Seaside Ave\", \"address2\": No...  1.808200e+10   \n",
       "58  {\"address1\": \"725 Kinau St\", \"address2\": \"\", \"...  1.808523e+10   \n",
       "60  {\"address1\": \"2320 S King St\", \"address2\": \"Un...  1.808436e+10   \n",
       "63  {\"address1\": \"685 Auahi St\", \"address2\": None,...  1.808533e+10   \n",
       "66  {\"address1\": \"400 Keawe St\", \"address2\": \"Ste ...  1.808220e+10   \n",
       "68  {\"address1\": \"100 N Beretania St\", \"address2\":...  1.808321e+10   \n",
       "74  {\"address1\": \"1450 Ala Moana Blvd\", \"address2\"...  1.808206e+10   \n",
       "75  {\"address1\": \"700 Bishop St\", \"address2\": \"\", ...  1.808367e+10   \n",
       "76  {\"address1\": \"4211 Wai\"alae Ave\", \"address2\": ...  1.808738e+10   \n",
       "78  {\"address1\": \"388 Kamakee St\", \"address2\": \"St...  1.808379e+10   \n",
       "80  {\"address1\": \"2255 Kuhio Ave\", \"address2\": \"Sp...  1.808927e+10   \n",
       "81  {\"address1\": \"438 Hobron Ln\", \"address2\": \"Ste...  1.808430e+10   \n",
       "83  {\"address1\": \"1329 Lusitana St\", \"address2\": \"...           NaN   \n",
       "87  {\"address1\": \"3574 Waialae Ave\", \"address2\": \"...  1.808646e+10   \n",
       "89  {\"address1\": \"500 Ala Moana Blvd\", \"address2\":...  1.808295e+10   \n",
       "90  {\"address1\": \"1450 Ala Moana Blvd\", \"address2\"...           NaN   \n",
       "\n",
       "     display_phone     distance   latitude   longitude display_location  \n",
       "2   (808) 200-1640   242.294662  21.277282 -157.827769            Error  \n",
       "5   (808) 425-4710   530.177160  21.279401 -157.831178            Error  \n",
       "6   (808) 548-8116   601.092447  21.280354 -157.826683            Error  \n",
       "7              NaN   657.645350  21.272783 -157.822986            Error  \n",
       "9   (808) 256-2602   489.233897  21.277719 -157.824790            Error  \n",
       "14             NaN   418.425883  21.277430 -157.825790            Error  \n",
       "15  (808) 207-2604  2288.268759  21.290530 -157.843580            Error  \n",
       "19             NaN   521.396828  21.279920 -157.828380            Error  \n",
       "21  (808) 799-9463   321.938190  21.278614 -157.829055            Error  \n",
       "23  (808) 773-7231   566.781588  21.278490 -157.833070            Error  \n",
       "29  (808) 732-1100   628.376375  21.275593 -157.822675            Error  \n",
       "30  (808) 633-1423  3861.792873  21.298540 -157.856420            Error  \n",
       "32  (808) 600-9911   521.396828  21.279920 -157.828380            Error  \n",
       "34  (808) 800-6939   485.359034  21.276150 -157.824180            Error  \n",
       "35  (808) 202-2562  1774.227288  21.290102 -157.835115            Error  \n",
       "36             NaN  1257.782487  21.285964 -157.832770            Error  \n",
       "40             NaN  4079.961779  21.307920 -157.810350            Error  \n",
       "42  (808) 941-1313  1971.011688  21.292440 -157.824220            Error  \n",
       "43  (808) 784-0206  2533.847322  21.286873 -157.807672            Error  \n",
       "45  (808) 292-3438  2926.041634  21.299324 -157.840246            Error  \n",
       "48  (808) 365-8044  3167.995230  21.270670 -157.800060            Error  \n",
       "49  (808) 379-1777  3236.136117  21.294411 -157.852284            Error  \n",
       "52  (808) 465-2512  4249.984931  21.300492 -157.859898            Error  \n",
       "54             NaN  3214.082467  21.294016 -157.852368            Error  \n",
       "55  (808) 200-2060   461.609168  21.279396 -157.827461            Error  \n",
       "58  (808) 523-3838  4116.074913  21.305559 -157.851611            Error  \n",
       "60  (808) 436-3739  2057.293845  21.293660 -157.826310            Error  \n",
       "63  (808) 532-6420  4201.579292  21.298249 -157.860945            Error  \n",
       "66  (808) 219-5749  4305.303400  21.299440 -157.861217            Error  \n",
       "68  (808) 321-3888  5510.275457  21.314807 -157.860834            Error  \n",
       "74  (808) 205-8222  2197.796357  21.290704 -157.842019            Error  \n",
       "75  (808) 367-0202  5089.136574  21.307760 -157.863510            Error  \n",
       "76  (808) 738-0820  4393.439448  21.277629 -157.786404            Error  \n",
       "78  (808) 379-1800  3254.583662  21.294663 -157.852284            Error  \n",
       "80  (808) 926-6260   519.201172  21.279675 -157.826992            Error  \n",
       "81  (808) 429-8899  1506.973379  21.287170 -157.835744            Error  \n",
       "83             NaN  4329.366529  21.307549 -157.852096            Error  \n",
       "87  (808) 646-3660  3149.865288  21.283366 -157.799591            Error  \n",
       "89  (808) 294-7216  4547.759760  21.300670 -157.862750            Error  \n",
       "90             NaN  2371.965947  21.291158 -157.844039            Error  "
      ]
     },
     "execution_count": 39,
     "metadata": {},
     "output_type": "execute_result"
    }
   ],
   "source": [
    "## filter for businesses with display_location == \"ERROR\"\n",
    "errors = df[df['display_location'] == 'Error']\n",
    "errors"
   ]
  },
  {
   "cell_type": "code",
   "execution_count": null,
   "id": "9c115199",
   "metadata": {},
   "outputs": [],
   "source": [
    "## slice out a new test address and inspect\n",
    "test_addr = df.loc[437, 'location']\n",
    "test_addr"
   ]
  },
  {
   "cell_type": "markdown",
   "id": "448fa8c6",
   "metadata": {},
   "source": [
    "> After some more investigation, we would find a few issues with these \"ERROR\" rows.\n",
    "1. They contained None.\n",
    "2. They contained an apostrophe in the name.\n",
    "3. ...?"
   ]
  },
  {
   "cell_type": "markdown",
   "id": "68a960d4",
   "metadata": {},
   "source": [
    "### Possible Fixes (if we care to/have the time)\n"
   ]
  },
  {
   "cell_type": "markdown",
   "id": "7c21eda1",
   "metadata": {},
   "source": [
    "- Use Regular Expressions to find an fix the display addresses with \"'\" in them\n",
    "- Use string split to split on the word display address.\n",
    "    - Then use string methods to clean up"
   ]
  },
  {
   "cell_type": "markdown",
   "id": "df8d68fb",
   "metadata": {},
   "source": [
    "### Moving Forward without those rows (for now)"
   ]
  },
  {
   "cell_type": "code",
   "execution_count": 40,
   "id": "bddbcc87",
   "metadata": {},
   "outputs": [
    {
     "data": {
      "text/html": [
       "<div>\n",
       "<style scoped>\n",
       "    .dataframe tbody tr th:only-of-type {\n",
       "        vertical-align: middle;\n",
       "    }\n",
       "\n",
       "    .dataframe tbody tr th {\n",
       "        vertical-align: top;\n",
       "    }\n",
       "\n",
       "    .dataframe thead th {\n",
       "        text-align: right;\n",
       "    }\n",
       "</style>\n",
       "<table border=\"1\" class=\"dataframe\">\n",
       "  <thead>\n",
       "    <tr style=\"text-align: right;\">\n",
       "      <th></th>\n",
       "      <th>id</th>\n",
       "      <th>alias</th>\n",
       "      <th>name</th>\n",
       "      <th>image_url</th>\n",
       "      <th>is_closed</th>\n",
       "      <th>url</th>\n",
       "      <th>review_count</th>\n",
       "      <th>categories</th>\n",
       "      <th>rating</th>\n",
       "      <th>transactions</th>\n",
       "      <th>price</th>\n",
       "      <th>location</th>\n",
       "      <th>phone</th>\n",
       "      <th>display_phone</th>\n",
       "      <th>distance</th>\n",
       "      <th>latitude</th>\n",
       "      <th>longitude</th>\n",
       "      <th>display_location</th>\n",
       "    </tr>\n",
       "  </thead>\n",
       "  <tbody>\n",
       "    <tr>\n",
       "      <th>0</th>\n",
       "      <td>3vsRGQGSVPec7kKBFGhowA</td>\n",
       "      <td>alo-cafe-hawaii-honolulu-2</td>\n",
       "      <td>ALO Cafe Hawaii</td>\n",
       "      <td>https://s3-media2.fl.yelpcdn.com/bphoto/_tn-bh...</td>\n",
       "      <td>False</td>\n",
       "      <td>https://www.yelp.com/biz/alo-cafe-hawaii-honol...</td>\n",
       "      <td>98</td>\n",
       "      <td>[{'alias': 'juicebars', 'title': 'Juice Bars &amp;...</td>\n",
       "      <td>4.5</td>\n",
       "      <td>['delivery', 'pickup']</td>\n",
       "      <td>$$</td>\n",
       "      <td>{\"address1\": \"159 Kaiulani Ave\", \"address2\": \"...</td>\n",
       "      <td>1.808780e+10</td>\n",
       "      <td>(808) 779-7887</td>\n",
       "      <td>505.744094</td>\n",
       "      <td>21.277130</td>\n",
       "      <td>-157.824330</td>\n",
       "      <td>{'address1': '159 Kaiulani Ave', 'address2': '...</td>\n",
       "    </tr>\n",
       "    <tr>\n",
       "      <th>1</th>\n",
       "      <td>QMPFWhM_kMIMSSBQf48-Gg</td>\n",
       "      <td>waffle-and-berry-honolulu</td>\n",
       "      <td>Waffle and Berry</td>\n",
       "      <td>https://s3-media4.fl.yelpcdn.com/bphoto/6VpIBT...</td>\n",
       "      <td>False</td>\n",
       "      <td>https://www.yelp.com/biz/waffle-and-berry-hono...</td>\n",
       "      <td>675</td>\n",
       "      <td>[{'alias': 'waffles', 'title': 'Waffles'}, {'a...</td>\n",
       "      <td>5.0</td>\n",
       "      <td>['delivery', 'pickup']</td>\n",
       "      <td>$$</td>\n",
       "      <td>{\"address1\": \"1958 Kalakaua Ave\", \"address2\": ...</td>\n",
       "      <td>1.808207e+10</td>\n",
       "      <td>(808) 206-8272</td>\n",
       "      <td>1256.061740</td>\n",
       "      <td>21.285940</td>\n",
       "      <td>-157.832750</td>\n",
       "      <td>{'address1': '1958 Kalakaua Ave', 'address2': ...</td>\n",
       "    </tr>\n",
       "    <tr>\n",
       "      <th>3</th>\n",
       "      <td>vZ6iGKsU7zX8MT5rwNJeZw</td>\n",
       "      <td>tropical-tribe-honolulu</td>\n",
       "      <td>Tropical Tribe</td>\n",
       "      <td>https://s3-media3.fl.yelpcdn.com/bphoto/e7Y1Qu...</td>\n",
       "      <td>False</td>\n",
       "      <td>https://www.yelp.com/biz/tropical-tribe-honolu...</td>\n",
       "      <td>592</td>\n",
       "      <td>[{'alias': 'acaibowls', 'title': 'Acai Bowls'}...</td>\n",
       "      <td>4.5</td>\n",
       "      <td>['delivery', 'pickup']</td>\n",
       "      <td>$$</td>\n",
       "      <td>{\"address1\": \"1778 Ala Moana Blvd\", \"address2\"...</td>\n",
       "      <td>1.808367e+10</td>\n",
       "      <td>(808) 366-8226</td>\n",
       "      <td>1522.472981</td>\n",
       "      <td>21.285579</td>\n",
       "      <td>-157.838434</td>\n",
       "      <td>{'address1': '1778 Ala Moana Blvd', 'address2'...</td>\n",
       "    </tr>\n",
       "    <tr>\n",
       "      <th>4</th>\n",
       "      <td>vFz6Nwo0LgpbJcU9St-uPA</td>\n",
       "      <td>da-cove-health-bar-and-cafe-honolulu-4</td>\n",
       "      <td>Da Cove Health Bar &amp; Cafe</td>\n",
       "      <td>https://s3-media3.fl.yelpcdn.com/bphoto/aNlP2w...</td>\n",
       "      <td>False</td>\n",
       "      <td>https://www.yelp.com/biz/da-cove-health-bar-an...</td>\n",
       "      <td>1295</td>\n",
       "      <td>[{'alias': 'juicebars', 'title': 'Juice Bars &amp;...</td>\n",
       "      <td>4.0</td>\n",
       "      <td>['delivery', 'pickup']</td>\n",
       "      <td>$$</td>\n",
       "      <td>{\"address1\": \"3045 Monsarrat Ave\", \"address2\":...</td>\n",
       "      <td>1.808733e+10</td>\n",
       "      <td>(808) 732-8744</td>\n",
       "      <td>1718.002818</td>\n",
       "      <td>21.268780</td>\n",
       "      <td>-157.813620</td>\n",
       "      <td>{'address1': '3045 Monsarrat Ave', 'address2':...</td>\n",
       "    </tr>\n",
       "    <tr>\n",
       "      <th>8</th>\n",
       "      <td>tUDgSvk3bdNV_UJJ-yf7XQ</td>\n",
       "      <td>aloha-bowls-and-tea-honolulu</td>\n",
       "      <td>Aloha Bowls and Tea</td>\n",
       "      <td>https://s3-media3.fl.yelpcdn.com/bphoto/e_k8Bm...</td>\n",
       "      <td>False</td>\n",
       "      <td>https://www.yelp.com/biz/aloha-bowls-and-tea-h...</td>\n",
       "      <td>48</td>\n",
       "      <td>[{'alias': 'acaibowls', 'title': 'Acai Bowls'}...</td>\n",
       "      <td>4.5</td>\n",
       "      <td>[]</td>\n",
       "      <td>$$</td>\n",
       "      <td>{\"address1\": \"2005 Kalia Rd\", \"address2\": \"\", ...</td>\n",
       "      <td>1.808808e+10</td>\n",
       "      <td>(808) 807-7733</td>\n",
       "      <td>1148.326573</td>\n",
       "      <td>21.282989</td>\n",
       "      <td>-157.836126</td>\n",
       "      <td>{'address1': '2005 Kalia Rd', 'address2': '', ...</td>\n",
       "    </tr>\n",
       "  </tbody>\n",
       "</table>\n",
       "</div>"
      ],
      "text/plain": [
       "                       id                                   alias  \\\n",
       "0  3vsRGQGSVPec7kKBFGhowA              alo-cafe-hawaii-honolulu-2   \n",
       "1  QMPFWhM_kMIMSSBQf48-Gg               waffle-and-berry-honolulu   \n",
       "3  vZ6iGKsU7zX8MT5rwNJeZw                 tropical-tribe-honolulu   \n",
       "4  vFz6Nwo0LgpbJcU9St-uPA  da-cove-health-bar-and-cafe-honolulu-4   \n",
       "8  tUDgSvk3bdNV_UJJ-yf7XQ            aloha-bowls-and-tea-honolulu   \n",
       "\n",
       "                        name  \\\n",
       "0            ALO Cafe Hawaii   \n",
       "1           Waffle and Berry   \n",
       "3             Tropical Tribe   \n",
       "4  Da Cove Health Bar & Cafe   \n",
       "8        Aloha Bowls and Tea   \n",
       "\n",
       "                                           image_url  is_closed  \\\n",
       "0  https://s3-media2.fl.yelpcdn.com/bphoto/_tn-bh...      False   \n",
       "1  https://s3-media4.fl.yelpcdn.com/bphoto/6VpIBT...      False   \n",
       "3  https://s3-media3.fl.yelpcdn.com/bphoto/e7Y1Qu...      False   \n",
       "4  https://s3-media3.fl.yelpcdn.com/bphoto/aNlP2w...      False   \n",
       "8  https://s3-media3.fl.yelpcdn.com/bphoto/e_k8Bm...      False   \n",
       "\n",
       "                                                 url  review_count  \\\n",
       "0  https://www.yelp.com/biz/alo-cafe-hawaii-honol...            98   \n",
       "1  https://www.yelp.com/biz/waffle-and-berry-hono...           675   \n",
       "3  https://www.yelp.com/biz/tropical-tribe-honolu...           592   \n",
       "4  https://www.yelp.com/biz/da-cove-health-bar-an...          1295   \n",
       "8  https://www.yelp.com/biz/aloha-bowls-and-tea-h...            48   \n",
       "\n",
       "                                          categories  rating  \\\n",
       "0  [{'alias': 'juicebars', 'title': 'Juice Bars &...     4.5   \n",
       "1  [{'alias': 'waffles', 'title': 'Waffles'}, {'a...     5.0   \n",
       "3  [{'alias': 'acaibowls', 'title': 'Acai Bowls'}...     4.5   \n",
       "4  [{'alias': 'juicebars', 'title': 'Juice Bars &...     4.0   \n",
       "8  [{'alias': 'acaibowls', 'title': 'Acai Bowls'}...     4.5   \n",
       "\n",
       "             transactions price  \\\n",
       "0  ['delivery', 'pickup']    $$   \n",
       "1  ['delivery', 'pickup']    $$   \n",
       "3  ['delivery', 'pickup']    $$   \n",
       "4  ['delivery', 'pickup']    $$   \n",
       "8                      []    $$   \n",
       "\n",
       "                                            location         phone  \\\n",
       "0  {\"address1\": \"159 Kaiulani Ave\", \"address2\": \"...  1.808780e+10   \n",
       "1  {\"address1\": \"1958 Kalakaua Ave\", \"address2\": ...  1.808207e+10   \n",
       "3  {\"address1\": \"1778 Ala Moana Blvd\", \"address2\"...  1.808367e+10   \n",
       "4  {\"address1\": \"3045 Monsarrat Ave\", \"address2\":...  1.808733e+10   \n",
       "8  {\"address1\": \"2005 Kalia Rd\", \"address2\": \"\", ...  1.808808e+10   \n",
       "\n",
       "    display_phone     distance   latitude   longitude  \\\n",
       "0  (808) 779-7887   505.744094  21.277130 -157.824330   \n",
       "1  (808) 206-8272  1256.061740  21.285940 -157.832750   \n",
       "3  (808) 366-8226  1522.472981  21.285579 -157.838434   \n",
       "4  (808) 732-8744  1718.002818  21.268780 -157.813620   \n",
       "8  (808) 807-7733  1148.326573  21.282989 -157.836126   \n",
       "\n",
       "                                    display_location  \n",
       "0  {'address1': '159 Kaiulani Ave', 'address2': '...  \n",
       "1  {'address1': '1958 Kalakaua Ave', 'address2': ...  \n",
       "3  {'address1': '1778 Ala Moana Blvd', 'address2'...  \n",
       "4  {'address1': '3045 Monsarrat Ave', 'address2':...  \n",
       "8  {'address1': '2005 Kalia Rd', 'address2': '', ...  "
      ]
     },
     "execution_count": 40,
     "metadata": {},
     "output_type": "execute_result"
    }
   ],
   "source": [
    "## remove any rows where display_location == 'ERROR'\n",
    "df = df.loc[df['display_location']!= 'Error']\n",
    "df.head()"
   ]
  },
  {
   "cell_type": "markdown",
   "id": "c1338cd2",
   "metadata": {},
   "source": [
    "- We want the \"display_address\" key from the \"display_location\" dictionaries.\n",
    "- We could use a .apply and a lamda to slice out the desired key."
   ]
  },
  {
   "cell_type": "code",
   "execution_count": 44,
   "id": "82544b10",
   "metadata": {},
   "outputs": [],
   "source": [
    "## slice out a new test address and inspect\n",
    "test_addr = df.loc[3, 'display_location']['display_address']"
   ]
  },
  {
   "cell_type": "code",
   "execution_count": 45,
   "id": "f48837c4",
   "metadata": {},
   "outputs": [
    {
     "data": {
      "text/plain": [
       "['1778 Ala Moana Blvd', 'Ste 101', 'Honolulu, HI 96815']"
      ]
     },
     "execution_count": 45,
     "metadata": {},
     "output_type": "execute_result"
    }
   ],
   "source": [
    "test_addr"
   ]
  },
  {
   "cell_type": "code",
   "execution_count": 49,
   "id": "96b7c3d5",
   "metadata": {},
   "outputs": [
    {
     "name": "stderr",
     "output_type": "stream",
     "text": [
      "/var/folders/x3/rmq4ytz106933wm3zj2c9hyw0000gn/T/ipykernel_4433/618796701.py:2: SettingWithCopyWarning:\n",
      "\n",
      "\n",
      "A value is trying to be set on a copy of a slice from a DataFrame.\n",
      "Try using .loc[row_indexer,col_indexer] = value instead\n",
      "\n",
      "See the caveats in the documentation: https://pandas.pydata.org/pandas-docs/stable/user_guide/indexing.html#returning-a-view-versus-a-copy\n",
      "\n"
     ]
    },
    {
     "data": {
      "text/html": [
       "<div>\n",
       "<style scoped>\n",
       "    .dataframe tbody tr th:only-of-type {\n",
       "        vertical-align: middle;\n",
       "    }\n",
       "\n",
       "    .dataframe tbody tr th {\n",
       "        vertical-align: top;\n",
       "    }\n",
       "\n",
       "    .dataframe thead th {\n",
       "        text-align: right;\n",
       "    }\n",
       "</style>\n",
       "<table border=\"1\" class=\"dataframe\">\n",
       "  <thead>\n",
       "    <tr style=\"text-align: right;\">\n",
       "      <th></th>\n",
       "      <th>id</th>\n",
       "      <th>alias</th>\n",
       "      <th>name</th>\n",
       "      <th>image_url</th>\n",
       "      <th>is_closed</th>\n",
       "      <th>url</th>\n",
       "      <th>review_count</th>\n",
       "      <th>categories</th>\n",
       "      <th>rating</th>\n",
       "      <th>transactions</th>\n",
       "      <th>price</th>\n",
       "      <th>location</th>\n",
       "      <th>phone</th>\n",
       "      <th>display_phone</th>\n",
       "      <th>distance</th>\n",
       "      <th>latitude</th>\n",
       "      <th>longitude</th>\n",
       "      <th>display_location</th>\n",
       "      <th>display_address</th>\n",
       "    </tr>\n",
       "  </thead>\n",
       "  <tbody>\n",
       "    <tr>\n",
       "      <th>0</th>\n",
       "      <td>3vsRGQGSVPec7kKBFGhowA</td>\n",
       "      <td>alo-cafe-hawaii-honolulu-2</td>\n",
       "      <td>ALO Cafe Hawaii</td>\n",
       "      <td>https://s3-media2.fl.yelpcdn.com/bphoto/_tn-bh...</td>\n",
       "      <td>False</td>\n",
       "      <td>https://www.yelp.com/biz/alo-cafe-hawaii-honol...</td>\n",
       "      <td>98</td>\n",
       "      <td>[{'alias': 'juicebars', 'title': 'Juice Bars &amp;...</td>\n",
       "      <td>4.5</td>\n",
       "      <td>['delivery', 'pickup']</td>\n",
       "      <td>$$</td>\n",
       "      <td>{\"address1\": \"159 Kaiulani Ave\", \"address2\": \"...</td>\n",
       "      <td>1.808780e+10</td>\n",
       "      <td>(808) 779-7887</td>\n",
       "      <td>505.744094</td>\n",
       "      <td>21.277130</td>\n",
       "      <td>-157.824330</td>\n",
       "      <td>{'address1': '159 Kaiulani Ave', 'address2': '...</td>\n",
       "      <td>[159 Kaiulani Ave, Ste 105, Honolulu, HI 96815]</td>\n",
       "    </tr>\n",
       "    <tr>\n",
       "      <th>1</th>\n",
       "      <td>QMPFWhM_kMIMSSBQf48-Gg</td>\n",
       "      <td>waffle-and-berry-honolulu</td>\n",
       "      <td>Waffle and Berry</td>\n",
       "      <td>https://s3-media4.fl.yelpcdn.com/bphoto/6VpIBT...</td>\n",
       "      <td>False</td>\n",
       "      <td>https://www.yelp.com/biz/waffle-and-berry-hono...</td>\n",
       "      <td>675</td>\n",
       "      <td>[{'alias': 'waffles', 'title': 'Waffles'}, {'a...</td>\n",
       "      <td>5.0</td>\n",
       "      <td>['delivery', 'pickup']</td>\n",
       "      <td>$$</td>\n",
       "      <td>{\"address1\": \"1958 Kalakaua Ave\", \"address2\": ...</td>\n",
       "      <td>1.808207e+10</td>\n",
       "      <td>(808) 206-8272</td>\n",
       "      <td>1256.061740</td>\n",
       "      <td>21.285940</td>\n",
       "      <td>-157.832750</td>\n",
       "      <td>{'address1': '1958 Kalakaua Ave', 'address2': ...</td>\n",
       "      <td>[1958 Kalakaua Ave, Fl 2, Honolulu, HI 96815]</td>\n",
       "    </tr>\n",
       "    <tr>\n",
       "      <th>3</th>\n",
       "      <td>vZ6iGKsU7zX8MT5rwNJeZw</td>\n",
       "      <td>tropical-tribe-honolulu</td>\n",
       "      <td>Tropical Tribe</td>\n",
       "      <td>https://s3-media3.fl.yelpcdn.com/bphoto/e7Y1Qu...</td>\n",
       "      <td>False</td>\n",
       "      <td>https://www.yelp.com/biz/tropical-tribe-honolu...</td>\n",
       "      <td>592</td>\n",
       "      <td>[{'alias': 'acaibowls', 'title': 'Acai Bowls'}...</td>\n",
       "      <td>4.5</td>\n",
       "      <td>['delivery', 'pickup']</td>\n",
       "      <td>$$</td>\n",
       "      <td>{\"address1\": \"1778 Ala Moana Blvd\", \"address2\"...</td>\n",
       "      <td>1.808367e+10</td>\n",
       "      <td>(808) 366-8226</td>\n",
       "      <td>1522.472981</td>\n",
       "      <td>21.285579</td>\n",
       "      <td>-157.838434</td>\n",
       "      <td>{'address1': '1778 Ala Moana Blvd', 'address2'...</td>\n",
       "      <td>[1778 Ala Moana Blvd, Ste 101, Honolulu, HI 96...</td>\n",
       "    </tr>\n",
       "    <tr>\n",
       "      <th>4</th>\n",
       "      <td>vFz6Nwo0LgpbJcU9St-uPA</td>\n",
       "      <td>da-cove-health-bar-and-cafe-honolulu-4</td>\n",
       "      <td>Da Cove Health Bar &amp; Cafe</td>\n",
       "      <td>https://s3-media3.fl.yelpcdn.com/bphoto/aNlP2w...</td>\n",
       "      <td>False</td>\n",
       "      <td>https://www.yelp.com/biz/da-cove-health-bar-an...</td>\n",
       "      <td>1295</td>\n",
       "      <td>[{'alias': 'juicebars', 'title': 'Juice Bars &amp;...</td>\n",
       "      <td>4.0</td>\n",
       "      <td>['delivery', 'pickup']</td>\n",
       "      <td>$$</td>\n",
       "      <td>{\"address1\": \"3045 Monsarrat Ave\", \"address2\":...</td>\n",
       "      <td>1.808733e+10</td>\n",
       "      <td>(808) 732-8744</td>\n",
       "      <td>1718.002818</td>\n",
       "      <td>21.268780</td>\n",
       "      <td>-157.813620</td>\n",
       "      <td>{'address1': '3045 Monsarrat Ave', 'address2':...</td>\n",
       "      <td>[3045 Monsarrat Ave, Ste 5, Honolulu, HI 96815]</td>\n",
       "    </tr>\n",
       "    <tr>\n",
       "      <th>8</th>\n",
       "      <td>tUDgSvk3bdNV_UJJ-yf7XQ</td>\n",
       "      <td>aloha-bowls-and-tea-honolulu</td>\n",
       "      <td>Aloha Bowls and Tea</td>\n",
       "      <td>https://s3-media3.fl.yelpcdn.com/bphoto/e_k8Bm...</td>\n",
       "      <td>False</td>\n",
       "      <td>https://www.yelp.com/biz/aloha-bowls-and-tea-h...</td>\n",
       "      <td>48</td>\n",
       "      <td>[{'alias': 'acaibowls', 'title': 'Acai Bowls'}...</td>\n",
       "      <td>4.5</td>\n",
       "      <td>[]</td>\n",
       "      <td>$$</td>\n",
       "      <td>{\"address1\": \"2005 Kalia Rd\", \"address2\": \"\", ...</td>\n",
       "      <td>1.808808e+10</td>\n",
       "      <td>(808) 807-7733</td>\n",
       "      <td>1148.326573</td>\n",
       "      <td>21.282989</td>\n",
       "      <td>-157.836126</td>\n",
       "      <td>{'address1': '2005 Kalia Rd', 'address2': '', ...</td>\n",
       "      <td>[2005 Kalia Rd, Hilton Hawaiian Village, Honol...</td>\n",
       "    </tr>\n",
       "  </tbody>\n",
       "</table>\n",
       "</div>"
      ],
      "text/plain": [
       "                       id                                   alias  \\\n",
       "0  3vsRGQGSVPec7kKBFGhowA              alo-cafe-hawaii-honolulu-2   \n",
       "1  QMPFWhM_kMIMSSBQf48-Gg               waffle-and-berry-honolulu   \n",
       "3  vZ6iGKsU7zX8MT5rwNJeZw                 tropical-tribe-honolulu   \n",
       "4  vFz6Nwo0LgpbJcU9St-uPA  da-cove-health-bar-and-cafe-honolulu-4   \n",
       "8  tUDgSvk3bdNV_UJJ-yf7XQ            aloha-bowls-and-tea-honolulu   \n",
       "\n",
       "                        name  \\\n",
       "0            ALO Cafe Hawaii   \n",
       "1           Waffle and Berry   \n",
       "3             Tropical Tribe   \n",
       "4  Da Cove Health Bar & Cafe   \n",
       "8        Aloha Bowls and Tea   \n",
       "\n",
       "                                           image_url  is_closed  \\\n",
       "0  https://s3-media2.fl.yelpcdn.com/bphoto/_tn-bh...      False   \n",
       "1  https://s3-media4.fl.yelpcdn.com/bphoto/6VpIBT...      False   \n",
       "3  https://s3-media3.fl.yelpcdn.com/bphoto/e7Y1Qu...      False   \n",
       "4  https://s3-media3.fl.yelpcdn.com/bphoto/aNlP2w...      False   \n",
       "8  https://s3-media3.fl.yelpcdn.com/bphoto/e_k8Bm...      False   \n",
       "\n",
       "                                                 url  review_count  \\\n",
       "0  https://www.yelp.com/biz/alo-cafe-hawaii-honol...            98   \n",
       "1  https://www.yelp.com/biz/waffle-and-berry-hono...           675   \n",
       "3  https://www.yelp.com/biz/tropical-tribe-honolu...           592   \n",
       "4  https://www.yelp.com/biz/da-cove-health-bar-an...          1295   \n",
       "8  https://www.yelp.com/biz/aloha-bowls-and-tea-h...            48   \n",
       "\n",
       "                                          categories  rating  \\\n",
       "0  [{'alias': 'juicebars', 'title': 'Juice Bars &...     4.5   \n",
       "1  [{'alias': 'waffles', 'title': 'Waffles'}, {'a...     5.0   \n",
       "3  [{'alias': 'acaibowls', 'title': 'Acai Bowls'}...     4.5   \n",
       "4  [{'alias': 'juicebars', 'title': 'Juice Bars &...     4.0   \n",
       "8  [{'alias': 'acaibowls', 'title': 'Acai Bowls'}...     4.5   \n",
       "\n",
       "             transactions price  \\\n",
       "0  ['delivery', 'pickup']    $$   \n",
       "1  ['delivery', 'pickup']    $$   \n",
       "3  ['delivery', 'pickup']    $$   \n",
       "4  ['delivery', 'pickup']    $$   \n",
       "8                      []    $$   \n",
       "\n",
       "                                            location         phone  \\\n",
       "0  {\"address1\": \"159 Kaiulani Ave\", \"address2\": \"...  1.808780e+10   \n",
       "1  {\"address1\": \"1958 Kalakaua Ave\", \"address2\": ...  1.808207e+10   \n",
       "3  {\"address1\": \"1778 Ala Moana Blvd\", \"address2\"...  1.808367e+10   \n",
       "4  {\"address1\": \"3045 Monsarrat Ave\", \"address2\":...  1.808733e+10   \n",
       "8  {\"address1\": \"2005 Kalia Rd\", \"address2\": \"\", ...  1.808808e+10   \n",
       "\n",
       "    display_phone     distance   latitude   longitude  \\\n",
       "0  (808) 779-7887   505.744094  21.277130 -157.824330   \n",
       "1  (808) 206-8272  1256.061740  21.285940 -157.832750   \n",
       "3  (808) 366-8226  1522.472981  21.285579 -157.838434   \n",
       "4  (808) 732-8744  1718.002818  21.268780 -157.813620   \n",
       "8  (808) 807-7733  1148.326573  21.282989 -157.836126   \n",
       "\n",
       "                                    display_location  \\\n",
       "0  {'address1': '159 Kaiulani Ave', 'address2': '...   \n",
       "1  {'address1': '1958 Kalakaua Ave', 'address2': ...   \n",
       "3  {'address1': '1778 Ala Moana Blvd', 'address2'...   \n",
       "4  {'address1': '3045 Monsarrat Ave', 'address2':...   \n",
       "8  {'address1': '2005 Kalia Rd', 'address2': '', ...   \n",
       "\n",
       "                                     display_address  \n",
       "0    [159 Kaiulani Ave, Ste 105, Honolulu, HI 96815]  \n",
       "1      [1958 Kalakaua Ave, Fl 2, Honolulu, HI 96815]  \n",
       "3  [1778 Ala Moana Blvd, Ste 101, Honolulu, HI 96...  \n",
       "4    [3045 Monsarrat Ave, Ste 5, Honolulu, HI 96815]  \n",
       "8  [2005 Kalia Rd, Hilton Hawaiian Village, Honol...  "
      ]
     },
     "execution_count": 49,
     "metadata": {},
     "output_type": "execute_result"
    }
   ],
   "source": [
    "## use apply and lambda to slice correct key\n",
    "df['display_address'] = df['display_location'].apply(lambda test_addr: test_addr['display_address'])\n",
    "\n",
    "df.head()"
   ]
  },
  {
   "cell_type": "markdown",
   "id": "c65a79ab",
   "metadata": {},
   "source": [
    "- Almost done! We want to convert display_address to a string instead a list of strings.\n",
    "- We can use the string method .join to do so!"
   ]
  },
  {
   "cell_type": "code",
   "execution_count": 51,
   "id": "5f64f1dd",
   "metadata": {},
   "outputs": [
    {
     "data": {
      "text/plain": [
       "['3045 Monsarrat Ave', 'Ste 5', 'Honolulu, HI 96815']"
      ]
     },
     "execution_count": 51,
     "metadata": {},
     "output_type": "execute_result"
    }
   ],
   "source": [
    "## slice out a test_address\n",
    "test_add = df.loc[4, 'display_address']\n",
    "test_add"
   ]
  },
  {
   "cell_type": "code",
   "execution_count": 52,
   "id": "876bb98e",
   "metadata": {},
   "outputs": [
    {
     "name": "stdout",
     "output_type": "stream",
     "text": [
      "3045 Monsarrat Ave\n",
      "Ste 5\n",
      "Honolulu, HI 96815\n"
     ]
    }
   ],
   "source": [
    "## test using .join with a \"\\n\"\n",
    "'\\n'.join(test_add)\n",
    "print('\\n'.join(test_add))"
   ]
  },
  {
   "cell_type": "code",
   "execution_count": 53,
   "id": "55a6176d",
   "metadata": {
    "scrolled": true
   },
   "outputs": [
    {
     "name": "stderr",
     "output_type": "stream",
     "text": [
      "/var/folders/x3/rmq4ytz106933wm3zj2c9hyw0000gn/T/ipykernel_4433/3470092344.py:2: SettingWithCopyWarning:\n",
      "\n",
      "\n",
      "A value is trying to be set on a copy of a slice from a DataFrame.\n",
      "Try using .loc[row_indexer,col_indexer] = value instead\n",
      "\n",
      "See the caveats in the documentation: https://pandas.pydata.org/pandas-docs/stable/user_guide/indexing.html#returning-a-view-versus-a-copy\n",
      "\n"
     ]
    }
   ],
   "source": [
    "## apply the join to every row with a lambda\n",
    "df['address'] = df['display_address'].apply(lambda x: '\\n'.join(x))"
   ]
  },
  {
   "cell_type": "code",
   "execution_count": null,
   "id": "11507096",
   "metadata": {},
   "outputs": [],
   "source": []
  },
  {
   "cell_type": "markdown",
   "id": "51881461",
   "metadata": {},
   "source": [
    "### Lastly, Fixing Transactions Column"
   ]
  },
  {
   "cell_type": "code",
   "execution_count": 55,
   "id": "d307784a",
   "metadata": {},
   "outputs": [
    {
     "data": {
      "text/plain": [
       "\"['delivery', 'pickup']\""
      ]
     },
     "execution_count": 55,
     "metadata": {},
     "output_type": "execute_result"
    }
   ],
   "source": [
    "# Looking at a test transaction\n",
    "test_transaction = df.loc[4, 'transactions']\n",
    "test_transaction"
   ]
  },
  {
   "cell_type": "code",
   "execution_count": 56,
   "id": "2b1dcf1f",
   "metadata": {},
   "outputs": [
    {
     "data": {
      "text/plain": [
       "str"
      ]
     },
     "execution_count": 56,
     "metadata": {},
     "output_type": "execute_result"
    }
   ],
   "source": [
    "type(test_transaction)"
   ]
  },
  {
   "cell_type": "markdown",
   "id": "3d47740c",
   "metadata": {},
   "source": [
    "- This is also a string and needs to be converted to a list."
   ]
  },
  {
   "cell_type": "code",
   "execution_count": 57,
   "id": "76eb4b05",
   "metadata": {},
   "outputs": [
    {
     "data": {
      "text/plain": [
       "'[\"delivery\", \"pickup\"]'"
      ]
     },
     "execution_count": 57,
     "metadata": {},
     "output_type": "execute_result"
    }
   ],
   "source": [
    "# Replacing single ' with double \"\n",
    "saved_test = test_transaction.replace(\"'\", '\"')\n",
    "saved_test"
   ]
  },
  {
   "cell_type": "code",
   "execution_count": 58,
   "id": "6e818b21",
   "metadata": {},
   "outputs": [
    {
     "data": {
      "text/plain": [
       "['delivery', 'pickup']"
      ]
     },
     "execution_count": 58,
     "metadata": {},
     "output_type": "execute_result"
    }
   ],
   "source": [
    "# Using json.loads on saved_test\n",
    "json.loads(saved_test)"
   ]
  },
  {
   "cell_type": "code",
   "execution_count": 59,
   "id": "22c8e706",
   "metadata": {},
   "outputs": [
    {
     "data": {
      "text/plain": [
       "list"
      ]
     },
     "execution_count": 59,
     "metadata": {},
     "output_type": "execute_result"
    }
   ],
   "source": [
    "type(json.loads(saved_test))"
   ]
  },
  {
   "cell_type": "code",
   "execution_count": 60,
   "id": "82cc2b40",
   "metadata": {},
   "outputs": [
    {
     "name": "stderr",
     "output_type": "stream",
     "text": [
      "/var/folders/x3/rmq4ytz106933wm3zj2c9hyw0000gn/T/ipykernel_4433/871748769.py:2: SettingWithCopyWarning:\n",
      "\n",
      "\n",
      "A value is trying to be set on a copy of a slice from a DataFrame.\n",
      "Try using .loc[row_indexer,col_indexer] = value instead\n",
      "\n",
      "See the caveats in the documentation: https://pandas.pydata.org/pandas-docs/stable/user_guide/indexing.html#returning-a-view-versus-a-copy\n",
      "\n",
      "/var/folders/x3/rmq4ytz106933wm3zj2c9hyw0000gn/T/ipykernel_4433/871748769.py:5: SettingWithCopyWarning:\n",
      "\n",
      "\n",
      "A value is trying to be set on a copy of a slice from a DataFrame.\n",
      "Try using .loc[row_indexer,col_indexer] = value instead\n",
      "\n",
      "See the caveats in the documentation: https://pandas.pydata.org/pandas-docs/stable/user_guide/indexing.html#returning-a-view-versus-a-copy\n",
      "\n"
     ]
    },
    {
     "data": {
      "text/html": [
       "<div>\n",
       "<style scoped>\n",
       "    .dataframe tbody tr th:only-of-type {\n",
       "        vertical-align: middle;\n",
       "    }\n",
       "\n",
       "    .dataframe tbody tr th {\n",
       "        vertical-align: top;\n",
       "    }\n",
       "\n",
       "    .dataframe thead th {\n",
       "        text-align: right;\n",
       "    }\n",
       "</style>\n",
       "<table border=\"1\" class=\"dataframe\">\n",
       "  <thead>\n",
       "    <tr style=\"text-align: right;\">\n",
       "      <th></th>\n",
       "      <th>id</th>\n",
       "      <th>alias</th>\n",
       "      <th>name</th>\n",
       "      <th>image_url</th>\n",
       "      <th>is_closed</th>\n",
       "      <th>url</th>\n",
       "      <th>review_count</th>\n",
       "      <th>categories</th>\n",
       "      <th>rating</th>\n",
       "      <th>transactions</th>\n",
       "      <th>...</th>\n",
       "      <th>phone</th>\n",
       "      <th>display_phone</th>\n",
       "      <th>distance</th>\n",
       "      <th>latitude</th>\n",
       "      <th>longitude</th>\n",
       "      <th>display_location</th>\n",
       "      <th>display_address</th>\n",
       "      <th>address</th>\n",
       "      <th>transactions_split</th>\n",
       "      <th>transactios_split</th>\n",
       "    </tr>\n",
       "  </thead>\n",
       "  <tbody>\n",
       "    <tr>\n",
       "      <th>0</th>\n",
       "      <td>3vsRGQGSVPec7kKBFGhowA</td>\n",
       "      <td>alo-cafe-hawaii-honolulu-2</td>\n",
       "      <td>ALO Cafe Hawaii</td>\n",
       "      <td>https://s3-media2.fl.yelpcdn.com/bphoto/_tn-bh...</td>\n",
       "      <td>False</td>\n",
       "      <td>https://www.yelp.com/biz/alo-cafe-hawaii-honol...</td>\n",
       "      <td>98</td>\n",
       "      <td>[{'alias': 'juicebars', 'title': 'Juice Bars &amp;...</td>\n",
       "      <td>4.5</td>\n",
       "      <td>['delivery', 'pickup']</td>\n",
       "      <td>...</td>\n",
       "      <td>1.808780e+10</td>\n",
       "      <td>(808) 779-7887</td>\n",
       "      <td>505.744094</td>\n",
       "      <td>21.277130</td>\n",
       "      <td>-157.824330</td>\n",
       "      <td>{'address1': '159 Kaiulani Ave', 'address2': '...</td>\n",
       "      <td>[159 Kaiulani Ave, Ste 105, Honolulu, HI 96815]</td>\n",
       "      <td>159 Kaiulani Ave\\nSte 105\\nHonolulu, HI 96815</td>\n",
       "      <td>[\"delivery\", \"pickup\"]</td>\n",
       "      <td>[delivery, pickup]</td>\n",
       "    </tr>\n",
       "    <tr>\n",
       "      <th>1</th>\n",
       "      <td>QMPFWhM_kMIMSSBQf48-Gg</td>\n",
       "      <td>waffle-and-berry-honolulu</td>\n",
       "      <td>Waffle and Berry</td>\n",
       "      <td>https://s3-media4.fl.yelpcdn.com/bphoto/6VpIBT...</td>\n",
       "      <td>False</td>\n",
       "      <td>https://www.yelp.com/biz/waffle-and-berry-hono...</td>\n",
       "      <td>675</td>\n",
       "      <td>[{'alias': 'waffles', 'title': 'Waffles'}, {'a...</td>\n",
       "      <td>5.0</td>\n",
       "      <td>['delivery', 'pickup']</td>\n",
       "      <td>...</td>\n",
       "      <td>1.808207e+10</td>\n",
       "      <td>(808) 206-8272</td>\n",
       "      <td>1256.061740</td>\n",
       "      <td>21.285940</td>\n",
       "      <td>-157.832750</td>\n",
       "      <td>{'address1': '1958 Kalakaua Ave', 'address2': ...</td>\n",
       "      <td>[1958 Kalakaua Ave, Fl 2, Honolulu, HI 96815]</td>\n",
       "      <td>1958 Kalakaua Ave\\nFl 2\\nHonolulu, HI 96815</td>\n",
       "      <td>[\"delivery\", \"pickup\"]</td>\n",
       "      <td>[delivery, pickup]</td>\n",
       "    </tr>\n",
       "    <tr>\n",
       "      <th>3</th>\n",
       "      <td>vZ6iGKsU7zX8MT5rwNJeZw</td>\n",
       "      <td>tropical-tribe-honolulu</td>\n",
       "      <td>Tropical Tribe</td>\n",
       "      <td>https://s3-media3.fl.yelpcdn.com/bphoto/e7Y1Qu...</td>\n",
       "      <td>False</td>\n",
       "      <td>https://www.yelp.com/biz/tropical-tribe-honolu...</td>\n",
       "      <td>592</td>\n",
       "      <td>[{'alias': 'acaibowls', 'title': 'Acai Bowls'}...</td>\n",
       "      <td>4.5</td>\n",
       "      <td>['delivery', 'pickup']</td>\n",
       "      <td>...</td>\n",
       "      <td>1.808367e+10</td>\n",
       "      <td>(808) 366-8226</td>\n",
       "      <td>1522.472981</td>\n",
       "      <td>21.285579</td>\n",
       "      <td>-157.838434</td>\n",
       "      <td>{'address1': '1778 Ala Moana Blvd', 'address2'...</td>\n",
       "      <td>[1778 Ala Moana Blvd, Ste 101, Honolulu, HI 96...</td>\n",
       "      <td>1778 Ala Moana Blvd\\nSte 101\\nHonolulu, HI 96815</td>\n",
       "      <td>[\"delivery\", \"pickup\"]</td>\n",
       "      <td>[delivery, pickup]</td>\n",
       "    </tr>\n",
       "    <tr>\n",
       "      <th>4</th>\n",
       "      <td>vFz6Nwo0LgpbJcU9St-uPA</td>\n",
       "      <td>da-cove-health-bar-and-cafe-honolulu-4</td>\n",
       "      <td>Da Cove Health Bar &amp; Cafe</td>\n",
       "      <td>https://s3-media3.fl.yelpcdn.com/bphoto/aNlP2w...</td>\n",
       "      <td>False</td>\n",
       "      <td>https://www.yelp.com/biz/da-cove-health-bar-an...</td>\n",
       "      <td>1295</td>\n",
       "      <td>[{'alias': 'juicebars', 'title': 'Juice Bars &amp;...</td>\n",
       "      <td>4.0</td>\n",
       "      <td>['delivery', 'pickup']</td>\n",
       "      <td>...</td>\n",
       "      <td>1.808733e+10</td>\n",
       "      <td>(808) 732-8744</td>\n",
       "      <td>1718.002818</td>\n",
       "      <td>21.268780</td>\n",
       "      <td>-157.813620</td>\n",
       "      <td>{'address1': '3045 Monsarrat Ave', 'address2':...</td>\n",
       "      <td>[3045 Monsarrat Ave, Ste 5, Honolulu, HI 96815]</td>\n",
       "      <td>3045 Monsarrat Ave\\nSte 5\\nHonolulu, HI 96815</td>\n",
       "      <td>[\"delivery\", \"pickup\"]</td>\n",
       "      <td>[delivery, pickup]</td>\n",
       "    </tr>\n",
       "    <tr>\n",
       "      <th>8</th>\n",
       "      <td>tUDgSvk3bdNV_UJJ-yf7XQ</td>\n",
       "      <td>aloha-bowls-and-tea-honolulu</td>\n",
       "      <td>Aloha Bowls and Tea</td>\n",
       "      <td>https://s3-media3.fl.yelpcdn.com/bphoto/e_k8Bm...</td>\n",
       "      <td>False</td>\n",
       "      <td>https://www.yelp.com/biz/aloha-bowls-and-tea-h...</td>\n",
       "      <td>48</td>\n",
       "      <td>[{'alias': 'acaibowls', 'title': 'Acai Bowls'}...</td>\n",
       "      <td>4.5</td>\n",
       "      <td>[]</td>\n",
       "      <td>...</td>\n",
       "      <td>1.808808e+10</td>\n",
       "      <td>(808) 807-7733</td>\n",
       "      <td>1148.326573</td>\n",
       "      <td>21.282989</td>\n",
       "      <td>-157.836126</td>\n",
       "      <td>{'address1': '2005 Kalia Rd', 'address2': '', ...</td>\n",
       "      <td>[2005 Kalia Rd, Hilton Hawaiian Village, Honol...</td>\n",
       "      <td>2005 Kalia Rd\\nHilton Hawaiian Village\\nHonolu...</td>\n",
       "      <td>[]</td>\n",
       "      <td>[]</td>\n",
       "    </tr>\n",
       "  </tbody>\n",
       "</table>\n",
       "<p>5 rows × 22 columns</p>\n",
       "</div>"
      ],
      "text/plain": [
       "                       id                                   alias  \\\n",
       "0  3vsRGQGSVPec7kKBFGhowA              alo-cafe-hawaii-honolulu-2   \n",
       "1  QMPFWhM_kMIMSSBQf48-Gg               waffle-and-berry-honolulu   \n",
       "3  vZ6iGKsU7zX8MT5rwNJeZw                 tropical-tribe-honolulu   \n",
       "4  vFz6Nwo0LgpbJcU9St-uPA  da-cove-health-bar-and-cafe-honolulu-4   \n",
       "8  tUDgSvk3bdNV_UJJ-yf7XQ            aloha-bowls-and-tea-honolulu   \n",
       "\n",
       "                        name  \\\n",
       "0            ALO Cafe Hawaii   \n",
       "1           Waffle and Berry   \n",
       "3             Tropical Tribe   \n",
       "4  Da Cove Health Bar & Cafe   \n",
       "8        Aloha Bowls and Tea   \n",
       "\n",
       "                                           image_url  is_closed  \\\n",
       "0  https://s3-media2.fl.yelpcdn.com/bphoto/_tn-bh...      False   \n",
       "1  https://s3-media4.fl.yelpcdn.com/bphoto/6VpIBT...      False   \n",
       "3  https://s3-media3.fl.yelpcdn.com/bphoto/e7Y1Qu...      False   \n",
       "4  https://s3-media3.fl.yelpcdn.com/bphoto/aNlP2w...      False   \n",
       "8  https://s3-media3.fl.yelpcdn.com/bphoto/e_k8Bm...      False   \n",
       "\n",
       "                                                 url  review_count  \\\n",
       "0  https://www.yelp.com/biz/alo-cafe-hawaii-honol...            98   \n",
       "1  https://www.yelp.com/biz/waffle-and-berry-hono...           675   \n",
       "3  https://www.yelp.com/biz/tropical-tribe-honolu...           592   \n",
       "4  https://www.yelp.com/biz/da-cove-health-bar-an...          1295   \n",
       "8  https://www.yelp.com/biz/aloha-bowls-and-tea-h...            48   \n",
       "\n",
       "                                          categories  rating  \\\n",
       "0  [{'alias': 'juicebars', 'title': 'Juice Bars &...     4.5   \n",
       "1  [{'alias': 'waffles', 'title': 'Waffles'}, {'a...     5.0   \n",
       "3  [{'alias': 'acaibowls', 'title': 'Acai Bowls'}...     4.5   \n",
       "4  [{'alias': 'juicebars', 'title': 'Juice Bars &...     4.0   \n",
       "8  [{'alias': 'acaibowls', 'title': 'Acai Bowls'}...     4.5   \n",
       "\n",
       "             transactions  ...         phone   display_phone     distance  \\\n",
       "0  ['delivery', 'pickup']  ...  1.808780e+10  (808) 779-7887   505.744094   \n",
       "1  ['delivery', 'pickup']  ...  1.808207e+10  (808) 206-8272  1256.061740   \n",
       "3  ['delivery', 'pickup']  ...  1.808367e+10  (808) 366-8226  1522.472981   \n",
       "4  ['delivery', 'pickup']  ...  1.808733e+10  (808) 732-8744  1718.002818   \n",
       "8                      []  ...  1.808808e+10  (808) 807-7733  1148.326573   \n",
       "\n",
       "    latitude   longitude                                   display_location  \\\n",
       "0  21.277130 -157.824330  {'address1': '159 Kaiulani Ave', 'address2': '...   \n",
       "1  21.285940 -157.832750  {'address1': '1958 Kalakaua Ave', 'address2': ...   \n",
       "3  21.285579 -157.838434  {'address1': '1778 Ala Moana Blvd', 'address2'...   \n",
       "4  21.268780 -157.813620  {'address1': '3045 Monsarrat Ave', 'address2':...   \n",
       "8  21.282989 -157.836126  {'address1': '2005 Kalia Rd', 'address2': '', ...   \n",
       "\n",
       "                                     display_address  \\\n",
       "0    [159 Kaiulani Ave, Ste 105, Honolulu, HI 96815]   \n",
       "1      [1958 Kalakaua Ave, Fl 2, Honolulu, HI 96815]   \n",
       "3  [1778 Ala Moana Blvd, Ste 101, Honolulu, HI 96...   \n",
       "4    [3045 Monsarrat Ave, Ste 5, Honolulu, HI 96815]   \n",
       "8  [2005 Kalia Rd, Hilton Hawaiian Village, Honol...   \n",
       "\n",
       "                                             address      transactions_split  \\\n",
       "0      159 Kaiulani Ave\\nSte 105\\nHonolulu, HI 96815  [\"delivery\", \"pickup\"]   \n",
       "1        1958 Kalakaua Ave\\nFl 2\\nHonolulu, HI 96815  [\"delivery\", \"pickup\"]   \n",
       "3   1778 Ala Moana Blvd\\nSte 101\\nHonolulu, HI 96815  [\"delivery\", \"pickup\"]   \n",
       "4      3045 Monsarrat Ave\\nSte 5\\nHonolulu, HI 96815  [\"delivery\", \"pickup\"]   \n",
       "8  2005 Kalia Rd\\nHilton Hawaiian Village\\nHonolu...                      []   \n",
       "\n",
       "    transactios_split  \n",
       "0  [delivery, pickup]  \n",
       "1  [delivery, pickup]  \n",
       "3  [delivery, pickup]  \n",
       "4  [delivery, pickup]  \n",
       "8                  []  \n",
       "\n",
       "[5 rows x 22 columns]"
      ]
     },
     "execution_count": 60,
     "metadata": {},
     "output_type": "execute_result"
    }
   ],
   "source": [
    "# Applying transformations to entire column\n",
    "df['transactions_split'] = df['transactions'].str.replace(\"'\", '\"')\n",
    "\n",
    "# Create a new column where the single quotes are replaced with double quotes\n",
    "df['transactios_split'] = df['transactions_split'].apply(json.loads)\n",
    "# Apply json.loads to entire column\n",
    "df.head()"
   ]
  },
  {
   "cell_type": "code",
   "execution_count": 61,
   "id": "7eb4ba44",
   "metadata": {},
   "outputs": [
    {
     "data": {
      "text/plain": [
       "[\"delivery\", \"pickup\"]    18\n",
       "[\"delivery\"]              16\n",
       "[]                        13\n",
       "[\"pickup\", \"delivery\"]     4\n",
       "Name: transactions_split, dtype: int64"
      ]
     },
     "execution_count": 61,
     "metadata": {},
     "output_type": "execute_result"
    }
   ],
   "source": [
    "df['transactions_split'].value_counts()"
   ]
  },
  {
   "cell_type": "code",
   "execution_count": 65,
   "id": "d7c27d34",
   "metadata": {},
   "outputs": [
    {
     "data": {
      "text/html": [
       "<div>\n",
       "<style scoped>\n",
       "    .dataframe tbody tr th:only-of-type {\n",
       "        vertical-align: middle;\n",
       "    }\n",
       "\n",
       "    .dataframe tbody tr th {\n",
       "        vertical-align: top;\n",
       "    }\n",
       "\n",
       "    .dataframe thead th {\n",
       "        text-align: right;\n",
       "    }\n",
       "</style>\n",
       "<table border=\"1\" class=\"dataframe\">\n",
       "  <thead>\n",
       "    <tr style=\"text-align: right;\">\n",
       "      <th></th>\n",
       "      <th>name</th>\n",
       "      <th>transactions</th>\n",
       "      <th>transactions_split</th>\n",
       "    </tr>\n",
       "  </thead>\n",
       "  <tbody>\n",
       "    <tr>\n",
       "      <th>0</th>\n",
       "      <td>ALO Cafe Hawaii</td>\n",
       "      <td>['delivery', 'pickup']</td>\n",
       "      <td>[\"delivery\", \"pickup\"]</td>\n",
       "    </tr>\n",
       "    <tr>\n",
       "      <th>1</th>\n",
       "      <td>Waffle and Berry</td>\n",
       "      <td>['delivery', 'pickup']</td>\n",
       "      <td>[\"delivery\", \"pickup\"]</td>\n",
       "    </tr>\n",
       "    <tr>\n",
       "      <th>3</th>\n",
       "      <td>Tropical Tribe</td>\n",
       "      <td>['delivery', 'pickup']</td>\n",
       "      <td>[\"delivery\", \"pickup\"]</td>\n",
       "    </tr>\n",
       "    <tr>\n",
       "      <th>4</th>\n",
       "      <td>Da Cove Health Bar &amp; Cafe</td>\n",
       "      <td>['delivery', 'pickup']</td>\n",
       "      <td>[\"delivery\", \"pickup\"]</td>\n",
       "    </tr>\n",
       "    <tr>\n",
       "      <th>8</th>\n",
       "      <td>Aloha Bowls and Tea</td>\n",
       "      <td>[]</td>\n",
       "      <td>[]</td>\n",
       "    </tr>\n",
       "  </tbody>\n",
       "</table>\n",
       "</div>"
      ],
      "text/plain": [
       "                        name            transactions      transactions_split\n",
       "0            ALO Cafe Hawaii  ['delivery', 'pickup']  [\"delivery\", \"pickup\"]\n",
       "1           Waffle and Berry  ['delivery', 'pickup']  [\"delivery\", \"pickup\"]\n",
       "3             Tropical Tribe  ['delivery', 'pickup']  [\"delivery\", \"pickup\"]\n",
       "4  Da Cove Health Bar & Cafe  ['delivery', 'pickup']  [\"delivery\", \"pickup\"]\n",
       "8        Aloha Bowls and Tea                      []                      []"
      ]
     },
     "execution_count": 65,
     "metadata": {},
     "output_type": "execute_result"
    }
   ],
   "source": [
    "# Converting transactions column into a one-hot-encoded column\n",
    "exploded = df.explode('transactions_split')\n",
    "exploded[['name', 'transactions', 'transactions_split']].head()"
   ]
  },
  {
   "cell_type": "code",
   "execution_count": 64,
   "id": "ea32c102",
   "metadata": {},
   "outputs": [
    {
     "data": {
      "text/plain": [
       "array(['[\"delivery\", \"pickup\"]', '[]', '[\"delivery\"]',\n",
       "       '[\"pickup\", \"delivery\"]'], dtype=object)"
      ]
     },
     "execution_count": 64,
     "metadata": {},
     "output_type": "execute_result"
    }
   ],
   "source": [
    "# remove NaNs and find unique values\n",
    "cols_to_make = exploded['transactions_split'].dropna().unique()\n",
    "cols_to_make"
   ]
  },
  {
   "cell_type": "code",
   "execution_count": 67,
   "id": "5365f9e6",
   "metadata": {},
   "outputs": [
    {
     "name": "stderr",
     "output_type": "stream",
     "text": [
      "/var/folders/x3/rmq4ytz106933wm3zj2c9hyw0000gn/T/ipykernel_4433/647333149.py:3: SettingWithCopyWarning:\n",
      "\n",
      "\n",
      "A value is trying to be set on a copy of a slice from a DataFrame.\n",
      "Try using .loc[row_indexer,col_indexer] = value instead\n",
      "\n",
      "See the caveats in the documentation: https://pandas.pydata.org/pandas-docs/stable/user_guide/indexing.html#returning-a-view-versus-a-copy\n",
      "\n"
     ]
    },
    {
     "ename": "error",
     "evalue": "unterminated character set at position 0",
     "output_type": "error",
     "traceback": [
      "\u001b[0;31m---------------------------------------------------------------------------\u001b[0m",
      "\u001b[0;31merror\u001b[0m                                     Traceback (most recent call last)",
      "Cell \u001b[0;32mIn [67], line 3\u001b[0m\n\u001b[1;32m      1\u001b[0m \u001b[38;5;66;03m# Using a for loop with .str.contains to create new columns\u001b[39;00m\n\u001b[1;32m      2\u001b[0m \u001b[38;5;28;01mfor\u001b[39;00m col \u001b[38;5;129;01min\u001b[39;00m cols_to_make:\n\u001b[0;32m----> 3\u001b[0m     df[col] \u001b[38;5;241m=\u001b[39m \u001b[43mdf\u001b[49m\u001b[43m[\u001b[49m\u001b[38;5;124;43m'\u001b[39;49m\u001b[38;5;124;43mtransactions\u001b[39;49m\u001b[38;5;124;43m'\u001b[39;49m\u001b[43m]\u001b[49m\u001b[38;5;241;43m.\u001b[39;49m\u001b[43mstr\u001b[49m\u001b[38;5;241;43m.\u001b[39;49m\u001b[43mcontains\u001b[49m\u001b[43m(\u001b[49m\u001b[43mcol\u001b[49m\u001b[43m)\u001b[49m\n",
      "File \u001b[0;32m/opt/homebrew/Caskroom/miniforge/base/envs/dojo-env/lib/python3.9/site-packages/pandas/core/strings/accessor.py:129\u001b[0m, in \u001b[0;36mforbid_nonstring_types.<locals>._forbid_nonstring_types.<locals>.wrapper\u001b[0;34m(self, *args, **kwargs)\u001b[0m\n\u001b[1;32m    124\u001b[0m     msg \u001b[38;5;241m=\u001b[39m (\n\u001b[1;32m    125\u001b[0m         \u001b[38;5;124mf\u001b[39m\u001b[38;5;124m\"\u001b[39m\u001b[38;5;124mCannot use .str.\u001b[39m\u001b[38;5;132;01m{\u001b[39;00mfunc_name\u001b[38;5;132;01m}\u001b[39;00m\u001b[38;5;124m with values of \u001b[39m\u001b[38;5;124m\"\u001b[39m\n\u001b[1;32m    126\u001b[0m         \u001b[38;5;124mf\u001b[39m\u001b[38;5;124m\"\u001b[39m\u001b[38;5;124minferred dtype \u001b[39m\u001b[38;5;124m'\u001b[39m\u001b[38;5;132;01m{\u001b[39;00m\u001b[38;5;28mself\u001b[39m\u001b[38;5;241m.\u001b[39m_inferred_dtype\u001b[38;5;132;01m}\u001b[39;00m\u001b[38;5;124m'\u001b[39m\u001b[38;5;124m.\u001b[39m\u001b[38;5;124m\"\u001b[39m\n\u001b[1;32m    127\u001b[0m     )\n\u001b[1;32m    128\u001b[0m     \u001b[38;5;28;01mraise\u001b[39;00m \u001b[38;5;167;01mTypeError\u001b[39;00m(msg)\n\u001b[0;32m--> 129\u001b[0m \u001b[38;5;28;01mreturn\u001b[39;00m \u001b[43mfunc\u001b[49m\u001b[43m(\u001b[49m\u001b[38;5;28;43mself\u001b[39;49m\u001b[43m,\u001b[49m\u001b[43m \u001b[49m\u001b[38;5;241;43m*\u001b[39;49m\u001b[43margs\u001b[49m\u001b[43m,\u001b[49m\u001b[43m \u001b[49m\u001b[38;5;241;43m*\u001b[39;49m\u001b[38;5;241;43m*\u001b[39;49m\u001b[43mkwargs\u001b[49m\u001b[43m)\u001b[49m\n",
      "File \u001b[0;32m/opt/homebrew/Caskroom/miniforge/base/envs/dojo-env/lib/python3.9/site-packages/pandas/core/strings/accessor.py:1252\u001b[0m, in \u001b[0;36mStringMethods.contains\u001b[0;34m(self, pat, case, flags, na, regex)\u001b[0m\n\u001b[1;32m   1127\u001b[0m \u001b[38;5;129m@forbid_nonstring_types\u001b[39m([\u001b[38;5;124m\"\u001b[39m\u001b[38;5;124mbytes\u001b[39m\u001b[38;5;124m\"\u001b[39m])\n\u001b[1;32m   1128\u001b[0m \u001b[38;5;28;01mdef\u001b[39;00m \u001b[38;5;21mcontains\u001b[39m(\u001b[38;5;28mself\u001b[39m, pat, case\u001b[38;5;241m=\u001b[39m\u001b[38;5;28;01mTrue\u001b[39;00m, flags\u001b[38;5;241m=\u001b[39m\u001b[38;5;241m0\u001b[39m, na\u001b[38;5;241m=\u001b[39m\u001b[38;5;28;01mNone\u001b[39;00m, regex\u001b[38;5;241m=\u001b[39m\u001b[38;5;28;01mTrue\u001b[39;00m):\n\u001b[1;32m   1129\u001b[0m     \u001b[38;5;124mr\u001b[39m\u001b[38;5;124;03m\"\"\"\u001b[39;00m\n\u001b[1;32m   1130\u001b[0m \u001b[38;5;124;03m    Test if pattern or regex is contained within a string of a Series or Index.\u001b[39;00m\n\u001b[1;32m   1131\u001b[0m \n\u001b[0;32m   (...)\u001b[0m\n\u001b[1;32m   1250\u001b[0m \u001b[38;5;124;03m    dtype: bool\u001b[39;00m\n\u001b[1;32m   1251\u001b[0m \u001b[38;5;124;03m    \"\"\"\u001b[39;00m\n\u001b[0;32m-> 1252\u001b[0m     \u001b[38;5;28;01mif\u001b[39;00m regex \u001b[38;5;129;01mand\u001b[39;00m \u001b[43mre\u001b[49m\u001b[38;5;241;43m.\u001b[39;49m\u001b[43mcompile\u001b[49m\u001b[43m(\u001b[49m\u001b[43mpat\u001b[49m\u001b[43m)\u001b[49m\u001b[38;5;241m.\u001b[39mgroups:\n\u001b[1;32m   1253\u001b[0m         warnings\u001b[38;5;241m.\u001b[39mwarn(\n\u001b[1;32m   1254\u001b[0m             \u001b[38;5;124m\"\u001b[39m\u001b[38;5;124mThis pattern is interpreted as a regular expression, and has \u001b[39m\u001b[38;5;124m\"\u001b[39m\n\u001b[1;32m   1255\u001b[0m             \u001b[38;5;124m\"\u001b[39m\u001b[38;5;124mmatch groups. To actually get the groups, use str.extract.\u001b[39m\u001b[38;5;124m\"\u001b[39m,\n\u001b[1;32m   1256\u001b[0m             \u001b[38;5;167;01mUserWarning\u001b[39;00m,\n\u001b[1;32m   1257\u001b[0m             stacklevel\u001b[38;5;241m=\u001b[39mfind_stack_level(),\n\u001b[1;32m   1258\u001b[0m         )\n\u001b[1;32m   1260\u001b[0m     result \u001b[38;5;241m=\u001b[39m \u001b[38;5;28mself\u001b[39m\u001b[38;5;241m.\u001b[39m_data\u001b[38;5;241m.\u001b[39marray\u001b[38;5;241m.\u001b[39m_str_contains(pat, case, flags, na, regex)\n",
      "File \u001b[0;32m/opt/homebrew/Caskroom/miniforge/base/envs/dojo-env/lib/python3.9/re.py:252\u001b[0m, in \u001b[0;36mcompile\u001b[0;34m(pattern, flags)\u001b[0m\n\u001b[1;32m    250\u001b[0m \u001b[38;5;28;01mdef\u001b[39;00m \u001b[38;5;21mcompile\u001b[39m(pattern, flags\u001b[38;5;241m=\u001b[39m\u001b[38;5;241m0\u001b[39m):\n\u001b[1;32m    251\u001b[0m     \u001b[38;5;124m\"\u001b[39m\u001b[38;5;124mCompile a regular expression pattern, returning a Pattern object.\u001b[39m\u001b[38;5;124m\"\u001b[39m\n\u001b[0;32m--> 252\u001b[0m     \u001b[38;5;28;01mreturn\u001b[39;00m \u001b[43m_compile\u001b[49m\u001b[43m(\u001b[49m\u001b[43mpattern\u001b[49m\u001b[43m,\u001b[49m\u001b[43m \u001b[49m\u001b[43mflags\u001b[49m\u001b[43m)\u001b[49m\n",
      "File \u001b[0;32m/opt/homebrew/Caskroom/miniforge/base/envs/dojo-env/lib/python3.9/re.py:304\u001b[0m, in \u001b[0;36m_compile\u001b[0;34m(pattern, flags)\u001b[0m\n\u001b[1;32m    302\u001b[0m \u001b[38;5;28;01mif\u001b[39;00m \u001b[38;5;129;01mnot\u001b[39;00m sre_compile\u001b[38;5;241m.\u001b[39misstring(pattern):\n\u001b[1;32m    303\u001b[0m     \u001b[38;5;28;01mraise\u001b[39;00m \u001b[38;5;167;01mTypeError\u001b[39;00m(\u001b[38;5;124m\"\u001b[39m\u001b[38;5;124mfirst argument must be string or compiled pattern\u001b[39m\u001b[38;5;124m\"\u001b[39m)\n\u001b[0;32m--> 304\u001b[0m p \u001b[38;5;241m=\u001b[39m \u001b[43msre_compile\u001b[49m\u001b[38;5;241;43m.\u001b[39;49m\u001b[43mcompile\u001b[49m\u001b[43m(\u001b[49m\u001b[43mpattern\u001b[49m\u001b[43m,\u001b[49m\u001b[43m \u001b[49m\u001b[43mflags\u001b[49m\u001b[43m)\u001b[49m\n\u001b[1;32m    305\u001b[0m \u001b[38;5;28;01mif\u001b[39;00m \u001b[38;5;129;01mnot\u001b[39;00m (flags \u001b[38;5;241m&\u001b[39m DEBUG):\n\u001b[1;32m    306\u001b[0m     \u001b[38;5;28;01mif\u001b[39;00m \u001b[38;5;28mlen\u001b[39m(_cache) \u001b[38;5;241m>\u001b[39m\u001b[38;5;241m=\u001b[39m _MAXCACHE:\n\u001b[1;32m    307\u001b[0m         \u001b[38;5;66;03m# Drop the oldest item\u001b[39;00m\n",
      "File \u001b[0;32m/opt/homebrew/Caskroom/miniforge/base/envs/dojo-env/lib/python3.9/sre_compile.py:788\u001b[0m, in \u001b[0;36mcompile\u001b[0;34m(p, flags)\u001b[0m\n\u001b[1;32m    786\u001b[0m \u001b[38;5;28;01mif\u001b[39;00m isstring(p):\n\u001b[1;32m    787\u001b[0m     pattern \u001b[38;5;241m=\u001b[39m p\n\u001b[0;32m--> 788\u001b[0m     p \u001b[38;5;241m=\u001b[39m \u001b[43msre_parse\u001b[49m\u001b[38;5;241;43m.\u001b[39;49m\u001b[43mparse\u001b[49m\u001b[43m(\u001b[49m\u001b[43mp\u001b[49m\u001b[43m,\u001b[49m\u001b[43m \u001b[49m\u001b[43mflags\u001b[49m\u001b[43m)\u001b[49m\n\u001b[1;32m    789\u001b[0m \u001b[38;5;28;01melse\u001b[39;00m:\n\u001b[1;32m    790\u001b[0m     pattern \u001b[38;5;241m=\u001b[39m \u001b[38;5;28;01mNone\u001b[39;00m\n",
      "File \u001b[0;32m/opt/homebrew/Caskroom/miniforge/base/envs/dojo-env/lib/python3.9/sre_parse.py:955\u001b[0m, in \u001b[0;36mparse\u001b[0;34m(str, flags, state)\u001b[0m\n\u001b[1;32m    952\u001b[0m state\u001b[38;5;241m.\u001b[39mstr \u001b[38;5;241m=\u001b[39m \u001b[38;5;28mstr\u001b[39m\n\u001b[1;32m    954\u001b[0m \u001b[38;5;28;01mtry\u001b[39;00m:\n\u001b[0;32m--> 955\u001b[0m     p \u001b[38;5;241m=\u001b[39m \u001b[43m_parse_sub\u001b[49m\u001b[43m(\u001b[49m\u001b[43msource\u001b[49m\u001b[43m,\u001b[49m\u001b[43m \u001b[49m\u001b[43mstate\u001b[49m\u001b[43m,\u001b[49m\u001b[43m \u001b[49m\u001b[43mflags\u001b[49m\u001b[43m \u001b[49m\u001b[38;5;241;43m&\u001b[39;49m\u001b[43m \u001b[49m\u001b[43mSRE_FLAG_VERBOSE\u001b[49m\u001b[43m,\u001b[49m\u001b[43m \u001b[49m\u001b[38;5;241;43m0\u001b[39;49m\u001b[43m)\u001b[49m\n\u001b[1;32m    956\u001b[0m \u001b[38;5;28;01mexcept\u001b[39;00m Verbose:\n\u001b[1;32m    957\u001b[0m     \u001b[38;5;66;03m# the VERBOSE flag was switched on inside the pattern.  to be\u001b[39;00m\n\u001b[1;32m    958\u001b[0m     \u001b[38;5;66;03m# on the safe side, we'll parse the whole thing again...\u001b[39;00m\n\u001b[1;32m    959\u001b[0m     state \u001b[38;5;241m=\u001b[39m State()\n",
      "File \u001b[0;32m/opt/homebrew/Caskroom/miniforge/base/envs/dojo-env/lib/python3.9/sre_parse.py:444\u001b[0m, in \u001b[0;36m_parse_sub\u001b[0;34m(source, state, verbose, nested)\u001b[0m\n\u001b[1;32m    442\u001b[0m start \u001b[38;5;241m=\u001b[39m source\u001b[38;5;241m.\u001b[39mtell()\n\u001b[1;32m    443\u001b[0m \u001b[38;5;28;01mwhile\u001b[39;00m \u001b[38;5;28;01mTrue\u001b[39;00m:\n\u001b[0;32m--> 444\u001b[0m     itemsappend(\u001b[43m_parse\u001b[49m\u001b[43m(\u001b[49m\u001b[43msource\u001b[49m\u001b[43m,\u001b[49m\u001b[43m \u001b[49m\u001b[43mstate\u001b[49m\u001b[43m,\u001b[49m\u001b[43m \u001b[49m\u001b[43mverbose\u001b[49m\u001b[43m,\u001b[49m\u001b[43m \u001b[49m\u001b[43mnested\u001b[49m\u001b[43m \u001b[49m\u001b[38;5;241;43m+\u001b[39;49m\u001b[43m \u001b[49m\u001b[38;5;241;43m1\u001b[39;49m\u001b[43m,\u001b[49m\n\u001b[1;32m    445\u001b[0m \u001b[43m                       \u001b[49m\u001b[38;5;129;43;01mnot\u001b[39;49;00m\u001b[43m \u001b[49m\u001b[43mnested\u001b[49m\u001b[43m \u001b[49m\u001b[38;5;129;43;01mand\u001b[39;49;00m\u001b[43m \u001b[49m\u001b[38;5;129;43;01mnot\u001b[39;49;00m\u001b[43m \u001b[49m\u001b[43mitems\u001b[49m\u001b[43m)\u001b[49m)\n\u001b[1;32m    446\u001b[0m     \u001b[38;5;28;01mif\u001b[39;00m \u001b[38;5;129;01mnot\u001b[39;00m sourcematch(\u001b[38;5;124m\"\u001b[39m\u001b[38;5;124m|\u001b[39m\u001b[38;5;124m\"\u001b[39m):\n\u001b[1;32m    447\u001b[0m         \u001b[38;5;28;01mbreak\u001b[39;00m\n",
      "File \u001b[0;32m/opt/homebrew/Caskroom/miniforge/base/envs/dojo-env/lib/python3.9/sre_parse.py:550\u001b[0m, in \u001b[0;36m_parse\u001b[0;34m(source, state, verbose, nested, first)\u001b[0m\n\u001b[1;32m    548\u001b[0m this \u001b[38;5;241m=\u001b[39m sourceget()\n\u001b[1;32m    549\u001b[0m \u001b[38;5;28;01mif\u001b[39;00m this \u001b[38;5;129;01mis\u001b[39;00m \u001b[38;5;28;01mNone\u001b[39;00m:\n\u001b[0;32m--> 550\u001b[0m     \u001b[38;5;28;01mraise\u001b[39;00m source\u001b[38;5;241m.\u001b[39merror(\u001b[38;5;124m\"\u001b[39m\u001b[38;5;124munterminated character set\u001b[39m\u001b[38;5;124m\"\u001b[39m,\n\u001b[1;32m    551\u001b[0m                        source\u001b[38;5;241m.\u001b[39mtell() \u001b[38;5;241m-\u001b[39m here)\n\u001b[1;32m    552\u001b[0m \u001b[38;5;28;01mif\u001b[39;00m this \u001b[38;5;241m==\u001b[39m \u001b[38;5;124m\"\u001b[39m\u001b[38;5;124m]\u001b[39m\u001b[38;5;124m\"\u001b[39m \u001b[38;5;129;01mand\u001b[39;00m \u001b[38;5;28mset\u001b[39m:\n\u001b[1;32m    553\u001b[0m     \u001b[38;5;28;01mbreak\u001b[39;00m\n",
      "\u001b[0;31merror\u001b[0m: unterminated character set at position 0"
     ]
    }
   ],
   "source": [
    "# Using a for loop with .str.contains to create new columns\n",
    "for col in cols_to_make:\n",
    "    df[col] = df['transactions'].str.contains(col)"
   ]
  },
  {
   "cell_type": "markdown",
   "id": "09b90087",
   "metadata": {},
   "source": [
    "### Final Map"
   ]
  },
  {
   "cell_type": "code",
   "execution_count": 69,
   "id": "0afd236d",
   "metadata": {},
   "outputs": [
    {
     "ename": "ValueError",
     "evalue": "Value of 'hover_data_2' is not the name of a column in 'data_frame'. Expected one of ['id', 'alias', 'name', 'image_url', 'is_closed', 'url', 'review_count', 'categories', 'rating', 'transactions', 'price', 'location', 'phone', 'display_phone', 'distance', 'latitude', 'longitude', 'display_location', 'display_address', 'address', 'transactions_split', 'transactios_split', '[\"delivery\", \"pickup\"]'] but received: pickup",
     "output_type": "error",
     "traceback": [
      "\u001b[0;31m---------------------------------------------------------------------------\u001b[0m",
      "\u001b[0;31mValueError\u001b[0m                                Traceback (most recent call last)",
      "Cell \u001b[0;32mIn [69], line 2\u001b[0m\n\u001b[1;32m      1\u001b[0m \u001b[38;5;66;03m## make ourn final map and save as varaible\u001b[39;00m\n\u001b[0;32m----> 2\u001b[0m pfig \u001b[38;5;241m=\u001b[39m \u001b[43mpx\u001b[49m\u001b[38;5;241;43m.\u001b[39;49m\u001b[43mscatter_mapbox\u001b[49m\u001b[43m(\u001b[49m\u001b[43mdf\u001b[49m\u001b[43m,\u001b[49m\u001b[43m \u001b[49m\u001b[43mlat\u001b[49m\u001b[43m \u001b[49m\u001b[38;5;241;43m=\u001b[39;49m\u001b[43m \u001b[49m\u001b[38;5;124;43m'\u001b[39;49m\u001b[38;5;124;43mlatitude\u001b[39;49m\u001b[38;5;124;43m'\u001b[39;49m\u001b[43m,\u001b[49m\u001b[43m \u001b[49m\u001b[43mlon\u001b[49m\u001b[38;5;241;43m=\u001b[39;49m\u001b[38;5;124;43m'\u001b[39;49m\u001b[38;5;124;43mlongitude\u001b[39;49m\u001b[38;5;124;43m'\u001b[39;49m\u001b[43m,\u001b[49m\u001b[43m \u001b[49m\u001b[43mmapbox_style\u001b[49m\u001b[43m \u001b[49m\u001b[38;5;241;43m=\u001b[39;49m\u001b[43m \u001b[49m\u001b[38;5;124;43m'\u001b[39;49m\u001b[38;5;124;43mopen-street-map\u001b[39;49m\u001b[38;5;124;43m'\u001b[39;49m\u001b[43m,\u001b[49m\n\u001b[1;32m      3\u001b[0m \u001b[43m                        \u001b[49m\u001b[43mhover_name\u001b[49m\u001b[43m \u001b[49m\u001b[38;5;241;43m=\u001b[39;49m\u001b[43m \u001b[49m\u001b[38;5;124;43m'\u001b[39;49m\u001b[38;5;124;43mname\u001b[39;49m\u001b[38;5;124;43m'\u001b[39;49m\u001b[43m,\u001b[49m\u001b[43m \u001b[49m\u001b[43mhover_data\u001b[49m\u001b[43m \u001b[49m\u001b[38;5;241;43m=\u001b[39;49m\u001b[43m \u001b[49m\u001b[43m[\u001b[49m\u001b[38;5;124;43m'\u001b[39;49m\u001b[38;5;124;43mprice\u001b[39;49m\u001b[38;5;124;43m'\u001b[39;49m\u001b[43m,\u001b[49m\u001b[43m \u001b[49m\u001b[38;5;124;43m'\u001b[39;49m\u001b[38;5;124;43maddress\u001b[39;49m\u001b[38;5;124;43m'\u001b[39;49m\u001b[43m,\u001b[49m\u001b[43m \u001b[49m\u001b[38;5;124;43m'\u001b[39;49m\u001b[38;5;124;43mpickup\u001b[39;49m\u001b[38;5;124;43m'\u001b[39;49m\u001b[43m,\u001b[49m\u001b[43m \u001b[49m\u001b[38;5;124;43m'\u001b[39;49m\u001b[38;5;124;43mdelivery\u001b[39;49m\u001b[38;5;124;43m'\u001b[39;49m\u001b[43m]\u001b[49m\u001b[43m,\u001b[49m\n\u001b[1;32m      4\u001b[0m \u001b[43m                        \u001b[49m\u001b[43mcolor\u001b[49m\u001b[43m \u001b[49m\u001b[38;5;241;43m=\u001b[39;49m\u001b[43m \u001b[49m\u001b[38;5;124;43m'\u001b[39;49m\u001b[38;5;124;43mrating\u001b[39;49m\u001b[38;5;124;43m'\u001b[39;49m\u001b[43m,\u001b[49m\u001b[43m \u001b[49m\u001b[43mtitle\u001b[49m\u001b[43m \u001b[49m\u001b[38;5;241;43m=\u001b[39;49m\u001b[43m \u001b[49m\u001b[38;5;124;43m'\u001b[39;49m\u001b[38;5;124;43mAcai in Waikiki\u001b[39;49m\u001b[38;5;124;43m'\u001b[39;49m\u001b[43m)\u001b[49m\n",
      "File \u001b[0;32m/opt/homebrew/Caskroom/miniforge/base/envs/dojo-env/lib/python3.9/site-packages/plotly/express/_chart_types.py:1247\u001b[0m, in \u001b[0;36mscatter_mapbox\u001b[0;34m(data_frame, lat, lon, color, text, hover_name, hover_data, custom_data, size, animation_frame, animation_group, category_orders, labels, color_discrete_sequence, color_discrete_map, color_continuous_scale, range_color, color_continuous_midpoint, opacity, size_max, zoom, center, mapbox_style, title, template, width, height)\u001b[0m\n\u001b[1;32m   1214\u001b[0m \u001b[38;5;28;01mdef\u001b[39;00m \u001b[38;5;21mscatter_mapbox\u001b[39m(\n\u001b[1;32m   1215\u001b[0m     data_frame\u001b[38;5;241m=\u001b[39m\u001b[38;5;28;01mNone\u001b[39;00m,\n\u001b[1;32m   1216\u001b[0m     lat\u001b[38;5;241m=\u001b[39m\u001b[38;5;28;01mNone\u001b[39;00m,\n\u001b[0;32m   (...)\u001b[0m\n\u001b[1;32m   1241\u001b[0m     height\u001b[38;5;241m=\u001b[39m\u001b[38;5;28;01mNone\u001b[39;00m,\n\u001b[1;32m   1242\u001b[0m ) \u001b[38;5;241m-\u001b[39m\u001b[38;5;241m>\u001b[39m go\u001b[38;5;241m.\u001b[39mFigure:\n\u001b[1;32m   1243\u001b[0m     \u001b[38;5;124;03m\"\"\"\u001b[39;00m\n\u001b[1;32m   1244\u001b[0m \u001b[38;5;124;03m    In a Mapbox scatter plot, each row of `data_frame` is represented by a\u001b[39;00m\n\u001b[1;32m   1245\u001b[0m \u001b[38;5;124;03m    symbol mark on a Mapbox map.\u001b[39;00m\n\u001b[1;32m   1246\u001b[0m \u001b[38;5;124;03m    \"\"\"\u001b[39;00m\n\u001b[0;32m-> 1247\u001b[0m     \u001b[38;5;28;01mreturn\u001b[39;00m \u001b[43mmake_figure\u001b[49m\u001b[43m(\u001b[49m\u001b[43margs\u001b[49m\u001b[38;5;241;43m=\u001b[39;49m\u001b[38;5;28;43mlocals\u001b[39;49m\u001b[43m(\u001b[49m\u001b[43m)\u001b[49m\u001b[43m,\u001b[49m\u001b[43m \u001b[49m\u001b[43mconstructor\u001b[49m\u001b[38;5;241;43m=\u001b[39;49m\u001b[43mgo\u001b[49m\u001b[38;5;241;43m.\u001b[39;49m\u001b[43mScattermapbox\u001b[49m\u001b[43m)\u001b[49m\n",
      "File \u001b[0;32m/opt/homebrew/Caskroom/miniforge/base/envs/dojo-env/lib/python3.9/site-packages/plotly/express/_core.py:1990\u001b[0m, in \u001b[0;36mmake_figure\u001b[0;34m(args, constructor, trace_patch, layout_patch)\u001b[0m\n\u001b[1;32m   1987\u001b[0m layout_patch \u001b[38;5;241m=\u001b[39m layout_patch \u001b[38;5;129;01mor\u001b[39;00m {}\n\u001b[1;32m   1988\u001b[0m apply_default_cascade(args)\n\u001b[0;32m-> 1990\u001b[0m args \u001b[38;5;241m=\u001b[39m \u001b[43mbuild_dataframe\u001b[49m\u001b[43m(\u001b[49m\u001b[43margs\u001b[49m\u001b[43m,\u001b[49m\u001b[43m \u001b[49m\u001b[43mconstructor\u001b[49m\u001b[43m)\u001b[49m\n\u001b[1;32m   1991\u001b[0m \u001b[38;5;28;01mif\u001b[39;00m constructor \u001b[38;5;129;01min\u001b[39;00m [go\u001b[38;5;241m.\u001b[39mTreemap, go\u001b[38;5;241m.\u001b[39mSunburst, go\u001b[38;5;241m.\u001b[39mIcicle] \u001b[38;5;129;01mand\u001b[39;00m args[\u001b[38;5;124m\"\u001b[39m\u001b[38;5;124mpath\u001b[39m\u001b[38;5;124m\"\u001b[39m] \u001b[38;5;129;01mis\u001b[39;00m \u001b[38;5;129;01mnot\u001b[39;00m \u001b[38;5;28;01mNone\u001b[39;00m:\n\u001b[1;32m   1992\u001b[0m     args \u001b[38;5;241m=\u001b[39m process_dataframe_hierarchy(args)\n",
      "File \u001b[0;32m/opt/homebrew/Caskroom/miniforge/base/envs/dojo-env/lib/python3.9/site-packages/plotly/express/_core.py:1405\u001b[0m, in \u001b[0;36mbuild_dataframe\u001b[0;34m(args, constructor)\u001b[0m\n\u001b[1;32m   1402\u001b[0m     args[\u001b[38;5;124m\"\u001b[39m\u001b[38;5;124mcolor\u001b[39m\u001b[38;5;124m\"\u001b[39m] \u001b[38;5;241m=\u001b[39m \u001b[38;5;28;01mNone\u001b[39;00m\n\u001b[1;32m   1403\u001b[0m \u001b[38;5;66;03m# now that things have been prepped, we do the systematic rewriting of `args`\u001b[39;00m\n\u001b[0;32m-> 1405\u001b[0m df_output, wide_id_vars \u001b[38;5;241m=\u001b[39m \u001b[43mprocess_args_into_dataframe\u001b[49m\u001b[43m(\u001b[49m\n\u001b[1;32m   1406\u001b[0m \u001b[43m    \u001b[49m\u001b[43margs\u001b[49m\u001b[43m,\u001b[49m\u001b[43m \u001b[49m\u001b[43mwide_mode\u001b[49m\u001b[43m,\u001b[49m\u001b[43m \u001b[49m\u001b[43mvar_name\u001b[49m\u001b[43m,\u001b[49m\u001b[43m \u001b[49m\u001b[43mvalue_name\u001b[49m\n\u001b[1;32m   1407\u001b[0m \u001b[43m\u001b[49m\u001b[43m)\u001b[49m\n\u001b[1;32m   1409\u001b[0m \u001b[38;5;66;03m# now that `df_output` exists and `args` contains only references, we complete\u001b[39;00m\n\u001b[1;32m   1410\u001b[0m \u001b[38;5;66;03m# the special-case and wide-mode handling by further rewriting args and/or mutating\u001b[39;00m\n\u001b[1;32m   1411\u001b[0m \u001b[38;5;66;03m# df_output\u001b[39;00m\n\u001b[1;32m   1413\u001b[0m count_name \u001b[38;5;241m=\u001b[39m _escape_col_name(df_output, \u001b[38;5;124m\"\u001b[39m\u001b[38;5;124mcount\u001b[39m\u001b[38;5;124m\"\u001b[39m, [var_name, value_name])\n",
      "File \u001b[0;32m/opt/homebrew/Caskroom/miniforge/base/envs/dojo-env/lib/python3.9/site-packages/plotly/express/_core.py:1207\u001b[0m, in \u001b[0;36mprocess_args_into_dataframe\u001b[0;34m(args, wide_mode, var_name, value_name)\u001b[0m\n\u001b[1;32m   1205\u001b[0m         \u001b[38;5;28;01mif\u001b[39;00m argument \u001b[38;5;241m==\u001b[39m \u001b[38;5;124m\"\u001b[39m\u001b[38;5;124mindex\u001b[39m\u001b[38;5;124m\"\u001b[39m:\n\u001b[1;32m   1206\u001b[0m             err_msg \u001b[38;5;241m+\u001b[39m\u001b[38;5;241m=\u001b[39m \u001b[38;5;124m\"\u001b[39m\u001b[38;5;130;01m\\n\u001b[39;00m\u001b[38;5;124m To use the index, pass it in directly as `df.index`.\u001b[39m\u001b[38;5;124m\"\u001b[39m\n\u001b[0;32m-> 1207\u001b[0m         \u001b[38;5;28;01mraise\u001b[39;00m \u001b[38;5;167;01mValueError\u001b[39;00m(err_msg)\n\u001b[1;32m   1208\u001b[0m \u001b[38;5;28;01melif\u001b[39;00m length \u001b[38;5;129;01mand\u001b[39;00m \u001b[38;5;28mlen\u001b[39m(df_input[argument]) \u001b[38;5;241m!=\u001b[39m length:\n\u001b[1;32m   1209\u001b[0m     \u001b[38;5;28;01mraise\u001b[39;00m \u001b[38;5;167;01mValueError\u001b[39;00m(\n\u001b[1;32m   1210\u001b[0m         \u001b[38;5;124m\"\u001b[39m\u001b[38;5;124mAll arguments should have the same length. \u001b[39m\u001b[38;5;124m\"\u001b[39m\n\u001b[1;32m   1211\u001b[0m         \u001b[38;5;124m\"\u001b[39m\u001b[38;5;124mThe length of column argument `df[\u001b[39m\u001b[38;5;132;01m%s\u001b[39;00m\u001b[38;5;124m]` is \u001b[39m\u001b[38;5;132;01m%d\u001b[39;00m\u001b[38;5;124m, whereas the \u001b[39m\u001b[38;5;124m\"\u001b[39m\n\u001b[0;32m   (...)\u001b[0m\n\u001b[1;32m   1218\u001b[0m         )\n\u001b[1;32m   1219\u001b[0m     )\n",
      "\u001b[0;31mValueError\u001b[0m: Value of 'hover_data_2' is not the name of a column in 'data_frame'. Expected one of ['id', 'alias', 'name', 'image_url', 'is_closed', 'url', 'review_count', 'categories', 'rating', 'transactions', 'price', 'location', 'phone', 'display_phone', 'distance', 'latitude', 'longitude', 'display_location', 'display_address', 'address', 'transactions_split', 'transactios_split', '[\"delivery\", \"pickup\"]'] but received: pickup"
     ]
    }
   ],
   "source": [
    "## make ourn final map and save as varaible\n",
    "pfig = px.scatter_mapbox(df, lat = 'latitude', lon='longitude', mapbox_style = 'open-street-map',\n",
    "                        hover_name = 'name', hover_data = ['price', 'address', 'pickup', 'delivery'],\n",
    "                        color = 'rating', title = 'Acai in Waikiki')"
   ]
  },
  {
   "cell_type": "code",
   "execution_count": 71,
   "id": "2bffe414",
   "metadata": {},
   "outputs": [
    {
     "ename": "NameError",
     "evalue": "name 'pfig' is not defined",
     "output_type": "error",
     "traceback": [
      "\u001b[0;31m---------------------------------------------------------------------------\u001b[0m",
      "\u001b[0;31mNameError\u001b[0m                                 Traceback (most recent call last)",
      "Cell \u001b[0;32mIn [71], line 1\u001b[0m\n\u001b[0;32m----> 1\u001b[0m \u001b[43mpfig\u001b[49m\u001b[38;5;241m.\u001b[39mshow()\n",
      "\u001b[0;31mNameError\u001b[0m: name 'pfig' is not defined"
     ]
    }
   ],
   "source": [
    "pfig.show()"
   ]
  },
  {
   "cell_type": "markdown",
   "id": "47e93ee3",
   "metadata": {},
   "source": [
    "### Saving Final Figure"
   ]
  },
  {
   "cell_type": "code",
   "execution_count": 70,
   "id": "79e43699",
   "metadata": {},
   "outputs": [
    {
     "ename": "NameError",
     "evalue": "name 'pfig' is not defined",
     "output_type": "error",
     "traceback": [
      "\u001b[0;31m---------------------------------------------------------------------------\u001b[0m",
      "\u001b[0;31mNameError\u001b[0m                                 Traceback (most recent call last)",
      "Cell \u001b[0;32mIn [70], line 2\u001b[0m\n\u001b[1;32m      1\u001b[0m \u001b[38;5;66;03m## use fig.write_html to save map\u001b[39;00m\n\u001b[0;32m----> 2\u001b[0m \u001b[43mpfig\u001b[49m\u001b[38;5;241m.\u001b[39mwrite_html(\u001b[38;5;124m'\u001b[39m\u001b[38;5;124mfinal_map_waikiki.html\u001b[39m\u001b[38;5;124m'\u001b[39m)\n",
      "\u001b[0;31mNameError\u001b[0m: name 'pfig' is not defined"
     ]
    }
   ],
   "source": [
    "## use fig.write_html to save map\n",
    "pfig.write_html('final_map_waikiki.html')"
   ]
  },
  {
   "cell_type": "code",
   "execution_count": null,
   "id": "b45c1488",
   "metadata": {},
   "outputs": [],
   "source": []
  }
 ],
 "metadata": {
  "kernelspec": {
   "display_name": "Python (dojo-env)",
   "language": "python",
   "name": "dojo-env"
  },
  "language_info": {
   "codemirror_mode": {
    "name": "ipython",
    "version": 3
   },
   "file_extension": ".py",
   "mimetype": "text/x-python",
   "name": "python",
   "nbconvert_exporter": "python",
   "pygments_lexer": "ipython3",
   "version": "3.9.15"
  },
  "toc": {
   "base_numbering": 1,
   "nav_menu": {},
   "number_sections": false,
   "sideBar": true,
   "skip_h1_title": false,
   "title_cell": "Table of Contents",
   "title_sidebar": "Contents",
   "toc_cell": false,
   "toc_position": {
    "height": "calc(100% - 180px)",
    "left": "10px",
    "top": "150px",
    "width": "299.195px"
   },
   "toc_section_display": true,
   "toc_window_display": true
  }
 },
 "nbformat": 4,
 "nbformat_minor": 5
}
